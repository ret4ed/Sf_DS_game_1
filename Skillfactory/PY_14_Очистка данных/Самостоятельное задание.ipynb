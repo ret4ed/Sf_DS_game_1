{
 "cells": [
  {
   "cell_type": "code",
   "execution_count": 178,
   "metadata": {},
   "outputs": [],
   "source": [
    "import pandas as pd\n",
    "import numpy as np\n",
    "import matplotlib.pyplot as plt\n",
    "import seaborn as sns\n",
    "import plotly\n",
    "import plotly.express as px\n",
    "import openpyxl\n"
   ]
  },
  {
   "cell_type": "code",
   "execution_count": 179,
   "metadata": {},
   "outputs": [],
   "source": [
    "#Подгружаем данные из файла Excel\n",
    "data_parsing = pd.read_excel('data/Data_TSUM.xlsx', sheet_name='Data_Parsing')\n",
    "data_company = pd.read_excel('data/Data_TSUM.xlsx', sheet_name='Data_Company')"
   ]
  },
  {
   "cell_type": "code",
   "execution_count": 180,
   "metadata": {},
   "outputs": [
    {
     "data": {
      "text/html": [
       "<div>\n",
       "<style scoped>\n",
       "    .dataframe tbody tr th:only-of-type {\n",
       "        vertical-align: middle;\n",
       "    }\n",
       "\n",
       "    .dataframe tbody tr th {\n",
       "        vertical-align: top;\n",
       "    }\n",
       "\n",
       "    .dataframe thead th {\n",
       "        text-align: right;\n",
       "    }\n",
       "</style>\n",
       "<table border=\"1\" class=\"dataframe\">\n",
       "  <thead>\n",
       "    <tr style=\"text-align: right;\">\n",
       "      <th></th>\n",
       "      <th>brand</th>\n",
       "      <th>Category</th>\n",
       "      <th>producer_id</th>\n",
       "      <th>producer_color</th>\n",
       "      <th>price</th>\n",
       "    </tr>\n",
       "  </thead>\n",
       "  <tbody>\n",
       "    <tr>\n",
       "      <th>0</th>\n",
       "      <td>Valentino</td>\n",
       "      <td>Shoes</td>\n",
       "      <td>aaaaa1111_11</td>\n",
       "      <td>black</td>\n",
       "      <td>167</td>\n",
       "    </tr>\n",
       "    <tr>\n",
       "      <th>1</th>\n",
       "      <td>Valentino</td>\n",
       "      <td>Shoes</td>\n",
       "      <td>aaaaa1111_12</td>\n",
       "      <td>black</td>\n",
       "      <td>188</td>\n",
       "    </tr>\n",
       "    <tr>\n",
       "      <th>2</th>\n",
       "      <td>Valentino</td>\n",
       "      <td>Shoes</td>\n",
       "      <td>aaaaa1111_13</td>\n",
       "      <td>black</td>\n",
       "      <td>184</td>\n",
       "    </tr>\n",
       "    <tr>\n",
       "      <th>3</th>\n",
       "      <td>Valentino</td>\n",
       "      <td>Shoes</td>\n",
       "      <td>aaaaa1111_14</td>\n",
       "      <td>bla//ck</td>\n",
       "      <td>196</td>\n",
       "    </tr>\n",
       "    <tr>\n",
       "      <th>4</th>\n",
       "      <td>Valentino</td>\n",
       "      <td>Shoes</td>\n",
       "      <td>aaaaa1111_15</td>\n",
       "      <td>bla\\\\ck</td>\n",
       "      <td>250</td>\n",
       "    </tr>\n",
       "  </tbody>\n",
       "</table>\n",
       "</div>"
      ],
      "text/plain": [
       "       brand Category   producer_id producer_color  price\n",
       "0  Valentino    Shoes  aaaaa1111_11          black    167\n",
       "1  Valentino    Shoes  aaaaa1111_12          black    188\n",
       "2  Valentino    Shoes  aaaaa1111_13          black    184\n",
       "3  Valentino    Shoes  aaaaa1111_14        bla//ck    196\n",
       "4  Valentino    Shoes  aaaaa1111_15        bla\\\\ck    250"
      ]
     },
     "metadata": {},
     "output_type": "display_data"
    },
    {
     "data": {
      "text/html": [
       "<div>\n",
       "<style scoped>\n",
       "    .dataframe tbody tr th:only-of-type {\n",
       "        vertical-align: middle;\n",
       "    }\n",
       "\n",
       "    .dataframe tbody tr th {\n",
       "        vertical-align: top;\n",
       "    }\n",
       "\n",
       "    .dataframe thead th {\n",
       "        text-align: right;\n",
       "    }\n",
       "</style>\n",
       "<table border=\"1\" class=\"dataframe\">\n",
       "  <thead>\n",
       "    <tr style=\"text-align: right;\">\n",
       "      <th></th>\n",
       "      <th>brand</th>\n",
       "      <th>Category</th>\n",
       "      <th>producer_id</th>\n",
       "      <th>producer_color</th>\n",
       "      <th>price</th>\n",
       "    </tr>\n",
       "  </thead>\n",
       "  <tbody>\n",
       "    <tr>\n",
       "      <th>70</th>\n",
       "      <td>Stone Island</td>\n",
       "      <td>Bags</td>\n",
       "      <td>sssss1111_31</td>\n",
       "      <td>~~~red</td>\n",
       "      <td>164</td>\n",
       "    </tr>\n",
       "    <tr>\n",
       "      <th>71</th>\n",
       "      <td>Stone Island</td>\n",
       "      <td>Bags</td>\n",
       "      <td>sssss1111_32</td>\n",
       "      <td>~~~red</td>\n",
       "      <td>158</td>\n",
       "    </tr>\n",
       "    <tr>\n",
       "      <th>72</th>\n",
       "      <td>Stone Island</td>\n",
       "      <td>Bags</td>\n",
       "      <td>sssss1111_33</td>\n",
       "      <td>~~~red</td>\n",
       "      <td>194</td>\n",
       "    </tr>\n",
       "    <tr>\n",
       "      <th>73</th>\n",
       "      <td>Stone Island</td>\n",
       "      <td>Bags</td>\n",
       "      <td>sssss1111_34</td>\n",
       "      <td>~~~red</td>\n",
       "      <td>256</td>\n",
       "    </tr>\n",
       "    <tr>\n",
       "      <th>74</th>\n",
       "      <td>Stone Island</td>\n",
       "      <td>Bags</td>\n",
       "      <td>sssss1111_35</td>\n",
       "      <td>~~~red</td>\n",
       "      <td>205</td>\n",
       "    </tr>\n",
       "  </tbody>\n",
       "</table>\n",
       "</div>"
      ],
      "text/plain": [
       "           brand Category   producer_id producer_color  price\n",
       "70  Stone Island     Bags  sssss1111_31         ~~~red    164\n",
       "71  Stone Island     Bags  sssss1111_32         ~~~red    158\n",
       "72  Stone Island     Bags  sssss1111_33         ~~~red    194\n",
       "73  Stone Island     Bags  sssss1111_34         ~~~red    256\n",
       "74  Stone Island     Bags  sssss1111_35         ~~~red    205"
      ]
     },
     "metadata": {},
     "output_type": "display_data"
    }
   ],
   "source": [
    "#Проверка работоспособности и корректности первого листа\n",
    "display(data_parsing.head())\n",
    "display(data_parsing.tail())"
   ]
  },
  {
   "cell_type": "code",
   "execution_count": 181,
   "metadata": {},
   "outputs": [
    {
     "data": {
      "text/html": [
       "<div>\n",
       "<style scoped>\n",
       "    .dataframe tbody tr th:only-of-type {\n",
       "        vertical-align: middle;\n",
       "    }\n",
       "\n",
       "    .dataframe tbody tr th {\n",
       "        vertical-align: top;\n",
       "    }\n",
       "\n",
       "    .dataframe thead th {\n",
       "        text-align: right;\n",
       "    }\n",
       "</style>\n",
       "<table border=\"1\" class=\"dataframe\">\n",
       "  <thead>\n",
       "    <tr style=\"text-align: right;\">\n",
       "      <th></th>\n",
       "      <th>brand</th>\n",
       "      <th>Category</th>\n",
       "      <th>item_id</th>\n",
       "      <th>color_id</th>\n",
       "      <th>current price</th>\n",
       "    </tr>\n",
       "  </thead>\n",
       "  <tbody>\n",
       "    <tr>\n",
       "      <th>0</th>\n",
       "      <td>Valentino</td>\n",
       "      <td>Shoes</td>\n",
       "      <td>aaaaa111111</td>\n",
       "      <td>black</td>\n",
       "      <td>247</td>\n",
       "    </tr>\n",
       "    <tr>\n",
       "      <th>1</th>\n",
       "      <td>Valentino</td>\n",
       "      <td>Shoes</td>\n",
       "      <td>aaaaa111112</td>\n",
       "      <td>black</td>\n",
       "      <td>161</td>\n",
       "    </tr>\n",
       "    <tr>\n",
       "      <th>2</th>\n",
       "      <td>Valentino</td>\n",
       "      <td>Shoes</td>\n",
       "      <td>aaaaa111113</td>\n",
       "      <td>black</td>\n",
       "      <td>234</td>\n",
       "    </tr>\n",
       "    <tr>\n",
       "      <th>3</th>\n",
       "      <td>Valentino</td>\n",
       "      <td>Shoes</td>\n",
       "      <td>aaaaa111114</td>\n",
       "      <td>black</td>\n",
       "      <td>167</td>\n",
       "    </tr>\n",
       "    <tr>\n",
       "      <th>4</th>\n",
       "      <td>Valentino</td>\n",
       "      <td>Shoes</td>\n",
       "      <td>aaaaa111115</td>\n",
       "      <td>black</td>\n",
       "      <td>153</td>\n",
       "    </tr>\n",
       "  </tbody>\n",
       "</table>\n",
       "</div>"
      ],
      "text/plain": [
       "       brand Category      item_id color_id  current price\n",
       "0  Valentino    Shoes  aaaaa111111    black            247\n",
       "1  Valentino    Shoes  aaaaa111112    black            161\n",
       "2  Valentino    Shoes  aaaaa111113    black            234\n",
       "3  Valentino    Shoes  aaaaa111114    black            167\n",
       "4  Valentino    Shoes  aaaaa111115    black            153"
      ]
     },
     "metadata": {},
     "output_type": "display_data"
    },
    {
     "data": {
      "text/html": [
       "<div>\n",
       "<style scoped>\n",
       "    .dataframe tbody tr th:only-of-type {\n",
       "        vertical-align: middle;\n",
       "    }\n",
       "\n",
       "    .dataframe tbody tr th {\n",
       "        vertical-align: top;\n",
       "    }\n",
       "\n",
       "    .dataframe thead th {\n",
       "        text-align: right;\n",
       "    }\n",
       "</style>\n",
       "<table border=\"1\" class=\"dataframe\">\n",
       "  <thead>\n",
       "    <tr style=\"text-align: right;\">\n",
       "      <th></th>\n",
       "      <th>brand</th>\n",
       "      <th>Category</th>\n",
       "      <th>item_id</th>\n",
       "      <th>color_id</th>\n",
       "      <th>current price</th>\n",
       "    </tr>\n",
       "  </thead>\n",
       "  <tbody>\n",
       "    <tr>\n",
       "      <th>70</th>\n",
       "      <td>Stone Island</td>\n",
       "      <td>Bags</td>\n",
       "      <td>sssss111131</td>\n",
       "      <td>red</td>\n",
       "      <td>165</td>\n",
       "    </tr>\n",
       "    <tr>\n",
       "      <th>71</th>\n",
       "      <td>Stone Island</td>\n",
       "      <td>Bags</td>\n",
       "      <td>sssss111132</td>\n",
       "      <td>red</td>\n",
       "      <td>196</td>\n",
       "    </tr>\n",
       "    <tr>\n",
       "      <th>72</th>\n",
       "      <td>Stone Island</td>\n",
       "      <td>Bags</td>\n",
       "      <td>sssss111133</td>\n",
       "      <td>red</td>\n",
       "      <td>236</td>\n",
       "    </tr>\n",
       "    <tr>\n",
       "      <th>73</th>\n",
       "      <td>Stone Island</td>\n",
       "      <td>Bags</td>\n",
       "      <td>sssss111134</td>\n",
       "      <td>red</td>\n",
       "      <td>222</td>\n",
       "    </tr>\n",
       "    <tr>\n",
       "      <th>74</th>\n",
       "      <td>Stone Island</td>\n",
       "      <td>Bags</td>\n",
       "      <td>sssss111135</td>\n",
       "      <td>red</td>\n",
       "      <td>275</td>\n",
       "    </tr>\n",
       "  </tbody>\n",
       "</table>\n",
       "</div>"
      ],
      "text/plain": [
       "           brand Category      item_id color_id  current price\n",
       "70  Stone Island     Bags  sssss111131      red            165\n",
       "71  Stone Island     Bags  sssss111132      red            196\n",
       "72  Stone Island     Bags  sssss111133      red            236\n",
       "73  Stone Island     Bags  sssss111134      red            222\n",
       "74  Stone Island     Bags  sssss111135      red            275"
      ]
     },
     "metadata": {},
     "output_type": "display_data"
    }
   ],
   "source": [
    "#Проверка работоспособности и корректности второго листа\n",
    "display(data_company.head())\n",
    "display(data_company.tail())"
   ]
  },
  {
   "cell_type": "code",
   "execution_count": 182,
   "metadata": {},
   "outputs": [
    {
     "data": {
      "text/html": [
       "<div>\n",
       "<style scoped>\n",
       "    .dataframe tbody tr th:only-of-type {\n",
       "        vertical-align: middle;\n",
       "    }\n",
       "\n",
       "    .dataframe tbody tr th {\n",
       "        vertical-align: top;\n",
       "    }\n",
       "\n",
       "    .dataframe thead th {\n",
       "        text-align: right;\n",
       "    }\n",
       "</style>\n",
       "<table border=\"1\" class=\"dataframe\">\n",
       "  <thead>\n",
       "    <tr style=\"text-align: right;\">\n",
       "      <th></th>\n",
       "      <th>brand</th>\n",
       "      <th>Category</th>\n",
       "      <th>producer_id</th>\n",
       "      <th>producer_color</th>\n",
       "      <th>price</th>\n",
       "      <th>item_id</th>\n",
       "      <th>color_id</th>\n",
       "      <th>current_price</th>\n",
       "    </tr>\n",
       "  </thead>\n",
       "  <tbody>\n",
       "    <tr>\n",
       "      <th>0</th>\n",
       "      <td>Valentino</td>\n",
       "      <td>Shoes</td>\n",
       "      <td>aaaaa1111_11</td>\n",
       "      <td>black</td>\n",
       "      <td>167</td>\n",
       "      <td>aaaaa111111</td>\n",
       "      <td>black</td>\n",
       "      <td>247</td>\n",
       "    </tr>\n",
       "    <tr>\n",
       "      <th>1</th>\n",
       "      <td>Valentino</td>\n",
       "      <td>Shoes</td>\n",
       "      <td>aaaaa1111_12</td>\n",
       "      <td>black</td>\n",
       "      <td>188</td>\n",
       "      <td>aaaaa111112</td>\n",
       "      <td>black</td>\n",
       "      <td>161</td>\n",
       "    </tr>\n",
       "    <tr>\n",
       "      <th>2</th>\n",
       "      <td>Valentino</td>\n",
       "      <td>Shoes</td>\n",
       "      <td>aaaaa1111_13</td>\n",
       "      <td>black</td>\n",
       "      <td>184</td>\n",
       "      <td>aaaaa111113</td>\n",
       "      <td>black</td>\n",
       "      <td>234</td>\n",
       "    </tr>\n",
       "    <tr>\n",
       "      <th>3</th>\n",
       "      <td>Valentino</td>\n",
       "      <td>Shoes</td>\n",
       "      <td>aaaaa1111_14</td>\n",
       "      <td>bla//ck</td>\n",
       "      <td>196</td>\n",
       "      <td>aaaaa111114</td>\n",
       "      <td>black</td>\n",
       "      <td>167</td>\n",
       "    </tr>\n",
       "    <tr>\n",
       "      <th>4</th>\n",
       "      <td>Valentino</td>\n",
       "      <td>Shoes</td>\n",
       "      <td>aaaaa1111_15</td>\n",
       "      <td>bla\\\\ck</td>\n",
       "      <td>250</td>\n",
       "      <td>aaaaa111115</td>\n",
       "      <td>black</td>\n",
       "      <td>153</td>\n",
       "    </tr>\n",
       "  </tbody>\n",
       "</table>\n",
       "</div>"
      ],
      "text/plain": [
       "       brand Category   producer_id producer_color  price      item_id  \\\n",
       "0  Valentino    Shoes  aaaaa1111_11          black    167  aaaaa111111   \n",
       "1  Valentino    Shoes  aaaaa1111_12          black    188  aaaaa111112   \n",
       "2  Valentino    Shoes  aaaaa1111_13          black    184  aaaaa111113   \n",
       "3  Valentino    Shoes  aaaaa1111_14        bla//ck    196  aaaaa111114   \n",
       "4  Valentino    Shoes  aaaaa1111_15        bla\\\\ck    250  aaaaa111115   \n",
       "\n",
       "  color_id  current_price  \n",
       "0    black            247  \n",
       "1    black            161  \n",
       "2    black            234  \n",
       "3    black            167  \n",
       "4    black            153  "
      ]
     },
     "metadata": {},
     "output_type": "display_data"
    },
    {
     "data": {
      "text/html": [
       "<div>\n",
       "<style scoped>\n",
       "    .dataframe tbody tr th:only-of-type {\n",
       "        vertical-align: middle;\n",
       "    }\n",
       "\n",
       "    .dataframe tbody tr th {\n",
       "        vertical-align: top;\n",
       "    }\n",
       "\n",
       "    .dataframe thead th {\n",
       "        text-align: right;\n",
       "    }\n",
       "</style>\n",
       "<table border=\"1\" class=\"dataframe\">\n",
       "  <thead>\n",
       "    <tr style=\"text-align: right;\">\n",
       "      <th></th>\n",
       "      <th>brand</th>\n",
       "      <th>Category</th>\n",
       "      <th>producer_id</th>\n",
       "      <th>producer_color</th>\n",
       "      <th>price</th>\n",
       "      <th>item_id</th>\n",
       "      <th>color_id</th>\n",
       "      <th>current_price</th>\n",
       "    </tr>\n",
       "  </thead>\n",
       "  <tbody>\n",
       "    <tr>\n",
       "      <th>70</th>\n",
       "      <td>Stone Island</td>\n",
       "      <td>Bags</td>\n",
       "      <td>sssss1111_31</td>\n",
       "      <td>~~~red</td>\n",
       "      <td>164</td>\n",
       "      <td>sssss111131</td>\n",
       "      <td>red</td>\n",
       "      <td>165</td>\n",
       "    </tr>\n",
       "    <tr>\n",
       "      <th>71</th>\n",
       "      <td>Stone Island</td>\n",
       "      <td>Bags</td>\n",
       "      <td>sssss1111_32</td>\n",
       "      <td>~~~red</td>\n",
       "      <td>158</td>\n",
       "      <td>sssss111132</td>\n",
       "      <td>red</td>\n",
       "      <td>196</td>\n",
       "    </tr>\n",
       "    <tr>\n",
       "      <th>72</th>\n",
       "      <td>Stone Island</td>\n",
       "      <td>Bags</td>\n",
       "      <td>sssss1111_33</td>\n",
       "      <td>~~~red</td>\n",
       "      <td>194</td>\n",
       "      <td>sssss111133</td>\n",
       "      <td>red</td>\n",
       "      <td>236</td>\n",
       "    </tr>\n",
       "    <tr>\n",
       "      <th>73</th>\n",
       "      <td>Stone Island</td>\n",
       "      <td>Bags</td>\n",
       "      <td>sssss1111_34</td>\n",
       "      <td>~~~red</td>\n",
       "      <td>256</td>\n",
       "      <td>sssss111134</td>\n",
       "      <td>red</td>\n",
       "      <td>222</td>\n",
       "    </tr>\n",
       "    <tr>\n",
       "      <th>74</th>\n",
       "      <td>Stone Island</td>\n",
       "      <td>Bags</td>\n",
       "      <td>sssss1111_35</td>\n",
       "      <td>~~~red</td>\n",
       "      <td>205</td>\n",
       "      <td>sssss111135</td>\n",
       "      <td>red</td>\n",
       "      <td>275</td>\n",
       "    </tr>\n",
       "  </tbody>\n",
       "</table>\n",
       "</div>"
      ],
      "text/plain": [
       "           brand Category   producer_id producer_color  price      item_id  \\\n",
       "70  Stone Island     Bags  sssss1111_31         ~~~red    164  sssss111131   \n",
       "71  Stone Island     Bags  sssss1111_32         ~~~red    158  sssss111132   \n",
       "72  Stone Island     Bags  sssss1111_33         ~~~red    194  sssss111133   \n",
       "73  Stone Island     Bags  sssss1111_34         ~~~red    256  sssss111134   \n",
       "74  Stone Island     Bags  sssss1111_35         ~~~red    205  sssss111135   \n",
       "\n",
       "   color_id  current_price  \n",
       "70      red            165  \n",
       "71      red            196  \n",
       "72      red            236  \n",
       "73      red            222  \n",
       "74      red            275  "
      ]
     },
     "metadata": {},
     "output_type": "display_data"
    }
   ],
   "source": [
    "#Подтсягивание к базе парсинга данных из базы компании\n",
    "data_parsing['item_id'] = data_company['item_id']\n",
    "data_parsing['color_id'] = data_company['color_id']\n",
    "data_parsing['current_price'] = data_company['current price']\n",
    "display(data_parsing.head())\n",
    "display(data_parsing.tail())"
   ]
  },
  {
   "cell_type": "code",
   "execution_count": 183,
   "metadata": {},
   "outputs": [
    {
     "data": {
      "text/html": [
       "<div>\n",
       "<style scoped>\n",
       "    .dataframe tbody tr th:only-of-type {\n",
       "        vertical-align: middle;\n",
       "    }\n",
       "\n",
       "    .dataframe tbody tr th {\n",
       "        vertical-align: top;\n",
       "    }\n",
       "\n",
       "    .dataframe thead th {\n",
       "        text-align: right;\n",
       "    }\n",
       "</style>\n",
       "<table border=\"1\" class=\"dataframe\">\n",
       "  <thead>\n",
       "    <tr style=\"text-align: right;\">\n",
       "      <th></th>\n",
       "      <th>brand</th>\n",
       "      <th>Category</th>\n",
       "      <th>producer_id</th>\n",
       "      <th>producer_color</th>\n",
       "      <th>price</th>\n",
       "      <th>item_id</th>\n",
       "      <th>color_id</th>\n",
       "      <th>current_price</th>\n",
       "      <th>difference_price_%</th>\n",
       "    </tr>\n",
       "  </thead>\n",
       "  <tbody>\n",
       "    <tr>\n",
       "      <th>0</th>\n",
       "      <td>Valentino</td>\n",
       "      <td>Shoes</td>\n",
       "      <td>aaaaa1111_11</td>\n",
       "      <td>black</td>\n",
       "      <td>167</td>\n",
       "      <td>aaaaa111111</td>\n",
       "      <td>black</td>\n",
       "      <td>247</td>\n",
       "      <td>-32.39</td>\n",
       "    </tr>\n",
       "    <tr>\n",
       "      <th>1</th>\n",
       "      <td>Valentino</td>\n",
       "      <td>Shoes</td>\n",
       "      <td>aaaaa1111_12</td>\n",
       "      <td>black</td>\n",
       "      <td>188</td>\n",
       "      <td>aaaaa111112</td>\n",
       "      <td>black</td>\n",
       "      <td>161</td>\n",
       "      <td>16.77</td>\n",
       "    </tr>\n",
       "    <tr>\n",
       "      <th>2</th>\n",
       "      <td>Valentino</td>\n",
       "      <td>Shoes</td>\n",
       "      <td>aaaaa1111_13</td>\n",
       "      <td>black</td>\n",
       "      <td>184</td>\n",
       "      <td>aaaaa111113</td>\n",
       "      <td>black</td>\n",
       "      <td>234</td>\n",
       "      <td>-21.37</td>\n",
       "    </tr>\n",
       "    <tr>\n",
       "      <th>3</th>\n",
       "      <td>Valentino</td>\n",
       "      <td>Shoes</td>\n",
       "      <td>aaaaa1111_14</td>\n",
       "      <td>bla//ck</td>\n",
       "      <td>196</td>\n",
       "      <td>aaaaa111114</td>\n",
       "      <td>black</td>\n",
       "      <td>167</td>\n",
       "      <td>17.37</td>\n",
       "    </tr>\n",
       "    <tr>\n",
       "      <th>4</th>\n",
       "      <td>Valentino</td>\n",
       "      <td>Shoes</td>\n",
       "      <td>aaaaa1111_15</td>\n",
       "      <td>bla\\\\ck</td>\n",
       "      <td>250</td>\n",
       "      <td>aaaaa111115</td>\n",
       "      <td>black</td>\n",
       "      <td>153</td>\n",
       "      <td>63.40</td>\n",
       "    </tr>\n",
       "  </tbody>\n",
       "</table>\n",
       "</div>"
      ],
      "text/plain": [
       "       brand Category   producer_id producer_color  price      item_id  \\\n",
       "0  Valentino    Shoes  aaaaa1111_11          black    167  aaaaa111111   \n",
       "1  Valentino    Shoes  aaaaa1111_12          black    188  aaaaa111112   \n",
       "2  Valentino    Shoes  aaaaa1111_13          black    184  aaaaa111113   \n",
       "3  Valentino    Shoes  aaaaa1111_14        bla//ck    196  aaaaa111114   \n",
       "4  Valentino    Shoes  aaaaa1111_15        bla\\\\ck    250  aaaaa111115   \n",
       "\n",
       "  color_id  current_price  difference_price_%  \n",
       "0    black            247              -32.39  \n",
       "1    black            161               16.77  \n",
       "2    black            234              -21.37  \n",
       "3    black            167               17.37  \n",
       "4    black            153               63.40  "
      ]
     },
     "metadata": {},
     "output_type": "display_data"
    },
    {
     "data": {
      "text/html": [
       "<div>\n",
       "<style scoped>\n",
       "    .dataframe tbody tr th:only-of-type {\n",
       "        vertical-align: middle;\n",
       "    }\n",
       "\n",
       "    .dataframe tbody tr th {\n",
       "        vertical-align: top;\n",
       "    }\n",
       "\n",
       "    .dataframe thead th {\n",
       "        text-align: right;\n",
       "    }\n",
       "</style>\n",
       "<table border=\"1\" class=\"dataframe\">\n",
       "  <thead>\n",
       "    <tr style=\"text-align: right;\">\n",
       "      <th></th>\n",
       "      <th>brand</th>\n",
       "      <th>Category</th>\n",
       "      <th>producer_id</th>\n",
       "      <th>producer_color</th>\n",
       "      <th>price</th>\n",
       "      <th>item_id</th>\n",
       "      <th>color_id</th>\n",
       "      <th>current_price</th>\n",
       "      <th>difference_price_%</th>\n",
       "    </tr>\n",
       "  </thead>\n",
       "  <tbody>\n",
       "    <tr>\n",
       "      <th>70</th>\n",
       "      <td>Stone Island</td>\n",
       "      <td>Bags</td>\n",
       "      <td>sssss1111_31</td>\n",
       "      <td>~~~red</td>\n",
       "      <td>164</td>\n",
       "      <td>sssss111131</td>\n",
       "      <td>red</td>\n",
       "      <td>165</td>\n",
       "      <td>-0.61</td>\n",
       "    </tr>\n",
       "    <tr>\n",
       "      <th>71</th>\n",
       "      <td>Stone Island</td>\n",
       "      <td>Bags</td>\n",
       "      <td>sssss1111_32</td>\n",
       "      <td>~~~red</td>\n",
       "      <td>158</td>\n",
       "      <td>sssss111132</td>\n",
       "      <td>red</td>\n",
       "      <td>196</td>\n",
       "      <td>-19.39</td>\n",
       "    </tr>\n",
       "    <tr>\n",
       "      <th>72</th>\n",
       "      <td>Stone Island</td>\n",
       "      <td>Bags</td>\n",
       "      <td>sssss1111_33</td>\n",
       "      <td>~~~red</td>\n",
       "      <td>194</td>\n",
       "      <td>sssss111133</td>\n",
       "      <td>red</td>\n",
       "      <td>236</td>\n",
       "      <td>-17.80</td>\n",
       "    </tr>\n",
       "    <tr>\n",
       "      <th>73</th>\n",
       "      <td>Stone Island</td>\n",
       "      <td>Bags</td>\n",
       "      <td>sssss1111_34</td>\n",
       "      <td>~~~red</td>\n",
       "      <td>256</td>\n",
       "      <td>sssss111134</td>\n",
       "      <td>red</td>\n",
       "      <td>222</td>\n",
       "      <td>15.32</td>\n",
       "    </tr>\n",
       "    <tr>\n",
       "      <th>74</th>\n",
       "      <td>Stone Island</td>\n",
       "      <td>Bags</td>\n",
       "      <td>sssss1111_35</td>\n",
       "      <td>~~~red</td>\n",
       "      <td>205</td>\n",
       "      <td>sssss111135</td>\n",
       "      <td>red</td>\n",
       "      <td>275</td>\n",
       "      <td>-25.45</td>\n",
       "    </tr>\n",
       "  </tbody>\n",
       "</table>\n",
       "</div>"
      ],
      "text/plain": [
       "           brand Category   producer_id producer_color  price      item_id  \\\n",
       "70  Stone Island     Bags  sssss1111_31         ~~~red    164  sssss111131   \n",
       "71  Stone Island     Bags  sssss1111_32         ~~~red    158  sssss111132   \n",
       "72  Stone Island     Bags  sssss1111_33         ~~~red    194  sssss111133   \n",
       "73  Stone Island     Bags  sssss1111_34         ~~~red    256  sssss111134   \n",
       "74  Stone Island     Bags  sssss1111_35         ~~~red    205  sssss111135   \n",
       "\n",
       "   color_id  current_price  difference_price_%  \n",
       "70      red            165               -0.61  \n",
       "71      red            196              -19.39  \n",
       "72      red            236              -17.80  \n",
       "73      red            222               15.32  \n",
       "74      red            275              -25.45  "
      ]
     },
     "metadata": {},
     "output_type": "display_data"
    },
    {
     "name": "stdout",
     "output_type": "stream",
     "text": [
      "<class 'pandas.core.frame.DataFrame'>\n",
      "RangeIndex: 75 entries, 0 to 74\n",
      "Data columns (total 9 columns):\n",
      " #   Column              Non-Null Count  Dtype  \n",
      "---  ------              --------------  -----  \n",
      " 0   brand               75 non-null     object \n",
      " 1   Category            75 non-null     object \n",
      " 2   producer_id         75 non-null     object \n",
      " 3   producer_color      75 non-null     object \n",
      " 4   price               75 non-null     int64  \n",
      " 5   item_id             75 non-null     object \n",
      " 6   color_id            75 non-null     object \n",
      " 7   current_price       75 non-null     int64  \n",
      " 8   difference_price_%  75 non-null     float64\n",
      "dtypes: float64(1), int64(2), object(6)\n",
      "memory usage: 5.4+ KB\n"
     ]
    },
    {
     "data": {
      "text/plain": [
       "None"
      ]
     },
     "metadata": {},
     "output_type": "display_data"
    }
   ],
   "source": [
    "#Формирование столбца разницы цен в % (Цена конкурента к нашей цене)\n",
    "data_parsing['difference_price_%'] = round(((data_parsing['price']-data_parsing['current_price'])/data_parsing['current_price'])*100, 2)\n",
    "display(data_parsing.head())\n",
    "display(data_parsing.tail())\n",
    "display(data_parsing.info())"
   ]
  },
  {
   "cell_type": "code",
   "execution_count": 184,
   "metadata": {},
   "outputs": [
    {
     "data": {
      "application/vnd.plotly.v1+json": {
       "config": {
        "plotlyServerURL": "https://plot.ly"
       },
       "data": [
        {
         "alignmentgroup": "True",
         "hovertemplate": "Category=Shoes<br>difference_price_%=%{x}<br>brand=%{y}<extra></extra>",
         "legendgroup": "Shoes",
         "marker": {
          "color": "#636efa"
         },
         "name": "Shoes",
         "notched": false,
         "offsetgroup": "Shoes",
         "orientation": "h",
         "showlegend": true,
         "type": "box",
         "x": [
          -32.39,
          16.77,
          -21.37,
          17.37,
          63.4,
          -27.92,
          28.99,
          -38.87,
          -5.6,
          -30.2,
          -41.44,
          -5.2,
          68.42,
          9.28,
          6.48,
          14.89,
          14.47,
          18.37,
          8.54,
          -32.86,
          46.97,
          -29.79,
          -4.35,
          -33.98,
          10.19,
          -3.7,
          -3.82,
          62.84,
          21.25,
          -27.05,
          -23.55,
          -4.37,
          4.64,
          55.68,
          17.2,
          18.18,
          -28.97,
          33.74,
          38.89,
          -4.59,
          -31.03,
          -13.33
         ],
         "x0": " ",
         "xaxis": "x",
         "y": [
          "Valentino",
          "Valentino",
          "Valentino",
          "Valentino",
          "Valentino",
          "Valentino",
          "Valentino",
          "Valentino",
          "Valentino",
          "Valentino",
          "Valentino",
          "Valentino",
          "Valentino",
          "Valentino",
          "Brioni",
          "Brioni",
          "Brioni",
          "Brioni",
          "Brioni",
          "Brioni",
          "Brioni",
          "Brioni",
          "Brioni",
          "Brioni",
          "Brioni",
          "Brioni",
          "Brioni",
          "Brioni",
          "Stone Island",
          "Stone Island",
          "Stone Island",
          "Stone Island",
          "Stone Island",
          "Stone Island",
          "Stone Island",
          "Stone Island",
          "Stone Island",
          "Stone Island",
          "Stone Island",
          "Stone Island",
          "Stone Island",
          "Stone Island"
         ],
         "y0": " ",
         "yaxis": "y"
        },
        {
         "alignmentgroup": "True",
         "hovertemplate": "Category=Bags<br>difference_price_%=%{x}<br>brand=%{y}<extra></extra>",
         "legendgroup": "Bags",
         "marker": {
          "color": "#EF553B"
         },
         "name": "Bags",
         "notched": false,
         "offsetgroup": "Bags",
         "orientation": "h",
         "showlegend": true,
         "type": "box",
         "x": [
          -7.89,
          -2.89,
          44.33,
          12.7,
          -6.8,
          -39.72,
          35.45,
          -41.98,
          -11.58,
          4.04,
          47.06,
          17.65,
          -18.34,
          -16.39,
          33.33,
          8.12,
          -14.21,
          63.69,
          -8.81,
          29.17,
          -13.39,
          -36.25,
          -11.02,
          60.38,
          -31.64,
          -7.07,
          8.97,
          18.34,
          -0.61,
          -19.39,
          -17.8,
          15.32,
          -25.45
         ],
         "x0": " ",
         "xaxis": "x",
         "y": [
          "Valentino",
          "Valentino",
          "Valentino",
          "Valentino",
          "Valentino",
          "Valentino",
          "Valentino",
          "Valentino",
          "Valentino",
          "Valentino",
          "Valentino",
          "Brioni",
          "Brioni",
          "Brioni",
          "Brioni",
          "Brioni",
          "Brioni",
          "Brioni",
          "Brioni",
          "Brioni",
          "Brioni",
          "Brioni",
          "Stone Island",
          "Stone Island",
          "Stone Island",
          "Stone Island",
          "Stone Island",
          "Stone Island",
          "Stone Island",
          "Stone Island",
          "Stone Island",
          "Stone Island",
          "Stone Island"
         ],
         "y0": " ",
         "yaxis": "y"
        }
       ],
       "layout": {
        "boxmode": "group",
        "height": 600,
        "legend": {
         "title": {
          "text": "Category"
         },
         "tracegroupgap": 0
        },
        "template": {
         "data": {
          "bar": [
           {
            "error_x": {
             "color": "#2a3f5f"
            },
            "error_y": {
             "color": "#2a3f5f"
            },
            "marker": {
             "line": {
              "color": "#E5ECF6",
              "width": 0.5
             },
             "pattern": {
              "fillmode": "overlay",
              "size": 10,
              "solidity": 0.2
             }
            },
            "type": "bar"
           }
          ],
          "barpolar": [
           {
            "marker": {
             "line": {
              "color": "#E5ECF6",
              "width": 0.5
             },
             "pattern": {
              "fillmode": "overlay",
              "size": 10,
              "solidity": 0.2
             }
            },
            "type": "barpolar"
           }
          ],
          "carpet": [
           {
            "aaxis": {
             "endlinecolor": "#2a3f5f",
             "gridcolor": "white",
             "linecolor": "white",
             "minorgridcolor": "white",
             "startlinecolor": "#2a3f5f"
            },
            "baxis": {
             "endlinecolor": "#2a3f5f",
             "gridcolor": "white",
             "linecolor": "white",
             "minorgridcolor": "white",
             "startlinecolor": "#2a3f5f"
            },
            "type": "carpet"
           }
          ],
          "choropleth": [
           {
            "colorbar": {
             "outlinewidth": 0,
             "ticks": ""
            },
            "type": "choropleth"
           }
          ],
          "contour": [
           {
            "colorbar": {
             "outlinewidth": 0,
             "ticks": ""
            },
            "colorscale": [
             [
              0,
              "#0d0887"
             ],
             [
              0.1111111111111111,
              "#46039f"
             ],
             [
              0.2222222222222222,
              "#7201a8"
             ],
             [
              0.3333333333333333,
              "#9c179e"
             ],
             [
              0.4444444444444444,
              "#bd3786"
             ],
             [
              0.5555555555555556,
              "#d8576b"
             ],
             [
              0.6666666666666666,
              "#ed7953"
             ],
             [
              0.7777777777777778,
              "#fb9f3a"
             ],
             [
              0.8888888888888888,
              "#fdca26"
             ],
             [
              1,
              "#f0f921"
             ]
            ],
            "type": "contour"
           }
          ],
          "contourcarpet": [
           {
            "colorbar": {
             "outlinewidth": 0,
             "ticks": ""
            },
            "type": "contourcarpet"
           }
          ],
          "heatmap": [
           {
            "colorbar": {
             "outlinewidth": 0,
             "ticks": ""
            },
            "colorscale": [
             [
              0,
              "#0d0887"
             ],
             [
              0.1111111111111111,
              "#46039f"
             ],
             [
              0.2222222222222222,
              "#7201a8"
             ],
             [
              0.3333333333333333,
              "#9c179e"
             ],
             [
              0.4444444444444444,
              "#bd3786"
             ],
             [
              0.5555555555555556,
              "#d8576b"
             ],
             [
              0.6666666666666666,
              "#ed7953"
             ],
             [
              0.7777777777777778,
              "#fb9f3a"
             ],
             [
              0.8888888888888888,
              "#fdca26"
             ],
             [
              1,
              "#f0f921"
             ]
            ],
            "type": "heatmap"
           }
          ],
          "heatmapgl": [
           {
            "colorbar": {
             "outlinewidth": 0,
             "ticks": ""
            },
            "colorscale": [
             [
              0,
              "#0d0887"
             ],
             [
              0.1111111111111111,
              "#46039f"
             ],
             [
              0.2222222222222222,
              "#7201a8"
             ],
             [
              0.3333333333333333,
              "#9c179e"
             ],
             [
              0.4444444444444444,
              "#bd3786"
             ],
             [
              0.5555555555555556,
              "#d8576b"
             ],
             [
              0.6666666666666666,
              "#ed7953"
             ],
             [
              0.7777777777777778,
              "#fb9f3a"
             ],
             [
              0.8888888888888888,
              "#fdca26"
             ],
             [
              1,
              "#f0f921"
             ]
            ],
            "type": "heatmapgl"
           }
          ],
          "histogram": [
           {
            "marker": {
             "pattern": {
              "fillmode": "overlay",
              "size": 10,
              "solidity": 0.2
             }
            },
            "type": "histogram"
           }
          ],
          "histogram2d": [
           {
            "colorbar": {
             "outlinewidth": 0,
             "ticks": ""
            },
            "colorscale": [
             [
              0,
              "#0d0887"
             ],
             [
              0.1111111111111111,
              "#46039f"
             ],
             [
              0.2222222222222222,
              "#7201a8"
             ],
             [
              0.3333333333333333,
              "#9c179e"
             ],
             [
              0.4444444444444444,
              "#bd3786"
             ],
             [
              0.5555555555555556,
              "#d8576b"
             ],
             [
              0.6666666666666666,
              "#ed7953"
             ],
             [
              0.7777777777777778,
              "#fb9f3a"
             ],
             [
              0.8888888888888888,
              "#fdca26"
             ],
             [
              1,
              "#f0f921"
             ]
            ],
            "type": "histogram2d"
           }
          ],
          "histogram2dcontour": [
           {
            "colorbar": {
             "outlinewidth": 0,
             "ticks": ""
            },
            "colorscale": [
             [
              0,
              "#0d0887"
             ],
             [
              0.1111111111111111,
              "#46039f"
             ],
             [
              0.2222222222222222,
              "#7201a8"
             ],
             [
              0.3333333333333333,
              "#9c179e"
             ],
             [
              0.4444444444444444,
              "#bd3786"
             ],
             [
              0.5555555555555556,
              "#d8576b"
             ],
             [
              0.6666666666666666,
              "#ed7953"
             ],
             [
              0.7777777777777778,
              "#fb9f3a"
             ],
             [
              0.8888888888888888,
              "#fdca26"
             ],
             [
              1,
              "#f0f921"
             ]
            ],
            "type": "histogram2dcontour"
           }
          ],
          "mesh3d": [
           {
            "colorbar": {
             "outlinewidth": 0,
             "ticks": ""
            },
            "type": "mesh3d"
           }
          ],
          "parcoords": [
           {
            "line": {
             "colorbar": {
              "outlinewidth": 0,
              "ticks": ""
             }
            },
            "type": "parcoords"
           }
          ],
          "pie": [
           {
            "automargin": true,
            "type": "pie"
           }
          ],
          "scatter": [
           {
            "fillpattern": {
             "fillmode": "overlay",
             "size": 10,
             "solidity": 0.2
            },
            "type": "scatter"
           }
          ],
          "scatter3d": [
           {
            "line": {
             "colorbar": {
              "outlinewidth": 0,
              "ticks": ""
             }
            },
            "marker": {
             "colorbar": {
              "outlinewidth": 0,
              "ticks": ""
             }
            },
            "type": "scatter3d"
           }
          ],
          "scattercarpet": [
           {
            "marker": {
             "colorbar": {
              "outlinewidth": 0,
              "ticks": ""
             }
            },
            "type": "scattercarpet"
           }
          ],
          "scattergeo": [
           {
            "marker": {
             "colorbar": {
              "outlinewidth": 0,
              "ticks": ""
             }
            },
            "type": "scattergeo"
           }
          ],
          "scattergl": [
           {
            "marker": {
             "colorbar": {
              "outlinewidth": 0,
              "ticks": ""
             }
            },
            "type": "scattergl"
           }
          ],
          "scattermapbox": [
           {
            "marker": {
             "colorbar": {
              "outlinewidth": 0,
              "ticks": ""
             }
            },
            "type": "scattermapbox"
           }
          ],
          "scatterpolar": [
           {
            "marker": {
             "colorbar": {
              "outlinewidth": 0,
              "ticks": ""
             }
            },
            "type": "scatterpolar"
           }
          ],
          "scatterpolargl": [
           {
            "marker": {
             "colorbar": {
              "outlinewidth": 0,
              "ticks": ""
             }
            },
            "type": "scatterpolargl"
           }
          ],
          "scatterternary": [
           {
            "marker": {
             "colorbar": {
              "outlinewidth": 0,
              "ticks": ""
             }
            },
            "type": "scatterternary"
           }
          ],
          "surface": [
           {
            "colorbar": {
             "outlinewidth": 0,
             "ticks": ""
            },
            "colorscale": [
             [
              0,
              "#0d0887"
             ],
             [
              0.1111111111111111,
              "#46039f"
             ],
             [
              0.2222222222222222,
              "#7201a8"
             ],
             [
              0.3333333333333333,
              "#9c179e"
             ],
             [
              0.4444444444444444,
              "#bd3786"
             ],
             [
              0.5555555555555556,
              "#d8576b"
             ],
             [
              0.6666666666666666,
              "#ed7953"
             ],
             [
              0.7777777777777778,
              "#fb9f3a"
             ],
             [
              0.8888888888888888,
              "#fdca26"
             ],
             [
              1,
              "#f0f921"
             ]
            ],
            "type": "surface"
           }
          ],
          "table": [
           {
            "cells": {
             "fill": {
              "color": "#EBF0F8"
             },
             "line": {
              "color": "white"
             }
            },
            "header": {
             "fill": {
              "color": "#C8D4E3"
             },
             "line": {
              "color": "white"
             }
            },
            "type": "table"
           }
          ]
         },
         "layout": {
          "annotationdefaults": {
           "arrowcolor": "#2a3f5f",
           "arrowhead": 0,
           "arrowwidth": 1
          },
          "autotypenumbers": "strict",
          "coloraxis": {
           "colorbar": {
            "outlinewidth": 0,
            "ticks": ""
           }
          },
          "colorscale": {
           "diverging": [
            [
             0,
             "#8e0152"
            ],
            [
             0.1,
             "#c51b7d"
            ],
            [
             0.2,
             "#de77ae"
            ],
            [
             0.3,
             "#f1b6da"
            ],
            [
             0.4,
             "#fde0ef"
            ],
            [
             0.5,
             "#f7f7f7"
            ],
            [
             0.6,
             "#e6f5d0"
            ],
            [
             0.7,
             "#b8e186"
            ],
            [
             0.8,
             "#7fbc41"
            ],
            [
             0.9,
             "#4d9221"
            ],
            [
             1,
             "#276419"
            ]
           ],
           "sequential": [
            [
             0,
             "#0d0887"
            ],
            [
             0.1111111111111111,
             "#46039f"
            ],
            [
             0.2222222222222222,
             "#7201a8"
            ],
            [
             0.3333333333333333,
             "#9c179e"
            ],
            [
             0.4444444444444444,
             "#bd3786"
            ],
            [
             0.5555555555555556,
             "#d8576b"
            ],
            [
             0.6666666666666666,
             "#ed7953"
            ],
            [
             0.7777777777777778,
             "#fb9f3a"
            ],
            [
             0.8888888888888888,
             "#fdca26"
            ],
            [
             1,
             "#f0f921"
            ]
           ],
           "sequentialminus": [
            [
             0,
             "#0d0887"
            ],
            [
             0.1111111111111111,
             "#46039f"
            ],
            [
             0.2222222222222222,
             "#7201a8"
            ],
            [
             0.3333333333333333,
             "#9c179e"
            ],
            [
             0.4444444444444444,
             "#bd3786"
            ],
            [
             0.5555555555555556,
             "#d8576b"
            ],
            [
             0.6666666666666666,
             "#ed7953"
            ],
            [
             0.7777777777777778,
             "#fb9f3a"
            ],
            [
             0.8888888888888888,
             "#fdca26"
            ],
            [
             1,
             "#f0f921"
            ]
           ]
          },
          "colorway": [
           "#636efa",
           "#EF553B",
           "#00cc96",
           "#ab63fa",
           "#FFA15A",
           "#19d3f3",
           "#FF6692",
           "#B6E880",
           "#FF97FF",
           "#FECB52"
          ],
          "font": {
           "color": "#2a3f5f"
          },
          "geo": {
           "bgcolor": "white",
           "lakecolor": "white",
           "landcolor": "#E5ECF6",
           "showlakes": true,
           "showland": true,
           "subunitcolor": "white"
          },
          "hoverlabel": {
           "align": "left"
          },
          "hovermode": "closest",
          "mapbox": {
           "style": "light"
          },
          "paper_bgcolor": "white",
          "plot_bgcolor": "#E5ECF6",
          "polar": {
           "angularaxis": {
            "gridcolor": "white",
            "linecolor": "white",
            "ticks": ""
           },
           "bgcolor": "#E5ECF6",
           "radialaxis": {
            "gridcolor": "white",
            "linecolor": "white",
            "ticks": ""
           }
          },
          "scene": {
           "xaxis": {
            "backgroundcolor": "#E5ECF6",
            "gridcolor": "white",
            "gridwidth": 2,
            "linecolor": "white",
            "showbackground": true,
            "ticks": "",
            "zerolinecolor": "white"
           },
           "yaxis": {
            "backgroundcolor": "#E5ECF6",
            "gridcolor": "white",
            "gridwidth": 2,
            "linecolor": "white",
            "showbackground": true,
            "ticks": "",
            "zerolinecolor": "white"
           },
           "zaxis": {
            "backgroundcolor": "#E5ECF6",
            "gridcolor": "white",
            "gridwidth": 2,
            "linecolor": "white",
            "showbackground": true,
            "ticks": "",
            "zerolinecolor": "white"
           }
          },
          "shapedefaults": {
           "line": {
            "color": "#2a3f5f"
           }
          },
          "ternary": {
           "aaxis": {
            "gridcolor": "white",
            "linecolor": "white",
            "ticks": ""
           },
           "baxis": {
            "gridcolor": "white",
            "linecolor": "white",
            "ticks": ""
           },
           "bgcolor": "#E5ECF6",
           "caxis": {
            "gridcolor": "white",
            "linecolor": "white",
            "ticks": ""
           }
          },
          "title": {
           "x": 0.05
          },
          "xaxis": {
           "automargin": true,
           "gridcolor": "white",
           "linecolor": "white",
           "ticks": "",
           "title": {
            "standoff": 15
           },
           "zerolinecolor": "white",
           "zerolinewidth": 2
          },
          "yaxis": {
           "automargin": true,
           "gridcolor": "white",
           "linecolor": "white",
           "ticks": "",
           "title": {
            "standoff": 15
           },
           "zerolinecolor": "white",
           "zerolinewidth": 2
          }
         }
        },
        "title": {
         "text": "Deviations of the price difference in %"
        },
        "width": 1000,
        "xaxis": {
         "anchor": "y",
         "domain": [
          0,
          1
         ],
         "title": {
          "text": "difference_price_%"
         }
        },
        "yaxis": {
         "anchor": "x",
         "domain": [
          0,
          1
         ],
         "title": {
          "text": "brand"
         }
        }
       }
      }
     },
     "metadata": {},
     "output_type": "display_data"
    }
   ],
   "source": [
    "#Построение коробчатой диаграммы для выявления выбросов\n",
    "fig = px.box(\n",
    "    data_frame=data_parsing,\n",
    "    x= 'difference_price_%',\n",
    "    y= 'brand',\n",
    "    color= 'Category',\n",
    "    title= 'Deviations of the price difference in %',\n",
    "    width= 1000,\n",
    "    height= 600\n",
    "    \n",
    ")\n",
    "fig.show()"
   ]
  },
  {
   "cell_type": "code",
   "execution_count": 185,
   "metadata": {},
   "outputs": [
    {
     "name": "stdout",
     "output_type": "stream",
     "text": [
      "Число выбросов по методу z-отклонения: 4\n",
      "Результирующее число записей: 71\n"
     ]
    },
    {
     "data": {
      "text/html": [
       "<div>\n",
       "<style scoped>\n",
       "    .dataframe tbody tr th:only-of-type {\n",
       "        vertical-align: middle;\n",
       "    }\n",
       "\n",
       "    .dataframe tbody tr th {\n",
       "        vertical-align: top;\n",
       "    }\n",
       "\n",
       "    .dataframe thead th {\n",
       "        text-align: right;\n",
       "    }\n",
       "</style>\n",
       "<table border=\"1\" class=\"dataframe\">\n",
       "  <thead>\n",
       "    <tr style=\"text-align: right;\">\n",
       "      <th></th>\n",
       "      <th>brand</th>\n",
       "      <th>Category</th>\n",
       "      <th>producer_id</th>\n",
       "      <th>producer_color</th>\n",
       "      <th>price</th>\n",
       "      <th>item_id</th>\n",
       "      <th>color_id</th>\n",
       "      <th>current_price</th>\n",
       "      <th>difference_price_%</th>\n",
       "    </tr>\n",
       "  </thead>\n",
       "  <tbody>\n",
       "    <tr>\n",
       "      <th>4</th>\n",
       "      <td>Valentino</td>\n",
       "      <td>Shoes</td>\n",
       "      <td>aaaaa1111_15</td>\n",
       "      <td>bla\\\\ck</td>\n",
       "      <td>250</td>\n",
       "      <td>aaaaa111115</td>\n",
       "      <td>black</td>\n",
       "      <td>153</td>\n",
       "      <td>63.40</td>\n",
       "    </tr>\n",
       "    <tr>\n",
       "      <th>12</th>\n",
       "      <td>Valentino</td>\n",
       "      <td>Shoes</td>\n",
       "      <td>aaaaa1111_23</td>\n",
       "      <td>white_~</td>\n",
       "      <td>288</td>\n",
       "      <td>aaaaa111123</td>\n",
       "      <td>white</td>\n",
       "      <td>171</td>\n",
       "      <td>68.42</td>\n",
       "    </tr>\n",
       "    <tr>\n",
       "      <th>38</th>\n",
       "      <td>Brioni</td>\n",
       "      <td>Shoes</td>\n",
       "      <td>bbbbb1111_24</td>\n",
       "      <td>white_~</td>\n",
       "      <td>298</td>\n",
       "      <td>bbbbb111124</td>\n",
       "      <td>white</td>\n",
       "      <td>183</td>\n",
       "      <td>62.84</td>\n",
       "    </tr>\n",
       "    <tr>\n",
       "      <th>45</th>\n",
       "      <td>Brioni</td>\n",
       "      <td>Bags</td>\n",
       "      <td>bbbbb1111_31</td>\n",
       "      <td>~~~red</td>\n",
       "      <td>257</td>\n",
       "      <td>bbbbb111131</td>\n",
       "      <td>red</td>\n",
       "      <td>157</td>\n",
       "      <td>63.69</td>\n",
       "    </tr>\n",
       "  </tbody>\n",
       "</table>\n",
       "</div>"
      ],
      "text/plain": [
       "        brand Category   producer_id producer_color  price      item_id  \\\n",
       "4   Valentino    Shoes  aaaaa1111_15        bla\\\\ck    250  aaaaa111115   \n",
       "12  Valentino    Shoes  aaaaa1111_23        white_~    288  aaaaa111123   \n",
       "38     Brioni    Shoes  bbbbb1111_24        white_~    298  bbbbb111124   \n",
       "45     Brioni     Bags  bbbbb1111_31         ~~~red    257  bbbbb111131   \n",
       "\n",
       "   color_id  current_price  difference_price_%  \n",
       "4     black            153               63.40  \n",
       "12    white            171               68.42  \n",
       "38    white            183               62.84  \n",
       "45      red            157               63.69  "
      ]
     },
     "metadata": {},
     "output_type": "display_data"
    }
   ],
   "source": [
    "#Попытка очистки данных по методу 3-х сигм\n",
    "def outliers_z_score(data, feature, left = 3, right = 2.05, log_scale=False):\n",
    "    if log_scale:\n",
    "        x = np.log(data[feature]+1)\n",
    "    else:\n",
    "        x = data[feature]\n",
    "    mu = x.mean()\n",
    "    sigma = x.std() \n",
    "    lower_bound = mu - left*sigma,\n",
    "    upper_bound = mu + right*sigma,\n",
    "    outliers = data[(x < lower_bound) | (x > upper_bound)]\n",
    "    cleaned = data[(x >= lower_bound) & (x <= upper_bound)]\n",
    "    return outliers, cleaned\n",
    "\n",
    "outliers_parsing, data_parsing_cleaned = outliers_z_score(data_parsing, 'difference_price_%' )\n",
    "print(f'Число выбросов по методу z-отклонения: {outliers_parsing.shape[0]}')\n",
    "print(f'Результирующее число записей: {data_parsing_cleaned.shape[0]}')\n",
    "display(outliers_parsing)   "
   ]
  },
  {
   "cell_type": "code",
   "execution_count": 186,
   "metadata": {},
   "outputs": [
    {
     "data": {
      "application/vnd.plotly.v1+json": {
       "config": {
        "plotlyServerURL": "https://plot.ly"
       },
       "data": [
        {
         "alignmentgroup": "True",
         "hovertemplate": "Category=Shoes<br>difference_price_%=%{x}<br>brand=%{y}<extra></extra>",
         "legendgroup": "Shoes",
         "marker": {
          "color": "#636efa"
         },
         "name": "Shoes",
         "notched": false,
         "offsetgroup": "Shoes",
         "orientation": "h",
         "showlegend": true,
         "type": "box",
         "x": [
          -32.39,
          16.77,
          -21.37,
          17.37,
          -27.92,
          28.99,
          -38.87,
          -5.6,
          -30.2,
          -41.44,
          -5.2,
          9.28,
          6.48,
          14.89,
          14.47,
          18.37,
          8.54,
          -32.86,
          46.97,
          -29.79,
          -4.35,
          -33.98,
          10.19,
          -3.7,
          -3.82,
          21.25,
          -27.05,
          -23.55,
          -4.37,
          4.64,
          55.68,
          17.2,
          18.18,
          -28.97,
          33.74,
          38.89,
          -4.59,
          -31.03,
          -13.33
         ],
         "x0": " ",
         "xaxis": "x",
         "y": [
          "Valentino",
          "Valentino",
          "Valentino",
          "Valentino",
          "Valentino",
          "Valentino",
          "Valentino",
          "Valentino",
          "Valentino",
          "Valentino",
          "Valentino",
          "Valentino",
          "Brioni",
          "Brioni",
          "Brioni",
          "Brioni",
          "Brioni",
          "Brioni",
          "Brioni",
          "Brioni",
          "Brioni",
          "Brioni",
          "Brioni",
          "Brioni",
          "Brioni",
          "Stone Island",
          "Stone Island",
          "Stone Island",
          "Stone Island",
          "Stone Island",
          "Stone Island",
          "Stone Island",
          "Stone Island",
          "Stone Island",
          "Stone Island",
          "Stone Island",
          "Stone Island",
          "Stone Island",
          "Stone Island"
         ],
         "y0": " ",
         "yaxis": "y"
        },
        {
         "alignmentgroup": "True",
         "hovertemplate": "Category=Bags<br>difference_price_%=%{x}<br>brand=%{y}<extra></extra>",
         "legendgroup": "Bags",
         "marker": {
          "color": "#EF553B"
         },
         "name": "Bags",
         "notched": false,
         "offsetgroup": "Bags",
         "orientation": "h",
         "showlegend": true,
         "type": "box",
         "x": [
          -7.89,
          -2.89,
          44.33,
          12.7,
          -6.8,
          -39.72,
          35.45,
          -41.98,
          -11.58,
          4.04,
          47.06,
          17.65,
          -18.34,
          -16.39,
          33.33,
          8.12,
          -14.21,
          -8.81,
          29.17,
          -13.39,
          -36.25,
          -11.02,
          60.38,
          -31.64,
          -7.07,
          8.97,
          18.34,
          -0.61,
          -19.39,
          -17.8,
          15.32,
          -25.45
         ],
         "x0": " ",
         "xaxis": "x",
         "y": [
          "Valentino",
          "Valentino",
          "Valentino",
          "Valentino",
          "Valentino",
          "Valentino",
          "Valentino",
          "Valentino",
          "Valentino",
          "Valentino",
          "Valentino",
          "Brioni",
          "Brioni",
          "Brioni",
          "Brioni",
          "Brioni",
          "Brioni",
          "Brioni",
          "Brioni",
          "Brioni",
          "Brioni",
          "Stone Island",
          "Stone Island",
          "Stone Island",
          "Stone Island",
          "Stone Island",
          "Stone Island",
          "Stone Island",
          "Stone Island",
          "Stone Island",
          "Stone Island",
          "Stone Island"
         ],
         "y0": " ",
         "yaxis": "y"
        }
       ],
       "layout": {
        "boxmode": "group",
        "height": 600,
        "legend": {
         "title": {
          "text": "Category"
         },
         "tracegroupgap": 0
        },
        "template": {
         "data": {
          "bar": [
           {
            "error_x": {
             "color": "#2a3f5f"
            },
            "error_y": {
             "color": "#2a3f5f"
            },
            "marker": {
             "line": {
              "color": "#E5ECF6",
              "width": 0.5
             },
             "pattern": {
              "fillmode": "overlay",
              "size": 10,
              "solidity": 0.2
             }
            },
            "type": "bar"
           }
          ],
          "barpolar": [
           {
            "marker": {
             "line": {
              "color": "#E5ECF6",
              "width": 0.5
             },
             "pattern": {
              "fillmode": "overlay",
              "size": 10,
              "solidity": 0.2
             }
            },
            "type": "barpolar"
           }
          ],
          "carpet": [
           {
            "aaxis": {
             "endlinecolor": "#2a3f5f",
             "gridcolor": "white",
             "linecolor": "white",
             "minorgridcolor": "white",
             "startlinecolor": "#2a3f5f"
            },
            "baxis": {
             "endlinecolor": "#2a3f5f",
             "gridcolor": "white",
             "linecolor": "white",
             "minorgridcolor": "white",
             "startlinecolor": "#2a3f5f"
            },
            "type": "carpet"
           }
          ],
          "choropleth": [
           {
            "colorbar": {
             "outlinewidth": 0,
             "ticks": ""
            },
            "type": "choropleth"
           }
          ],
          "contour": [
           {
            "colorbar": {
             "outlinewidth": 0,
             "ticks": ""
            },
            "colorscale": [
             [
              0,
              "#0d0887"
             ],
             [
              0.1111111111111111,
              "#46039f"
             ],
             [
              0.2222222222222222,
              "#7201a8"
             ],
             [
              0.3333333333333333,
              "#9c179e"
             ],
             [
              0.4444444444444444,
              "#bd3786"
             ],
             [
              0.5555555555555556,
              "#d8576b"
             ],
             [
              0.6666666666666666,
              "#ed7953"
             ],
             [
              0.7777777777777778,
              "#fb9f3a"
             ],
             [
              0.8888888888888888,
              "#fdca26"
             ],
             [
              1,
              "#f0f921"
             ]
            ],
            "type": "contour"
           }
          ],
          "contourcarpet": [
           {
            "colorbar": {
             "outlinewidth": 0,
             "ticks": ""
            },
            "type": "contourcarpet"
           }
          ],
          "heatmap": [
           {
            "colorbar": {
             "outlinewidth": 0,
             "ticks": ""
            },
            "colorscale": [
             [
              0,
              "#0d0887"
             ],
             [
              0.1111111111111111,
              "#46039f"
             ],
             [
              0.2222222222222222,
              "#7201a8"
             ],
             [
              0.3333333333333333,
              "#9c179e"
             ],
             [
              0.4444444444444444,
              "#bd3786"
             ],
             [
              0.5555555555555556,
              "#d8576b"
             ],
             [
              0.6666666666666666,
              "#ed7953"
             ],
             [
              0.7777777777777778,
              "#fb9f3a"
             ],
             [
              0.8888888888888888,
              "#fdca26"
             ],
             [
              1,
              "#f0f921"
             ]
            ],
            "type": "heatmap"
           }
          ],
          "heatmapgl": [
           {
            "colorbar": {
             "outlinewidth": 0,
             "ticks": ""
            },
            "colorscale": [
             [
              0,
              "#0d0887"
             ],
             [
              0.1111111111111111,
              "#46039f"
             ],
             [
              0.2222222222222222,
              "#7201a8"
             ],
             [
              0.3333333333333333,
              "#9c179e"
             ],
             [
              0.4444444444444444,
              "#bd3786"
             ],
             [
              0.5555555555555556,
              "#d8576b"
             ],
             [
              0.6666666666666666,
              "#ed7953"
             ],
             [
              0.7777777777777778,
              "#fb9f3a"
             ],
             [
              0.8888888888888888,
              "#fdca26"
             ],
             [
              1,
              "#f0f921"
             ]
            ],
            "type": "heatmapgl"
           }
          ],
          "histogram": [
           {
            "marker": {
             "pattern": {
              "fillmode": "overlay",
              "size": 10,
              "solidity": 0.2
             }
            },
            "type": "histogram"
           }
          ],
          "histogram2d": [
           {
            "colorbar": {
             "outlinewidth": 0,
             "ticks": ""
            },
            "colorscale": [
             [
              0,
              "#0d0887"
             ],
             [
              0.1111111111111111,
              "#46039f"
             ],
             [
              0.2222222222222222,
              "#7201a8"
             ],
             [
              0.3333333333333333,
              "#9c179e"
             ],
             [
              0.4444444444444444,
              "#bd3786"
             ],
             [
              0.5555555555555556,
              "#d8576b"
             ],
             [
              0.6666666666666666,
              "#ed7953"
             ],
             [
              0.7777777777777778,
              "#fb9f3a"
             ],
             [
              0.8888888888888888,
              "#fdca26"
             ],
             [
              1,
              "#f0f921"
             ]
            ],
            "type": "histogram2d"
           }
          ],
          "histogram2dcontour": [
           {
            "colorbar": {
             "outlinewidth": 0,
             "ticks": ""
            },
            "colorscale": [
             [
              0,
              "#0d0887"
             ],
             [
              0.1111111111111111,
              "#46039f"
             ],
             [
              0.2222222222222222,
              "#7201a8"
             ],
             [
              0.3333333333333333,
              "#9c179e"
             ],
             [
              0.4444444444444444,
              "#bd3786"
             ],
             [
              0.5555555555555556,
              "#d8576b"
             ],
             [
              0.6666666666666666,
              "#ed7953"
             ],
             [
              0.7777777777777778,
              "#fb9f3a"
             ],
             [
              0.8888888888888888,
              "#fdca26"
             ],
             [
              1,
              "#f0f921"
             ]
            ],
            "type": "histogram2dcontour"
           }
          ],
          "mesh3d": [
           {
            "colorbar": {
             "outlinewidth": 0,
             "ticks": ""
            },
            "type": "mesh3d"
           }
          ],
          "parcoords": [
           {
            "line": {
             "colorbar": {
              "outlinewidth": 0,
              "ticks": ""
             }
            },
            "type": "parcoords"
           }
          ],
          "pie": [
           {
            "automargin": true,
            "type": "pie"
           }
          ],
          "scatter": [
           {
            "fillpattern": {
             "fillmode": "overlay",
             "size": 10,
             "solidity": 0.2
            },
            "type": "scatter"
           }
          ],
          "scatter3d": [
           {
            "line": {
             "colorbar": {
              "outlinewidth": 0,
              "ticks": ""
             }
            },
            "marker": {
             "colorbar": {
              "outlinewidth": 0,
              "ticks": ""
             }
            },
            "type": "scatter3d"
           }
          ],
          "scattercarpet": [
           {
            "marker": {
             "colorbar": {
              "outlinewidth": 0,
              "ticks": ""
             }
            },
            "type": "scattercarpet"
           }
          ],
          "scattergeo": [
           {
            "marker": {
             "colorbar": {
              "outlinewidth": 0,
              "ticks": ""
             }
            },
            "type": "scattergeo"
           }
          ],
          "scattergl": [
           {
            "marker": {
             "colorbar": {
              "outlinewidth": 0,
              "ticks": ""
             }
            },
            "type": "scattergl"
           }
          ],
          "scattermapbox": [
           {
            "marker": {
             "colorbar": {
              "outlinewidth": 0,
              "ticks": ""
             }
            },
            "type": "scattermapbox"
           }
          ],
          "scatterpolar": [
           {
            "marker": {
             "colorbar": {
              "outlinewidth": 0,
              "ticks": ""
             }
            },
            "type": "scatterpolar"
           }
          ],
          "scatterpolargl": [
           {
            "marker": {
             "colorbar": {
              "outlinewidth": 0,
              "ticks": ""
             }
            },
            "type": "scatterpolargl"
           }
          ],
          "scatterternary": [
           {
            "marker": {
             "colorbar": {
              "outlinewidth": 0,
              "ticks": ""
             }
            },
            "type": "scatterternary"
           }
          ],
          "surface": [
           {
            "colorbar": {
             "outlinewidth": 0,
             "ticks": ""
            },
            "colorscale": [
             [
              0,
              "#0d0887"
             ],
             [
              0.1111111111111111,
              "#46039f"
             ],
             [
              0.2222222222222222,
              "#7201a8"
             ],
             [
              0.3333333333333333,
              "#9c179e"
             ],
             [
              0.4444444444444444,
              "#bd3786"
             ],
             [
              0.5555555555555556,
              "#d8576b"
             ],
             [
              0.6666666666666666,
              "#ed7953"
             ],
             [
              0.7777777777777778,
              "#fb9f3a"
             ],
             [
              0.8888888888888888,
              "#fdca26"
             ],
             [
              1,
              "#f0f921"
             ]
            ],
            "type": "surface"
           }
          ],
          "table": [
           {
            "cells": {
             "fill": {
              "color": "#EBF0F8"
             },
             "line": {
              "color": "white"
             }
            },
            "header": {
             "fill": {
              "color": "#C8D4E3"
             },
             "line": {
              "color": "white"
             }
            },
            "type": "table"
           }
          ]
         },
         "layout": {
          "annotationdefaults": {
           "arrowcolor": "#2a3f5f",
           "arrowhead": 0,
           "arrowwidth": 1
          },
          "autotypenumbers": "strict",
          "coloraxis": {
           "colorbar": {
            "outlinewidth": 0,
            "ticks": ""
           }
          },
          "colorscale": {
           "diverging": [
            [
             0,
             "#8e0152"
            ],
            [
             0.1,
             "#c51b7d"
            ],
            [
             0.2,
             "#de77ae"
            ],
            [
             0.3,
             "#f1b6da"
            ],
            [
             0.4,
             "#fde0ef"
            ],
            [
             0.5,
             "#f7f7f7"
            ],
            [
             0.6,
             "#e6f5d0"
            ],
            [
             0.7,
             "#b8e186"
            ],
            [
             0.8,
             "#7fbc41"
            ],
            [
             0.9,
             "#4d9221"
            ],
            [
             1,
             "#276419"
            ]
           ],
           "sequential": [
            [
             0,
             "#0d0887"
            ],
            [
             0.1111111111111111,
             "#46039f"
            ],
            [
             0.2222222222222222,
             "#7201a8"
            ],
            [
             0.3333333333333333,
             "#9c179e"
            ],
            [
             0.4444444444444444,
             "#bd3786"
            ],
            [
             0.5555555555555556,
             "#d8576b"
            ],
            [
             0.6666666666666666,
             "#ed7953"
            ],
            [
             0.7777777777777778,
             "#fb9f3a"
            ],
            [
             0.8888888888888888,
             "#fdca26"
            ],
            [
             1,
             "#f0f921"
            ]
           ],
           "sequentialminus": [
            [
             0,
             "#0d0887"
            ],
            [
             0.1111111111111111,
             "#46039f"
            ],
            [
             0.2222222222222222,
             "#7201a8"
            ],
            [
             0.3333333333333333,
             "#9c179e"
            ],
            [
             0.4444444444444444,
             "#bd3786"
            ],
            [
             0.5555555555555556,
             "#d8576b"
            ],
            [
             0.6666666666666666,
             "#ed7953"
            ],
            [
             0.7777777777777778,
             "#fb9f3a"
            ],
            [
             0.8888888888888888,
             "#fdca26"
            ],
            [
             1,
             "#f0f921"
            ]
           ]
          },
          "colorway": [
           "#636efa",
           "#EF553B",
           "#00cc96",
           "#ab63fa",
           "#FFA15A",
           "#19d3f3",
           "#FF6692",
           "#B6E880",
           "#FF97FF",
           "#FECB52"
          ],
          "font": {
           "color": "#2a3f5f"
          },
          "geo": {
           "bgcolor": "white",
           "lakecolor": "white",
           "landcolor": "#E5ECF6",
           "showlakes": true,
           "showland": true,
           "subunitcolor": "white"
          },
          "hoverlabel": {
           "align": "left"
          },
          "hovermode": "closest",
          "mapbox": {
           "style": "light"
          },
          "paper_bgcolor": "white",
          "plot_bgcolor": "#E5ECF6",
          "polar": {
           "angularaxis": {
            "gridcolor": "white",
            "linecolor": "white",
            "ticks": ""
           },
           "bgcolor": "#E5ECF6",
           "radialaxis": {
            "gridcolor": "white",
            "linecolor": "white",
            "ticks": ""
           }
          },
          "scene": {
           "xaxis": {
            "backgroundcolor": "#E5ECF6",
            "gridcolor": "white",
            "gridwidth": 2,
            "linecolor": "white",
            "showbackground": true,
            "ticks": "",
            "zerolinecolor": "white"
           },
           "yaxis": {
            "backgroundcolor": "#E5ECF6",
            "gridcolor": "white",
            "gridwidth": 2,
            "linecolor": "white",
            "showbackground": true,
            "ticks": "",
            "zerolinecolor": "white"
           },
           "zaxis": {
            "backgroundcolor": "#E5ECF6",
            "gridcolor": "white",
            "gridwidth": 2,
            "linecolor": "white",
            "showbackground": true,
            "ticks": "",
            "zerolinecolor": "white"
           }
          },
          "shapedefaults": {
           "line": {
            "color": "#2a3f5f"
           }
          },
          "ternary": {
           "aaxis": {
            "gridcolor": "white",
            "linecolor": "white",
            "ticks": ""
           },
           "baxis": {
            "gridcolor": "white",
            "linecolor": "white",
            "ticks": ""
           },
           "bgcolor": "#E5ECF6",
           "caxis": {
            "gridcolor": "white",
            "linecolor": "white",
            "ticks": ""
           }
          },
          "title": {
           "x": 0.05
          },
          "xaxis": {
           "automargin": true,
           "gridcolor": "white",
           "linecolor": "white",
           "ticks": "",
           "title": {
            "standoff": 15
           },
           "zerolinecolor": "white",
           "zerolinewidth": 2
          },
          "yaxis": {
           "automargin": true,
           "gridcolor": "white",
           "linecolor": "white",
           "ticks": "",
           "title": {
            "standoff": 15
           },
           "zerolinecolor": "white",
           "zerolinewidth": 2
          }
         }
        },
        "title": {
         "text": "Deviations of the price difference in % based on the cleared data"
        },
        "width": 1000,
        "xaxis": {
         "anchor": "y",
         "domain": [
          0,
          1
         ],
         "title": {
          "text": "difference_price_%"
         }
        },
        "yaxis": {
         "anchor": "x",
         "domain": [
          0,
          1
         ],
         "title": {
          "text": "brand"
         }
        }
       }
      }
     },
     "metadata": {},
     "output_type": "display_data"
    }
   ],
   "source": [
    "#Строим коробчатую диаграмму по очищенным данным\n",
    "fig = px.box(\n",
    "    data_frame=data_parsing_cleaned,\n",
    "    x= 'difference_price_%',\n",
    "    y= 'brand',\n",
    "    color= 'Category',\n",
    "    title= 'Deviations of the price difference in % based on the cleared data',\n",
    "    width= 1000,\n",
    "    height= 600\n",
    ")\n",
    "fig.show()"
   ]
  },
  {
   "cell_type": "code",
   "execution_count": 187,
   "metadata": {},
   "outputs": [
    {
     "data": {
      "text/html": [
       "<div>\n",
       "<style scoped>\n",
       "    .dataframe tbody tr th:only-of-type {\n",
       "        vertical-align: middle;\n",
       "    }\n",
       "\n",
       "    .dataframe tbody tr th {\n",
       "        vertical-align: top;\n",
       "    }\n",
       "\n",
       "    .dataframe thead th {\n",
       "        text-align: right;\n",
       "    }\n",
       "</style>\n",
       "<table border=\"1\" class=\"dataframe\">\n",
       "  <thead>\n",
       "    <tr style=\"text-align: right;\">\n",
       "      <th></th>\n",
       "      <th>brand</th>\n",
       "      <th>Category</th>\n",
       "      <th>producer_id</th>\n",
       "      <th>producer_color</th>\n",
       "      <th>price</th>\n",
       "      <th>item_id</th>\n",
       "      <th>color_id</th>\n",
       "      <th>current_price</th>\n",
       "      <th>difference_price_%</th>\n",
       "    </tr>\n",
       "  </thead>\n",
       "  <tbody>\n",
       "    <tr>\n",
       "      <th>0</th>\n",
       "      <td>Valentino</td>\n",
       "      <td>Shoes</td>\n",
       "      <td>aaaaa1111_11</td>\n",
       "      <td>black</td>\n",
       "      <td>167</td>\n",
       "      <td>aaaaa111111</td>\n",
       "      <td>black</td>\n",
       "      <td>247</td>\n",
       "      <td>-32.39</td>\n",
       "    </tr>\n",
       "    <tr>\n",
       "      <th>1</th>\n",
       "      <td>Valentino</td>\n",
       "      <td>Shoes</td>\n",
       "      <td>aaaaa1111_12</td>\n",
       "      <td>black</td>\n",
       "      <td>188</td>\n",
       "      <td>aaaaa111112</td>\n",
       "      <td>black</td>\n",
       "      <td>161</td>\n",
       "      <td>16.77</td>\n",
       "    </tr>\n",
       "    <tr>\n",
       "      <th>2</th>\n",
       "      <td>Valentino</td>\n",
       "      <td>Shoes</td>\n",
       "      <td>aaaaa1111_13</td>\n",
       "      <td>black</td>\n",
       "      <td>184</td>\n",
       "      <td>aaaaa111113</td>\n",
       "      <td>black</td>\n",
       "      <td>234</td>\n",
       "      <td>-21.37</td>\n",
       "    </tr>\n",
       "    <tr>\n",
       "      <th>3</th>\n",
       "      <td>Valentino</td>\n",
       "      <td>Shoes</td>\n",
       "      <td>aaaaa1111_14</td>\n",
       "      <td>bla//ck</td>\n",
       "      <td>196</td>\n",
       "      <td>aaaaa111114</td>\n",
       "      <td>black</td>\n",
       "      <td>167</td>\n",
       "      <td>17.37</td>\n",
       "    </tr>\n",
       "    <tr>\n",
       "      <th>5</th>\n",
       "      <td>Valentino</td>\n",
       "      <td>Shoes</td>\n",
       "      <td>aaaaa1111_16</td>\n",
       "      <td>bla__ck</td>\n",
       "      <td>191</td>\n",
       "      <td>aaaaa111116</td>\n",
       "      <td>black</td>\n",
       "      <td>265</td>\n",
       "      <td>-27.92</td>\n",
       "    </tr>\n",
       "  </tbody>\n",
       "</table>\n",
       "</div>"
      ],
      "text/plain": [
       "       brand Category   producer_id producer_color  price      item_id  \\\n",
       "0  Valentino    Shoes  aaaaa1111_11          black    167  aaaaa111111   \n",
       "1  Valentino    Shoes  aaaaa1111_12          black    188  aaaaa111112   \n",
       "2  Valentino    Shoes  aaaaa1111_13          black    184  aaaaa111113   \n",
       "3  Valentino    Shoes  aaaaa1111_14        bla//ck    196  aaaaa111114   \n",
       "5  Valentino    Shoes  aaaaa1111_16        bla__ck    191  aaaaa111116   \n",
       "\n",
       "  color_id  current_price  difference_price_%  \n",
       "0    black            247              -32.39  \n",
       "1    black            161               16.77  \n",
       "2    black            234              -21.37  \n",
       "3    black            167               17.37  \n",
       "5    black            265              -27.92  "
      ]
     },
     "metadata": {},
     "output_type": "display_data"
    },
    {
     "data": {
      "text/html": [
       "<div>\n",
       "<style scoped>\n",
       "    .dataframe tbody tr th:only-of-type {\n",
       "        vertical-align: middle;\n",
       "    }\n",
       "\n",
       "    .dataframe tbody tr th {\n",
       "        vertical-align: top;\n",
       "    }\n",
       "\n",
       "    .dataframe thead th {\n",
       "        text-align: right;\n",
       "    }\n",
       "</style>\n",
       "<table border=\"1\" class=\"dataframe\">\n",
       "  <thead>\n",
       "    <tr style=\"text-align: right;\">\n",
       "      <th></th>\n",
       "      <th>brand</th>\n",
       "      <th>Category</th>\n",
       "      <th>producer_id</th>\n",
       "      <th>producer_color</th>\n",
       "      <th>price</th>\n",
       "      <th>item_id</th>\n",
       "      <th>color_id</th>\n",
       "      <th>current_price</th>\n",
       "      <th>difference_price_%</th>\n",
       "    </tr>\n",
       "  </thead>\n",
       "  <tbody>\n",
       "    <tr>\n",
       "      <th>70</th>\n",
       "      <td>Stone Island</td>\n",
       "      <td>Bags</td>\n",
       "      <td>sssss1111_31</td>\n",
       "      <td>~~~red</td>\n",
       "      <td>164</td>\n",
       "      <td>sssss111131</td>\n",
       "      <td>red</td>\n",
       "      <td>165</td>\n",
       "      <td>-0.61</td>\n",
       "    </tr>\n",
       "    <tr>\n",
       "      <th>71</th>\n",
       "      <td>Stone Island</td>\n",
       "      <td>Bags</td>\n",
       "      <td>sssss1111_32</td>\n",
       "      <td>~~~red</td>\n",
       "      <td>158</td>\n",
       "      <td>sssss111132</td>\n",
       "      <td>red</td>\n",
       "      <td>196</td>\n",
       "      <td>-19.39</td>\n",
       "    </tr>\n",
       "    <tr>\n",
       "      <th>72</th>\n",
       "      <td>Stone Island</td>\n",
       "      <td>Bags</td>\n",
       "      <td>sssss1111_33</td>\n",
       "      <td>~~~red</td>\n",
       "      <td>194</td>\n",
       "      <td>sssss111133</td>\n",
       "      <td>red</td>\n",
       "      <td>236</td>\n",
       "      <td>-17.80</td>\n",
       "    </tr>\n",
       "    <tr>\n",
       "      <th>73</th>\n",
       "      <td>Stone Island</td>\n",
       "      <td>Bags</td>\n",
       "      <td>sssss1111_34</td>\n",
       "      <td>~~~red</td>\n",
       "      <td>256</td>\n",
       "      <td>sssss111134</td>\n",
       "      <td>red</td>\n",
       "      <td>222</td>\n",
       "      <td>15.32</td>\n",
       "    </tr>\n",
       "    <tr>\n",
       "      <th>74</th>\n",
       "      <td>Stone Island</td>\n",
       "      <td>Bags</td>\n",
       "      <td>sssss1111_35</td>\n",
       "      <td>~~~red</td>\n",
       "      <td>205</td>\n",
       "      <td>sssss111135</td>\n",
       "      <td>red</td>\n",
       "      <td>275</td>\n",
       "      <td>-25.45</td>\n",
       "    </tr>\n",
       "  </tbody>\n",
       "</table>\n",
       "</div>"
      ],
      "text/plain": [
       "           brand Category   producer_id producer_color  price      item_id  \\\n",
       "70  Stone Island     Bags  sssss1111_31         ~~~red    164  sssss111131   \n",
       "71  Stone Island     Bags  sssss1111_32         ~~~red    158  sssss111132   \n",
       "72  Stone Island     Bags  sssss1111_33         ~~~red    194  sssss111133   \n",
       "73  Stone Island     Bags  sssss1111_34         ~~~red    256  sssss111134   \n",
       "74  Stone Island     Bags  sssss1111_35         ~~~red    205  sssss111135   \n",
       "\n",
       "   color_id  current_price  difference_price_%  \n",
       "70      red            165               -0.61  \n",
       "71      red            196              -19.39  \n",
       "72      red            236              -17.80  \n",
       "73      red            222               15.32  \n",
       "74      red            275              -25.45  "
      ]
     },
     "metadata": {},
     "output_type": "display_data"
    },
    {
     "name": "stdout",
     "output_type": "stream",
     "text": [
      "<class 'pandas.core.frame.DataFrame'>\n",
      "Index: 71 entries, 0 to 74\n",
      "Data columns (total 9 columns):\n",
      " #   Column              Non-Null Count  Dtype  \n",
      "---  ------              --------------  -----  \n",
      " 0   brand               71 non-null     object \n",
      " 1   Category            71 non-null     object \n",
      " 2   producer_id         71 non-null     object \n",
      " 3   producer_color      71 non-null     object \n",
      " 4   price               71 non-null     int64  \n",
      " 5   item_id             71 non-null     object \n",
      " 6   color_id            71 non-null     object \n",
      " 7   current_price       71 non-null     int64  \n",
      " 8   difference_price_%  71 non-null     float64\n",
      "dtypes: float64(1), int64(2), object(6)\n",
      "memory usage: 5.5+ KB\n"
     ]
    },
    {
     "data": {
      "text/plain": [
       "None"
      ]
     },
     "metadata": {},
     "output_type": "display_data"
    }
   ],
   "source": [
    "display(data_parsing_cleaned.head())\n",
    "display(data_parsing_cleaned.tail())\n",
    "display(data_parsing_cleaned.info())"
   ]
  },
  {
   "cell_type": "code",
   "execution_count": 227,
   "metadata": {},
   "outputs": [
    {
     "data": {
      "text/plain": [
       "outliers\n",
       "no     71\n",
       "yes     4\n",
       "Name: count, dtype: int64"
      ]
     },
     "metadata": {},
     "output_type": "display_data"
    }
   ],
   "source": [
    "#Доработать создание нового столбца\n",
    "final_data = data_parsing.copy()\n",
    "final_data['outliers'] = 'no'\n",
    "final_data.loc[outliers_parsing.index, 'outliers'] = 'yes'\n",
    "display(final_data['outliers'].value_counts())\n"
   ]
  },
  {
   "cell_type": "code",
   "execution_count": 191,
   "metadata": {},
   "outputs": [],
   "source": [
    "#Сохраниение Excel файла на данный момент очищенного от выбросов\n",
    "data_parsing_cleaned.to_excel('answer_1.xlsx', sheet_name='New Sheet', index=False)"
   ]
  },
  {
   "cell_type": "code",
   "execution_count": 228,
   "metadata": {},
   "outputs": [],
   "source": [
    "#Сохранение Excel файла с отметками об выбросах\n",
    "final_data.to_excel('answer_final.xlsx', sheet_name= 'New Sheet', index=False )"
   ]
  },
  {
   "cell_type": "code",
   "execution_count": null,
   "metadata": {},
   "outputs": [],
   "source": []
  }
 ],
 "metadata": {
  "kernelspec": {
   "display_name": "Python 3",
   "language": "python",
   "name": "python3"
  },
  "language_info": {
   "codemirror_mode": {
    "name": "ipython",
    "version": 3
   },
   "file_extension": ".py",
   "mimetype": "text/x-python",
   "name": "python",
   "nbconvert_exporter": "python",
   "pygments_lexer": "ipython3",
   "version": "3.11.9"
  }
 },
 "nbformat": 4,
 "nbformat_minor": 2
}
