{
 "cells": [
  {
   "cell_type": "markdown",
   "metadata": {},
   "source": [
    "### Выполнение логирования в новом файле"
   ]
  },
  {
   "cell_type": "code",
   "execution_count": 5,
   "metadata": {},
   "outputs": [],
   "source": [
    "#Импортируем библиотеки\n",
    "import pandas as pd\n",
    "import logging\n",
    "\n",
    "#Создаем датафрейм\n",
    "df = pd.read_csv('data/KaggleV2-May-2016.csv')"
   ]
  },
  {
   "cell_type": "code",
   "execution_count": 6,
   "metadata": {},
   "outputs": [],
   "source": [
    "import os.path\n",
    "\n",
    "#Функция для создания лог-файла и записи в него информации\n",
    "def get_logger(path, file):\n",
    "    \"\"\"[Создаем лог файл для логирования в него]\n",
    "    Аргументы:\n",
    "        path {string} -- путь к директории\n",
    "        file {string} -- имя файла\n",
    "    Возвращает:\n",
    "        [obj] -- [логер]\n",
    "    \"\"\"\n",
    "\n",
    "    #Проверяем, существует ли файл\n",
    "    log_file = os.path.join(path, file)\n",
    "\n",
    "    #Если файла нет, создаем его\n",
    "    if not os.path.isfile(log_file):\n",
    "        open(log_file, \"w+\").close()\n",
    "    \n",
    "    #Поменяем формат логирования\n",
    "    file_logging_format = \"%(levelname)s: %(asctime)s: %(message)s\"\n",
    "\n",
    "    #Конфигурируем лог-файл\n",
    "    logging.basicConfig(level = logging.INFO,\n",
    "    format = file_logging_format)\n",
    "    logger = logging.getLogger()\n",
    "    \n",
    "    #Создадим хендлер для записи лога в файл\n",
    "    handler = logging.FileHandler(log_file)\n",
    "    \n",
    "    #Установим уровень логирования\n",
    "    handler.setLevel(logging.INFO)\n",
    "    \n",
    "    #Создадим формат логирования, используя file_logging_format\n",
    "    formatter = logging.Formatter(file_logging_format)\n",
    "    handler.setFormatter(formatter)\n",
    "    \n",
    "    #Добавим хендлер лог-файлу\n",
    "    logger.addHandler(handler)\n",
    "    return logger"
   ]
  },
  {
   "cell_type": "code",
   "execution_count": 7,
   "metadata": {},
   "outputs": [
    {
     "name": "stderr",
     "output_type": "stream",
     "text": [
      "�������� ��� 䠩� logs 㦥 �������.\n"
     ]
    }
   ],
   "source": [
    "#Создадим новую папку с помощью команды mkdir\n",
    "!mkdir logs"
   ]
  },
  {
   "cell_type": "code",
   "execution_count": 8,
   "metadata": {},
   "outputs": [
    {
     "name": "stderr",
     "output_type": "stream",
     "text": [
      "INFO: 2025-07-24 20:07:23,999: Data\n",
      "INFO: 2025-07-24 20:07:24,001: Data shape (110527, 14)\n",
      "C:\\Users\\Андрей\\AppData\\Local\\Temp\\ipykernel_8844\\2754116350.py:8: FutureWarning: Series.__getitem__ treating keys as positions is deprecated. In a future version, integer keys will always be treated as labels (consistent with DataFrame behavior). To access a value by position, use `ser.iloc[pos]`\n",
      "  logger.info(\"Percentage of women: {}\".format(df[df['No-show']=='Yes']['Gender'].value_counts(True)[0]))\n",
      "INFO: 2025-07-24 20:07:24,016: Percentage of women: 0.653882342398853\n",
      "C:\\Users\\Андрей\\AppData\\Local\\Temp\\ipykernel_8844\\2754116350.py:10: FutureWarning: Series.__getitem__ treating keys as positions is deprecated. In a future version, integer keys will always be treated as labels (consistent with DataFrame behavior). To access a value by position, use `ser.iloc[pos]`\n",
      "  logger.info(\"Percentage of men: {}\".format(df[df['No-show']=='Yes']['Gender'].value_counts(True)[1]))\n",
      "INFO: 2025-07-24 20:07:24,029: Percentage of men: 0.346117657601147\n"
     ]
    }
   ],
   "source": [
    "#Создадим лог-файл и запишем туда информацию о датасете\n",
    "logger = get_logger(path='logs/', file='data.logs')\n",
    "\n",
    "logger.info('Data')\n",
    "\n",
    "logger.info('Data shape {}'.format(df.shape))\n",
    "\n",
    "logger.info(\"Percentage of women: {}\".format(df[df['No-show']=='Yes']['Gender'].value_counts(True)[0]))\n",
    "\n",
    "logger.info(\"Percentage of men: {}\".format(df[df['No-show']=='Yes']['Gender'].value_counts(True)[1]))"
   ]
  },
  {
   "cell_type": "code",
   "execution_count": 9,
   "metadata": {},
   "outputs": [
    {
     "name": "stderr",
     "output_type": "stream",
     "text": [
      "ERROR: 2025-07-24 20:09:39,243: Data shape is incorrect!\n"
     ]
    }
   ],
   "source": [
    "#Мы можем проверять форму данных, и если, \n",
    "#форма не соответсвтует необходимой, логировать ошибку\n",
    "\n",
    "if df.shape != (110526,14):\n",
    "    logger.error('Data shape is incorrect!')\n"
   ]
  },
  {
   "cell_type": "code",
   "execution_count": null,
   "metadata": {},
   "outputs": [],
   "source": []
  }
 ],
 "metadata": {
  "kernelspec": {
   "display_name": "Python 3",
   "language": "python",
   "name": "python3"
  },
  "language_info": {
   "codemirror_mode": {
    "name": "ipython",
    "version": 3
   },
   "file_extension": ".py",
   "mimetype": "text/x-python",
   "name": "python",
   "nbconvert_exporter": "python",
   "pygments_lexer": "ipython3",
   "version": "3.11.9"
  }
 },
 "nbformat": 4,
 "nbformat_minor": 2
}
