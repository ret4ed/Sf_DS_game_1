{
 "cells": [
  {
   "cell_type": "code",
   "execution_count": 1,
   "metadata": {},
   "outputs": [],
   "source": [
    "import pandas as pd\n",
    "import numpy as np\n",
    "import matplotlib.pyplot as plt\n",
    "import seaborn as sns\n",
    "import plotly\n",
    "import plotly.express as px"
   ]
  },
  {
   "cell_type": "markdown",
   "metadata": {},
   "source": [
    "### Объекты и классы"
   ]
  },
  {
   "cell_type": "markdown",
   "metadata": {},
   "source": [
    "#### Объекты"
   ]
  },
  {
   "cell_type": "code",
   "execution_count": 3,
   "metadata": {},
   "outputs": [
    {
     "name": "stdout",
     "output_type": "stream",
     "text": [
      "False\n",
      "(5, 2)\n"
     ]
    }
   ],
   "source": [
    "number = 2.5\n",
    "#Вызовем метод is_integer. Он скажет нам, является ли number целым числом\n",
    "print(number.is_integer())\n",
    "\n",
    "#Представим number как обыкновенную дробь\n",
    "print(number.as_integer_ratio())"
   ]
  },
  {
   "cell_type": "code",
   "execution_count": 6,
   "metadata": {},
   "outputs": [
    {
     "name": "stdout",
     "output_type": "stream",
     "text": [
      "2\n",
      "['Alexandra', 'Stanislav', 'Vasiliy', 'Vasiliy']\n"
     ]
    }
   ],
   "source": [
    "people = ['Vasiliy', 'Stanislav', 'Alexandra', 'Vasiliy']\n",
    "#Посчитаем число василиев с помощью метода count\n",
    "print(people.count('Vasiliy'))\n",
    "#Теперь отсортируем\n",
    "people.sort()\n",
    "print(people)"
   ]
  },
  {
   "cell_type": "markdown",
   "metadata": {},
   "source": [
    "#### Классы"
   ]
  },
  {
   "cell_type": "code",
   "execution_count": 8,
   "metadata": {},
   "outputs": [
    {
     "name": "stdout",
     "output_type": "stream",
     "text": [
      "<class 'float'>\n",
      "<class 'list'>\n"
     ]
    }
   ],
   "source": [
    "number = 2.5\n",
    "print(number.__class__)\n",
    "\n",
    "people = ['Vasiliy', 'Stanislav', 'Alexandra', 'Vasiliy']\n",
    "print(people.__class__)"
   ]
  },
  {
   "cell_type": "code",
   "execution_count": 13,
   "metadata": {},
   "outputs": [],
   "source": [
    "class SalesReport():\n",
    "    pass\n",
    "\n",
    "def build_report():\n",
    "    pass\n",
    "\n",
    "class SkillfactoryStudent():\n",
    "    pass"
   ]
  },
  {
   "cell_type": "markdown",
   "metadata": {},
   "source": [
    "#### Объекты из классов"
   ]
  },
  {
   "cell_type": "code",
   "execution_count": 16,
   "metadata": {},
   "outputs": [
    {
     "name": "stdout",
     "output_type": "stream",
     "text": [
      "False\n"
     ]
    }
   ],
   "source": [
    "class SalesReport():\n",
    "    pass\n",
    "#Создаем объект по классу\n",
    "report = SalesReport()\n",
    "\n",
    "#Можно создать множество объектов по одному классу\n",
    "report_2 = SalesReport()\n",
    "\n",
    "#Это будут разные объекты\n",
    "print(report == report_2)"
   ]
  },
  {
   "cell_type": "markdown",
   "metadata": {},
   "source": [
    "### Атрибуты и методы"
   ]
  },
  {
   "cell_type": "markdown",
   "metadata": {},
   "source": [
    "#### Атрибуты и методы"
   ]
  },
  {
   "cell_type": "code",
   "execution_count": 19,
   "metadata": {},
   "outputs": [
    {
     "name": "stdout",
     "output_type": "stream",
     "text": [
      "Total amount: 10\n",
      "Total amount: 20\n"
     ]
    }
   ],
   "source": [
    "# Создаем пустой класс\n",
    "class SalesReport():\n",
    "    pass\n",
    "\n",
    "#Создаем первый отчет по продажам\n",
    "reprot = SalesReport()\n",
    "\n",
    "#Добавим новый атрибут объекту\n",
    "#Для этого через точку напишем имя атрибута и дальше как с обычной переменной\n",
    "report.amount = 10\n",
    "\n",
    "#Тоже самое делаем для второго отчета\n",
    "report_2 = SalesReport()\n",
    "report_2.amount = 20\n",
    "\n",
    "#Создадим вспомогательную функцию, она будет печатать общую сумму из отчета\n",
    "def print_report(report):\n",
    "    print('Total amount:', report.amount)\n",
    "    \n",
    "print_report(report)\n",
    "print_report(report_2)"
   ]
  },
  {
   "cell_type": "code",
   "execution_count": 20,
   "metadata": {},
   "outputs": [
    {
     "name": "stdout",
     "output_type": "stream",
     "text": [
      "Total amount: 10\n",
      "Total amount: 20\n"
     ]
    }
   ],
   "source": [
    "class SalesReport():\n",
    "    #Наш новый метод внутри класса\n",
    "    #Мы определяем его похожим образом с обычными функциями,\n",
    "    #но только помещаем внутрь класса и первым аргументом передаем self\n",
    "    def print_report(self):\n",
    "        print('Total amount:', self.amount)\n",
    "    \n",
    "#Дальше применим report так же, как и в примере выше\n",
    "report = SalesReport()\n",
    "report.amount = 10\n",
    "\n",
    "report_2 = SalesReport()\n",
    "report_2.amount = 20\n",
    "\n",
    "#Используя новые методы\n",
    "report.print_report()\n",
    "report_2.print_report()"
   ]
  },
  {
   "cell_type": "code",
   "execution_count": 22,
   "metadata": {},
   "outputs": [
    {
     "name": "stdout",
     "output_type": "stream",
     "text": [
      "Total sales: 40000\n",
      "[10000, 30000]\n"
     ]
    }
   ],
   "source": [
    "class SalesReport():\n",
    "    #Позволим добавлять много разных сделок\n",
    "    def add_deal(self, amount):\n",
    "        #На первой сделке создадим список для хранения всех сделок\n",
    "        \n",
    "        if not hasattr(self, 'deals'):\n",
    "            self.deals = []\n",
    "        #Добавим текущую сделку\n",
    "        self.deals.append(amount)\n",
    "    \n",
    "    #Посчитаем сумму всех сделок\n",
    "    def total_amount(self):\n",
    "        return sum(self.deals)\n",
    "    \n",
    "    def print_report(self):\n",
    "        print('Total sales:', self.total_amount())\n",
    "        \n",
    "#Используем наши новые возможности\n",
    "#Добавим две новые сделки и распечатаем отчет\n",
    "report = SalesReport()\n",
    "report.add_deal(10_000)\n",
    "report.add_deal(30_000)\n",
    "report.print_report()\n",
    "print(report.deals)"
   ]
  },
  {
   "cell_type": "markdown",
   "metadata": {},
   "source": [
    "#### Метод _INIT_"
   ]
  },
  {
   "cell_type": "code",
   "execution_count": 23,
   "metadata": {},
   "outputs": [
    {
     "name": "stdout",
     "output_type": "stream",
     "text": [
      "[]\n"
     ]
    },
    {
     "data": {
      "text/plain": [
       "0"
      ]
     },
     "execution_count": 23,
     "metadata": {},
     "output_type": "execute_result"
    }
   ],
   "source": [
    "# Метод инициализации _init_\n",
    "class SalesReport():\n",
    "    def __init__(self):\n",
    "        self.deals = []\n",
    "    \n",
    "    def add_deal(self, amount):\n",
    "        self.deals.append(amount)\n",
    "    \n",
    "    def total_amount(self):\n",
    "        return sum(self.deals)\n",
    "    \n",
    "    def print_report(self):\n",
    "        print('Total sales:', self.total_amount())\n",
    "    \n",
    "report = SalesReport()\n",
    "print(report.deals)\n",
    "report.total_amount()    "
   ]
  },
  {
   "cell_type": "code",
   "execution_count": 24,
   "metadata": {},
   "outputs": [
    {
     "name": "stdout",
     "output_type": "stream",
     "text": [
      "Manager: Ivan Taranov\n",
      "Total sales: 40000\n"
     ]
    }
   ],
   "source": [
    "class SalesReport():\n",
    "    def __init__(self, manager_name):\n",
    "        self.deals = []\n",
    "        #Будем принимать в __init__ еще и имя менеджера\n",
    "        self.manager_name = manager_name\n",
    "    \n",
    "    def add_deal(self, amount):\n",
    "        self.deals.append(amount)\n",
    "    \n",
    "    def total_amount(self):\n",
    "        return sum(self.deals)\n",
    "    \n",
    "    def print_report(self):\n",
    "        #И добаавлять это имя в отчет\n",
    "        print('Manager:', self.manager_name)\n",
    "        print('Total sales:', self.total_amount())\n",
    "    \n",
    "report = SalesReport('Ivan Taranov')\n",
    "report.add_deal(10_000)\n",
    "report.add_deal(30_000)\n",
    "report.print_report()"
   ]
  },
  {
   "cell_type": "code",
   "execution_count": 27,
   "metadata": {},
   "outputs": [
    {
     "name": "stdout",
     "output_type": "stream",
     "text": [
      "Employee: Ivan Semenov\n",
      "Total sales: 390000\n",
      "Average sales: 130000.0\n",
      "Companies: ['SkyEng', 'PepsiCo']\n"
     ]
    }
   ],
   "source": [
    "class SalesReport():\n",
    "    def __init__(self, employee_name):\n",
    "        self.deals = []\n",
    "        self.employee_name = employee_name\n",
    "        \n",
    "    def add_deal(self, company, amount):\n",
    "        self.deals.append({'company':company, 'amount':amount})\n",
    "    \n",
    "    def total_amount(self):\n",
    "        return sum([deal['amount'] for deal in self.deals])\n",
    "    \n",
    "    def average_deal(self):\n",
    "        return self.total_amount()/len(self.deals)\n",
    "    \n",
    "    def all_companies(self):\n",
    "        return list(set([deal['company'] for deal in self.deals]))\n",
    "    \n",
    "    def print_report(self):\n",
    "        print('Employee:', self.employee_name)\n",
    "        print('Total sales:', self.total_amount())\n",
    "        print('Average sales:', self.average_deal())\n",
    "        print('Companies:', self.all_companies())\n",
    "        \n",
    "report = SalesReport('Ivan Semenov')\n",
    "\n",
    "report.add_deal('PepsiCo', 120_000)\n",
    "report.add_deal('SkyEng', 250_000)\n",
    "report.add_deal('PepsiCo', 20_000)\n",
    "\n",
    "report.print_report()"
   ]
  },
  {
   "cell_type": "code",
   "execution_count": null,
   "metadata": {},
   "outputs": [],
   "source": []
  }
 ],
 "metadata": {
  "kernelspec": {
   "display_name": "Python 3",
   "language": "python",
   "name": "python3"
  },
  "language_info": {
   "codemirror_mode": {
    "name": "ipython",
    "version": 3
   },
   "file_extension": ".py",
   "mimetype": "text/x-python",
   "name": "python",
   "nbconvert_exporter": "python",
   "pygments_lexer": "ipython3",
   "version": "3.11.9"
  }
 },
 "nbformat": 4,
 "nbformat_minor": 2
}
