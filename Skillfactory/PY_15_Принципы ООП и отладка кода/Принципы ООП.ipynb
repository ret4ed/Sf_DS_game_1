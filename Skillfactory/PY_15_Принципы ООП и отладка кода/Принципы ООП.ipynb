{
 "cells": [
  {
   "cell_type": "code",
   "execution_count": 2,
   "metadata": {},
   "outputs": [],
   "source": [
    "import pandas as pd\n",
    "import numpy as np\n",
    "import matplotlib.pyplot as plt\n",
    "import seaborn as sns\n",
    "import plotly\n",
    "import plotly.express as px"
   ]
  },
  {
   "cell_type": "markdown",
   "metadata": {},
   "source": [
    "### Объекты и классы"
   ]
  },
  {
   "cell_type": "markdown",
   "metadata": {},
   "source": [
    "#### Объекты"
   ]
  },
  {
   "cell_type": "code",
   "execution_count": 3,
   "metadata": {},
   "outputs": [
    {
     "name": "stdout",
     "output_type": "stream",
     "text": [
      "False\n",
      "(5, 2)\n"
     ]
    }
   ],
   "source": [
    "number = 2.5\n",
    "#Вызовем метод is_integer. Он скажет нам, является ли number целым числом\n",
    "print(number.is_integer())\n",
    "\n",
    "#Представим number как обыкновенную дробь\n",
    "print(number.as_integer_ratio())"
   ]
  },
  {
   "cell_type": "code",
   "execution_count": 4,
   "metadata": {},
   "outputs": [
    {
     "name": "stdout",
     "output_type": "stream",
     "text": [
      "2\n",
      "['Alexandra', 'Stanislav', 'Vasiliy', 'Vasiliy']\n"
     ]
    }
   ],
   "source": [
    "people = ['Vasiliy', 'Stanislav', 'Alexandra', 'Vasiliy']\n",
    "#Посчитаем число василиев с помощью метода count\n",
    "print(people.count('Vasiliy'))\n",
    "#Теперь отсортируем\n",
    "people.sort()\n",
    "print(people)"
   ]
  },
  {
   "cell_type": "markdown",
   "metadata": {},
   "source": [
    "#### Классы"
   ]
  },
  {
   "cell_type": "code",
   "execution_count": 5,
   "metadata": {},
   "outputs": [
    {
     "name": "stdout",
     "output_type": "stream",
     "text": [
      "<class 'float'>\n",
      "<class 'list'>\n"
     ]
    }
   ],
   "source": [
    "number = 2.5\n",
    "print(number.__class__)\n",
    "\n",
    "people = ['Vasiliy', 'Stanislav', 'Alexandra', 'Vasiliy']\n",
    "print(people.__class__)"
   ]
  },
  {
   "cell_type": "code",
   "execution_count": 6,
   "metadata": {},
   "outputs": [],
   "source": [
    "class SalesReport():\n",
    "    pass\n",
    "\n",
    "def build_report():\n",
    "    pass\n",
    "\n",
    "class SkillfactoryStudent():\n",
    "    pass"
   ]
  },
  {
   "cell_type": "markdown",
   "metadata": {},
   "source": [
    "#### Объекты из классов"
   ]
  },
  {
   "cell_type": "code",
   "execution_count": 7,
   "metadata": {},
   "outputs": [
    {
     "name": "stdout",
     "output_type": "stream",
     "text": [
      "False\n"
     ]
    }
   ],
   "source": [
    "class SalesReport():\n",
    "    pass\n",
    "#Создаем объект по классу\n",
    "report = SalesReport()\n",
    "\n",
    "#Можно создать множество объектов по одному классу\n",
    "report_2 = SalesReport()\n",
    "\n",
    "#Это будут разные объекты\n",
    "print(report == report_2)"
   ]
  },
  {
   "cell_type": "markdown",
   "metadata": {},
   "source": [
    "### Атрибуты и методы"
   ]
  },
  {
   "cell_type": "markdown",
   "metadata": {},
   "source": [
    "#### Атрибуты и методы"
   ]
  },
  {
   "cell_type": "code",
   "execution_count": 8,
   "metadata": {},
   "outputs": [
    {
     "name": "stdout",
     "output_type": "stream",
     "text": [
      "Total amount: 10\n",
      "Total amount: 20\n"
     ]
    }
   ],
   "source": [
    "# Создаем пустой класс\n",
    "class SalesReport():\n",
    "    pass\n",
    "\n",
    "#Создаем первый отчет по продажам\n",
    "reprot = SalesReport()\n",
    "\n",
    "#Добавим новый атрибут объекту\n",
    "#Для этого через точку напишем имя атрибута и дальше как с обычной переменной\n",
    "report.amount = 10\n",
    "\n",
    "#Тоже самое делаем для второго отчета\n",
    "report_2 = SalesReport()\n",
    "report_2.amount = 20\n",
    "\n",
    "#Создадим вспомогательную функцию, она будет печатать общую сумму из отчета\n",
    "def print_report(report):\n",
    "    print('Total amount:', report.amount)\n",
    "    \n",
    "print_report(report)\n",
    "print_report(report_2)"
   ]
  },
  {
   "cell_type": "code",
   "execution_count": 9,
   "metadata": {},
   "outputs": [
    {
     "name": "stdout",
     "output_type": "stream",
     "text": [
      "Total amount: 10\n",
      "Total amount: 20\n"
     ]
    }
   ],
   "source": [
    "class SalesReport():\n",
    "    #Наш новый метод внутри класса\n",
    "    #Мы определяем его похожим образом с обычными функциями,\n",
    "    #но только помещаем внутрь класса и первым аргументом передаем self\n",
    "    def print_report(self):\n",
    "        print('Total amount:', self.amount)\n",
    "    \n",
    "#Дальше применим report так же, как и в примере выше\n",
    "report = SalesReport()\n",
    "report.amount = 10\n",
    "\n",
    "report_2 = SalesReport()\n",
    "report_2.amount = 20\n",
    "\n",
    "#Используя новые методы\n",
    "report.print_report()\n",
    "report_2.print_report()"
   ]
  },
  {
   "cell_type": "code",
   "execution_count": 10,
   "metadata": {},
   "outputs": [
    {
     "name": "stdout",
     "output_type": "stream",
     "text": [
      "Total sales: 40000\n",
      "[10000, 30000]\n"
     ]
    }
   ],
   "source": [
    "class SalesReport():\n",
    "    #Позволим добавлять много разных сделок\n",
    "    def add_deal(self, amount):\n",
    "        #На первой сделке создадим список для хранения всех сделок\n",
    "        \n",
    "        if not hasattr(self, 'deals'):\n",
    "            self.deals = []\n",
    "        #Добавим текущую сделку\n",
    "        self.deals.append(amount)\n",
    "    \n",
    "    #Посчитаем сумму всех сделок\n",
    "    def total_amount(self):\n",
    "        return sum(self.deals)\n",
    "    \n",
    "    def print_report(self):\n",
    "        print('Total sales:', self.total_amount())\n",
    "        \n",
    "#Используем наши новые возможности\n",
    "#Добавим две новые сделки и распечатаем отчет\n",
    "report = SalesReport()\n",
    "report.add_deal(10_000)\n",
    "report.add_deal(30_000)\n",
    "report.print_report()\n",
    "print(report.deals)"
   ]
  },
  {
   "cell_type": "markdown",
   "metadata": {},
   "source": [
    "#### Метод _INIT_"
   ]
  },
  {
   "cell_type": "code",
   "execution_count": 11,
   "metadata": {},
   "outputs": [
    {
     "name": "stdout",
     "output_type": "stream",
     "text": [
      "[]\n"
     ]
    },
    {
     "data": {
      "text/plain": [
       "0"
      ]
     },
     "execution_count": 11,
     "metadata": {},
     "output_type": "execute_result"
    }
   ],
   "source": [
    "# Метод инициализации _init_\n",
    "class SalesReport():\n",
    "    def __init__(self):\n",
    "        self.deals = []\n",
    "    \n",
    "    def add_deal(self, amount):\n",
    "        self.deals.append(amount)\n",
    "    \n",
    "    def total_amount(self):\n",
    "        return sum(self.deals)\n",
    "    \n",
    "    def print_report(self):\n",
    "        print('Total sales:', self.total_amount())\n",
    "    \n",
    "report = SalesReport()\n",
    "print(report.deals)\n",
    "report.total_amount()    "
   ]
  },
  {
   "cell_type": "code",
   "execution_count": 12,
   "metadata": {},
   "outputs": [
    {
     "name": "stdout",
     "output_type": "stream",
     "text": [
      "Manager: Ivan Taranov\n",
      "Total sales: 40000\n"
     ]
    }
   ],
   "source": [
    "class SalesReport():\n",
    "    def __init__(self, manager_name):\n",
    "        self.deals = []\n",
    "        #Будем принимать в __init__ еще и имя менеджера\n",
    "        self.manager_name = manager_name\n",
    "    \n",
    "    def add_deal(self, amount):\n",
    "        self.deals.append(amount)\n",
    "    \n",
    "    def total_amount(self):\n",
    "        return sum(self.deals)\n",
    "    \n",
    "    def print_report(self):\n",
    "        #И добаавлять это имя в отчет\n",
    "        print('Manager:', self.manager_name)\n",
    "        print('Total sales:', self.total_amount())\n",
    "    \n",
    "report = SalesReport('Ivan Taranov')\n",
    "report.add_deal(10_000)\n",
    "report.add_deal(30_000)\n",
    "report.print_report()"
   ]
  },
  {
   "cell_type": "code",
   "execution_count": 13,
   "metadata": {},
   "outputs": [
    {
     "name": "stdout",
     "output_type": "stream",
     "text": [
      "Employee: Ivan Semenov\n",
      "Total sales: 390000\n",
      "Average sales: 130000.0\n",
      "Companies: ['PepsiCo', 'SkyEng']\n"
     ]
    }
   ],
   "source": [
    "class SalesReport():\n",
    "    def __init__(self, employee_name):\n",
    "        self.deals = []\n",
    "        self.employee_name = employee_name\n",
    "        \n",
    "    def add_deal(self, company, amount):\n",
    "        self.deals.append({'company':company, 'amount':amount})\n",
    "    \n",
    "    def total_amount(self):\n",
    "        return sum([deal['amount'] for deal in self.deals])\n",
    "    \n",
    "    def average_deal(self):\n",
    "        return self.total_amount()/len(self.deals)\n",
    "    \n",
    "    def all_companies(self):\n",
    "        return list(set([deal['company'] for deal in self.deals]))\n",
    "    \n",
    "    def print_report(self):\n",
    "        print('Employee:', self.employee_name)\n",
    "        print('Total sales:', self.total_amount())\n",
    "        print('Average sales:', self.average_deal())\n",
    "        print('Companies:', self.all_companies())\n",
    "        \n",
    "report = SalesReport('Ivan Semenov')\n",
    "\n",
    "report.add_deal('PepsiCo', 120_000)\n",
    "report.add_deal('SkyEng', 250_000)\n",
    "report.add_deal('PepsiCo', 20_000)\n",
    "\n",
    "report.print_report()"
   ]
  },
  {
   "cell_type": "markdown",
   "metadata": {},
   "source": [
    "### Практические примеры"
   ]
  },
  {
   "cell_type": "markdown",
   "metadata": {},
   "source": [
    "#### Отслеживание состояния"
   ]
  },
  {
   "cell_type": "code",
   "execution_count": 14,
   "metadata": {},
   "outputs": [
    {
     "name": "stdout",
     "output_type": "stream",
     "text": [
      "max@gmail.com\n",
      "lova@yandex.ru\n",
      "german@sberbank.ru\n",
      "Order price for max@gmail.com is 100\n",
      "Order price for lova@yandex.ru is 180.0\n",
      "Order price for german@sberbank.ru is 500\n",
      "Order price for german@sberbank.ru is 450.0\n"
     ]
    }
   ],
   "source": [
    "class Client():\n",
    "    #Базовые данные\n",
    "    def __init__(self, email, order_num, registration_year):\n",
    "        self.email = email\n",
    "        self.order_num = order_num\n",
    "        self.registration_year = registration_year\n",
    "        self.discount = 0\n",
    "        print(self.email)\n",
    "    \n",
    "    #Оформление заказа\n",
    "    def make_order(self, price):\n",
    "        self.update_discount()\n",
    "        self.order_num += 1\n",
    "        #Здесь было бы оформление заказа, но мы просто выведем его цену\n",
    "        discounter_price = price * (1 - self.discount)\n",
    "        print(f'Order price for {self.email} is {discounter_price}')\n",
    "        \n",
    "    #Назначение скидки\n",
    "    def update_discount(self):\n",
    "        if self.registration_year < 2018 and self.order_num >= 5:\n",
    "            self.discount = 0.1\n",
    "            \n",
    "#Применение\n",
    "\n",
    "#Создаем подобие базы\n",
    "client_db = [\n",
    "    Client('max@gmail.com', 2, 2019),\n",
    "    Client('lova@yandex.ru', 10, 2015),\n",
    "    Client('german@sberbank.ru', 4, 2017)\n",
    "]\n",
    "\n",
    "#Сгенерируем заказы\n",
    "client_db[0].make_order(100)\n",
    "client_db[1].make_order(200)\n",
    "client_db[2].make_order(500)\n",
    "client_db[2].make_order(500)\n",
    "        "
   ]
  },
  {
   "cell_type": "markdown",
   "metadata": {},
   "source": [
    "### Задание 5.1"
   ]
  },
  {
   "cell_type": "code",
   "execution_count": 15,
   "metadata": {},
   "outputs": [
    {
     "name": "stdout",
     "output_type": "stream",
     "text": [
      "False\n",
      "True\n",
      "19700\n"
     ]
    }
   ],
   "source": [
    "class User():\n",
    "    def __init__(self, email, password, balance):\n",
    "        self.email = email\n",
    "        self.password = password\n",
    "        self.balance = balance\n",
    "        \n",
    "    def login(self, email, password):\n",
    "        if self.email == email and self.password == password:\n",
    "            return True\n",
    "        else:\n",
    "            return False\n",
    "       \n",
    "    def update_balance(self, balance):\n",
    "        self.balance += balance\n",
    "    \n",
    "user = User(\"gosha@roskino.org\", \"qwerty\", 20_000)\n",
    "\n",
    "print(user.login(\"gosha@roskino.org\", \"qwerty123\"))\n",
    "# False\n",
    "print(user.login(\"gosha@roskino.org\", \"qwerty\"))\n",
    "# True\n",
    "user.update_balance(200)\n",
    "user.update_balance(-500)\n",
    "print(user.balance)\n",
    "# 19700\n"
   ]
  },
  {
   "cell_type": "markdown",
   "metadata": {},
   "source": [
    "#### Комбинация операций"
   ]
  },
  {
   "cell_type": "code",
   "execution_count": 16,
   "metadata": {},
   "outputs": [
    {
     "name": "stdout",
     "output_type": "stream",
     "text": [
      "[1.0, 17.0, 4.0, 0.0, 8.0]\n",
      "6.89\n",
      "4.0\n"
     ]
    }
   ],
   "source": [
    "import statistics\n",
    "\n",
    "class DataFrame():\n",
    "    def __init__(self, column, fill_value=0):\n",
    "        #Инициализируем атрибуты\n",
    "        self.column = column\n",
    "        self.fill_value = fill_value\n",
    "        #Заполним пропуски\n",
    "        self.fill_missed()\n",
    "        #Конвертируем все элементы в числа\n",
    "        self.to_float()\n",
    "        \n",
    "    def fill_missed(self):\n",
    "        for i, value in enumerate(self.column):\n",
    "            if value is None or value == '':\n",
    "                self.column[i] = self.fill_value\n",
    "                \n",
    "    def to_float(self):\n",
    "        self.column = [float(value) for value in self.column]\n",
    "        \n",
    "    def median(self):\n",
    "        return round(statistics.median(self.column), 2)\n",
    "    \n",
    "    def mean(self):\n",
    "        return round(statistics.mean(self.column), 2)\n",
    "    \n",
    "    def deviation(self):\n",
    "        return round(statistics.stdev(self.column), 2)\n",
    "    \n",
    "    #Воспользуемся классом\n",
    "df = DataFrame(['1', 17, 4, None, 8])\n",
    "    \n",
    "print(df.column)\n",
    "\n",
    "print(df.deviation())\n",
    "\n",
    "print(df.median())"
   ]
  },
  {
   "cell_type": "markdown",
   "metadata": {},
   "source": [
    "### Задание 5.2"
   ]
  },
  {
   "cell_type": "code",
   "execution_count": 17,
   "metadata": {},
   "outputs": [
    {
     "name": "stdout",
     "output_type": "stream",
     "text": [
      "[4, 4, 3, 0, 1, 1, 2, 0, 4]\n",
      "14\n",
      "5\n"
     ]
    }
   ],
   "source": [
    "class IntDataFrame:\n",
    "    def __init__(self, value):\n",
    "        self.value = value\n",
    "        self.values = []\n",
    "    \n",
    "    def column(self):\n",
    "        for i in self.value:\n",
    "            self.values.append(int(i))\n",
    "        return self.values\n",
    "    \n",
    "    def count(self):\n",
    "        n=0\n",
    "        for i in self.column():\n",
    "            if i !=0:\n",
    "                n +=1\n",
    "        return n\n",
    "    \n",
    "    def unique(self):\n",
    "        return len(set(self.column()))\n",
    "                \n",
    "df = IntDataFrame([4.7, 4, 3, 0, 1, 1.6, 2.4, 0.3, 4])\n",
    "\n",
    "print(df.column())\n",
    "\n",
    "print(df.count())\n",
    "\n",
    "print(df.unique())\n"
   ]
  },
  {
   "cell_type": "markdown",
   "metadata": {},
   "source": [
    "#### Класс обертка"
   ]
  },
  {
   "cell_type": "code",
   "execution_count": 18,
   "metadata": {},
   "outputs": [
    {
     "name": "stdout",
     "output_type": "stream",
     "text": [
      "{'perfomance': [10, 20, 10], 'clients': {'Romashka': 10, 'Vector': 34}}\n"
     ]
    }
   ],
   "source": [
    "import pickle\n",
    "from datetime import datetime\n",
    "from os import path\n",
    "\n",
    "class Dumper():\n",
    "    def __init__(self, archive_dir='archive/'):\n",
    "        self.archive_dir = archive_dir\n",
    "        \n",
    "    def dump(self, data):\n",
    "        #Библиотека pickle позволяет доставать и класть объекты в файл\n",
    "        with open(self.get_file_name(), 'wb') as file:\n",
    "            pickle.dump(data, file)\n",
    "            \n",
    "    def load_for_day(self, day):\n",
    "        file_name = path.join(self.archive_dir, day + '.pkl')\n",
    "        with open(file_name, 'rb') as file:\n",
    "            sets = pickle.load(file)\n",
    "        return sets\n",
    "    \n",
    "    #Возвращает корректное имя для файла\n",
    "    def get_file_name(self):\n",
    "        today = datetime.now().strftime('%y-%m-%d')\n",
    "        return path.join(self.archive_dir, today + '.pkl')\n",
    "    \n",
    "#Пример использования\n",
    "data = {\n",
    "    'perfomance': [10, 20, 10],\n",
    "    'clients': {'Romashka':10, 'Vector': 34}\n",
    "}\n",
    "\n",
    "dumper = Dumper()\n",
    "\n",
    "#Сохраним данные\n",
    "dumper.dump(data)\n",
    "\n",
    "#Восстановим для сегодняшней даты\n",
    "file_name = datetime.now().strftime('%y-%m-%d')\n",
    "restoned_data = dumper.load_for_day(file_name)\n",
    "print(restoned_data)\n",
    "        "
   ]
  },
  {
   "cell_type": "markdown",
   "metadata": {},
   "source": [
    "### Задание 5.3"
   ]
  },
  {
   "cell_type": "code",
   "execution_count": 19,
   "metadata": {},
   "outputs": [],
   "source": [
    "class OwnLogger():\n",
    "    def __init__(self):\n",
    "        self.logs = {'info': None, 'warning': None, 'error': None, 'all': None}\n",
    "    \n",
    "    def log(self, message, level):\n",
    "        self.logs[level] = message\n",
    "        self.logs['all'] = message\n",
    "    \n",
    "    def show_last(self, level='all'):\n",
    "        return self.logs[level]\n",
    "        \n",
    "        \n",
    "logger = OwnLogger()\n",
    "logger.log(\"System started\", \"info\")\n",
    "logger.show_last(\"error\")\n",
    "# None\n",
    "# Некоторые интерпретаторы Python могут не выводить None, тогда в этой проверке у вас будет пустая строка\n",
    "\n",
    "\n",
    "\n",
    "# Connection lost\n",
    "#logger.show_last(\"info\")\n",
    "# System started\n"
   ]
  },
  {
   "cell_type": "markdown",
   "metadata": {},
   "source": [
    "#### Импорт и организация кода"
   ]
  },
  {
   "cell_type": "code",
   "execution_count": 20,
   "metadata": {},
   "outputs": [],
   "source": [
    "from dumper import Dumper"
   ]
  },
  {
   "cell_type": "code",
   "execution_count": 21,
   "metadata": {},
   "outputs": [],
   "source": [
    "#Должно импортироваться из папки, но оно не импортируется\n",
    "from helpers.dumper import Dumper\n",
    "from helpers.data_frame import DataFrame  \n",
    "from helpers.client import Client "
   ]
  },
  {
   "cell_type": "markdown",
   "metadata": {},
   "source": [
    "### Проверка знаний"
   ]
  },
  {
   "cell_type": "markdown",
   "metadata": {},
   "source": [
    "### Задание 6.3"
   ]
  },
  {
   "cell_type": "code",
   "execution_count": 22,
   "metadata": {},
   "outputs": [],
   "source": [
    "class Dog():\n",
    "    \n",
    "    def bark(*args):\n",
    "        return 'Bark!'\n",
    "    \n",
    "    def give_paw(*args): \n",
    "        return 'Paw'"
   ]
  },
  {
   "cell_type": "markdown",
   "metadata": {},
   "source": [
    "### Применение ООП для работы с файлами"
   ]
  },
  {
   "cell_type": "markdown",
   "metadata": {},
   "source": [
    "#### Путь к файлу"
   ]
  },
  {
   "cell_type": "code",
   "execution_count": 23,
   "metadata": {},
   "outputs": [
    {
     "name": "stdout",
     "output_type": "stream",
     "text": [
      "c:\\Program Files (x86)\\IDE\\Skillfactory\\PY_15_Принципы ООП и отладка кода\n"
     ]
    }
   ],
   "source": [
    "import os\n",
    "#Получить текущий путь\n",
    "start_path = os.getcwd()\n",
    "print(start_path)"
   ]
  },
  {
   "cell_type": "code",
   "execution_count": 24,
   "metadata": {},
   "outputs": [
    {
     "data": {
      "text/plain": [
       "'c:\\\\Program Files (x86)\\\\IDE\\\\Skillfactory'"
      ]
     },
     "execution_count": 24,
     "metadata": {},
     "output_type": "execute_result"
    }
   ],
   "source": [
    "#Далее попробуем поднятсья на директорию выше\n",
    "os.chdir('..')\n",
    "os.getcwd()"
   ]
  },
  {
   "cell_type": "code",
   "execution_count": 25,
   "metadata": {},
   "outputs": [
    {
     "data": {
      "text/plain": [
       "'c:\\\\Program Files (x86)\\\\IDE\\\\Skillfactory\\\\PY_15_Принципы ООП и отладка кода'"
      ]
     },
     "execution_count": 25,
     "metadata": {},
     "output_type": "execute_result"
    }
   ],
   "source": [
    "#Вернемся в ту директорию, из которой стартовали\n",
    "os.chdir(start_path)\n",
    "os.getcwd()"
   ]
  },
  {
   "cell_type": "code",
   "execution_count": 26,
   "metadata": {},
   "outputs": [
    {
     "name": "stdout",
     "output_type": "stream",
     "text": [
      "['archive', 'data', 'dumper.py', 'helpers', 'input.txt', 'output.txt', 'rev_students', 'rev_students.txt', 'students.txt', 'test.txt', '__pycache__', 'Принципы ООП.ipynb']\n",
      "Файл отсутствует в данной директории\n"
     ]
    }
   ],
   "source": [
    "#Список файлов и директорий в папке\n",
    "import os\n",
    "\n",
    "print(os.listdir()) \n",
    "\n",
    "if 'tmp.py' not in os.listdir():\n",
    "    print('Файл отсутствует в данной директории')"
   ]
  },
  {
   "cell_type": "code",
   "execution_count": 27,
   "metadata": {},
   "outputs": [
    {
     "name": "stdout",
     "output_type": "stream",
     "text": [
      "c:\\Program Files (x86)\\IDE\\Skillfactory\\PY_15_Принципы ООП и отладка кода\n",
      "c:\\Program Files (x86)\\IDE\\Skillfactory\\PY_15_Принципы ООП и отладка кода\\test\n"
     ]
    }
   ],
   "source": [
    "#Соединяем пути с учетом особенностей операционной системы\n",
    "print(start_path)\n",
    "print(os.path.join(start_path, 'test'))"
   ]
  },
  {
   "cell_type": "markdown",
   "metadata": {},
   "source": [
    "### Задание 7.3 "
   ]
  },
  {
   "cell_type": "markdown",
   "metadata": {},
   "source": [
    "Задание хоть и на самопроверку, но я его буду списывать. Ничего не понял, что просили сделать"
   ]
  },
  {
   "cell_type": "code",
   "execution_count": 28,
   "metadata": {},
   "outputs": [
    {
     "name": "stdout",
     "output_type": "stream",
     "text": [
      "Текущая директория c:\\Program Files (x86)\\IDE\\Skillfactory\\PY_15_Принципы ООП и отладка кода\n",
      "---\n",
      "Список папок ['archive', 'data', 'helpers', '__pycache__']\n",
      "---\n",
      "Список файлов ['dumper.py', 'input.txt', 'output.txt', 'rev_students', 'rev_students.txt', 'students.txt', 'test.txt', 'Принципы ООП.ipynb']\n",
      "---\n",
      "Все пути:\n",
      "Файл c:\\Program Files (x86)\\IDE\\Skillfactory\\PY_15_Принципы ООП и отладка кода\\dumper.py\n",
      "Файл c:\\Program Files (x86)\\IDE\\Skillfactory\\PY_15_Принципы ООП и отладка кода\\input.txt\n",
      "Файл c:\\Program Files (x86)\\IDE\\Skillfactory\\PY_15_Принципы ООП и отладка кода\\output.txt\n",
      "Файл c:\\Program Files (x86)\\IDE\\Skillfactory\\PY_15_Принципы ООП и отладка кода\\rev_students\n",
      "Файл c:\\Program Files (x86)\\IDE\\Skillfactory\\PY_15_Принципы ООП и отладка кода\\rev_students.txt\n",
      "Файл c:\\Program Files (x86)\\IDE\\Skillfactory\\PY_15_Принципы ООП и отладка кода\\students.txt\n",
      "Файл c:\\Program Files (x86)\\IDE\\Skillfactory\\PY_15_Принципы ООП и отладка кода\\test.txt\n",
      "Файл c:\\Program Files (x86)\\IDE\\Skillfactory\\PY_15_Принципы ООП и отладка кода\\Принципы ООП.ipynb\n",
      "Папка c:\\Program Files (x86)\\IDE\\Skillfactory\\PY_15_Принципы ООП и отладка кода\\archive\n",
      "Папка c:\\Program Files (x86)\\IDE\\Skillfactory\\PY_15_Принципы ООП и отладка кода\\data\n",
      "Папка c:\\Program Files (x86)\\IDE\\Skillfactory\\PY_15_Принципы ООП и отладка кода\\helpers\n",
      "Папка c:\\Program Files (x86)\\IDE\\Skillfactory\\PY_15_Принципы ООП и отладка кода\\__pycache__\n",
      "---\n",
      "Текущая директория c:\\Program Files (x86)\\IDE\\Skillfactory\\PY_15_Принципы ООП и отладка кода\\archive\n",
      "---\n",
      "Папок нет\n",
      "---\n",
      "Список файлов ['25-01-17.pkl', '25-01-18.pkl', '25-01-21.pkl']\n",
      "---\n",
      "Файл c:\\Program Files (x86)\\IDE\\Skillfactory\\PY_15_Принципы ООП и отладка кода\\archive\\25-01-17.pkl\n",
      "Файл c:\\Program Files (x86)\\IDE\\Skillfactory\\PY_15_Принципы ООП и отладка кода\\archive\\25-01-18.pkl\n",
      "Файл c:\\Program Files (x86)\\IDE\\Skillfactory\\PY_15_Принципы ООП и отладка кода\\archive\\25-01-21.pkl\n",
      "---\n",
      "Текущая директория c:\\Program Files (x86)\\IDE\\Skillfactory\\PY_15_Принципы ООП и отладка кода\\data\n",
      "---\n",
      "Папок нет\n",
      "---\n",
      "Файлов нет\n",
      "---\n",
      "---\n",
      "Текущая директория c:\\Program Files (x86)\\IDE\\Skillfactory\\PY_15_Принципы ООП и отладка кода\\helpers\n",
      "---\n",
      "Список папок ['__pycache__']\n",
      "---\n",
      "Список файлов ['client.py', 'data_frame.py', 'dumper.py', '__init__.py']\n",
      "---\n",
      "Все пути:\n",
      "Файл c:\\Program Files (x86)\\IDE\\Skillfactory\\PY_15_Принципы ООП и отладка кода\\helpers\\client.py\n",
      "Файл c:\\Program Files (x86)\\IDE\\Skillfactory\\PY_15_Принципы ООП и отладка кода\\helpers\\data_frame.py\n",
      "Файл c:\\Program Files (x86)\\IDE\\Skillfactory\\PY_15_Принципы ООП и отладка кода\\helpers\\dumper.py\n",
      "Файл c:\\Program Files (x86)\\IDE\\Skillfactory\\PY_15_Принципы ООП и отладка кода\\helpers\\__init__.py\n",
      "Папка c:\\Program Files (x86)\\IDE\\Skillfactory\\PY_15_Принципы ООП и отладка кода\\helpers\\__pycache__\n",
      "---\n",
      "Текущая директория c:\\Program Files (x86)\\IDE\\Skillfactory\\PY_15_Принципы ООП и отладка кода\\helpers\\__pycache__\n",
      "---\n",
      "Папок нет\n",
      "---\n",
      "Список файлов ['client.cpython-311.pyc', 'data_frame.cpython-311.pyc', 'dumper.cpython-311.pyc', '__init__.cpython-311.pyc']\n",
      "---\n",
      "Файл c:\\Program Files (x86)\\IDE\\Skillfactory\\PY_15_Принципы ООП и отладка кода\\helpers\\__pycache__\\client.cpython-311.pyc\n",
      "Файл c:\\Program Files (x86)\\IDE\\Skillfactory\\PY_15_Принципы ООП и отладка кода\\helpers\\__pycache__\\data_frame.cpython-311.pyc\n",
      "Файл c:\\Program Files (x86)\\IDE\\Skillfactory\\PY_15_Принципы ООП и отладка кода\\helpers\\__pycache__\\dumper.cpython-311.pyc\n",
      "Файл c:\\Program Files (x86)\\IDE\\Skillfactory\\PY_15_Принципы ООП и отладка кода\\helpers\\__pycache__\\__init__.cpython-311.pyc\n",
      "---\n",
      "Текущая директория c:\\Program Files (x86)\\IDE\\Skillfactory\\PY_15_Принципы ООП и отладка кода\\__pycache__\n",
      "---\n",
      "Папок нет\n",
      "---\n",
      "Список файлов ['dumper.cpython-311.pyc']\n",
      "---\n",
      "Файл c:\\Program Files (x86)\\IDE\\Skillfactory\\PY_15_Принципы ООП и отладка кода\\__pycache__\\dumper.cpython-311.pyc\n",
      "---\n"
     ]
    }
   ],
   "source": [
    "import os\n",
    "\n",
    "def walk_desc(path=None):\n",
    "    start_path = path if path is not None else os.getcwd()\n",
    "    \n",
    "    for root, dirs, files in os.walk(start_path):\n",
    "        print('Текущая директория', root)\n",
    "        print('---')\n",
    "        \n",
    "        if dirs:\n",
    "            print('Список папок', dirs)\n",
    "        else:\n",
    "            print('Папок нет')\n",
    "        print('---')\n",
    "        \n",
    "        if files:\n",
    "            print('Список файлов', files)\n",
    "        else:\n",
    "            print('Файлов нет')\n",
    "        print('---')\n",
    "        \n",
    "        if files and dirs:\n",
    "            print('Все пути:')\n",
    "        for f in files:\n",
    "            print('Файл', os.path.join(root, f))\n",
    "        for d in dirs:\n",
    "            print('Папка', os.path.join(root, d))\n",
    "        print('---')\n",
    "        \n",
    "walk_desc()"
   ]
  },
  {
   "cell_type": "markdown",
   "metadata": {},
   "source": [
    "#### Работа с файлами"
   ]
  },
  {
   "cell_type": "code",
   "execution_count": 29,
   "metadata": {},
   "outputs": [
    {
     "data": {
      "text/plain": [
       "21"
      ]
     },
     "execution_count": 29,
     "metadata": {},
     "output_type": "execute_result"
    }
   ],
   "source": [
    "f = open('test.txt', 'w', encoding='utf8')\n",
    "\n",
    "#Запишем в файл строку\n",
    "f.write('This is a test string\\n')\n",
    "f.write('This is a new string\\n')"
   ]
  },
  {
   "cell_type": "code",
   "execution_count": 30,
   "metadata": {},
   "outputs": [],
   "source": [
    "#Обязательно нужно закрыть файл иначе он будет заблокирован OC\n",
    "f.close()"
   ]
  },
  {
   "cell_type": "code",
   "execution_count": 31,
   "metadata": {},
   "outputs": [],
   "source": [
    "#Откроем файл для чтения в который только что записали две строки\n",
    "f = open('test.txt', 'r', encoding='utf8')"
   ]
  },
  {
   "cell_type": "code",
   "execution_count": 32,
   "metadata": {},
   "outputs": [
    {
     "name": "stdout",
     "output_type": "stream",
     "text": [
      "This is a \n"
     ]
    }
   ],
   "source": [
    "#После того как файл открыт для чтенияБ мы можем читать из него данные\n",
    "print(f.read(10))"
   ]
  },
  {
   "cell_type": "code",
   "execution_count": 33,
   "metadata": {},
   "outputs": [
    {
     "data": {
      "text/plain": [
       "'test string\\nThis is a new string\\n'"
      ]
     },
     "execution_count": 33,
     "metadata": {},
     "output_type": "execute_result"
    }
   ],
   "source": [
    "#Считали остаток файла\n",
    "f.read()"
   ]
  },
  {
   "cell_type": "code",
   "execution_count": 34,
   "metadata": {},
   "outputs": [],
   "source": [
    "#Обязательно закрываем файл\n",
    "f.close()"
   ]
  },
  {
   "cell_type": "markdown",
   "metadata": {},
   "source": [
    "#### Чтение и запись построчно"
   ]
  },
  {
   "cell_type": "code",
   "execution_count": 35,
   "metadata": {},
   "outputs": [],
   "source": [
    "#Открываем файл на дозапись\n",
    "f = open('test.txt', 'a', encoding='utf8')\n",
    "\n",
    "sequence = ['other string\\n', '123\\n', 'test test\\n']\n",
    "#Берет строки из sequence и записывает в файл (без переносов)\n",
    "f.writelines(sequence)\n",
    "\n",
    "f.close()"
   ]
  },
  {
   "cell_type": "code",
   "execution_count": 36,
   "metadata": {},
   "outputs": [
    {
     "name": "stdout",
     "output_type": "stream",
     "text": [
      "['This is a test string\\n', 'This is a new string\\n', 'other string\\n', '123\\n', 'test test\\n']\n"
     ]
    }
   ],
   "source": [
    "#Попробуем построчно считать файл \n",
    "f = open('test.txt', 'r', encoding='utf8')\n",
    "\n",
    "#Считывает все строки в список и возвращает список\n",
    "print(f.readlines())\n",
    "\n",
    "f.close()"
   ]
  },
  {
   "cell_type": "code",
   "execution_count": 37,
   "metadata": {},
   "outputs": [
    {
     "name": "stdout",
     "output_type": "stream",
     "text": [
      "This is a test string\n",
      "\n",
      "This\n",
      " is a new string\n",
      "\n"
     ]
    }
   ],
   "source": [
    "f = open('test.txt', 'r', encoding='utf8')\n",
    "\n",
    "print(f.readline())\n",
    "print(f.read(4))\n",
    "print(f.readline())\n",
    "\n",
    "f.close()"
   ]
  },
  {
   "cell_type": "markdown",
   "metadata": {},
   "source": [
    "#### Файл как итератор"
   ]
  },
  {
   "cell_type": "code",
   "execution_count": 38,
   "metadata": {},
   "outputs": [
    {
     "name": "stdout",
     "output_type": "stream",
     "text": [
      "This is a test string\n",
      "This is a new string\n",
      "other string\n",
      "123\n",
      "test test\n"
     ]
    }
   ],
   "source": [
    "#Можно перечислять строки в файле\n",
    "f = open('test.txt')\n",
    "for line in f:\n",
    "    print(line, end='')\n",
    "    \n",
    "f.close()"
   ]
  },
  {
   "cell_type": "markdown",
   "metadata": {},
   "source": [
    "#### Менеджер контекста with"
   ]
  },
  {
   "cell_type": "code",
   "execution_count": 39,
   "metadata": {},
   "outputs": [
    {
     "ename": "ValueError",
     "evalue": "read of closed file",
     "output_type": "error",
     "traceback": [
      "\u001b[1;31m---------------------------------------------------------------------------\u001b[0m",
      "\u001b[1;31mValueError\u001b[0m                                Traceback (most recent call last)",
      "Cell \u001b[1;32mIn[39], line 7\u001b[0m\n\u001b[0;32m      4\u001b[0m     a \u001b[38;5;241m=\u001b[39m f\u001b[38;5;241m.\u001b[39mread(\u001b[38;5;241m10\u001b[39m)\n\u001b[0;32m      5\u001b[0m     b \u001b[38;5;241m=\u001b[39m f\u001b[38;5;241m.\u001b[39mread(\u001b[38;5;241m23\u001b[39m)\n\u001b[1;32m----> 7\u001b[0m \u001b[43mf\u001b[49m\u001b[38;5;241;43m.\u001b[39;49m\u001b[43mread\u001b[49m\u001b[43m(\u001b[49m\u001b[38;5;241;43m3\u001b[39;49m\u001b[43m)\u001b[49m\n",
      "\u001b[1;31mValueError\u001b[0m: read of closed file"
     ]
    }
   ],
   "source": [
    "#В блоке менеджера контекста открытый файл \"жив\" и с ним можно работать,\n",
    "#при выходе из блока - файл закрывается.\n",
    "with open('test.txt', 'rb') as f:\n",
    "    a = f.read(10)\n",
    "    b = f.read(23)\n",
    "\n",
    "f.read(3)"
   ]
  },
  {
   "cell_type": "markdown",
   "metadata": {},
   "source": [
    "### Задание 7.4"
   ]
  },
  {
   "cell_type": "markdown",
   "metadata": {},
   "source": [
    "Мой вариант"
   ]
  },
  {
   "cell_type": "code",
   "execution_count": 251,
   "metadata": {},
   "outputs": [],
   "source": [
    "x = open('input.txt', 'w', encoding='utf8')\n",
    "\n",
    "sequence = ['Hello World!\\n', 'Hello Mama!\\n', 'Hello Sveta\\n', 'Hello Mila\\n']\n",
    "x.writelines(sequence)\n",
    "\n",
    "x.close()"
   ]
  },
  {
   "cell_type": "code",
   "execution_count": 253,
   "metadata": {},
   "outputs": [],
   "source": [
    "x = open('input.txt')\n",
    "y = open('output.txt', 'w', encoding='utf8')\n",
    "\n",
    "for line in x:\n",
    "    y.write(line)\n",
    "\n",
    "\n",
    "x.close()\n",
    "y.close()    \n"
   ]
  },
  {
   "cell_type": "code",
   "execution_count": 256,
   "metadata": {},
   "outputs": [
    {
     "name": "stdout",
     "output_type": "stream",
     "text": [
      "Hello World!\n",
      "\n",
      "Hello Mama!\n",
      "\n"
     ]
    }
   ],
   "source": [
    "y = open('output.txt', 'r', encoding='utf8')\n",
    "print(y.readline())\n",
    "print(y.readline())"
   ]
  },
  {
   "cell_type": "markdown",
   "metadata": {},
   "source": [
    "Решение на сайте"
   ]
  },
  {
   "cell_type": "code",
   "execution_count": 257,
   "metadata": {},
   "outputs": [],
   "source": [
    "with open('input.txt', 'r') as input_file:\n",
    "    with open('output.txt', 'w') as output_file:\n",
    "        for line in input_file:\n",
    "            output_file.write(line)"
   ]
  },
  {
   "cell_type": "markdown",
   "metadata": {},
   "source": [
    "### Задание 7.5"
   ]
  },
  {
   "cell_type": "markdown",
   "metadata": {},
   "source": [
    "Мой вариант"
   ]
  },
  {
   "cell_type": "code",
   "execution_count": 263,
   "metadata": {},
   "outputs": [
    {
     "name": "stdout",
     "output_type": "stream",
     "text": [
      "49.0\n",
      "\n"
     ]
    }
   ],
   "source": [
    "with open('input.txt', 'w') as input_file:\n",
    "    sequence = ['1\\n', '12\\n', '7\\n', '32\\n', '6\\n', '4\\n', '22\\n', '48\\n']\n",
    "    input_file.writelines(sequence)\n",
    "\n",
    "with open('input.txt') as x:\n",
    "    min_ = max_ = float(x.readline())\n",
    "    for line in x:\n",
    "        num = float(line)\n",
    "        if num > max_:\n",
    "            max_ = num\n",
    "        elif num < min_:\n",
    "            min_ = num\n",
    "    sum_ = min_ + max_\n",
    "    \n",
    "with open('output.txt', 'w') as y:\n",
    "    y.write(str(sum_))\n",
    "    y.write('\\n')\n",
    "    \n",
    "with open (output, 'r') as f:\n",
    "    print(f.read())\n",
    " "
   ]
  },
  {
   "cell_type": "markdown",
   "metadata": {},
   "source": [
    "Решение"
   ]
  },
  {
   "cell_type": "code",
   "execution_count": 261,
   "metadata": {},
   "outputs": [
    {
     "name": "stdout",
     "output_type": "stream",
     "text": [
      "49.0\n",
      "\n"
     ]
    }
   ],
   "source": [
    "with open('input.txt', 'w') as input_file:\n",
    "    sequence = ['1\\n', '12\\n', '7\\n', '32\\n', '6\\n', '4\\n', '22\\n', '48\\n']\n",
    "    input_file.writelines(sequence)\n",
    "    \n",
    "output = 'output.txt'\n",
    "filename = 'input.txt'\n",
    "\n",
    "with open(filename) as f:\n",
    "    min_ = max_ = float(f.readline())  # считали первое число\n",
    "    for line in f:\n",
    "        num =  float(line)\n",
    "        if num > max_:\n",
    "            max_ = num\n",
    "        elif num < min_:\n",
    "            min_ = num\n",
    "\n",
    "    sum_ = min_ + max_\n",
    "\n",
    "with open(output, 'w') as f:\n",
    "    f.write(str(sum_))\n",
    "    f.write('\\n')\n",
    "    \n",
    "with open (output, 'r') as f:\n",
    "    print(f.read())"
   ]
  },
  {
   "cell_type": "markdown",
   "metadata": {},
   "source": [
    "### Задание 7.6"
   ]
  },
  {
   "cell_type": "markdown",
   "metadata": {},
   "source": [
    "Мое решение вместе с решением на сайте"
   ]
  },
  {
   "cell_type": "code",
   "execution_count": 264,
   "metadata": {},
   "outputs": [
    {
     "name": "stdout",
     "output_type": "stream",
     "text": [
      "4\n"
     ]
    }
   ],
   "source": [
    "with open('students.txt', 'w') as students:\n",
    "    sequence = ['Иванов О. 4\\n', 'Петров И. 3\\n', 'Дмитриев Н. 2\\n', 'Смирнова О. 4\\n', 'Креченский В. 5\\n',\n",
    "                'Котов Д. 2\\n', 'Бирюкова Н. 1\\n', 'Данилов П. 3\\n', 'Аранских В. 5\\n', 'Лемонов Ю. 2\\n']\n",
    "    students.writelines(sequence)\n",
    "    \n",
    "with open('students.txt') as f:\n",
    "    count = 0\n",
    "    for line in f:\n",
    "        points = int(line.split()[-1])\n",
    "        if points < 3:\n",
    "             count += 1\n",
    "    print(count)"
   ]
  },
  {
   "cell_type": "markdown",
   "metadata": {},
   "source": [
    "### Задание 7.7"
   ]
  },
  {
   "cell_type": "code",
   "execution_count": 271,
   "metadata": {},
   "outputs": [
    {
     "name": "stdout",
     "output_type": "stream",
     "text": [
      "['Лемонов Ю. 2\\n', 'Аранских В. 5\\n', 'Данилов П. 3\\n', 'Бирюкова Н. 1\\n', 'Котов Д. 2\\n', 'Креченский В. 5\\n', 'Смирнова О. 4\\n', 'Дмитриев Н. 2\\n', 'Петров И. 3\\n', 'Иванов О. 4\\n']\n"
     ]
    }
   ],
   "source": [
    "with open('students.txt') as students:\n",
    "    with open('rev_students.txt', 'w') as rev_students:\n",
    "        for line in reversed(students.readlines()):\n",
    "            rev_students.write(line)\n",
    "    with open('rev_students.txt') as rev_students:\n",
    "        print(rev_students.readlines())"
   ]
  },
  {
   "cell_type": "markdown",
   "metadata": {},
   "source": [
    "### Исключения"
   ]
  },
  {
   "cell_type": "code",
   "execution_count": 272,
   "metadata": {},
   "outputs": [
    {
     "name": "stdout",
     "output_type": "stream",
     "text": [
      "Перед исключением\n"
     ]
    },
    {
     "ename": "ZeroDivisionError",
     "evalue": "division by zero",
     "output_type": "error",
     "traceback": [
      "\u001b[1;31m---------------------------------------------------------------------------\u001b[0m",
      "\u001b[1;31mZeroDivisionError\u001b[0m                         Traceback (most recent call last)",
      "Cell \u001b[1;32mIn[272], line 2\u001b[0m\n\u001b[0;32m      1\u001b[0m \u001b[38;5;28mprint\u001b[39m(\u001b[38;5;124m'\u001b[39m\u001b[38;5;124mПеред исключением\u001b[39m\u001b[38;5;124m'\u001b[39m)\n\u001b[1;32m----> 2\u001b[0m c \u001b[38;5;241m=\u001b[39m \u001b[38;5;241;43m1\u001b[39;49m\u001b[38;5;241;43m/\u001b[39;49m\u001b[38;5;241;43m0\u001b[39;49m \u001b[38;5;66;03m# Здесь что-то не так\u001b[39;00m\n\u001b[0;32m      3\u001b[0m \u001b[38;5;28mprint\u001b[39m(\u001b[38;5;124m'\u001b[39m\u001b[38;5;124mПосле исключения\u001b[39m\u001b[38;5;124m'\u001b[39m)\n",
      "\u001b[1;31mZeroDivisionError\u001b[0m: division by zero"
     ]
    }
   ],
   "source": [
    "print('Перед исключением')\n",
    "c = 1/0 # Здесь что-то не так\n",
    "print('После исключения')"
   ]
  },
  {
   "cell_type": "code",
   "execution_count": 41,
   "metadata": {},
   "outputs": [
    {
     "name": "stdout",
     "output_type": "stream",
     "text": [
      "Перед исключением\n"
     ]
    },
    {
     "ename": "ZeroDivisionError",
     "evalue": "division by zero",
     "output_type": "error",
     "traceback": [
      "\u001b[1;31m---------------------------------------------------------------------------\u001b[0m",
      "\u001b[1;31mZeroDivisionError\u001b[0m                         Traceback (most recent call last)",
      "Cell \u001b[1;32mIn[41], line 5\u001b[0m\n\u001b[0;32m      3\u001b[0m a \u001b[38;5;241m=\u001b[39m \u001b[38;5;28mint\u001b[39m(\u001b[38;5;28minput\u001b[39m(\u001b[38;5;124m'\u001b[39m\u001b[38;5;124ma: \u001b[39m\u001b[38;5;124m'\u001b[39m))\n\u001b[0;32m      4\u001b[0m b \u001b[38;5;241m=\u001b[39m \u001b[38;5;28mint\u001b[39m(\u001b[38;5;28minput\u001b[39m(\u001b[38;5;124m'\u001b[39m\u001b[38;5;124mb: \u001b[39m\u001b[38;5;124m'\u001b[39m))\n\u001b[1;32m----> 5\u001b[0m c \u001b[38;5;241m=\u001b[39m \u001b[43ma\u001b[49m\u001b[38;5;241;43m/\u001b[39;49m\u001b[43mb\u001b[49m \u001b[38;5;66;03m#Здесь может возникнуть исключение деления на ноль\u001b[39;00m\n\u001b[0;32m      6\u001b[0m \u001b[38;5;28mprint\u001b[39m(c) \u001b[38;5;66;03m#Печатаем если все хорошо\u001b[39;00m\n\u001b[0;32m      7\u001b[0m \u001b[38;5;28mprint\u001b[39m(\u001b[38;5;124m'\u001b[39m\u001b[38;5;124mПосле исключения\u001b[39m\u001b[38;5;124m'\u001b[39m)\n",
      "\u001b[1;31mZeroDivisionError\u001b[0m: division by zero"
     ]
    }
   ],
   "source": [
    "print('Перед исключением')\n",
    "#Пользователь сам вводит числа для деления\n",
    "a = int(input('a: '))\n",
    "b = int(input('b: '))\n",
    "c = a/b #Здесь может возникнуть исключение деления на ноль\n",
    "print(c) #Печатаем если все хорошо\n",
    "print('После исключения')"
   ]
  },
  {
   "cell_type": "code",
   "execution_count": 43,
   "metadata": {},
   "outputs": [
    {
     "name": "stdout",
     "output_type": "stream",
     "text": [
      "Перед исключением\n",
      "12.0\n",
      "После После Исключения\n"
     ]
    }
   ],
   "source": [
    "#Отлов ошибок\n",
    "try: #Добавляем конструкцию try-except\n",
    "    print('Перед исключением')\n",
    "#Пользователь сам вводит числа для деления\n",
    "    a = int(input('a: '))\n",
    "    b = int(input('b: '))\n",
    "    c = a/b #Здесь может возникнуть исключение деления на ноль\n",
    "    print(c)\n",
    "except ZeroDivisionError as e:#Добавляем тип конкретной ошибки\n",
    "    print(e)\n",
    "    print('После исключения')\n",
    "    \n",
    "print('После После Исключения')"
   ]
  },
  {
   "cell_type": "code",
   "execution_count": 45,
   "metadata": {},
   "outputs": [
    {
     "name": "stdout",
     "output_type": "stream",
     "text": [
      "Перед исключением\n",
      "После исключения\n",
      "Finally на месте\n",
      "После После исключения\n"
     ]
    }
   ],
   "source": [
    "#Рассмотрим применение блоков else и finally\n",
    "try: \n",
    "    print('Перед исключением')\n",
    "\n",
    "    a = int(input('a: '))\n",
    "    b = int(input('b: '))\n",
    "    c = a/b #Здесь может возникнуть исключение деления на ноль\n",
    "    print(c)\n",
    "except ZeroDivisionError as e:\n",
    "    print('После исключения')\n",
    "else: #Код в блоке else выполняется только в том случае, если код\n",
    "    #в блоке try выполнился успешно (нет исключения)\n",
    "    print('Все ништяк')\n",
    "finally:#Код в блоке finally выполнится в любом случае, при выходе из\n",
    "    #try-except\n",
    "    print('Finally на месте')\n",
    "    \n",
    "print('После После исключения')\n",
    "    "
   ]
  },
  {
   "cell_type": "code",
   "execution_count": 49,
   "metadata": {},
   "outputs": [
    {
     "name": "stdout",
     "output_type": "stream",
     "text": [
      "Тебе 100 лет!\n"
     ]
    }
   ],
   "source": [
    "#Конструкция raise\n",
    "age = int(input('Сколько тебе лет?'))\n",
    "\n",
    "if age>100 or age<=0:\n",
    "    raise ValueError('Тебе не может быть столько лет')\n",
    "\n",
    "print(f'Тебе {age} лет!')#Возраст выводится только если пользователь \n",
    "#ввел правильный возраст "
   ]
  },
  {
   "cell_type": "code",
   "execution_count": 50,
   "metadata": {},
   "outputs": [
    {
     "name": "stdout",
     "output_type": "stream",
     "text": [
      "Неправильный возраст!\n"
     ]
    }
   ],
   "source": [
    "try:#Отлавливание вызванных ошибок\n",
    "    age = int(input('Сколько тебе лет?'))\n",
    "\n",
    "    if age>100 or age<=0:\n",
    "        raise ValueError('Тебе не может быть столько лет')\n",
    "\n",
    "    print(f'Тебе {age} лет!')\n",
    "except ValueError:\n",
    "    print('Неправильный возраст!')"
   ]
  },
  {
   "cell_type": "markdown",
   "metadata": {},
   "source": [
    "### Задание 8.7"
   ]
  },
  {
   "cell_type": "code",
   "execution_count": 54,
   "metadata": {},
   "outputs": [
    {
     "name": "stdout",
     "output_type": "stream",
     "text": [
      "Вы ввели 12\n",
      "Выход из программы\n"
     ]
    }
   ],
   "source": [
    "try:\n",
    "    num = int(input('Введите число: '))\n",
    "except ValueError:\n",
    "    print('Вы ввели неправильное число')\n",
    "else:\n",
    "    print(f'Вы ввели {num}')\n",
    "finally:\n",
    "    print('Выход из программы')"
   ]
  },
  {
   "cell_type": "code",
   "execution_count": null,
   "metadata": {},
   "outputs": [],
   "source": []
  }
 ],
 "metadata": {
  "kernelspec": {
   "display_name": "Python 3",
   "language": "python",
   "name": "python3"
  },
  "language_info": {
   "codemirror_mode": {
    "name": "ipython",
    "version": 3
   },
   "file_extension": ".py",
   "mimetype": "text/x-python",
   "name": "python",
   "nbconvert_exporter": "python",
   "pygments_lexer": "ipython3",
   "version": "3.11.9"
  }
 },
 "nbformat": 4,
 "nbformat_minor": 2
}
