{
 "cells": [
  {
   "cell_type": "code",
   "execution_count": 184,
   "metadata": {},
   "outputs": [],
   "source": [
    "import pandas as pd\n",
    "import numpy as np\n",
    "import matplotlib.pyplot as plt\n",
    "import seaborn as sns\n",
    "import plotly\n",
    "import plotly.express as px"
   ]
  },
  {
   "cell_type": "markdown",
   "metadata": {},
   "source": [
    "### Объекты и классы"
   ]
  },
  {
   "cell_type": "markdown",
   "metadata": {},
   "source": [
    "#### Объекты"
   ]
  },
  {
   "cell_type": "code",
   "execution_count": 185,
   "metadata": {},
   "outputs": [
    {
     "name": "stdout",
     "output_type": "stream",
     "text": [
      "False\n",
      "(5, 2)\n"
     ]
    }
   ],
   "source": [
    "number = 2.5\n",
    "#Вызовем метод is_integer. Он скажет нам, является ли number целым числом\n",
    "print(number.is_integer())\n",
    "\n",
    "#Представим number как обыкновенную дробь\n",
    "print(number.as_integer_ratio())"
   ]
  },
  {
   "cell_type": "code",
   "execution_count": 186,
   "metadata": {},
   "outputs": [
    {
     "name": "stdout",
     "output_type": "stream",
     "text": [
      "2\n",
      "['Alexandra', 'Stanislav', 'Vasiliy', 'Vasiliy']\n"
     ]
    }
   ],
   "source": [
    "people = ['Vasiliy', 'Stanislav', 'Alexandra', 'Vasiliy']\n",
    "#Посчитаем число василиев с помощью метода count\n",
    "print(people.count('Vasiliy'))\n",
    "#Теперь отсортируем\n",
    "people.sort()\n",
    "print(people)"
   ]
  },
  {
   "cell_type": "markdown",
   "metadata": {},
   "source": [
    "#### Классы"
   ]
  },
  {
   "cell_type": "code",
   "execution_count": 187,
   "metadata": {},
   "outputs": [
    {
     "name": "stdout",
     "output_type": "stream",
     "text": [
      "<class 'float'>\n",
      "<class 'list'>\n"
     ]
    }
   ],
   "source": [
    "number = 2.5\n",
    "print(number.__class__)\n",
    "\n",
    "people = ['Vasiliy', 'Stanislav', 'Alexandra', 'Vasiliy']\n",
    "print(people.__class__)"
   ]
  },
  {
   "cell_type": "code",
   "execution_count": 188,
   "metadata": {},
   "outputs": [],
   "source": [
    "class SalesReport():\n",
    "    pass\n",
    "\n",
    "def build_report():\n",
    "    pass\n",
    "\n",
    "class SkillfactoryStudent():\n",
    "    pass"
   ]
  },
  {
   "cell_type": "markdown",
   "metadata": {},
   "source": [
    "#### Объекты из классов"
   ]
  },
  {
   "cell_type": "code",
   "execution_count": 189,
   "metadata": {},
   "outputs": [
    {
     "name": "stdout",
     "output_type": "stream",
     "text": [
      "False\n"
     ]
    }
   ],
   "source": [
    "class SalesReport():\n",
    "    pass\n",
    "#Создаем объект по классу\n",
    "report = SalesReport()\n",
    "\n",
    "#Можно создать множество объектов по одному классу\n",
    "report_2 = SalesReport()\n",
    "\n",
    "#Это будут разные объекты\n",
    "print(report == report_2)"
   ]
  },
  {
   "cell_type": "markdown",
   "metadata": {},
   "source": [
    "### Атрибуты и методы"
   ]
  },
  {
   "cell_type": "markdown",
   "metadata": {},
   "source": [
    "#### Атрибуты и методы"
   ]
  },
  {
   "cell_type": "code",
   "execution_count": 190,
   "metadata": {},
   "outputs": [
    {
     "name": "stdout",
     "output_type": "stream",
     "text": [
      "Total amount: 10\n",
      "Total amount: 20\n"
     ]
    }
   ],
   "source": [
    "# Создаем пустой класс\n",
    "class SalesReport():\n",
    "    pass\n",
    "\n",
    "#Создаем первый отчет по продажам\n",
    "reprot = SalesReport()\n",
    "\n",
    "#Добавим новый атрибут объекту\n",
    "#Для этого через точку напишем имя атрибута и дальше как с обычной переменной\n",
    "report.amount = 10\n",
    "\n",
    "#Тоже самое делаем для второго отчета\n",
    "report_2 = SalesReport()\n",
    "report_2.amount = 20\n",
    "\n",
    "#Создадим вспомогательную функцию, она будет печатать общую сумму из отчета\n",
    "def print_report(report):\n",
    "    print('Total amount:', report.amount)\n",
    "    \n",
    "print_report(report)\n",
    "print_report(report_2)"
   ]
  },
  {
   "cell_type": "code",
   "execution_count": 191,
   "metadata": {},
   "outputs": [
    {
     "name": "stdout",
     "output_type": "stream",
     "text": [
      "Total amount: 10\n",
      "Total amount: 20\n"
     ]
    }
   ],
   "source": [
    "class SalesReport():\n",
    "    #Наш новый метод внутри класса\n",
    "    #Мы определяем его похожим образом с обычными функциями,\n",
    "    #но только помещаем внутрь класса и первым аргументом передаем self\n",
    "    def print_report(self):\n",
    "        print('Total amount:', self.amount)\n",
    "    \n",
    "#Дальше применим report так же, как и в примере выше\n",
    "report = SalesReport()\n",
    "report.amount = 10\n",
    "\n",
    "report_2 = SalesReport()\n",
    "report_2.amount = 20\n",
    "\n",
    "#Используя новые методы\n",
    "report.print_report()\n",
    "report_2.print_report()"
   ]
  },
  {
   "cell_type": "code",
   "execution_count": 192,
   "metadata": {},
   "outputs": [
    {
     "name": "stdout",
     "output_type": "stream",
     "text": [
      "Total sales: 40000\n",
      "[10000, 30000]\n"
     ]
    }
   ],
   "source": [
    "class SalesReport():\n",
    "    #Позволим добавлять много разных сделок\n",
    "    def add_deal(self, amount):\n",
    "        #На первой сделке создадим список для хранения всех сделок\n",
    "        \n",
    "        if not hasattr(self, 'deals'):\n",
    "            self.deals = []\n",
    "        #Добавим текущую сделку\n",
    "        self.deals.append(amount)\n",
    "    \n",
    "    #Посчитаем сумму всех сделок\n",
    "    def total_amount(self):\n",
    "        return sum(self.deals)\n",
    "    \n",
    "    def print_report(self):\n",
    "        print('Total sales:', self.total_amount())\n",
    "        \n",
    "#Используем наши новые возможности\n",
    "#Добавим две новые сделки и распечатаем отчет\n",
    "report = SalesReport()\n",
    "report.add_deal(10_000)\n",
    "report.add_deal(30_000)\n",
    "report.print_report()\n",
    "print(report.deals)"
   ]
  },
  {
   "cell_type": "markdown",
   "metadata": {},
   "source": [
    "#### Метод _INIT_"
   ]
  },
  {
   "cell_type": "code",
   "execution_count": 193,
   "metadata": {},
   "outputs": [
    {
     "name": "stdout",
     "output_type": "stream",
     "text": [
      "[]\n"
     ]
    },
    {
     "data": {
      "text/plain": [
       "0"
      ]
     },
     "execution_count": 193,
     "metadata": {},
     "output_type": "execute_result"
    }
   ],
   "source": [
    "# Метод инициализации _init_\n",
    "class SalesReport():\n",
    "    def __init__(self):\n",
    "        self.deals = []\n",
    "    \n",
    "    def add_deal(self, amount):\n",
    "        self.deals.append(amount)\n",
    "    \n",
    "    def total_amount(self):\n",
    "        return sum(self.deals)\n",
    "    \n",
    "    def print_report(self):\n",
    "        print('Total sales:', self.total_amount())\n",
    "    \n",
    "report = SalesReport()\n",
    "print(report.deals)\n",
    "report.total_amount()    "
   ]
  },
  {
   "cell_type": "code",
   "execution_count": 194,
   "metadata": {},
   "outputs": [
    {
     "name": "stdout",
     "output_type": "stream",
     "text": [
      "Manager: Ivan Taranov\n",
      "Total sales: 40000\n"
     ]
    }
   ],
   "source": [
    "class SalesReport():\n",
    "    def __init__(self, manager_name):\n",
    "        self.deals = []\n",
    "        #Будем принимать в __init__ еще и имя менеджера\n",
    "        self.manager_name = manager_name\n",
    "    \n",
    "    def add_deal(self, amount):\n",
    "        self.deals.append(amount)\n",
    "    \n",
    "    def total_amount(self):\n",
    "        return sum(self.deals)\n",
    "    \n",
    "    def print_report(self):\n",
    "        #И добаавлять это имя в отчет\n",
    "        print('Manager:', self.manager_name)\n",
    "        print('Total sales:', self.total_amount())\n",
    "    \n",
    "report = SalesReport('Ivan Taranov')\n",
    "report.add_deal(10_000)\n",
    "report.add_deal(30_000)\n",
    "report.print_report()"
   ]
  },
  {
   "cell_type": "code",
   "execution_count": 195,
   "metadata": {},
   "outputs": [
    {
     "name": "stdout",
     "output_type": "stream",
     "text": [
      "Employee: Ivan Semenov\n",
      "Total sales: 390000\n",
      "Average sales: 130000.0\n",
      "Companies: ['SkyEng', 'PepsiCo']\n"
     ]
    }
   ],
   "source": [
    "class SalesReport():\n",
    "    def __init__(self, employee_name):\n",
    "        self.deals = []\n",
    "        self.employee_name = employee_name\n",
    "        \n",
    "    def add_deal(self, company, amount):\n",
    "        self.deals.append({'company':company, 'amount':amount})\n",
    "    \n",
    "    def total_amount(self):\n",
    "        return sum([deal['amount'] for deal in self.deals])\n",
    "    \n",
    "    def average_deal(self):\n",
    "        return self.total_amount()/len(self.deals)\n",
    "    \n",
    "    def all_companies(self):\n",
    "        return list(set([deal['company'] for deal in self.deals]))\n",
    "    \n",
    "    def print_report(self):\n",
    "        print('Employee:', self.employee_name)\n",
    "        print('Total sales:', self.total_amount())\n",
    "        print('Average sales:', self.average_deal())\n",
    "        print('Companies:', self.all_companies())\n",
    "        \n",
    "report = SalesReport('Ivan Semenov')\n",
    "\n",
    "report.add_deal('PepsiCo', 120_000)\n",
    "report.add_deal('SkyEng', 250_000)\n",
    "report.add_deal('PepsiCo', 20_000)\n",
    "\n",
    "report.print_report()"
   ]
  },
  {
   "cell_type": "markdown",
   "metadata": {},
   "source": [
    "### Практические примеры"
   ]
  },
  {
   "cell_type": "markdown",
   "metadata": {},
   "source": [
    "#### Отслеживание состояния"
   ]
  },
  {
   "cell_type": "code",
   "execution_count": 196,
   "metadata": {},
   "outputs": [
    {
     "name": "stdout",
     "output_type": "stream",
     "text": [
      "max@gmail.com\n",
      "lova@yandex.ru\n",
      "german@sberbank.ru\n",
      "Order price for max@gmail.com is 100\n",
      "Order price for lova@yandex.ru is 180.0\n",
      "Order price for german@sberbank.ru is 500\n",
      "Order price for german@sberbank.ru is 450.0\n"
     ]
    }
   ],
   "source": [
    "class Client():\n",
    "    #Базовые данные\n",
    "    def __init__(self, email, order_num, registration_year):\n",
    "        self.email = email\n",
    "        self.order_num = order_num\n",
    "        self.registration_year = registration_year\n",
    "        self.discount = 0\n",
    "        print(self.email)\n",
    "    \n",
    "    #Оформление заказа\n",
    "    def make_order(self, price):\n",
    "        self.update_discount()\n",
    "        self.order_num += 1\n",
    "        #Здесь было бы оформление заказа, но мы просто выведем его цену\n",
    "        discounter_price = price * (1 - self.discount)\n",
    "        print(f'Order price for {self.email} is {discounter_price}')\n",
    "        \n",
    "    #Назначение скидки\n",
    "    def update_discount(self):\n",
    "        if self.registration_year < 2018 and self.order_num >= 5:\n",
    "            self.discount = 0.1\n",
    "            \n",
    "#Применение\n",
    "\n",
    "#Создаем подобие базы\n",
    "client_db = [\n",
    "    Client('max@gmail.com', 2, 2019),\n",
    "    Client('lova@yandex.ru', 10, 2015),\n",
    "    Client('german@sberbank.ru', 4, 2017)\n",
    "]\n",
    "\n",
    "#Сгенерируем заказы\n",
    "client_db[0].make_order(100)\n",
    "client_db[1].make_order(200)\n",
    "client_db[2].make_order(500)\n",
    "client_db[2].make_order(500)\n",
    "        "
   ]
  },
  {
   "cell_type": "markdown",
   "metadata": {},
   "source": [
    "### Задание 5.1"
   ]
  },
  {
   "cell_type": "code",
   "execution_count": 197,
   "metadata": {},
   "outputs": [
    {
     "name": "stdout",
     "output_type": "stream",
     "text": [
      "False\n",
      "True\n",
      "19700\n"
     ]
    }
   ],
   "source": [
    "class User():\n",
    "    def __init__(self, email, password, balance):\n",
    "        self.email = email\n",
    "        self.password = password\n",
    "        self.balance = balance\n",
    "        \n",
    "    def login(self, email, password):\n",
    "        if self.email == email and self.password == password:\n",
    "            return True\n",
    "        else:\n",
    "            return False\n",
    "       \n",
    "    def update_balance(self, balance):\n",
    "        self.balance += balance\n",
    "    \n",
    "user = User(\"gosha@roskino.org\", \"qwerty\", 20_000)\n",
    "\n",
    "print(user.login(\"gosha@roskino.org\", \"qwerty123\"))\n",
    "# False\n",
    "print(user.login(\"gosha@roskino.org\", \"qwerty\"))\n",
    "# True\n",
    "user.update_balance(200)\n",
    "user.update_balance(-500)\n",
    "print(user.balance)\n",
    "# 19700\n"
   ]
  },
  {
   "cell_type": "markdown",
   "metadata": {},
   "source": [
    "#### Комбинация операций"
   ]
  },
  {
   "cell_type": "code",
   "execution_count": 198,
   "metadata": {},
   "outputs": [
    {
     "name": "stdout",
     "output_type": "stream",
     "text": [
      "[1.0, 17.0, 4.0, 0.0, 8.0]\n",
      "6.89\n",
      "4.0\n"
     ]
    }
   ],
   "source": [
    "import statistics\n",
    "\n",
    "class DataFrame():\n",
    "    def __init__(self, column, fill_value=0):\n",
    "        #Инициализируем атрибуты\n",
    "        self.column = column\n",
    "        self.fill_value = fill_value\n",
    "        #Заполним пропуски\n",
    "        self.fill_missed()\n",
    "        #Конвертируем все элементы в числа\n",
    "        self.to_float()\n",
    "        \n",
    "    def fill_missed(self):\n",
    "        for i, value in enumerate(self.column):\n",
    "            if value is None or value == '':\n",
    "                self.column[i] = self.fill_value\n",
    "                \n",
    "    def to_float(self):\n",
    "        self.column = [float(value) for value in self.column]\n",
    "        \n",
    "    def median(self):\n",
    "        return round(statistics.median(self.column), 2)\n",
    "    \n",
    "    def mean(self):\n",
    "        return round(statistics.mean(self.column), 2)\n",
    "    \n",
    "    def deviation(self):\n",
    "        return round(statistics.stdev(self.column), 2)\n",
    "    \n",
    "    #Воспользуемся классом\n",
    "df = DataFrame(['1', 17, 4, None, 8])\n",
    "    \n",
    "print(df.column)\n",
    "\n",
    "print(df.deviation())\n",
    "\n",
    "print(df.median())"
   ]
  },
  {
   "cell_type": "markdown",
   "metadata": {},
   "source": [
    "### Задание 5.2"
   ]
  },
  {
   "cell_type": "code",
   "execution_count": 199,
   "metadata": {},
   "outputs": [
    {
     "name": "stdout",
     "output_type": "stream",
     "text": [
      "[4, 4, 3, 0, 1, 1, 2, 0, 4]\n",
      "14\n",
      "5\n"
     ]
    }
   ],
   "source": [
    "class IntDataFrame:\n",
    "    def __init__(self, value):\n",
    "        self.value = value\n",
    "        self.values = []\n",
    "    \n",
    "    def column(self):\n",
    "        for i in self.value:\n",
    "            self.values.append(int(i))\n",
    "        return self.values\n",
    "    \n",
    "    def count(self):\n",
    "        n=0\n",
    "        for i in self.column():\n",
    "            if i !=0:\n",
    "                n +=1\n",
    "        return n\n",
    "    \n",
    "    def unique(self):\n",
    "        return len(set(self.column()))\n",
    "                \n",
    "df = IntDataFrame([4.7, 4, 3, 0, 1, 1.6, 2.4, 0.3, 4])\n",
    "\n",
    "print(df.column())\n",
    "\n",
    "print(df.count())\n",
    "\n",
    "print(df.unique())\n"
   ]
  },
  {
   "cell_type": "markdown",
   "metadata": {},
   "source": [
    "#### Класс обертка"
   ]
  },
  {
   "cell_type": "code",
   "execution_count": 212,
   "metadata": {},
   "outputs": [
    {
     "name": "stdout",
     "output_type": "stream",
     "text": [
      "{'perfomance': [10, 20, 10], 'clients': {'Romashka': 10, 'Vector': 34}}\n"
     ]
    }
   ],
   "source": [
    "import pickle\n",
    "from datetime import datetime\n",
    "from os import path\n",
    "\n",
    "class Dumper():\n",
    "    def __init__(self, archive_dir='archive/'):\n",
    "        self.archive_dir = archive_dir\n",
    "        \n",
    "    def dump(self, data):\n",
    "        #Библиотека pickle позволяет доставать и класть объекты в файл\n",
    "        with open(self.get_file_name(), 'wb') as file:\n",
    "            pickle.dump(data, file)\n",
    "            \n",
    "    def load_for_day(self, day):\n",
    "        file_name = path.join(self.archive_dir, day + '.pkl')\n",
    "        with open(file_name, 'rb') as file:\n",
    "            sets = pickle.load(file)\n",
    "        return sets\n",
    "    \n",
    "    #Возвращает корректное имя для файла\n",
    "    def get_file_name(self):\n",
    "        today = datetime.now().strftime('%y-%m-%d')\n",
    "        return path.join(self.archive_dir, today + '.pkl')\n",
    "    \n",
    "#Пример использования\n",
    "data = {\n",
    "    'perfomance': [10, 20, 10],\n",
    "    'clients': {'Romashka':10, 'Vector': 34}\n",
    "}\n",
    "\n",
    "dumper = Dumper()\n",
    "\n",
    "#Сохраним данные\n",
    "dumper.dump(data)\n",
    "\n",
    "#Восстановим для сегодняшней даты\n",
    "file_name = datetime.now().strftime('%y-%m-%d')\n",
    "restoned_data = dumper.load_for_day(file_name)\n",
    "print(restoned_data)\n",
    "        "
   ]
  },
  {
   "cell_type": "markdown",
   "metadata": {},
   "source": [
    "### Задание 5.3"
   ]
  },
  {
   "cell_type": "code",
   "execution_count": 201,
   "metadata": {},
   "outputs": [],
   "source": [
    "class OwnLogger():\n",
    "    def __init__(self):\n",
    "        self.logs = {'info': None, 'warning': None, 'error': None, 'all': None}\n",
    "    \n",
    "    def log(self, message, level):\n",
    "        self.logs[level] = message\n",
    "        self.logs['all'] = message\n",
    "    \n",
    "    def show_last(self, level='all'):\n",
    "        return self.logs[level]\n",
    "        \n",
    "        \n",
    "logger = OwnLogger()\n",
    "logger.log(\"System started\", \"info\")\n",
    "logger.show_last(\"error\")\n",
    "# None\n",
    "# Некоторые интерпретаторы Python могут не выводить None, тогда в этой проверке у вас будет пустая строка\n",
    "\n",
    "\n",
    "\n",
    "# Connection lost\n",
    "#logger.show_last(\"info\")\n",
    "# System started\n"
   ]
  },
  {
   "cell_type": "markdown",
   "metadata": {},
   "source": [
    "#### Импорт и организация кода"
   ]
  },
  {
   "cell_type": "code",
   "execution_count": 216,
   "metadata": {},
   "outputs": [],
   "source": [
    "from dumper import Dumper"
   ]
  },
  {
   "cell_type": "code",
   "execution_count": 220,
   "metadata": {},
   "outputs": [
    {
     "ename": "ImportError",
     "evalue": "cannot import name 'Dumper' from 'helpers.dumper' (c:\\Program Files (x86)\\IDE\\Skillfactory\\PY_15_Принципы ООП и отладка кода\\helpers\\dumper.py)",
     "output_type": "error",
     "traceback": [
      "\u001b[1;31m---------------------------------------------------------------------------\u001b[0m",
      "\u001b[1;31mImportError\u001b[0m                               Traceback (most recent call last)",
      "Cell \u001b[1;32mIn[220], line 2\u001b[0m\n\u001b[0;32m      1\u001b[0m \u001b[38;5;66;03m#Должно импортироваться из папки, но оно не импортируется\u001b[39;00m\n\u001b[1;32m----> 2\u001b[0m \u001b[38;5;28;01mfrom\u001b[39;00m \u001b[38;5;21;01mhelpers\u001b[39;00m\u001b[38;5;21;01m.\u001b[39;00m\u001b[38;5;21;01mdumper\u001b[39;00m \u001b[38;5;28;01mimport\u001b[39;00m Dumper\n\u001b[0;32m      3\u001b[0m \u001b[38;5;28;01mfrom\u001b[39;00m \u001b[38;5;21;01mhelpers\u001b[39;00m\u001b[38;5;21;01m.\u001b[39;00m\u001b[38;5;21;01mdata_frame\u001b[39;00m \u001b[38;5;28;01mimport\u001b[39;00m DataFrame  \n\u001b[0;32m      4\u001b[0m \u001b[38;5;28;01mfrom\u001b[39;00m \u001b[38;5;21;01mhelpers\u001b[39;00m\u001b[38;5;21;01m.\u001b[39;00m\u001b[38;5;21;01mclient\u001b[39;00m \u001b[38;5;28;01mimport\u001b[39;00m Client \n",
      "\u001b[1;31mImportError\u001b[0m: cannot import name 'Dumper' from 'helpers.dumper' (c:\\Program Files (x86)\\IDE\\Skillfactory\\PY_15_Принципы ООП и отладка кода\\helpers\\dumper.py)"
     ]
    }
   ],
   "source": [
    "#Должно импортироваться из папки, но оно не импортируется\n",
    "from helpers.dumper import Dumper\n",
    "from helpers.data_frame import DataFrame  \n",
    "from helpers.client import Client "
   ]
  },
  {
   "cell_type": "markdown",
   "metadata": {},
   "source": [
    "### Проверка знаний"
   ]
  },
  {
   "cell_type": "markdown",
   "metadata": {},
   "source": [
    "### Задание 6.3"
   ]
  },
  {
   "cell_type": "code",
   "execution_count": 223,
   "metadata": {},
   "outputs": [],
   "source": [
    "class Dog():\n",
    "    \n",
    "    def bark(*args):\n",
    "        return 'Bark!'\n",
    "    \n",
    "    def give_paw(*args): \n",
    "        return 'Paw'"
   ]
  },
  {
   "cell_type": "markdown",
   "metadata": {},
   "source": [
    "### Применение ООП для работы с файлами"
   ]
  },
  {
   "cell_type": "markdown",
   "metadata": {},
   "source": [
    "#### Путь к файлу"
   ]
  },
  {
   "cell_type": "code",
   "execution_count": 225,
   "metadata": {},
   "outputs": [
    {
     "name": "stdout",
     "output_type": "stream",
     "text": [
      "c:\\Program Files (x86)\\IDE\\Skillfactory\\PY_15_Принципы ООП и отладка кода\n"
     ]
    }
   ],
   "source": [
    "import os\n",
    "#Получить текущий путь\n",
    "start_path = os.getcwd()\n",
    "print(start_path)"
   ]
  },
  {
   "cell_type": "code",
   "execution_count": 226,
   "metadata": {},
   "outputs": [
    {
     "data": {
      "text/plain": [
       "'c:\\\\Program Files (x86)\\\\IDE\\\\Skillfactory'"
      ]
     },
     "execution_count": 226,
     "metadata": {},
     "output_type": "execute_result"
    }
   ],
   "source": [
    "#Далее попробуем поднятсья на директорию выше\n",
    "os.chdir('..')\n",
    "os.getcwd()"
   ]
  },
  {
   "cell_type": "code",
   "execution_count": 227,
   "metadata": {},
   "outputs": [
    {
     "data": {
      "text/plain": [
       "'c:\\\\Program Files (x86)\\\\IDE\\\\Skillfactory\\\\PY_15_Принципы ООП и отладка кода'"
      ]
     },
     "execution_count": 227,
     "metadata": {},
     "output_type": "execute_result"
    }
   ],
   "source": [
    "#Вернемся в ту директорию, из которой стартовали\n",
    "os.chdir(start_path)\n",
    "os.getcwd()"
   ]
  },
  {
   "cell_type": "code",
   "execution_count": 229,
   "metadata": {},
   "outputs": [
    {
     "name": "stdout",
     "output_type": "stream",
     "text": [
      "['archive', 'data', 'dumper.py', 'helpers', '__pycache__', 'Принципы ООП.ipynb']\n",
      "Файл отсутствует в данной директории\n"
     ]
    }
   ],
   "source": [
    "#Список файлов и директорий в папке\n",
    "import os\n",
    "\n",
    "print(os.listdir()) \n",
    "\n",
    "if 'tmp.py' not in os.listdir():\n",
    "    print('Файл отсутствует в данной директории')"
   ]
  },
  {
   "cell_type": "code",
   "execution_count": 230,
   "metadata": {},
   "outputs": [
    {
     "name": "stdout",
     "output_type": "stream",
     "text": [
      "c:\\Program Files (x86)\\IDE\\Skillfactory\\PY_15_Принципы ООП и отладка кода\n",
      "c:\\Program Files (x86)\\IDE\\Skillfactory\\PY_15_Принципы ООП и отладка кода\\test\n"
     ]
    }
   ],
   "source": [
    "#Соединяем пути с учетом особенностей операционной системы\n",
    "print(start_path)\n",
    "print(os.path.join(start_path, 'test'))"
   ]
  },
  {
   "cell_type": "markdown",
   "metadata": {},
   "source": [
    "### Задание 7.3 "
   ]
  },
  {
   "cell_type": "markdown",
   "metadata": {},
   "source": [
    "Задание хоть и на самопроверку, но я его буду списывать. Ничего не понял, что просили сделать"
   ]
  },
  {
   "cell_type": "code",
   "execution_count": 232,
   "metadata": {},
   "outputs": [
    {
     "name": "stdout",
     "output_type": "stream",
     "text": [
      "Текущая директория c:\\Program Files (x86)\\IDE\\Skillfactory\\PY_15_Принципы ООП и отладка кода\n",
      "---\n",
      "Список папок ['archive', 'data', 'helpers', '__pycache__']\n",
      "---\n",
      "Список файлов ['dumper.py', 'Принципы ООП.ipynb']\n",
      "---\n",
      "Все пути:\n",
      "Файл c:\\Program Files (x86)\\IDE\\Skillfactory\\PY_15_Принципы ООП и отладка кода\\dumper.py\n",
      "Файл c:\\Program Files (x86)\\IDE\\Skillfactory\\PY_15_Принципы ООП и отладка кода\\Принципы ООП.ipynb\n",
      "Папка c:\\Program Files (x86)\\IDE\\Skillfactory\\PY_15_Принципы ООП и отладка кода\\archive\n",
      "Папка c:\\Program Files (x86)\\IDE\\Skillfactory\\PY_15_Принципы ООП и отладка кода\\data\n",
      "Папка c:\\Program Files (x86)\\IDE\\Skillfactory\\PY_15_Принципы ООП и отладка кода\\helpers\n",
      "Папка c:\\Program Files (x86)\\IDE\\Skillfactory\\PY_15_Принципы ООП и отладка кода\\__pycache__\n",
      "---\n",
      "Текущая директория c:\\Program Files (x86)\\IDE\\Skillfactory\\PY_15_Принципы ООП и отладка кода\\archive\n",
      "---\n",
      "Папок нет\n",
      "---\n",
      "Список файлов ['25-01-17.pkl', '25-01-18.pkl']\n",
      "---\n",
      "Файл c:\\Program Files (x86)\\IDE\\Skillfactory\\PY_15_Принципы ООП и отладка кода\\archive\\25-01-17.pkl\n",
      "Файл c:\\Program Files (x86)\\IDE\\Skillfactory\\PY_15_Принципы ООП и отладка кода\\archive\\25-01-18.pkl\n",
      "---\n",
      "Текущая директория c:\\Program Files (x86)\\IDE\\Skillfactory\\PY_15_Принципы ООП и отладка кода\\data\n",
      "---\n",
      "Папок нет\n",
      "---\n",
      "Файлов нет\n",
      "---\n",
      "---\n",
      "Текущая директория c:\\Program Files (x86)\\IDE\\Skillfactory\\PY_15_Принципы ООП и отладка кода\\helpers\n",
      "---\n",
      "Список папок ['__pycache__']\n",
      "---\n",
      "Список файлов ['client.py', 'data_frame.py', 'dumper.py', '__init__.py']\n",
      "---\n",
      "Все пути:\n",
      "Файл c:\\Program Files (x86)\\IDE\\Skillfactory\\PY_15_Принципы ООП и отладка кода\\helpers\\client.py\n",
      "Файл c:\\Program Files (x86)\\IDE\\Skillfactory\\PY_15_Принципы ООП и отладка кода\\helpers\\data_frame.py\n",
      "Файл c:\\Program Files (x86)\\IDE\\Skillfactory\\PY_15_Принципы ООП и отладка кода\\helpers\\dumper.py\n",
      "Файл c:\\Program Files (x86)\\IDE\\Skillfactory\\PY_15_Принципы ООП и отладка кода\\helpers\\__init__.py\n",
      "Папка c:\\Program Files (x86)\\IDE\\Skillfactory\\PY_15_Принципы ООП и отладка кода\\helpers\\__pycache__\n",
      "---\n",
      "Текущая директория c:\\Program Files (x86)\\IDE\\Skillfactory\\PY_15_Принципы ООП и отладка кода\\helpers\\__pycache__\n",
      "---\n",
      "Папок нет\n",
      "---\n",
      "Список файлов ['client.cpython-311.pyc', 'data_frame.cpython-311.pyc', 'dumper.cpython-311.pyc']\n",
      "---\n",
      "Файл c:\\Program Files (x86)\\IDE\\Skillfactory\\PY_15_Принципы ООП и отладка кода\\helpers\\__pycache__\\client.cpython-311.pyc\n",
      "Файл c:\\Program Files (x86)\\IDE\\Skillfactory\\PY_15_Принципы ООП и отладка кода\\helpers\\__pycache__\\data_frame.cpython-311.pyc\n",
      "Файл c:\\Program Files (x86)\\IDE\\Skillfactory\\PY_15_Принципы ООП и отладка кода\\helpers\\__pycache__\\dumper.cpython-311.pyc\n",
      "---\n",
      "Текущая директория c:\\Program Files (x86)\\IDE\\Skillfactory\\PY_15_Принципы ООП и отладка кода\\__pycache__\n",
      "---\n",
      "Папок нет\n",
      "---\n",
      "Список файлов ['dumper.cpython-311.pyc']\n",
      "---\n",
      "Файл c:\\Program Files (x86)\\IDE\\Skillfactory\\PY_15_Принципы ООП и отладка кода\\__pycache__\\dumper.cpython-311.pyc\n",
      "---\n"
     ]
    }
   ],
   "source": [
    "import os\n",
    "\n",
    "def walk_desc(path=None):\n",
    "    start_path = path if path is not None else os.getcwd()\n",
    "    \n",
    "    for root, dirs, files in os.walk(start_path):\n",
    "        print('Текущая директория', root)\n",
    "        print('---')\n",
    "        \n",
    "        if dirs:\n",
    "            print('Список папок', dirs)\n",
    "        else:\n",
    "            print('Папок нет')\n",
    "        print('---')\n",
    "        \n",
    "        if files:\n",
    "            print('Список файлов', files)\n",
    "        else:\n",
    "            print('Файлов нет')\n",
    "        print('---')\n",
    "        \n",
    "        if files and dirs:\n",
    "            print('Все пути:')\n",
    "        for f in files:\n",
    "            print('Файл', os.path.join(root, f))\n",
    "        for d in dirs:\n",
    "            print('Папка', os.path.join(root, d))\n",
    "        print('---')\n",
    "        \n",
    "walk_desc()"
   ]
  },
  {
   "cell_type": "code",
   "execution_count": null,
   "metadata": {},
   "outputs": [],
   "source": []
  }
 ],
 "metadata": {
  "kernelspec": {
   "display_name": "Python 3",
   "language": "python",
   "name": "python3"
  },
  "language_info": {
   "codemirror_mode": {
    "name": "ipython",
    "version": 3
   },
   "file_extension": ".py",
   "mimetype": "text/x-python",
   "name": "python",
   "nbconvert_exporter": "python",
   "pygments_lexer": "ipython3",
   "version": "3.11.9"
  }
 },
 "nbformat": 4,
 "nbformat_minor": 2
}
