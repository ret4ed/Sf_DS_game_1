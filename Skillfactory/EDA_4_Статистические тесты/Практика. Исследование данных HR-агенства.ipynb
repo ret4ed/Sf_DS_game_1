{
 "cells": [
  {
   "cell_type": "markdown",
   "metadata": {},
   "source": [
    "# <center> Исследование данных HR-агентсва"
   ]
  },
  {
   "cell_type": "markdown",
   "metadata": {},
   "source": [
    "## Постановка задачи"
   ]
  },
  {
   "cell_type": "markdown",
   "metadata": {},
   "source": [
    "HR-агентство изучает тренды на рынке труда в IT. Компания хочет провести исследование на основе данных о зарплатах в сфере Data Science за 2020–2022 годы и получить некоторые выводы.\n",
    "\n",
    "Необходимо исследовать данные и сделать выводы по полученным результатам. Подкрепить свои рассуждения и выводы визуализациями и с помощью статистического тестирования проверить, являются ли выводы статистически значимыми.\n",
    "\n",
    "В процессе своего анализа:\n",
    "\n",
    "- Выяснить, какие факторы влияют на зарплату специалиста Data Scientist.\n",
    "\n",
    "А также ответить на ключевые вопросы HR-агентства:\n",
    "- Наблюдается ли ежегодный рост зарплат у специалистов Data Scientist?\n",
    "- Как соотносятся зарплаты Data Scientist и Data Engineer в 2022 году?\n",
    "- Как соотносятся зарплаты специалистов Data Scientist в компаниях различных размеров?\n",
    "- Есть ли связь между наличием должностей Data Scientist и Data Engineer и размером компании?\n",
    "\n",
    "Найти в данных интересные закономерности и отметить их в анализе.\n",
    "\n",
    "Продемонстрировать использование разных тестов для проверки статистической значимости сделанных выводов:\n",
    "\n",
    "тесты для количественного признака:\n",
    "- для одной выборки;\n",
    "- для двух выборок;\n",
    "- для нескольких выборок;\n",
    "\n",
    "тест для категориальных признаков.\n",
    "\n",
    "Результат работы представить в виде ноутбука (IPYNB-файла) с кодом для исследования, а также с выводами и рассуждениями, полученными на основе разведывательного анализа."
   ]
  },
  {
   "cell_type": "markdown",
   "metadata": {},
   "source": [
    "Ответить на вопросы помогут данные о зарплатах в сфере Data Science.\n",
    "\n",
    "Данные содержат следующие столбцы:\n",
    "\n",
    "- *work_year* — год, в котором была выплачена зарплата;\n",
    "- *experience_level* — опыт работы на этой должности в течение года: EN — Entry-level/Junior, MI — Mid-level/Intermediate, SE - Senior-level/Expert, EX — Executive-level/Director;\n",
    "- *employment_type* — тип трудоустройства для этой роли: PT — неполный рабочий день, FT — полный рабочий день, CT - контракт, FL - фриланс;\n",
    "- *job_title* — роль, в которой соискатель работал в течение года;\n",
    "- *salary* — общая выплаченная валовая сумма заработной платы;\n",
    "- *salary_currency* - валюта выплачиваемой заработной платы в виде кода валюты ISO 4217;\n",
    "- *salary_in_usd* — зарплата в долларах США (валютный курс, делённый на среднее значение курса доллара США за соответствующий год через fxdata.foorilla.com);\n",
    "- *employee_residence* — основная страна проживания сотрудника в течение рабочего года в виде кода страны ISO 3166;\n",
    "- *remote_ratio* — общий объем работы, выполняемой удалённо: 0 — удалённой работы нет (менее 20%), 50 — частично удалённая работа, 100 — полностью удалённая работа (более 80%);\n",
    "- *company_location* — страна главного офиса работодателя или филиала по контракту в виде кода страны ISO 3166;\n",
    "- *company_size* — среднее количество людей, работавших в компании в течение года: S — менее 50 сотрудников (небольшая компания), M — от 50 до 2500 сотрудников (средняя компания), L - более 250 сотрудников (крупная компания).\n",
    "\n",
    "Источник датасета: [“Data Science Job Salaries” (kaggle.com)](https://www.kaggle.com/datasets/ruchi798/data-science-job-salaries)"
   ]
  },
  {
   "cell_type": "markdown",
   "metadata": {},
   "source": [
    "## Загрузка данных"
   ]
  },
  {
   "cell_type": "code",
   "execution_count": 199,
   "metadata": {},
   "outputs": [],
   "source": [
    "#Загружаем необходимые библиотека\n",
    "import pandas as pd\n",
    "import numpy as np\n",
    "\n",
    "from scipy import stats\n",
    "import statsmodels.api as sm\n",
    "from statsmodels import stats as sms\n",
    "\n",
    "import matplotlib.pyplot as plt\n",
    "import seaborn as sns\n",
    "import plotly\n",
    "import plotly.express as px\n",
    "\n",
    "# делаем визуальную настройку графиков\n",
    "sns.set_theme(\"notebook\") \n",
    "sns.set_palette(\"Set2\") "
   ]
  },
  {
   "cell_type": "code",
   "execution_count": 200,
   "metadata": {},
   "outputs": [
    {
     "data": {
      "text/html": [
       "<div>\n",
       "<style scoped>\n",
       "    .dataframe tbody tr th:only-of-type {\n",
       "        vertical-align: middle;\n",
       "    }\n",
       "\n",
       "    .dataframe tbody tr th {\n",
       "        vertical-align: top;\n",
       "    }\n",
       "\n",
       "    .dataframe thead th {\n",
       "        text-align: right;\n",
       "    }\n",
       "</style>\n",
       "<table border=\"1\" class=\"dataframe\">\n",
       "  <thead>\n",
       "    <tr style=\"text-align: right;\">\n",
       "      <th></th>\n",
       "      <th>Unnamed: 0</th>\n",
       "      <th>work_year</th>\n",
       "      <th>experience_level</th>\n",
       "      <th>employment_type</th>\n",
       "      <th>job_title</th>\n",
       "      <th>salary</th>\n",
       "      <th>salary_currency</th>\n",
       "      <th>salary_in_usd</th>\n",
       "      <th>employee_residence</th>\n",
       "      <th>remote_ratio</th>\n",
       "      <th>company_location</th>\n",
       "      <th>company_size</th>\n",
       "    </tr>\n",
       "  </thead>\n",
       "  <tbody>\n",
       "    <tr>\n",
       "      <th>0</th>\n",
       "      <td>0</td>\n",
       "      <td>2020</td>\n",
       "      <td>MI</td>\n",
       "      <td>FT</td>\n",
       "      <td>Data Scientist</td>\n",
       "      <td>70000</td>\n",
       "      <td>EUR</td>\n",
       "      <td>79833</td>\n",
       "      <td>DE</td>\n",
       "      <td>0</td>\n",
       "      <td>DE</td>\n",
       "      <td>L</td>\n",
       "    </tr>\n",
       "    <tr>\n",
       "      <th>1</th>\n",
       "      <td>1</td>\n",
       "      <td>2020</td>\n",
       "      <td>SE</td>\n",
       "      <td>FT</td>\n",
       "      <td>Machine Learning Scientist</td>\n",
       "      <td>260000</td>\n",
       "      <td>USD</td>\n",
       "      <td>260000</td>\n",
       "      <td>JP</td>\n",
       "      <td>0</td>\n",
       "      <td>JP</td>\n",
       "      <td>S</td>\n",
       "    </tr>\n",
       "    <tr>\n",
       "      <th>2</th>\n",
       "      <td>2</td>\n",
       "      <td>2020</td>\n",
       "      <td>SE</td>\n",
       "      <td>FT</td>\n",
       "      <td>Big Data Engineer</td>\n",
       "      <td>85000</td>\n",
       "      <td>GBP</td>\n",
       "      <td>109024</td>\n",
       "      <td>GB</td>\n",
       "      <td>50</td>\n",
       "      <td>GB</td>\n",
       "      <td>M</td>\n",
       "    </tr>\n",
       "    <tr>\n",
       "      <th>3</th>\n",
       "      <td>3</td>\n",
       "      <td>2020</td>\n",
       "      <td>MI</td>\n",
       "      <td>FT</td>\n",
       "      <td>Product Data Analyst</td>\n",
       "      <td>20000</td>\n",
       "      <td>USD</td>\n",
       "      <td>20000</td>\n",
       "      <td>HN</td>\n",
       "      <td>0</td>\n",
       "      <td>HN</td>\n",
       "      <td>S</td>\n",
       "    </tr>\n",
       "    <tr>\n",
       "      <th>4</th>\n",
       "      <td>4</td>\n",
       "      <td>2020</td>\n",
       "      <td>SE</td>\n",
       "      <td>FT</td>\n",
       "      <td>Machine Learning Engineer</td>\n",
       "      <td>150000</td>\n",
       "      <td>USD</td>\n",
       "      <td>150000</td>\n",
       "      <td>US</td>\n",
       "      <td>50</td>\n",
       "      <td>US</td>\n",
       "      <td>L</td>\n",
       "    </tr>\n",
       "  </tbody>\n",
       "</table>\n",
       "</div>"
      ],
      "text/plain": [
       "   Unnamed: 0  work_year experience_level employment_type  \\\n",
       "0           0       2020               MI              FT   \n",
       "1           1       2020               SE              FT   \n",
       "2           2       2020               SE              FT   \n",
       "3           3       2020               MI              FT   \n",
       "4           4       2020               SE              FT   \n",
       "\n",
       "                    job_title  salary salary_currency  salary_in_usd  \\\n",
       "0              Data Scientist   70000             EUR          79833   \n",
       "1  Machine Learning Scientist  260000             USD         260000   \n",
       "2           Big Data Engineer   85000             GBP         109024   \n",
       "3        Product Data Analyst   20000             USD          20000   \n",
       "4   Machine Learning Engineer  150000             USD         150000   \n",
       "\n",
       "  employee_residence  remote_ratio company_location company_size  \n",
       "0                 DE             0               DE            L  \n",
       "1                 JP             0               JP            S  \n",
       "2                 GB            50               GB            M  \n",
       "3                 HN             0               HN            S  \n",
       "4                 US            50               US            L  "
      ]
     },
     "metadata": {},
     "output_type": "display_data"
    },
    {
     "data": {
      "text/html": [
       "<div>\n",
       "<style scoped>\n",
       "    .dataframe tbody tr th:only-of-type {\n",
       "        vertical-align: middle;\n",
       "    }\n",
       "\n",
       "    .dataframe tbody tr th {\n",
       "        vertical-align: top;\n",
       "    }\n",
       "\n",
       "    .dataframe thead th {\n",
       "        text-align: right;\n",
       "    }\n",
       "</style>\n",
       "<table border=\"1\" class=\"dataframe\">\n",
       "  <thead>\n",
       "    <tr style=\"text-align: right;\">\n",
       "      <th></th>\n",
       "      <th>Unnamed: 0</th>\n",
       "      <th>work_year</th>\n",
       "      <th>experience_level</th>\n",
       "      <th>employment_type</th>\n",
       "      <th>job_title</th>\n",
       "      <th>salary</th>\n",
       "      <th>salary_currency</th>\n",
       "      <th>salary_in_usd</th>\n",
       "      <th>employee_residence</th>\n",
       "      <th>remote_ratio</th>\n",
       "      <th>company_location</th>\n",
       "      <th>company_size</th>\n",
       "    </tr>\n",
       "  </thead>\n",
       "  <tbody>\n",
       "    <tr>\n",
       "      <th>602</th>\n",
       "      <td>602</td>\n",
       "      <td>2022</td>\n",
       "      <td>SE</td>\n",
       "      <td>FT</td>\n",
       "      <td>Data Engineer</td>\n",
       "      <td>154000</td>\n",
       "      <td>USD</td>\n",
       "      <td>154000</td>\n",
       "      <td>US</td>\n",
       "      <td>100</td>\n",
       "      <td>US</td>\n",
       "      <td>M</td>\n",
       "    </tr>\n",
       "    <tr>\n",
       "      <th>603</th>\n",
       "      <td>603</td>\n",
       "      <td>2022</td>\n",
       "      <td>SE</td>\n",
       "      <td>FT</td>\n",
       "      <td>Data Engineer</td>\n",
       "      <td>126000</td>\n",
       "      <td>USD</td>\n",
       "      <td>126000</td>\n",
       "      <td>US</td>\n",
       "      <td>100</td>\n",
       "      <td>US</td>\n",
       "      <td>M</td>\n",
       "    </tr>\n",
       "    <tr>\n",
       "      <th>604</th>\n",
       "      <td>604</td>\n",
       "      <td>2022</td>\n",
       "      <td>SE</td>\n",
       "      <td>FT</td>\n",
       "      <td>Data Analyst</td>\n",
       "      <td>129000</td>\n",
       "      <td>USD</td>\n",
       "      <td>129000</td>\n",
       "      <td>US</td>\n",
       "      <td>0</td>\n",
       "      <td>US</td>\n",
       "      <td>M</td>\n",
       "    </tr>\n",
       "    <tr>\n",
       "      <th>605</th>\n",
       "      <td>605</td>\n",
       "      <td>2022</td>\n",
       "      <td>SE</td>\n",
       "      <td>FT</td>\n",
       "      <td>Data Analyst</td>\n",
       "      <td>150000</td>\n",
       "      <td>USD</td>\n",
       "      <td>150000</td>\n",
       "      <td>US</td>\n",
       "      <td>100</td>\n",
       "      <td>US</td>\n",
       "      <td>M</td>\n",
       "    </tr>\n",
       "    <tr>\n",
       "      <th>606</th>\n",
       "      <td>606</td>\n",
       "      <td>2022</td>\n",
       "      <td>MI</td>\n",
       "      <td>FT</td>\n",
       "      <td>AI Scientist</td>\n",
       "      <td>200000</td>\n",
       "      <td>USD</td>\n",
       "      <td>200000</td>\n",
       "      <td>IN</td>\n",
       "      <td>100</td>\n",
       "      <td>US</td>\n",
       "      <td>L</td>\n",
       "    </tr>\n",
       "  </tbody>\n",
       "</table>\n",
       "</div>"
      ],
      "text/plain": [
       "     Unnamed: 0  work_year experience_level employment_type      job_title  \\\n",
       "602         602       2022               SE              FT  Data Engineer   \n",
       "603         603       2022               SE              FT  Data Engineer   \n",
       "604         604       2022               SE              FT   Data Analyst   \n",
       "605         605       2022               SE              FT   Data Analyst   \n",
       "606         606       2022               MI              FT   AI Scientist   \n",
       "\n",
       "     salary salary_currency  salary_in_usd employee_residence  remote_ratio  \\\n",
       "602  154000             USD         154000                 US           100   \n",
       "603  126000             USD         126000                 US           100   \n",
       "604  129000             USD         129000                 US             0   \n",
       "605  150000             USD         150000                 US           100   \n",
       "606  200000             USD         200000                 IN           100   \n",
       "\n",
       "    company_location company_size  \n",
       "602               US            M  \n",
       "603               US            M  \n",
       "604               US            M  \n",
       "605               US            M  \n",
       "606               US            L  "
      ]
     },
     "metadata": {},
     "output_type": "display_data"
    }
   ],
   "source": [
    "#Загружаем датасет и проверяем его на работоспособность\n",
    "ds_salaries = pd.read_csv('data/ds_salaries.csv')\n",
    "\n",
    "display(ds_salaries.head())\n",
    "display(ds_salaries.tail())"
   ]
  },
  {
   "cell_type": "code",
   "execution_count": 201,
   "metadata": {},
   "outputs": [
    {
     "name": "stdout",
     "output_type": "stream",
     "text": [
      "Уровень значимости alpha = 0.05\n"
     ]
    }
   ],
   "source": [
    "#Задаем уровень значимости\n",
    "alpha = 0.05\n",
    "print(f'Уровень значимости alpha = {alpha}')"
   ]
  },
  {
   "cell_type": "markdown",
   "metadata": {},
   "source": [
    "## Описательный анализ данных"
   ]
  },
  {
   "cell_type": "code",
   "execution_count": 202,
   "metadata": {},
   "outputs": [
    {
     "name": "stdout",
     "output_type": "stream",
     "text": [
      "<class 'pandas.core.frame.DataFrame'>\n",
      "RangeIndex: 607 entries, 0 to 606\n",
      "Data columns (total 12 columns):\n",
      " #   Column              Non-Null Count  Dtype \n",
      "---  ------              --------------  ----- \n",
      " 0   Unnamed: 0          607 non-null    int64 \n",
      " 1   work_year           607 non-null    int64 \n",
      " 2   experience_level    607 non-null    object\n",
      " 3   employment_type     607 non-null    object\n",
      " 4   job_title           607 non-null    object\n",
      " 5   salary              607 non-null    int64 \n",
      " 6   salary_currency     607 non-null    object\n",
      " 7   salary_in_usd       607 non-null    int64 \n",
      " 8   employee_residence  607 non-null    object\n",
      " 9   remote_ratio        607 non-null    int64 \n",
      " 10  company_location    607 non-null    object\n",
      " 11  company_size        607 non-null    object\n",
      "dtypes: int64(5), object(7)\n",
      "memory usage: 57.0+ KB\n"
     ]
    }
   ],
   "source": [
    "#Загрузим общую информацию о датасете\n",
    "ds_salaries.info()"
   ]
  },
  {
   "cell_type": "markdown",
   "metadata": {},
   "source": [
    "В исходном датасете 12 признаков, 607 записей (без пропусков), типы данных указаны корректно. Также в датасете имеется 5 числовых признаков и 7 категориальных."
   ]
  },
  {
   "cell_type": "markdown",
   "metadata": {},
   "source": [
    "Проверим данные на наличие полных дубликатов:"
   ]
  },
  {
   "cell_type": "code",
   "execution_count": 203,
   "metadata": {},
   "outputs": [
    {
     "name": "stdout",
     "output_type": "stream",
     "text": [
      "Количество дубликватов: 0\n"
     ]
    }
   ],
   "source": [
    "print('Количество дубликватов: {}'.format(ds_salaries[ds_salaries.duplicated()].shape[0]))\n",
    "\n"
   ]
  },
  {
   "cell_type": "markdown",
   "metadata": {},
   "source": [
    "Удалим неинформативные признаки:"
   ]
  },
  {
   "cell_type": "code",
   "execution_count": 204,
   "metadata": {},
   "outputs": [
    {
     "data": {
      "text/html": [
       "<div>\n",
       "<style scoped>\n",
       "    .dataframe tbody tr th:only-of-type {\n",
       "        vertical-align: middle;\n",
       "    }\n",
       "\n",
       "    .dataframe tbody tr th {\n",
       "        vertical-align: top;\n",
       "    }\n",
       "\n",
       "    .dataframe thead th {\n",
       "        text-align: right;\n",
       "    }\n",
       "</style>\n",
       "<table border=\"1\" class=\"dataframe\">\n",
       "  <thead>\n",
       "    <tr style=\"text-align: right;\">\n",
       "      <th></th>\n",
       "      <th>work_year</th>\n",
       "      <th>experience_level</th>\n",
       "      <th>employment_type</th>\n",
       "      <th>job_title</th>\n",
       "      <th>salary_in_usd</th>\n",
       "      <th>employee_residence</th>\n",
       "      <th>remote_ratio</th>\n",
       "      <th>company_location</th>\n",
       "      <th>company_size</th>\n",
       "    </tr>\n",
       "  </thead>\n",
       "  <tbody>\n",
       "    <tr>\n",
       "      <th>0</th>\n",
       "      <td>2020</td>\n",
       "      <td>MI</td>\n",
       "      <td>FT</td>\n",
       "      <td>Data Scientist</td>\n",
       "      <td>79833</td>\n",
       "      <td>DE</td>\n",
       "      <td>0</td>\n",
       "      <td>DE</td>\n",
       "      <td>L</td>\n",
       "    </tr>\n",
       "    <tr>\n",
       "      <th>1</th>\n",
       "      <td>2020</td>\n",
       "      <td>SE</td>\n",
       "      <td>FT</td>\n",
       "      <td>Machine Learning Scientist</td>\n",
       "      <td>260000</td>\n",
       "      <td>JP</td>\n",
       "      <td>0</td>\n",
       "      <td>JP</td>\n",
       "      <td>S</td>\n",
       "    </tr>\n",
       "    <tr>\n",
       "      <th>2</th>\n",
       "      <td>2020</td>\n",
       "      <td>SE</td>\n",
       "      <td>FT</td>\n",
       "      <td>Big Data Engineer</td>\n",
       "      <td>109024</td>\n",
       "      <td>GB</td>\n",
       "      <td>50</td>\n",
       "      <td>GB</td>\n",
       "      <td>M</td>\n",
       "    </tr>\n",
       "    <tr>\n",
       "      <th>3</th>\n",
       "      <td>2020</td>\n",
       "      <td>MI</td>\n",
       "      <td>FT</td>\n",
       "      <td>Product Data Analyst</td>\n",
       "      <td>20000</td>\n",
       "      <td>HN</td>\n",
       "      <td>0</td>\n",
       "      <td>HN</td>\n",
       "      <td>S</td>\n",
       "    </tr>\n",
       "    <tr>\n",
       "      <th>4</th>\n",
       "      <td>2020</td>\n",
       "      <td>SE</td>\n",
       "      <td>FT</td>\n",
       "      <td>Machine Learning Engineer</td>\n",
       "      <td>150000</td>\n",
       "      <td>US</td>\n",
       "      <td>50</td>\n",
       "      <td>US</td>\n",
       "      <td>L</td>\n",
       "    </tr>\n",
       "  </tbody>\n",
       "</table>\n",
       "</div>"
      ],
      "text/plain": [
       "   work_year experience_level employment_type                   job_title  \\\n",
       "0       2020               MI              FT              Data Scientist   \n",
       "1       2020               SE              FT  Machine Learning Scientist   \n",
       "2       2020               SE              FT           Big Data Engineer   \n",
       "3       2020               MI              FT        Product Data Analyst   \n",
       "4       2020               SE              FT   Machine Learning Engineer   \n",
       "\n",
       "   salary_in_usd employee_residence  remote_ratio company_location  \\\n",
       "0          79833                 DE             0               DE   \n",
       "1         260000                 JP             0               JP   \n",
       "2         109024                 GB            50               GB   \n",
       "3          20000                 HN             0               HN   \n",
       "4         150000                 US            50               US   \n",
       "\n",
       "  company_size  \n",
       "0            L  \n",
       "1            S  \n",
       "2            M  \n",
       "3            S  \n",
       "4            L  "
      ]
     },
     "execution_count": 204,
     "metadata": {},
     "output_type": "execute_result"
    }
   ],
   "source": [
    "ds_salaries.drop(['Unnamed: 0', 'salary', 'salary_currency'],axis=1,inplace=True)\n",
    "ds_salaries.head()\n"
   ]
  },
  {
   "cell_type": "code",
   "execution_count": 205,
   "metadata": {},
   "outputs": [
    {
     "name": "stdout",
     "output_type": "stream",
     "text": [
      "<class 'pandas.core.frame.DataFrame'>\n",
      "RangeIndex: 607 entries, 0 to 606\n",
      "Data columns (total 9 columns):\n",
      " #   Column              Non-Null Count  Dtype \n",
      "---  ------              --------------  ----- \n",
      " 0   work_year           607 non-null    int64 \n",
      " 1   experience_level    607 non-null    object\n",
      " 2   employment_type     607 non-null    object\n",
      " 3   job_title           607 non-null    object\n",
      " 4   salary_in_usd       607 non-null    int64 \n",
      " 5   employee_residence  607 non-null    object\n",
      " 6   remote_ratio        607 non-null    int64 \n",
      " 7   company_location    607 non-null    object\n",
      " 8   company_size        607 non-null    object\n",
      "dtypes: int64(3), object(6)\n",
      "memory usage: 42.8+ KB\n"
     ]
    }
   ],
   "source": [
    "ds_salaries.info()"
   ]
  },
  {
   "cell_type": "markdown",
   "metadata": {},
   "source": [
    "После удаления неинформативных столбцов в датасете осталось 9 признаков, 607 записей (без пропусков), 3 числовых признака и 6 категориальных признаков.\n",
    "\n",
    "К числовым признакам относятся:\n",
    "- *work_year*\n",
    "- *salary_in_usd*\n",
    "- *remote_ratio* \n",
    "\n",
    "К категориалным признакам относятся:\n",
    "- *experience_level*\n",
    "- *employment_type*\n",
    "- *job_title*\n",
    "- *employee_residence*\n",
    "- *company_location*\n",
    "- *company_size*\n"
   ]
  },
  {
   "cell_type": "markdown",
   "metadata": {},
   "source": [
    "### Распределение зарплат по всем работникам в сфере Data Science"
   ]
  },
  {
   "cell_type": "markdown",
   "metadata": {},
   "source": [
    "#"
   ]
  },
  {
   "cell_type": "code",
   "execution_count": 206,
   "metadata": {},
   "outputs": [
    {
     "data": {
      "image/png": "[encoded data removed]",
      "text/plain": [
       "<Figure size 1500x500 with 2 Axes>"
      ]
     },
     "metadata": {},
     "output_type": "display_data"
    }
   ],
   "source": [
    "#Строим гистограмму распределения и диаграмму \"boxplot\"\n",
    "fig, axes = plt.subplots(1, 2, figsize=(15, 5))\n",
    "\n",
    "sns. histplot(ds_salaries['salary_in_usd'], kde=True, ax=axes[0])\n",
    "axes[0].set(xlabel='Размер заработной платы', ylabel='Частота')\n",
    "axes[0].set_title('Распределение заработной платы по всем работникам в сфере DS')\n",
    "axes[0].axvline(ds_salaries['salary_in_usd'].mean(), color='red', linestyle='--', linewidth=0.8)\n",
    "\n",
    "sns.boxplot(ds_salaries['salary_in_usd'], ax=axes[1], orient='h', medianprops={'color': 'red', 'linestyle': '--'})\n",
    "axes[1].set(ylabel='Размер заработной платы')\n",
    "axes[1].set_title('Распределение заработной платы по всем работникам в сфере DS')\n",
    "\n",
    "plt.show()"
   ]
  },
  {
   "cell_type": "code",
   "execution_count": 207,
   "metadata": {},
   "outputs": [
    {
     "data": {
      "text/html": [
       "<div>\n",
       "<style scoped>\n",
       "    .dataframe tbody tr th:only-of-type {\n",
       "        vertical-align: middle;\n",
       "    }\n",
       "\n",
       "    .dataframe tbody tr th {\n",
       "        vertical-align: top;\n",
       "    }\n",
       "\n",
       "    .dataframe thead th {\n",
       "        text-align: right;\n",
       "    }\n",
       "</style>\n",
       "<table border=\"1\" class=\"dataframe\">\n",
       "  <thead>\n",
       "    <tr style=\"text-align: right;\">\n",
       "      <th></th>\n",
       "      <th>Размер заработной платы</th>\n",
       "    </tr>\n",
       "  </thead>\n",
       "  <tbody>\n",
       "    <tr>\n",
       "      <th>count</th>\n",
       "      <td>607.00</td>\n",
       "    </tr>\n",
       "    <tr>\n",
       "      <th>mean</th>\n",
       "      <td>112297.87</td>\n",
       "    </tr>\n",
       "    <tr>\n",
       "      <th>std</th>\n",
       "      <td>70957.26</td>\n",
       "    </tr>\n",
       "    <tr>\n",
       "      <th>min</th>\n",
       "      <td>2859.00</td>\n",
       "    </tr>\n",
       "    <tr>\n",
       "      <th>25%</th>\n",
       "      <td>62726.00</td>\n",
       "    </tr>\n",
       "    <tr>\n",
       "      <th>50%</th>\n",
       "      <td>101570.00</td>\n",
       "    </tr>\n",
       "    <tr>\n",
       "      <th>75%</th>\n",
       "      <td>150000.00</td>\n",
       "    </tr>\n",
       "    <tr>\n",
       "      <th>max</th>\n",
       "      <td>600000.00</td>\n",
       "    </tr>\n",
       "  </tbody>\n",
       "</table>\n",
       "</div>"
      ],
      "text/plain": [
       "       Размер заработной платы\n",
       "count                   607.00\n",
       "mean                 112297.87\n",
       "std                   70957.26\n",
       "min                    2859.00\n",
       "25%                   62726.00\n",
       "50%                  101570.00\n",
       "75%                  150000.00\n",
       "max                  600000.00"
      ]
     },
     "execution_count": 207,
     "metadata": {},
     "output_type": "execute_result"
    }
   ],
   "source": [
    "data_agg = ds_salaries['salary_in_usd'].describe().round(2).to_frame()\n",
    "data_agg.columns = ['Размер заработной платы']\n",
    "data_agg"
   ]
  },
  {
   "cell_type": "markdown",
   "metadata": {},
   "source": [
    "Распределение заработной платы отлично от нормального, имеются выбросы."
   ]
  },
  {
   "cell_type": "markdown",
   "metadata": {},
   "source": [
    "### Очистка данных от выбросов при помощи метода z-отклонений"
   ]
  },
  {
   "cell_type": "code",
   "execution_count": 208,
   "metadata": {},
   "outputs": [
    {
     "name": "stdout",
     "output_type": "stream",
     "text": [
      "-1.2609004767569614\n"
     ]
    }
   ],
   "source": [
    "#Определим численный показатель ассиметрии\n",
    "print(np.log(ds_salaries['salary_in_usd'] + 1).skew())"
   ]
  },
  {
   "cell_type": "code",
   "execution_count": 209,
   "metadata": {},
   "outputs": [
    {
     "name": "stdout",
     "output_type": "stream",
     "text": [
      "Число выбросов по методу z-отклонений: 8\n",
      "Результирующее число записей: 599\n"
     ]
    }
   ],
   "source": [
    "#Реализуем метод z-отклонения\n",
    "def outliers_z_score(data, feature, left = 3, right = 3, log_scale=False):\n",
    "\n",
    "    if log_scale:\n",
    "        x = np.log(data[feature] + 1)\n",
    "    else: \n",
    "        x = data[feature]\n",
    "    mu = x.mean()\n",
    "    sigma = x.std()\n",
    "    lower_bound = mu - left*sigma\n",
    "    upper_bound = mu + right*sigma\n",
    "    outlies = data[(x < lower_bound) | (x > upper_bound)]\n",
    "    cleaned = data[(x >= lower_bound) & (x <= upper_bound)]\n",
    "    return outlies, cleaned\n",
    "\n",
    "outliers, cleaned = outliers_z_score(ds_salaries, 'salary_in_usd')\n",
    "print(f'Число выбросов по методу z-отклонений: {outliers.shape[0]}')\n",
    "print(f'Результирующее число записей: {cleaned.shape[0]}')"
   ]
  },
  {
   "cell_type": "markdown",
   "metadata": {},
   "source": [
    "Методом z-отклонений было найдено 8 выбросов. Используем очищенный датасет в дальнейшем."
   ]
  },
  {
   "cell_type": "code",
   "execution_count": 210,
   "metadata": {},
   "outputs": [],
   "source": [
    "#Перезапишем наш датасет\n",
    "ds_salaries = cleaned"
   ]
  },
  {
   "cell_type": "code",
   "execution_count": 211,
   "metadata": {},
   "outputs": [
    {
     "data": {
      "image/png": "[encoded data removed]",
      "text/plain": [
       "<Figure size 1500x500 with 2 Axes>"
      ]
     },
     "metadata": {},
     "output_type": "display_data"
    }
   ],
   "source": [
    "#Построим гистограмму и диаграмму \"boxplot\" по очищенному датасету\n",
    "fig, axes = plt.subplots(1, 2, figsize=(15, 5))\n",
    "\n",
    "sns. histplot(ds_salaries['salary_in_usd'], kde=True, ax=axes[0])\n",
    "axes[0].set(xlabel='Размер заработной платы', ylabel='Частота')\n",
    "axes[0].set_title('Распределение заработной платы по всем работникам в сфере DS')\n",
    "axes[0].axvline(ds_salaries['salary_in_usd'].mean(), color='red', linestyle='--', linewidth=0.8)\n",
    "\n",
    "sns.boxplot(ds_salaries['salary_in_usd'], ax=axes[1], orient='h', medianprops={'color': 'red', 'linestyle': '--'})\n",
    "axes[1].set(ylabel='Размер заработной платы')\n",
    "axes[1].set_title('Распределение заработной платы по всем работникам в сфере DS')\n",
    "\n",
    "plt.show()"
   ]
  },
  {
   "cell_type": "markdown",
   "metadata": {},
   "source": [
    "## Базовый анализ числовых признаков"
   ]
  },
  {
   "cell_type": "markdown",
   "metadata": {},
   "source": [
    "### Распределение выплат заработной платы в зависимости от года"
   ]
  },
  {
   "cell_type": "code",
   "execution_count": 212,
   "metadata": {},
   "outputs": [
    {
     "data": {
      "application/vnd.plotly.v1+json": {
       "config": {
        "plotlyServerURL": "https://plot.ly"
       },
       "data": [
        {
         "alignmentgroup": "True",
         "bingroup": "x",
         "histfunc": "count",
         "hovertemplate": "work_year=%{x}<br>count=%{y}<extra></extra>",
         "legendgroup": "",
         "marker": {
          "color": "#636efa",
          "pattern": {
           "shape": ""
          }
         },
         "name": "",
         "nbinsx": 3,
         "offsetgroup": "",
         "orientation": "v",
         "showlegend": false,
         "type": "histogram",
         "x": [
          2020,
          2020,
          2020,
          2020,
          2020,
          2020,
          2020,
          2020,
          2020,
          2020,
          2020,
          2020,
          2020,
          2020,
          2020,
          2020,
          2020,
          2020,
          2020,
          2020,
          2020,
          2020,
          2020,
          2020,
          2020,
          2020,
          2020,
          2020,
          2020,
          2020,
          2020,
          2020,
          2020,
          2020,
          2020,
          2020,
          2020,
          2020,
          2020,
          2020,
          2020,
          2020,
          2020,
          2020,
          2020,
          2020,
          2020,
          2020,
          2020,
          2020,
          2020,
          2020,
          2020,
          2020,
          2020,
          2020,
          2020,
          2020,
          2020,
          2020,
          2020,
          2020,
          2020,
          2020,
          2020,
          2020,
          2020,
          2020,
          2020,
          2020,
          2021,
          2021,
          2021,
          2021,
          2021,
          2021,
          2021,
          2021,
          2021,
          2021,
          2021,
          2021,
          2021,
          2021,
          2021,
          2021,
          2021,
          2021,
          2021,
          2021,
          2021,
          2021,
          2021,
          2021,
          2021,
          2021,
          2021,
          2021,
          2021,
          2021,
          2021,
          2021,
          2021,
          2021,
          2021,
          2021,
          2021,
          2021,
          2021,
          2021,
          2021,
          2021,
          2021,
          2021,
          2021,
          2021,
          2021,
          2021,
          2021,
          2021,
          2021,
          2021,
          2021,
          2021,
          2021,
          2021,
          2021,
          2021,
          2021,
          2021,
          2021,
          2021,
          2021,
          2021,
          2021,
          2021,
          2021,
          2021,
          2021,
          2021,
          2021,
          2021,
          2021,
          2021,
          2021,
          2021,
          2021,
          2021,
          2021,
          2021,
          2021,
          2021,
          2021,
          2021,
          2021,
          2021,
          2021,
          2021,
          2021,
          2021,
          2021,
          2021,
          2021,
          2021,
          2021,
          2021,
          2021,
          2021,
          2021,
          2021,
          2021,
          2021,
          2021,
          2021,
          2021,
          2021,
          2021,
          2021,
          2021,
          2021,
          2021,
          2021,
          2021,
          2021,
          2021,
          2021,
          2021,
          2021,
          2021,
          2021,
          2021,
          2021,
          2021,
          2021,
          2021,
          2021,
          2021,
          2021,
          2021,
          2021,
          2021,
          2021,
          2021,
          2021,
          2021,
          2021,
          2021,
          2021,
          2021,
          2021,
          2021,
          2021,
          2021,
          2021,
          2021,
          2021,
          2021,
          2021,
          2021,
          2021,
          2021,
          2021,
          2021,
          2021,
          2021,
          2021,
          2021,
          2021,
          2021,
          2021,
          2021,
          2021,
          2021,
          2021,
          2021,
          2021,
          2021,
          2021,
          2021,
          2021,
          2021,
          2021,
          2021,
          2021,
          2021,
          2021,
          2021,
          2021,
          2021,
          2021,
          2021,
          2021,
          2021,
          2021,
          2021,
          2021,
          2021,
          2021,
          2021,
          2021,
          2021,
          2021,
          2021,
          2021,
          2021,
          2021,
          2021,
          2021,
          2021,
          2021,
          2021,
          2021,
          2021,
          2021,
          2021,
          2021,
          2021,
          2021,
          2021,
          2021,
          2021,
          2021,
          2021,
          2022,
          2022,
          2022,
          2022,
          2022,
          2022,
          2022,
          2022,
          2022,
          2022,
          2022,
          2022,
          2022,
          2022,
          2022,
          2022,
          2022,
          2022,
          2022,
          2022,
          2022,
          2022,
          2022,
          2022,
          2022,
          2022,
          2022,
          2022,
          2022,
          2022,
          2022,
          2022,
          2022,
          2022,
          2022,
          2022,
          2022,
          2022,
          2022,
          2022,
          2022,
          2022,
          2022,
          2022,
          2022,
          2022,
          2022,
          2022,
          2022,
          2022,
          2022,
          2022,
          2022,
          2022,
          2022,
          2022,
          2022,
          2022,
          2022,
          2022,
          2022,
          2022,
          2022,
          2022,
          2022,
          2022,
          2022,
          2022,
          2022,
          2022,
          2022,
          2022,
          2022,
          2022,
          2022,
          2022,
          2022,
          2022,
          2022,
          2022,
          2022,
          2022,
          2022,
          2022,
          2022,
          2022,
          2022,
          2022,
          2022,
          2022,
          2022,
          2022,
          2022,
          2022,
          2022,
          2022,
          2022,
          2022,
          2022,
          2022,
          2022,
          2022,
          2022,
          2022,
          2022,
          2022,
          2022,
          2022,
          2022,
          2022,
          2022,
          2022,
          2022,
          2022,
          2022,
          2022,
          2022,
          2022,
          2022,
          2022,
          2022,
          2022,
          2022,
          2022,
          2022,
          2022,
          2022,
          2022,
          2022,
          2022,
          2022,
          2022,
          2022,
          2022,
          2022,
          2022,
          2022,
          2022,
          2022,
          2022,
          2022,
          2022,
          2022,
          2022,
          2022,
          2022,
          2022,
          2022,
          2022,
          2022,
          2022,
          2022,
          2022,
          2022,
          2022,
          2022,
          2022,
          2022,
          2022,
          2022,
          2022,
          2022,
          2022,
          2022,
          2022,
          2022,
          2022,
          2022,
          2022,
          2022,
          2022,
          2022,
          2022,
          2022,
          2022,
          2022,
          2022,
          2022,
          2022,
          2022,
          2022,
          2022,
          2022,
          2022,
          2022,
          2022,
          2022,
          2022,
          2022,
          2022,
          2022,
          2022,
          2022,
          2022,
          2022,
          2022,
          2022,
          2022,
          2022,
          2022,
          2022,
          2022,
          2022,
          2022,
          2022,
          2022,
          2022,
          2022,
          2022,
          2022,
          2022,
          2022,
          2022,
          2022,
          2022,
          2022,
          2022,
          2022,
          2022,
          2022,
          2022,
          2022,
          2022,
          2022,
          2022,
          2022,
          2022,
          2022,
          2022,
          2022,
          2022,
          2022,
          2022,
          2022,
          2022,
          2022,
          2022,
          2022,
          2022,
          2022,
          2022,
          2022,
          2022,
          2022,
          2022,
          2022,
          2022,
          2022,
          2022,
          2022,
          2022,
          2022,
          2022,
          2022,
          2022,
          2022,
          2022,
          2022,
          2022,
          2022,
          2022,
          2022,
          2022,
          2022,
          2022,
          2022,
          2022,
          2022,
          2022,
          2022,
          2022,
          2022,
          2022,
          2022,
          2022,
          2022,
          2022,
          2022,
          2022,
          2022,
          2022,
          2022,
          2022,
          2022,
          2022,
          2022,
          2022,
          2022,
          2022,
          2022,
          2022,
          2022,
          2022,
          2022,
          2022,
          2022,
          2022,
          2022,
          2022,
          2022,
          2022,
          2022,
          2022,
          2022,
          2022,
          2022,
          2022,
          2022,
          2022,
          2022,
          2022,
          2022,
          2022,
          2022,
          2022,
          2022
         ],
         "xaxis": "x",
         "yaxis": "y"
        }
       ],
       "layout": {
        "barmode": "relative",
        "height": 600,
        "legend": {
         "tracegroupgap": 0
        },
        "template": {
         "data": {
          "bar": [
           {
            "error_x": {
             "color": "#2a3f5f"
            },
            "error_y": {
             "color": "#2a3f5f"
            },
            "marker": {
             "line": {
              "color": "#E5ECF6",
              "width": 0.5
             },
             "pattern": {
              "fillmode": "overlay",
              "size": 10,
              "solidity": 0.2
             }
            },
            "type": "bar"
           }
          ],
          "barpolar": [
           {
            "marker": {
             "line": {
              "color": "#E5ECF6",
              "width": 0.5
             },
             "pattern": {
              "fillmode": "overlay",
              "size": 10,
              "solidity": 0.2
             }
            },
            "type": "barpolar"
           }
          ],
          "carpet": [
           {
            "aaxis": {
             "endlinecolor": "#2a3f5f",
             "gridcolor": "white",
             "linecolor": "white",
             "minorgridcolor": "white",
             "startlinecolor": "#2a3f5f"
            },
            "baxis": {
             "endlinecolor": "#2a3f5f",
             "gridcolor": "white",
             "linecolor": "white",
             "minorgridcolor": "white",
             "startlinecolor": "#2a3f5f"
            },
            "type": "carpet"
           }
          ],
          "choropleth": [
           {
            "colorbar": {
             "outlinewidth": 0,
             "ticks": ""
            },
            "type": "choropleth"
           }
          ],
          "contour": [
           {
            "colorbar": {
             "outlinewidth": 0,
             "ticks": ""
            },
            "colorscale": [
             [
              0,
              "#0d0887"
             ],
             [
              0.1111111111111111,
              "#46039f"
             ],
             [
              0.2222222222222222,
              "#7201a8"
             ],
             [
              0.3333333333333333,
              "#9c179e"
             ],
             [
              0.4444444444444444,
              "#bd3786"
             ],
             [
              0.5555555555555556,
              "#d8576b"
             ],
             [
              0.6666666666666666,
              "#ed7953"
             ],
             [
              0.7777777777777778,
              "#fb9f3a"
             ],
             [
              0.8888888888888888,
              "#fdca26"
             ],
             [
              1,
              "#f0f921"
             ]
            ],
            "type": "contour"
           }
          ],
          "contourcarpet": [
           {
            "colorbar": {
             "outlinewidth": 0,
             "ticks": ""
            },
            "type": "contourcarpet"
           }
          ],
          "heatmap": [
           {
            "colorbar": {
             "outlinewidth": 0,
             "ticks": ""
            },
            "colorscale": [
             [
              0,
              "#0d0887"
             ],
             [
              0.1111111111111111,
              "#46039f"
             ],
             [
              0.2222222222222222,
              "#7201a8"
             ],
             [
              0.3333333333333333,
              "#9c179e"
             ],
             [
              0.4444444444444444,
              "#bd3786"
             ],
             [
              0.5555555555555556,
              "#d8576b"
             ],
             [
              0.6666666666666666,
              "#ed7953"
             ],
             [
              0.7777777777777778,
              "#fb9f3a"
             ],
             [
              0.8888888888888888,
              "#fdca26"
             ],
             [
              1,
              "#f0f921"
             ]
            ],
            "type": "heatmap"
           }
          ],
          "heatmapgl": [
           {
            "colorbar": {
             "outlinewidth": 0,
             "ticks": ""
            },
            "colorscale": [
             [
              0,
              "#0d0887"
             ],
             [
              0.1111111111111111,
              "#46039f"
             ],
             [
              0.2222222222222222,
              "#7201a8"
             ],
             [
              0.3333333333333333,
              "#9c179e"
             ],
             [
              0.4444444444444444,
              "#bd3786"
             ],
             [
              0.5555555555555556,
              "#d8576b"
             ],
             [
              0.6666666666666666,
              "#ed7953"
             ],
             [
              0.7777777777777778,
              "#fb9f3a"
             ],
             [
              0.8888888888888888,
              "#fdca26"
             ],
             [
              1,
              "#f0f921"
             ]
            ],
            "type": "heatmapgl"
           }
          ],
          "histogram": [
           {
            "marker": {
             "pattern": {
              "fillmode": "overlay",
              "size": 10,
              "solidity": 0.2
             }
            },
            "type": "histogram"
           }
          ],
          "histogram2d": [
           {
            "colorbar": {
             "outlinewidth": 0,
             "ticks": ""
            },
            "colorscale": [
             [
              0,
              "#0d0887"
             ],
             [
              0.1111111111111111,
              "#46039f"
             ],
             [
              0.2222222222222222,
              "#7201a8"
             ],
             [
              0.3333333333333333,
              "#9c179e"
             ],
             [
              0.4444444444444444,
              "#bd3786"
             ],
             [
              0.5555555555555556,
              "#d8576b"
             ],
             [
              0.6666666666666666,
              "#ed7953"
             ],
             [
              0.7777777777777778,
              "#fb9f3a"
             ],
             [
              0.8888888888888888,
              "#fdca26"
             ],
             [
              1,
              "#f0f921"
             ]
            ],
            "type": "histogram2d"
           }
          ],
          "histogram2dcontour": [
           {
            "colorbar": {
             "outlinewidth": 0,
             "ticks": ""
            },
            "colorscale": [
             [
              0,
              "#0d0887"
             ],
             [
              0.1111111111111111,
              "#46039f"
             ],
             [
              0.2222222222222222,
              "#7201a8"
             ],
             [
              0.3333333333333333,
              "#9c179e"
             ],
             [
              0.4444444444444444,
              "#bd3786"
             ],
             [
              0.5555555555555556,
              "#d8576b"
             ],
             [
              0.6666666666666666,
              "#ed7953"
             ],
             [
              0.7777777777777778,
              "#fb9f3a"
             ],
             [
              0.8888888888888888,
              "#fdca26"
             ],
             [
              1,
              "#f0f921"
             ]
            ],
            "type": "histogram2dcontour"
           }
          ],
          "mesh3d": [
           {
            "colorbar": {
             "outlinewidth": 0,
             "ticks": ""
            },
            "type": "mesh3d"
           }
          ],
          "parcoords": [
           {
            "line": {
             "colorbar": {
              "outlinewidth": 0,
              "ticks": ""
             }
            },
            "type": "parcoords"
           }
          ],
          "pie": [
           {
            "automargin": true,
            "type": "pie"
           }
          ],
          "scatter": [
           {
            "fillpattern": {
             "fillmode": "overlay",
             "size": 10,
             "solidity": 0.2
            },
            "type": "scatter"
           }
          ],
          "scatter3d": [
           {
            "line": {
             "colorbar": {
              "outlinewidth": 0,
              "ticks": ""
             }
            },
            "marker": {
             "colorbar": {
              "outlinewidth": 0,
              "ticks": ""
             }
            },
            "type": "scatter3d"
           }
          ],
          "scattercarpet": [
           {
            "marker": {
             "colorbar": {
              "outlinewidth": 0,
              "ticks": ""
             }
            },
            "type": "scattercarpet"
           }
          ],
          "scattergeo": [
           {
            "marker": {
             "colorbar": {
              "outlinewidth": 0,
              "ticks": ""
             }
            },
            "type": "scattergeo"
           }
          ],
          "scattergl": [
           {
            "marker": {
             "colorbar": {
              "outlinewidth": 0,
              "ticks": ""
             }
            },
            "type": "scattergl"
           }
          ],
          "scattermapbox": [
           {
            "marker": {
             "colorbar": {
              "outlinewidth": 0,
              "ticks": ""
             }
            },
            "type": "scattermapbox"
           }
          ],
          "scatterpolar": [
           {
            "marker": {
             "colorbar": {
              "outlinewidth": 0,
              "ticks": ""
             }
            },
            "type": "scatterpolar"
           }
          ],
          "scatterpolargl": [
           {
            "marker": {
             "colorbar": {
              "outlinewidth": 0,
              "ticks": ""
             }
            },
            "type": "scatterpolargl"
           }
          ],
          "scatterternary": [
           {
            "marker": {
             "colorbar": {
              "outlinewidth": 0,
              "ticks": ""
             }
            },
            "type": "scatterternary"
           }
          ],
          "surface": [
           {
            "colorbar": {
             "outlinewidth": 0,
             "ticks": ""
            },
            "colorscale": [
             [
              0,
              "#0d0887"
             ],
             [
              0.1111111111111111,
              "#46039f"
             ],
             [
              0.2222222222222222,
              "#7201a8"
             ],
             [
              0.3333333333333333,
              "#9c179e"
             ],
             [
              0.4444444444444444,
              "#bd3786"
             ],
             [
              0.5555555555555556,
              "#d8576b"
             ],
             [
              0.6666666666666666,
              "#ed7953"
             ],
             [
              0.7777777777777778,
              "#fb9f3a"
             ],
             [
              0.8888888888888888,
              "#fdca26"
             ],
             [
              1,
              "#f0f921"
             ]
            ],
            "type": "surface"
           }
          ],
          "table": [
           {
            "cells": {
             "fill": {
              "color": "#EBF0F8"
             },
             "line": {
              "color": "white"
             }
            },
            "header": {
             "fill": {
              "color": "#C8D4E3"
             },
             "line": {
              "color": "white"
             }
            },
            "type": "table"
           }
          ]
         },
         "layout": {
          "annotationdefaults": {
           "arrowcolor": "#2a3f5f",
           "arrowhead": 0,
           "arrowwidth": 1
          },
          "autotypenumbers": "strict",
          "coloraxis": {
           "colorbar": {
            "outlinewidth": 0,
            "ticks": ""
           }
          },
          "colorscale": {
           "diverging": [
            [
             0,
             "#8e0152"
            ],
            [
             0.1,
             "#c51b7d"
            ],
            [
             0.2,
             "#de77ae"
            ],
            [
             0.3,
             "#f1b6da"
            ],
            [
             0.4,
             "#fde0ef"
            ],
            [
             0.5,
             "#f7f7f7"
            ],
            [
             0.6,
             "#e6f5d0"
            ],
            [
             0.7,
             "#b8e186"
            ],
            [
             0.8,
             "#7fbc41"
            ],
            [
             0.9,
             "#4d9221"
            ],
            [
             1,
             "#276419"
            ]
           ],
           "sequential": [
            [
             0,
             "#0d0887"
            ],
            [
             0.1111111111111111,
             "#46039f"
            ],
            [
             0.2222222222222222,
             "#7201a8"
            ],
            [
             0.3333333333333333,
             "#9c179e"
            ],
            [
             0.4444444444444444,
             "#bd3786"
            ],
            [
             0.5555555555555556,
             "#d8576b"
            ],
            [
             0.6666666666666666,
             "#ed7953"
            ],
            [
             0.7777777777777778,
             "#fb9f3a"
            ],
            [
             0.8888888888888888,
             "#fdca26"
            ],
            [
             1,
             "#f0f921"
            ]
           ],
           "sequentialminus": [
            [
             0,
             "#0d0887"
            ],
            [
             0.1111111111111111,
             "#46039f"
            ],
            [
             0.2222222222222222,
             "#7201a8"
            ],
            [
             0.3333333333333333,
             "#9c179e"
            ],
            [
             0.4444444444444444,
             "#bd3786"
            ],
            [
             0.5555555555555556,
             "#d8576b"
            ],
            [
             0.6666666666666666,
             "#ed7953"
            ],
            [
             0.7777777777777778,
             "#fb9f3a"
            ],
            [
             0.8888888888888888,
             "#fdca26"
            ],
            [
             1,
             "#f0f921"
            ]
           ]
          },
          "colorway": [
           "#636efa",
           "#EF553B",
           "#00cc96",
           "#ab63fa",
           "#FFA15A",
           "#19d3f3",
           "#FF6692",
           "#B6E880",
           "#FF97FF",
           "#FECB52"
          ],
          "font": {
           "color": "#2a3f5f"
          },
          "geo": {
           "bgcolor": "white",
           "lakecolor": "white",
           "landcolor": "#E5ECF6",
           "showlakes": true,
           "showland": true,
           "subunitcolor": "white"
          },
          "hoverlabel": {
           "align": "left"
          },
          "hovermode": "closest",
          "mapbox": {
           "style": "light"
          },
          "paper_bgcolor": "white",
          "plot_bgcolor": "#E5ECF6",
          "polar": {
           "angularaxis": {
            "gridcolor": "white",
            "linecolor": "white",
            "ticks": ""
           },
           "bgcolor": "#E5ECF6",
           "radialaxis": {
            "gridcolor": "white",
            "linecolor": "white",
            "ticks": ""
           }
          },
          "scene": {
           "xaxis": {
            "backgroundcolor": "#E5ECF6",
            "gridcolor": "white",
            "gridwidth": 2,
            "linecolor": "white",
            "showbackground": true,
            "ticks": "",
            "zerolinecolor": "white"
           },
           "yaxis": {
            "backgroundcolor": "#E5ECF6",
            "gridcolor": "white",
            "gridwidth": 2,
            "linecolor": "white",
            "showbackground": true,
            "ticks": "",
            "zerolinecolor": "white"
           },
           "zaxis": {
            "backgroundcolor": "#E5ECF6",
            "gridcolor": "white",
            "gridwidth": 2,
            "linecolor": "white",
            "showbackground": true,
            "ticks": "",
            "zerolinecolor": "white"
           }
          },
          "shapedefaults": {
           "line": {
            "color": "#2a3f5f"
           }
          },
          "ternary": {
           "aaxis": {
            "gridcolor": "white",
            "linecolor": "white",
            "ticks": ""
           },
           "baxis": {
            "gridcolor": "white",
            "linecolor": "white",
            "ticks": ""
           },
           "bgcolor": "#E5ECF6",
           "caxis": {
            "gridcolor": "white",
            "linecolor": "white",
            "ticks": ""
           }
          },
          "title": {
           "x": 0.05
          },
          "xaxis": {
           "automargin": true,
           "gridcolor": "white",
           "linecolor": "white",
           "ticks": "",
           "title": {
            "standoff": 15
           },
           "zerolinecolor": "white",
           "zerolinewidth": 2
          },
          "yaxis": {
           "automargin": true,
           "gridcolor": "white",
           "linecolor": "white",
           "ticks": "",
           "title": {
            "standoff": 15
           },
           "zerolinecolor": "white",
           "zerolinewidth": 2
          }
         }
        },
        "title": {
         "text": "Распределение года выплаты по всем работникам в сфере DS"
        },
        "width": 1000,
        "xaxis": {
         "anchor": "y",
         "domain": [
          0,
          1
         ],
         "tickmode": "array",
         "ticktext": [
          "2020",
          "2021",
          "2022"
         ],
         "tickvals": [
          2020,
          2021,
          2022
         ],
         "title": {
          "text": "Год выплаты"
         }
        },
        "yaxis": {
         "anchor": "x",
         "domain": [
          0,
          1
         ],
         "title": {
          "text": "Частота"
         }
        }
       }
      }
     },
     "metadata": {},
     "output_type": "display_data"
    }
   ],
   "source": [
    "#Построим гистограмму по году выплаты заработной платы\n",
    "fig = px.histogram(\n",
    "    data_frame=ds_salaries,\n",
    "    x='work_year',\n",
    "    title='Распределение года выплаты по всем работникам в сфере DS',\n",
    "    width=1000,\n",
    "    height=600,\n",
    "    nbins=len(ds_salaries['work_year'].unique()),\n",
    "    histfunc='count'\n",
    ")\n",
    "fig.update_xaxes(\n",
    "    title_text='Год выплаты',\n",
    "    tickmode='array',\n",
    "    tickvals=sorted(ds_salaries['work_year'].unique()),\n",
    "    ticktext=[str(year) for year in sorted(ds_salaries['work_year'].unique())]\n",
    ")\n",
    "fig.update_yaxes(title_text='Частота')\n",
    "fig.show()"
   ]
  },
  {
   "cell_type": "markdown",
   "metadata": {},
   "source": [
    "Из гистограммы видно, что с каждым годом, количество выплат заработной платы становиться больше. Это может быть связано с увеличением количества работников каждый год."
   ]
  },
  {
   "cell_type": "markdown",
   "metadata": {},
   "source": [
    "### Признак объема работы, выполняемой удаленно"
   ]
  },
  {
   "cell_type": "code",
   "execution_count": 213,
   "metadata": {},
   "outputs": [
    {
     "data": {
      "application/vnd.plotly.v1+json": {
       "config": {
        "plotlyServerURL": "https://plot.ly"
       },
       "data": [
        {
         "alignmentgroup": "True",
         "bingroup": "x",
         "histfunc": "count",
         "hovertemplate": "remote_ratio=%{x}<br>count=%{y}<extra></extra>",
         "legendgroup": "",
         "marker": {
          "color": "#636efa",
          "pattern": {
           "shape": ""
          }
         },
         "name": "",
         "nbinsx": 3,
         "offsetgroup": "",
         "orientation": "v",
         "showlegend": false,
         "type": "histogram",
         "x": [
          0,
          0,
          50,
          0,
          50,
          100,
          100,
          50,
          100,
          50,
          0,
          0,
          0,
          100,
          100,
          50,
          100,
          100,
          50,
          100,
          0,
          100,
          50,
          0,
          0,
          100,
          50,
          0,
          100,
          50,
          100,
          100,
          100,
          50,
          50,
          100,
          50,
          100,
          100,
          100,
          50,
          0,
          100,
          50,
          100,
          100,
          100,
          100,
          50,
          0,
          100,
          50,
          100,
          100,
          100,
          100,
          100,
          50,
          100,
          100,
          100,
          50,
          100,
          50,
          0,
          100,
          100,
          0,
          50,
          50,
          50,
          100,
          100,
          50,
          100,
          50,
          100,
          100,
          100,
          100,
          50,
          100,
          100,
          100,
          50,
          100,
          100,
          100,
          100,
          100,
          100,
          0,
          50,
          50,
          100,
          100,
          100,
          0,
          100,
          50,
          0,
          0,
          50,
          100,
          100,
          100,
          100,
          50,
          100,
          100,
          100,
          100,
          100,
          100,
          100,
          100,
          100,
          50,
          100,
          100,
          0,
          50,
          100,
          50,
          0,
          100,
          50,
          50,
          50,
          100,
          100,
          0,
          100,
          50,
          50,
          0,
          100,
          100,
          0,
          0,
          100,
          100,
          50,
          50,
          100,
          100,
          100,
          0,
          100,
          100,
          100,
          100,
          50,
          100,
          100,
          100,
          50,
          0,
          50,
          50,
          50,
          100,
          100,
          0,
          50,
          100,
          100,
          100,
          100,
          100,
          50,
          100,
          0,
          100,
          50,
          100,
          0,
          50,
          0,
          50,
          50,
          100,
          100,
          100,
          50,
          50,
          100,
          50,
          0,
          100,
          50,
          50,
          100,
          100,
          50,
          100,
          50,
          100,
          100,
          100,
          100,
          0,
          100,
          0,
          0,
          0,
          50,
          50,
          50,
          0,
          50,
          100,
          50,
          50,
          100,
          100,
          100,
          50,
          0,
          50,
          100,
          100,
          50,
          0,
          100,
          100,
          100,
          100,
          100,
          100,
          0,
          100,
          100,
          0,
          50,
          100,
          100,
          100,
          100,
          100,
          50,
          50,
          0,
          50,
          100,
          50,
          100,
          100,
          100,
          50,
          100,
          100,
          50,
          0,
          50,
          50,
          100,
          0,
          100,
          50,
          0,
          0,
          100,
          50,
          100,
          0,
          0,
          100,
          50,
          100,
          50,
          100,
          50,
          100,
          100,
          0,
          100,
          100,
          50,
          50,
          100,
          50,
          50,
          100,
          100,
          100,
          0,
          0,
          100,
          100,
          100,
          100,
          100,
          100,
          0,
          0,
          100,
          100,
          100,
          0,
          0,
          0,
          0,
          100,
          100,
          0,
          0,
          0,
          0,
          100,
          100,
          100,
          100,
          0,
          0,
          0,
          0,
          0,
          0,
          100,
          100,
          100,
          100,
          100,
          100,
          100,
          100,
          100,
          100,
          100,
          100,
          100,
          100,
          100,
          100,
          100,
          100,
          100,
          100,
          100,
          0,
          0,
          0,
          100,
          100,
          100,
          100,
          100,
          0,
          0,
          0,
          100,
          100,
          100,
          100,
          100,
          100,
          100,
          0,
          100,
          0,
          0,
          100,
          100,
          100,
          0,
          0,
          0,
          0,
          100,
          0,
          100,
          100,
          100,
          100,
          100,
          100,
          100,
          50,
          100,
          100,
          0,
          100,
          0,
          0,
          0,
          100,
          100,
          100,
          100,
          100,
          0,
          100,
          100,
          100,
          100,
          0,
          0,
          100,
          0,
          0,
          100,
          100,
          100,
          0,
          0,
          100,
          100,
          100,
          100,
          100,
          100,
          0,
          100,
          100,
          100,
          100,
          0,
          0,
          0,
          100,
          100,
          0,
          100,
          100,
          100,
          100,
          100,
          100,
          100,
          100,
          100,
          0,
          0,
          100,
          100,
          100,
          100,
          0,
          100,
          100,
          100,
          100,
          100,
          100,
          100,
          50,
          100,
          0,
          50,
          100,
          0,
          100,
          100,
          50,
          50,
          50,
          100,
          100,
          100,
          50,
          100,
          100,
          100,
          100,
          100,
          100,
          100,
          0,
          0,
          100,
          100,
          100,
          100,
          100,
          100,
          100,
          100,
          100,
          100,
          100,
          50,
          100,
          100,
          100,
          100,
          100,
          100,
          100,
          50,
          100,
          100,
          50,
          100,
          100,
          100,
          100,
          100,
          100,
          50,
          100,
          0,
          100,
          100,
          100,
          50,
          100,
          100,
          0,
          100,
          100,
          100,
          0,
          100,
          100,
          100,
          100,
          100,
          100,
          100,
          100,
          100,
          0,
          0,
          100,
          100,
          100,
          100,
          100,
          100,
          0,
          0,
          100,
          100,
          0,
          0,
          100,
          100,
          100,
          100,
          100,
          100,
          0,
          0,
          100,
          100,
          100,
          100,
          100,
          0,
          0,
          0,
          0,
          0,
          100,
          100,
          100,
          0,
          100,
          0,
          100,
          100,
          100,
          100,
          100,
          100,
          100,
          100,
          100,
          100,
          100,
          100,
          100,
          100,
          100,
          100,
          100,
          100,
          0,
          100,
          0,
          100,
          100,
          100,
          100,
          100,
          100,
          100,
          100,
          100,
          100,
          100,
          0,
          0,
          100,
          100,
          0,
          100,
          100
         ],
         "xaxis": "x",
         "yaxis": "y"
        }
       ],
       "layout": {
        "barmode": "relative",
        "height": 600,
        "legend": {
         "tracegroupgap": 0
        },
        "template": {
         "data": {
          "bar": [
           {
            "error_x": {
             "color": "#2a3f5f"
            },
            "error_y": {
             "color": "#2a3f5f"
            },
            "marker": {
             "line": {
              "color": "#E5ECF6",
              "width": 0.5
             },
             "pattern": {
              "fillmode": "overlay",
              "size": 10,
              "solidity": 0.2
             }
            },
            "type": "bar"
           }
          ],
          "barpolar": [
           {
            "marker": {
             "line": {
              "color": "#E5ECF6",
              "width": 0.5
             },
             "pattern": {
              "fillmode": "overlay",
              "size": 10,
              "solidity": 0.2
             }
            },
            "type": "barpolar"
           }
          ],
          "carpet": [
           {
            "aaxis": {
             "endlinecolor": "#2a3f5f",
             "gridcolor": "white",
             "linecolor": "white",
             "minorgridcolor": "white",
             "startlinecolor": "#2a3f5f"
            },
            "baxis": {
             "endlinecolor": "#2a3f5f",
             "gridcolor": "white",
             "linecolor": "white",
             "minorgridcolor": "white",
             "startlinecolor": "#2a3f5f"
            },
            "type": "carpet"
           }
          ],
          "choropleth": [
           {
            "colorbar": {
             "outlinewidth": 0,
             "ticks": ""
            },
            "type": "choropleth"
           }
          ],
          "contour": [
           {
            "colorbar": {
             "outlinewidth": 0,
             "ticks": ""
            },
            "colorscale": [
             [
              0,
              "#0d0887"
             ],
             [
              0.1111111111111111,
              "#46039f"
             ],
             [
              0.2222222222222222,
              "#7201a8"
             ],
             [
              0.3333333333333333,
              "#9c179e"
             ],
             [
              0.4444444444444444,
              "#bd3786"
             ],
             [
              0.5555555555555556,
              "#d8576b"
             ],
             [
              0.6666666666666666,
              "#ed7953"
             ],
             [
              0.7777777777777778,
              "#fb9f3a"
             ],
             [
              0.8888888888888888,
              "#fdca26"
             ],
             [
              1,
              "#f0f921"
             ]
            ],
            "type": "contour"
           }
          ],
          "contourcarpet": [
           {
            "colorbar": {
             "outlinewidth": 0,
             "ticks": ""
            },
            "type": "contourcarpet"
           }
          ],
          "heatmap": [
           {
            "colorbar": {
             "outlinewidth": 0,
             "ticks": ""
            },
            "colorscale": [
             [
              0,
              "#0d0887"
             ],
             [
              0.1111111111111111,
              "#46039f"
             ],
             [
              0.2222222222222222,
              "#7201a8"
             ],
             [
              0.3333333333333333,
              "#9c179e"
             ],
             [
              0.4444444444444444,
              "#bd3786"
             ],
             [
              0.5555555555555556,
              "#d8576b"
             ],
             [
              0.6666666666666666,
              "#ed7953"
             ],
             [
              0.7777777777777778,
              "#fb9f3a"
             ],
             [
              0.8888888888888888,
              "#fdca26"
             ],
             [
              1,
              "#f0f921"
             ]
            ],
            "type": "heatmap"
           }
          ],
          "heatmapgl": [
           {
            "colorbar": {
             "outlinewidth": 0,
             "ticks": ""
            },
            "colorscale": [
             [
              0,
              "#0d0887"
             ],
             [
              0.1111111111111111,
              "#46039f"
             ],
             [
              0.2222222222222222,
              "#7201a8"
             ],
             [
              0.3333333333333333,
              "#9c179e"
             ],
             [
              0.4444444444444444,
              "#bd3786"
             ],
             [
              0.5555555555555556,
              "#d8576b"
             ],
             [
              0.6666666666666666,
              "#ed7953"
             ],
             [
              0.7777777777777778,
              "#fb9f3a"
             ],
             [
              0.8888888888888888,
              "#fdca26"
             ],
             [
              1,
              "#f0f921"
             ]
            ],
            "type": "heatmapgl"
           }
          ],
          "histogram": [
           {
            "marker": {
             "pattern": {
              "fillmode": "overlay",
              "size": 10,
              "solidity": 0.2
             }
            },
            "type": "histogram"
           }
          ],
          "histogram2d": [
           {
            "colorbar": {
             "outlinewidth": 0,
             "ticks": ""
            },
            "colorscale": [
             [
              0,
              "#0d0887"
             ],
             [
              0.1111111111111111,
              "#46039f"
             ],
             [
              0.2222222222222222,
              "#7201a8"
             ],
             [
              0.3333333333333333,
              "#9c179e"
             ],
             [
              0.4444444444444444,
              "#bd3786"
             ],
             [
              0.5555555555555556,
              "#d8576b"
             ],
             [
              0.6666666666666666,
              "#ed7953"
             ],
             [
              0.7777777777777778,
              "#fb9f3a"
             ],
             [
              0.8888888888888888,
              "#fdca26"
             ],
             [
              1,
              "#f0f921"
             ]
            ],
            "type": "histogram2d"
           }
          ],
          "histogram2dcontour": [
           {
            "colorbar": {
             "outlinewidth": 0,
             "ticks": ""
            },
            "colorscale": [
             [
              0,
              "#0d0887"
             ],
             [
              0.1111111111111111,
              "#46039f"
             ],
             [
              0.2222222222222222,
              "#7201a8"
             ],
             [
              0.3333333333333333,
              "#9c179e"
             ],
             [
              0.4444444444444444,
              "#bd3786"
             ],
             [
              0.5555555555555556,
              "#d8576b"
             ],
             [
              0.6666666666666666,
              "#ed7953"
             ],
             [
              0.7777777777777778,
              "#fb9f3a"
             ],
             [
              0.8888888888888888,
              "#fdca26"
             ],
             [
              1,
              "#f0f921"
             ]
            ],
            "type": "histogram2dcontour"
           }
          ],
          "mesh3d": [
           {
            "colorbar": {
             "outlinewidth": 0,
             "ticks": ""
            },
            "type": "mesh3d"
           }
          ],
          "parcoords": [
           {
            "line": {
             "colorbar": {
              "outlinewidth": 0,
              "ticks": ""
             }
            },
            "type": "parcoords"
           }
          ],
          "pie": [
           {
            "automargin": true,
            "type": "pie"
           }
          ],
          "scatter": [
           {
            "fillpattern": {
             "fillmode": "overlay",
             "size": 10,
             "solidity": 0.2
            },
            "type": "scatter"
           }
          ],
          "scatter3d": [
           {
            "line": {
             "colorbar": {
              "outlinewidth": 0,
              "ticks": ""
             }
            },
            "marker": {
             "colorbar": {
              "outlinewidth": 0,
              "ticks": ""
             }
            },
            "type": "scatter3d"
           }
          ],
          "scattercarpet": [
           {
            "marker": {
             "colorbar": {
              "outlinewidth": 0,
              "ticks": ""
             }
            },
            "type": "scattercarpet"
           }
          ],
          "scattergeo": [
           {
            "marker": {
             "colorbar": {
              "outlinewidth": 0,
              "ticks": ""
             }
            },
            "type": "scattergeo"
           }
          ],
          "scattergl": [
           {
            "marker": {
             "colorbar": {
              "outlinewidth": 0,
              "ticks": ""
             }
            },
            "type": "scattergl"
           }
          ],
          "scattermapbox": [
           {
            "marker": {
             "colorbar": {
              "outlinewidth": 0,
              "ticks": ""
             }
            },
            "type": "scattermapbox"
           }
          ],
          "scatterpolar": [
           {
            "marker": {
             "colorbar": {
              "outlinewidth": 0,
              "ticks": ""
             }
            },
            "type": "scatterpolar"
           }
          ],
          "scatterpolargl": [
           {
            "marker": {
             "colorbar": {
              "outlinewidth": 0,
              "ticks": ""
             }
            },
            "type": "scatterpolargl"
           }
          ],
          "scatterternary": [
           {
            "marker": {
             "colorbar": {
              "outlinewidth": 0,
              "ticks": ""
             }
            },
            "type": "scatterternary"
           }
          ],
          "surface": [
           {
            "colorbar": {
             "outlinewidth": 0,
             "ticks": ""
            },
            "colorscale": [
             [
              0,
              "#0d0887"
             ],
             [
              0.1111111111111111,
              "#46039f"
             ],
             [
              0.2222222222222222,
              "#7201a8"
             ],
             [
              0.3333333333333333,
              "#9c179e"
             ],
             [
              0.4444444444444444,
              "#bd3786"
             ],
             [
              0.5555555555555556,
              "#d8576b"
             ],
             [
              0.6666666666666666,
              "#ed7953"
             ],
             [
              0.7777777777777778,
              "#fb9f3a"
             ],
             [
              0.8888888888888888,
              "#fdca26"
             ],
             [
              1,
              "#f0f921"
             ]
            ],
            "type": "surface"
           }
          ],
          "table": [
           {
            "cells": {
             "fill": {
              "color": "#EBF0F8"
             },
             "line": {
              "color": "white"
             }
            },
            "header": {
             "fill": {
              "color": "#C8D4E3"
             },
             "line": {
              "color": "white"
             }
            },
            "type": "table"
           }
          ]
         },
         "layout": {
          "annotationdefaults": {
           "arrowcolor": "#2a3f5f",
           "arrowhead": 0,
           "arrowwidth": 1
          },
          "autotypenumbers": "strict",
          "coloraxis": {
           "colorbar": {
            "outlinewidth": 0,
            "ticks": ""
           }
          },
          "colorscale": {
           "diverging": [
            [
             0,
             "#8e0152"
            ],
            [
             0.1,
             "#c51b7d"
            ],
            [
             0.2,
             "#de77ae"
            ],
            [
             0.3,
             "#f1b6da"
            ],
            [
             0.4,
             "#fde0ef"
            ],
            [
             0.5,
             "#f7f7f7"
            ],
            [
             0.6,
             "#e6f5d0"
            ],
            [
             0.7,
             "#b8e186"
            ],
            [
             0.8,
             "#7fbc41"
            ],
            [
             0.9,
             "#4d9221"
            ],
            [
             1,
             "#276419"
            ]
           ],
           "sequential": [
            [
             0,
             "#0d0887"
            ],
            [
             0.1111111111111111,
             "#46039f"
            ],
            [
             0.2222222222222222,
             "#7201a8"
            ],
            [
             0.3333333333333333,
             "#9c179e"
            ],
            [
             0.4444444444444444,
             "#bd3786"
            ],
            [
             0.5555555555555556,
             "#d8576b"
            ],
            [
             0.6666666666666666,
             "#ed7953"
            ],
            [
             0.7777777777777778,
             "#fb9f3a"
            ],
            [
             0.8888888888888888,
             "#fdca26"
            ],
            [
             1,
             "#f0f921"
            ]
           ],
           "sequentialminus": [
            [
             0,
             "#0d0887"
            ],
            [
             0.1111111111111111,
             "#46039f"
            ],
            [
             0.2222222222222222,
             "#7201a8"
            ],
            [
             0.3333333333333333,
             "#9c179e"
            ],
            [
             0.4444444444444444,
             "#bd3786"
            ],
            [
             0.5555555555555556,
             "#d8576b"
            ],
            [
             0.6666666666666666,
             "#ed7953"
            ],
            [
             0.7777777777777778,
             "#fb9f3a"
            ],
            [
             0.8888888888888888,
             "#fdca26"
            ],
            [
             1,
             "#f0f921"
            ]
           ]
          },
          "colorway": [
           "#636efa",
           "#EF553B",
           "#00cc96",
           "#ab63fa",
           "#FFA15A",
           "#19d3f3",
           "#FF6692",
           "#B6E880",
           "#FF97FF",
           "#FECB52"
          ],
          "font": {
           "color": "#2a3f5f"
          },
          "geo": {
           "bgcolor": "white",
           "lakecolor": "white",
           "landcolor": "#E5ECF6",
           "showlakes": true,
           "showland": true,
           "subunitcolor": "white"
          },
          "hoverlabel": {
           "align": "left"
          },
          "hovermode": "closest",
          "mapbox": {
           "style": "light"
          },
          "paper_bgcolor": "white",
          "plot_bgcolor": "#E5ECF6",
          "polar": {
           "angularaxis": {
            "gridcolor": "white",
            "linecolor": "white",
            "ticks": ""
           },
           "bgcolor": "#E5ECF6",
           "radialaxis": {
            "gridcolor": "white",
            "linecolor": "white",
            "ticks": ""
           }
          },
          "scene": {
           "xaxis": {
            "backgroundcolor": "#E5ECF6",
            "gridcolor": "white",
            "gridwidth": 2,
            "linecolor": "white",
            "showbackground": true,
            "ticks": "",
            "zerolinecolor": "white"
           },
           "yaxis": {
            "backgroundcolor": "#E5ECF6",
            "gridcolor": "white",
            "gridwidth": 2,
            "linecolor": "white",
            "showbackground": true,
            "ticks": "",
            "zerolinecolor": "white"
           },
           "zaxis": {
            "backgroundcolor": "#E5ECF6",
            "gridcolor": "white",
            "gridwidth": 2,
            "linecolor": "white",
            "showbackground": true,
            "ticks": "",
            "zerolinecolor": "white"
           }
          },
          "shapedefaults": {
           "line": {
            "color": "#2a3f5f"
           }
          },
          "ternary": {
           "aaxis": {
            "gridcolor": "white",
            "linecolor": "white",
            "ticks": ""
           },
           "baxis": {
            "gridcolor": "white",
            "linecolor": "white",
            "ticks": ""
           },
           "bgcolor": "#E5ECF6",
           "caxis": {
            "gridcolor": "white",
            "linecolor": "white",
            "ticks": ""
           }
          },
          "title": {
           "x": 0.05
          },
          "xaxis": {
           "automargin": true,
           "gridcolor": "white",
           "linecolor": "white",
           "ticks": "",
           "title": {
            "standoff": 15
           },
           "zerolinecolor": "white",
           "zerolinewidth": 2
          },
          "yaxis": {
           "automargin": true,
           "gridcolor": "white",
           "linecolor": "white",
           "ticks": "",
           "title": {
            "standoff": 15
           },
           "zerolinecolor": "white",
           "zerolinewidth": 2
          }
         }
        },
        "title": {
         "text": "Распределение объема удаленной работы по всем работникам в сфере DS"
        },
        "width": 1000,
        "xaxis": {
         "anchor": "y",
         "domain": [
          0,
          1
         ],
         "tickmode": "array",
         "ticktext": [
          "0",
          "50",
          "100"
         ],
         "tickvals": [
          0,
          50,
          100
         ],
         "title": {
          "text": "Объем удаленной работы, %"
         }
        },
        "yaxis": {
         "anchor": "x",
         "domain": [
          0,
          1
         ],
         "title": {
          "text": "Частота"
         }
        }
       }
      }
     },
     "metadata": {},
     "output_type": "display_data"
    }
   ],
   "source": [
    "#Построим гистограмму по признаку объема работы, выполняемой удаленно\n",
    "fig = px.histogram(\n",
    "    data_frame=ds_salaries,\n",
    "    x='remote_ratio',\n",
    "    title='Распределение объема удаленной работы по всем работникам в сфере DS',\n",
    "    width=1000,\n",
    "    height=600,\n",
    "    nbins=len(ds_salaries['remote_ratio'].unique()),\n",
    "    histfunc='count',\n",
    ")\n",
    "fig.update_xaxes(\n",
    "    title_text='Объем удаленной работы, %',\n",
    "    tickmode='array',\n",
    "    tickvals=sorted(ds_salaries['remote_ratio'].unique()),\n",
    "    ticktext=[str(ratio) for ratio in sorted(ds_salaries['remote_ratio'].unique())],\n",
    ")\n",
    "fig.update_yaxes(title_text='Частота')\n",
    "fig.show()\n"
   ]
  },
  {
   "cell_type": "code",
   "execution_count": 214,
   "metadata": {},
   "outputs": [
    {
     "data": {
      "text/html": [
       "<div>\n",
       "<style scoped>\n",
       "    .dataframe tbody tr th:only-of-type {\n",
       "        vertical-align: middle;\n",
       "    }\n",
       "\n",
       "    .dataframe tbody tr th {\n",
       "        vertical-align: top;\n",
       "    }\n",
       "\n",
       "    .dataframe thead th {\n",
       "        text-align: right;\n",
       "    }\n",
       "</style>\n",
       "<table border=\"1\" class=\"dataframe\">\n",
       "  <thead>\n",
       "    <tr style=\"text-align: right;\">\n",
       "      <th></th>\n",
       "      <th>Объем удаленной работы</th>\n",
       "    </tr>\n",
       "  </thead>\n",
       "  <tbody>\n",
       "    <tr>\n",
       "      <th>count</th>\n",
       "      <td>599.00</td>\n",
       "    </tr>\n",
       "    <tr>\n",
       "      <th>mean</th>\n",
       "      <td>70.78</td>\n",
       "    </tr>\n",
       "    <tr>\n",
       "      <th>std</th>\n",
       "      <td>40.76</td>\n",
       "    </tr>\n",
       "    <tr>\n",
       "      <th>min</th>\n",
       "      <td>0.00</td>\n",
       "    </tr>\n",
       "    <tr>\n",
       "      <th>25%</th>\n",
       "      <td>50.00</td>\n",
       "    </tr>\n",
       "    <tr>\n",
       "      <th>50%</th>\n",
       "      <td>100.00</td>\n",
       "    </tr>\n",
       "    <tr>\n",
       "      <th>75%</th>\n",
       "      <td>100.00</td>\n",
       "    </tr>\n",
       "    <tr>\n",
       "      <th>max</th>\n",
       "      <td>100.00</td>\n",
       "    </tr>\n",
       "  </tbody>\n",
       "</table>\n",
       "</div>"
      ],
      "text/plain": [
       "       Объем удаленной работы\n",
       "count                  599.00\n",
       "mean                    70.78\n",
       "std                     40.76\n",
       "min                      0.00\n",
       "25%                     50.00\n",
       "50%                    100.00\n",
       "75%                    100.00\n",
       "max                    100.00"
      ]
     },
     "execution_count": 214,
     "metadata": {},
     "output_type": "execute_result"
    }
   ],
   "source": [
    "data_agg = ds_salaries['remote_ratio'].describe().round(2).to_frame()\n",
    "data_agg.columns = ['Объем удаленной работы']\n",
    "data_agg"
   ]
  },
  {
   "cell_type": "markdown",
   "metadata": {},
   "source": [
    "Из распределения видно, что основной объем работы выполняется удаленно."
   ]
  },
  {
   "cell_type": "markdown",
   "metadata": {},
   "source": [
    "### Распределение выплат заработной платы в зависимости от опыта работы"
   ]
  },
  {
   "cell_type": "code",
   "execution_count": 215,
   "metadata": {},
   "outputs": [
    {
     "name": "stderr",
     "output_type": "stream",
     "text": [
      "C:\\Users\\Андрей\\AppData\\Local\\Temp\\ipykernel_1224\\329454478.py:2: FutureWarning:\n",
      "\n",
      "\n",
      "\n",
      "Passing `palette` without assigning `hue` is deprecated and will be removed in v0.14.0. Assign the `y` variable to `hue` and set `legend=False` for the same effect.\n",
      "\n",
      "\n"
     ]
    },
    {
     "data": {
      "image/png": "[encoded data removed]",
      "text/plain": [
       "<Figure size 640x480 with 1 Axes>"
      ]
     },
     "metadata": {},
     "output_type": "display_data"
    }
   ],
   "source": [
    "#Построим рапределение выплат заработной платы в зависимости от опыта работы\n",
    "ax = sns.boxplot(ds_salaries, \n",
    "                 x='salary_in_usd', \n",
    "                 y='experience_level', \n",
    "                 orient='h',\n",
    "                 palette= ['green', 'blue', 'orange', 'red'], \n",
    "                 medianprops={'color':'black', 'linestyle': '--'})\n",
    "ax.set(xlabel='Размер заработной платы', ylabel='Опыт работы')\n",
    "plt.title('Распределение заработной платы по опыту работы')\n",
    "plt.show()"
   ]
  },
  {
   "cell_type": "code",
   "execution_count": 216,
   "metadata": {},
   "outputs": [
    {
     "name": "stdout",
     "output_type": "stream",
     "text": [
      "Заработная плата в зависимости от опыта работы\n"
     ]
    },
    {
     "data": {
      "text/html": [
       "<div>\n",
       "<style scoped>\n",
       "    .dataframe tbody tr th:only-of-type {\n",
       "        vertical-align: middle;\n",
       "    }\n",
       "\n",
       "    .dataframe tbody tr th {\n",
       "        vertical-align: top;\n",
       "    }\n",
       "\n",
       "    .dataframe thead th {\n",
       "        text-align: right;\n",
       "    }\n",
       "</style>\n",
       "<table border=\"1\" class=\"dataframe\">\n",
       "  <thead>\n",
       "    <tr style=\"text-align: right;\">\n",
       "      <th></th>\n",
       "      <th>count</th>\n",
       "      <th>mean</th>\n",
       "      <th>std</th>\n",
       "      <th>min</th>\n",
       "      <th>25%</th>\n",
       "      <th>50%</th>\n",
       "      <th>75%</th>\n",
       "      <th>max</th>\n",
       "    </tr>\n",
       "    <tr>\n",
       "      <th>experience_level</th>\n",
       "      <th></th>\n",
       "      <th></th>\n",
       "      <th></th>\n",
       "      <th></th>\n",
       "      <th></th>\n",
       "      <th></th>\n",
       "      <th></th>\n",
       "      <th></th>\n",
       "    </tr>\n",
       "  </thead>\n",
       "  <tbody>\n",
       "    <tr>\n",
       "      <th>EN</th>\n",
       "      <td>88.0</td>\n",
       "      <td>61643.32</td>\n",
       "      <td>44395.54</td>\n",
       "      <td>4000.0</td>\n",
       "      <td>27505.00</td>\n",
       "      <td>56500.0</td>\n",
       "      <td>85425.75</td>\n",
       "      <td>250000.0</td>\n",
       "    </tr>\n",
       "    <tr>\n",
       "      <th>EX</th>\n",
       "      <td>24.0</td>\n",
       "      <td>173674.71</td>\n",
       "      <td>72039.57</td>\n",
       "      <td>69741.0</td>\n",
       "      <td>127046.75</td>\n",
       "      <td>160771.0</td>\n",
       "      <td>225500.00</td>\n",
       "      <td>325000.0</td>\n",
       "    </tr>\n",
       "    <tr>\n",
       "      <th>MI</th>\n",
       "      <td>210.0</td>\n",
       "      <td>82953.14</td>\n",
       "      <td>48222.34</td>\n",
       "      <td>2859.0</td>\n",
       "      <td>47461.50</td>\n",
       "      <td>76357.0</td>\n",
       "      <td>110000.00</td>\n",
       "      <td>270000.0</td>\n",
       "    </tr>\n",
       "    <tr>\n",
       "      <th>SE</th>\n",
       "      <td>277.0</td>\n",
       "      <td>135797.26</td>\n",
       "      <td>51162.12</td>\n",
       "      <td>18907.0</td>\n",
       "      <td>100000.00</td>\n",
       "      <td>135000.0</td>\n",
       "      <td>170000.00</td>\n",
       "      <td>276000.0</td>\n",
       "    </tr>\n",
       "  </tbody>\n",
       "</table>\n",
       "</div>"
      ],
      "text/plain": [
       "                  count       mean       std      min        25%       50%  \\\n",
       "experience_level                                                             \n",
       "EN                 88.0   61643.32  44395.54   4000.0   27505.00   56500.0   \n",
       "EX                 24.0  173674.71  72039.57  69741.0  127046.75  160771.0   \n",
       "MI                210.0   82953.14  48222.34   2859.0   47461.50   76357.0   \n",
       "SE                277.0  135797.26  51162.12  18907.0  100000.00  135000.0   \n",
       "\n",
       "                        75%       max  \n",
       "experience_level                       \n",
       "EN                 85425.75  250000.0  \n",
       "EX                225500.00  325000.0  \n",
       "MI                110000.00  270000.0  \n",
       "SE                170000.00  276000.0  "
      ]
     },
     "execution_count": 216,
     "metadata": {},
     "output_type": "execute_result"
    }
   ],
   "source": [
    "data_agg = ds_salaries.groupby('experience_level')['salary_in_usd'].describe().round(2)\n",
    "print('Заработная плата в зависимости от опыта работы')\n",
    "data_agg"
   ]
  },
  {
   "cell_type": "markdown",
   "metadata": {},
   "source": [
    "Распределение заработной платы закономерно. С увеличением опыта работы заработная плата растет."
   ]
  },
  {
   "cell_type": "markdown",
   "metadata": {},
   "source": [
    "### Распределение разаботной платы в зависимости от типа трудоустройства"
   ]
  },
  {
   "cell_type": "code",
   "execution_count": 217,
   "metadata": {},
   "outputs": [
    {
     "name": "stderr",
     "output_type": "stream",
     "text": [
      "C:\\Users\\Андрей\\AppData\\Local\\Temp\\ipykernel_1224\\3912474052.py:2: FutureWarning:\n",
      "\n",
      "\n",
      "\n",
      "Passing `palette` without assigning `hue` is deprecated and will be removed in v0.14.0. Assign the `y` variable to `hue` and set `legend=False` for the same effect.\n",
      "\n",
      "\n"
     ]
    },
    {
     "data": {
      "image/png": "[encoded data removed]",
      "text/plain": [
       "<Figure size 640x480 with 1 Axes>"
      ]
     },
     "metadata": {},
     "output_type": "display_data"
    }
   ],
   "source": [
    "#Построим рапределение выплат заработной платы в зависимости от опыта работы\n",
    "ax = sns.boxplot(ds_salaries, \n",
    "                 x='salary_in_usd', \n",
    "                 y='employment_type', \n",
    "                 orient='h',\n",
    "                 palette= ['green', 'blue', 'orange', 'red'], \n",
    "                 medianprops={'color':'black', 'linestyle': '--'})\n",
    "ax.set(xlabel='Размер заработной платы', ylabel='Тип трудоустройства')\n",
    "plt.title('Распределение заработной платы по типу трудоустройства')\n",
    "plt.show()"
   ]
  },
  {
   "cell_type": "code",
   "execution_count": 218,
   "metadata": {},
   "outputs": [
    {
     "name": "stdout",
     "output_type": "stream",
     "text": [
      "Заработная плата в зависимости от типа трудоустройства\n"
     ]
    },
    {
     "data": {
      "text/html": [
       "<div>\n",
       "<style scoped>\n",
       "    .dataframe tbody tr th:only-of-type {\n",
       "        vertical-align: middle;\n",
       "    }\n",
       "\n",
       "    .dataframe tbody tr th {\n",
       "        vertical-align: top;\n",
       "    }\n",
       "\n",
       "    .dataframe thead th {\n",
       "        text-align: right;\n",
       "    }\n",
       "</style>\n",
       "<table border=\"1\" class=\"dataframe\">\n",
       "  <thead>\n",
       "    <tr style=\"text-align: right;\">\n",
       "      <th></th>\n",
       "      <th>count</th>\n",
       "      <th>mean</th>\n",
       "      <th>std</th>\n",
       "      <th>min</th>\n",
       "      <th>25%</th>\n",
       "      <th>50%</th>\n",
       "      <th>75%</th>\n",
       "      <th>max</th>\n",
       "    </tr>\n",
       "    <tr>\n",
       "      <th>employment_type</th>\n",
       "      <th></th>\n",
       "      <th></th>\n",
       "      <th></th>\n",
       "      <th></th>\n",
       "      <th></th>\n",
       "      <th></th>\n",
       "      <th></th>\n",
       "      <th></th>\n",
       "    </tr>\n",
       "  </thead>\n",
       "  <tbody>\n",
       "    <tr>\n",
       "      <th>CT</th>\n",
       "      <td>4.0</td>\n",
       "      <td>126718.75</td>\n",
       "      <td>101177.15</td>\n",
       "      <td>31875.0</td>\n",
       "      <td>82968.75</td>\n",
       "      <td>102500.0</td>\n",
       "      <td>146250.0</td>\n",
       "      <td>270000.0</td>\n",
       "    </tr>\n",
       "    <tr>\n",
       "      <th>FL</th>\n",
       "      <td>4.0</td>\n",
       "      <td>48000.00</td>\n",
       "      <td>40529.82</td>\n",
       "      <td>12000.0</td>\n",
       "      <td>18000.00</td>\n",
       "      <td>40000.0</td>\n",
       "      <td>70000.0</td>\n",
       "      <td>100000.0</td>\n",
       "    </tr>\n",
       "    <tr>\n",
       "      <th>FT</th>\n",
       "      <td>581.0</td>\n",
       "      <td>109465.11</td>\n",
       "      <td>59014.10</td>\n",
       "      <td>2859.0</td>\n",
       "      <td>63900.00</td>\n",
       "      <td>102839.0</td>\n",
       "      <td>150000.0</td>\n",
       "      <td>325000.0</td>\n",
       "    </tr>\n",
       "    <tr>\n",
       "      <th>PT</th>\n",
       "      <td>10.0</td>\n",
       "      <td>33070.50</td>\n",
       "      <td>31472.91</td>\n",
       "      <td>5409.0</td>\n",
       "      <td>12000.00</td>\n",
       "      <td>18817.5</td>\n",
       "      <td>48370.0</td>\n",
       "      <td>100000.0</td>\n",
       "    </tr>\n",
       "  </tbody>\n",
       "</table>\n",
       "</div>"
      ],
      "text/plain": [
       "                 count       mean        std      min       25%       50%  \\\n",
       "employment_type                                                             \n",
       "CT                 4.0  126718.75  101177.15  31875.0  82968.75  102500.0   \n",
       "FL                 4.0   48000.00   40529.82  12000.0  18000.00   40000.0   \n",
       "FT               581.0  109465.11   59014.10   2859.0  63900.00  102839.0   \n",
       "PT                10.0   33070.50   31472.91   5409.0  12000.00   18817.5   \n",
       "\n",
       "                      75%       max  \n",
       "employment_type                      \n",
       "CT               146250.0  270000.0  \n",
       "FL                70000.0  100000.0  \n",
       "FT               150000.0  325000.0  \n",
       "PT                48370.0  100000.0  "
      ]
     },
     "execution_count": 218,
     "metadata": {},
     "output_type": "execute_result"
    }
   ],
   "source": [
    "data_agg = ds_salaries.groupby('employment_type')['salary_in_usd'].describe().round(2)\n",
    "print('Заработная плата в зависимости от типа трудоустройства')\n",
    "data_agg"
   ]
  },
  {
   "cell_type": "markdown",
   "metadata": {},
   "source": [
    "В основном наблюдается тип трудоустройства на полный рабочий день. Самая высокая заработная плата, также у работников с полным рабочим днем."
   ]
  },
  {
   "cell_type": "markdown",
   "metadata": {},
   "source": [
    "### Заработная плата работника в зависимоти от его роли"
   ]
  },
  {
   "cell_type": "code",
   "execution_count": 219,
   "metadata": {},
   "outputs": [
    {
     "data": {
      "application/vnd.plotly.v1+json": {
       "config": {
        "plotlyServerURL": "https://plot.ly"
       },
       "data": [
        {
         "branchvalues": "total",
         "domain": {
          "x": [
           0,
           1
          ],
          "y": [
           0,
           1
          ]
         },
         "hovertemplate": "labels=%{label}<br>salary_in_usd=%{value}<br>parent=%{parent}<br>id=%{id}<extra></extra>",
         "ids": [
          "3D Computer Vision Researcher",
          "AI Scientist",
          "Analytics Engineer",
          "Applied Data Scientist",
          "Applied Machine Learning Scientist",
          "BI Data Analyst",
          "Big Data Architect",
          "Big Data Engineer",
          "Business Data Analyst",
          "Cloud Data Engineer",
          "Computer Vision Engineer",
          "Computer Vision Software Engineer",
          "Data Analyst",
          "Data Analytics Engineer",
          "Data Analytics Manager",
          "Data Architect",
          "Data Engineer",
          "Data Engineering Manager",
          "Data Science Consultant",
          "Data Science Engineer",
          "Data Science Manager",
          "Data Scientist",
          "Data Specialist",
          "Director of Data Engineering",
          "Director of Data Science",
          "ETL Developer",
          "Finance Data Analyst",
          "Financial Data Analyst",
          "Head of Data",
          "Head of Data Science",
          "Head of Machine Learning",
          "Lead Data Analyst",
          "Lead Data Engineer",
          "Lead Data Scientist",
          "Lead Machine Learning Engineer",
          "ML Engineer",
          "Machine Learning Developer",
          "Machine Learning Engineer",
          "Machine Learning Infrastructure Engineer",
          "Machine Learning Manager",
          "Machine Learning Scientist",
          "Marketing Data Analyst",
          "NLP Engineer",
          "Principal Data Analyst",
          "Principal Data Engineer",
          "Principal Data Scientist",
          "Product Data Analyst",
          "Research Scientist",
          "Staff Data Scientist"
         ],
         "labels": [
          "3D Computer Vision Researcher",
          "AI Scientist",
          "Analytics Engineer",
          "Applied Data Scientist",
          "Applied Machine Learning Scientist",
          "BI Data Analyst",
          "Big Data Architect",
          "Big Data Engineer",
          "Business Data Analyst",
          "Cloud Data Engineer",
          "Computer Vision Engineer",
          "Computer Vision Software Engineer",
          "Data Analyst",
          "Data Analytics Engineer",
          "Data Analytics Manager",
          "Data Architect",
          "Data Engineer",
          "Data Engineering Manager",
          "Data Science Consultant",
          "Data Science Engineer",
          "Data Science Manager",
          "Data Scientist",
          "Data Specialist",
          "Director of Data Engineering",
          "Director of Data Science",
          "ETL Developer",
          "Finance Data Analyst",
          "Financial Data Analyst",
          "Head of Data",
          "Head of Data Science",
          "Head of Machine Learning",
          "Lead Data Analyst",
          "Lead Data Engineer",
          "Lead Data Scientist",
          "Lead Machine Learning Engineer",
          "ML Engineer",
          "Machine Learning Developer",
          "Machine Learning Engineer",
          "Machine Learning Infrastructure Engineer",
          "Machine Learning Manager",
          "Machine Learning Scientist",
          "Marketing Data Analyst",
          "NLP Engineer",
          "Principal Data Analyst",
          "Principal Data Engineer",
          "Principal Data Scientist",
          "Product Data Analyst",
          "Research Scientist",
          "Staff Data Scientist"
         ],
         "name": "",
         "parents": [
          "",
          "",
          "",
          "",
          "",
          "",
          "",
          "",
          "",
          "",
          "",
          "",
          "",
          "",
          "",
          "",
          "",
          "",
          "",
          "",
          "",
          "",
          "",
          "",
          "",
          "",
          "",
          "",
          "",
          "",
          "",
          "",
          "",
          "",
          "",
          "",
          "",
          "",
          "",
          "",
          "",
          "",
          "",
          "",
          "",
          "",
          "",
          "",
          ""
         ],
         "type": "treemap",
         "values": [
          5409,
          66135.57142857143,
          175000,
          124568.75,
          48425,
          74755.16666666667,
          99703,
          51974,
          76691.2,
          124647,
          44419.333333333336,
          105248.66666666667,
          92893.06185567011,
          64799.25,
          127134.28571428571,
          177873.9090909091,
          112725,
          123227.2,
          69420.71428571429,
          75803.33333333333,
          158328.5,
          106048.30985915494,
          165000,
          156738,
          195074,
          54957,
          61896,
          100000,
          160162.6,
          146718.75,
          79039,
          92203,
          139724.5,
          115190,
          87932,
          117504,
          85860.66666666667,
          104880.14634146342,
          101145,
          117104,
          158412.5,
          88654,
          37236,
          122500,
          192500,
          181782.83333333334,
          13036,
          86287.46666666666,
          105000
         ]
        }
       ],
       "layout": {
        "height": 500,
        "legend": {
         "tracegroupgap": 0
        },
        "margin": {
         "t": 60
        },
        "template": {
         "data": {
          "bar": [
           {
            "error_x": {
             "color": "#2a3f5f"
            },
            "error_y": {
             "color": "#2a3f5f"
            },
            "marker": {
             "line": {
              "color": "#E5ECF6",
              "width": 0.5
             },
             "pattern": {
              "fillmode": "overlay",
              "size": 10,
              "solidity": 0.2
             }
            },
            "type": "bar"
           }
          ],
          "barpolar": [
           {
            "marker": {
             "line": {
              "color": "#E5ECF6",
              "width": 0.5
             },
             "pattern": {
              "fillmode": "overlay",
              "size": 10,
              "solidity": 0.2
             }
            },
            "type": "barpolar"
           }
          ],
          "carpet": [
           {
            "aaxis": {
             "endlinecolor": "#2a3f5f",
             "gridcolor": "white",
             "linecolor": "white",
             "minorgridcolor": "white",
             "startlinecolor": "#2a3f5f"
            },
            "baxis": {
             "endlinecolor": "#2a3f5f",
             "gridcolor": "white",
             "linecolor": "white",
             "minorgridcolor": "white",
             "startlinecolor": "#2a3f5f"
            },
            "type": "carpet"
           }
          ],
          "choropleth": [
           {
            "colorbar": {
             "outlinewidth": 0,
             "ticks": ""
            },
            "type": "choropleth"
           }
          ],
          "contour": [
           {
            "colorbar": {
             "outlinewidth": 0,
             "ticks": ""
            },
            "colorscale": [
             [
              0,
              "#0d0887"
             ],
             [
              0.1111111111111111,
              "#46039f"
             ],
             [
              0.2222222222222222,
              "#7201a8"
             ],
             [
              0.3333333333333333,
              "#9c179e"
             ],
             [
              0.4444444444444444,
              "#bd3786"
             ],
             [
              0.5555555555555556,
              "#d8576b"
             ],
             [
              0.6666666666666666,
              "#ed7953"
             ],
             [
              0.7777777777777778,
              "#fb9f3a"
             ],
             [
              0.8888888888888888,
              "#fdca26"
             ],
             [
              1,
              "#f0f921"
             ]
            ],
            "type": "contour"
           }
          ],
          "contourcarpet": [
           {
            "colorbar": {
             "outlinewidth": 0,
             "ticks": ""
            },
            "type": "contourcarpet"
           }
          ],
          "heatmap": [
           {
            "colorbar": {
             "outlinewidth": 0,
             "ticks": ""
            },
            "colorscale": [
             [
              0,
              "#0d0887"
             ],
             [
              0.1111111111111111,
              "#46039f"
             ],
             [
              0.2222222222222222,
              "#7201a8"
             ],
             [
              0.3333333333333333,
              "#9c179e"
             ],
             [
              0.4444444444444444,
              "#bd3786"
             ],
             [
              0.5555555555555556,
              "#d8576b"
             ],
             [
              0.6666666666666666,
              "#ed7953"
             ],
             [
              0.7777777777777778,
              "#fb9f3a"
             ],
             [
              0.8888888888888888,
              "#fdca26"
             ],
             [
              1,
              "#f0f921"
             ]
            ],
            "type": "heatmap"
           }
          ],
          "heatmapgl": [
           {
            "colorbar": {
             "outlinewidth": 0,
             "ticks": ""
            },
            "colorscale": [
             [
              0,
              "#0d0887"
             ],
             [
              0.1111111111111111,
              "#46039f"
             ],
             [
              0.2222222222222222,
              "#7201a8"
             ],
             [
              0.3333333333333333,
              "#9c179e"
             ],
             [
              0.4444444444444444,
              "#bd3786"
             ],
             [
              0.5555555555555556,
              "#d8576b"
             ],
             [
              0.6666666666666666,
              "#ed7953"
             ],
             [
              0.7777777777777778,
              "#fb9f3a"
             ],
             [
              0.8888888888888888,
              "#fdca26"
             ],
             [
              1,
              "#f0f921"
             ]
            ],
            "type": "heatmapgl"
           }
          ],
          "histogram": [
           {
            "marker": {
             "pattern": {
              "fillmode": "overlay",
              "size": 10,
              "solidity": 0.2
             }
            },
            "type": "histogram"
           }
          ],
          "histogram2d": [
           {
            "colorbar": {
             "outlinewidth": 0,
             "ticks": ""
            },
            "colorscale": [
             [
              0,
              "#0d0887"
             ],
             [
              0.1111111111111111,
              "#46039f"
             ],
             [
              0.2222222222222222,
              "#7201a8"
             ],
             [
              0.3333333333333333,
              "#9c179e"
             ],
             [
              0.4444444444444444,
              "#bd3786"
             ],
             [
              0.5555555555555556,
              "#d8576b"
             ],
             [
              0.6666666666666666,
              "#ed7953"
             ],
             [
              0.7777777777777778,
              "#fb9f3a"
             ],
             [
              0.8888888888888888,
              "#fdca26"
             ],
             [
              1,
              "#f0f921"
             ]
            ],
            "type": "histogram2d"
           }
          ],
          "histogram2dcontour": [
           {
            "colorbar": {
             "outlinewidth": 0,
             "ticks": ""
            },
            "colorscale": [
             [
              0,
              "#0d0887"
             ],
             [
              0.1111111111111111,
              "#46039f"
             ],
             [
              0.2222222222222222,
              "#7201a8"
             ],
             [
              0.3333333333333333,
              "#9c179e"
             ],
             [
              0.4444444444444444,
              "#bd3786"
             ],
             [
              0.5555555555555556,
              "#d8576b"
             ],
             [
              0.6666666666666666,
              "#ed7953"
             ],
             [
              0.7777777777777778,
              "#fb9f3a"
             ],
             [
              0.8888888888888888,
              "#fdca26"
             ],
             [
              1,
              "#f0f921"
             ]
            ],
            "type": "histogram2dcontour"
           }
          ],
          "mesh3d": [
           {
            "colorbar": {
             "outlinewidth": 0,
             "ticks": ""
            },
            "type": "mesh3d"
           }
          ],
          "parcoords": [
           {
            "line": {
             "colorbar": {
              "outlinewidth": 0,
              "ticks": ""
             }
            },
            "type": "parcoords"
           }
          ],
          "pie": [
           {
            "automargin": true,
            "type": "pie"
           }
          ],
          "scatter": [
           {
            "fillpattern": {
             "fillmode": "overlay",
             "size": 10,
             "solidity": 0.2
            },
            "type": "scatter"
           }
          ],
          "scatter3d": [
           {
            "line": {
             "colorbar": {
              "outlinewidth": 0,
              "ticks": ""
             }
            },
            "marker": {
             "colorbar": {
              "outlinewidth": 0,
              "ticks": ""
             }
            },
            "type": "scatter3d"
           }
          ],
          "scattercarpet": [
           {
            "marker": {
             "colorbar": {
              "outlinewidth": 0,
              "ticks": ""
             }
            },
            "type": "scattercarpet"
           }
          ],
          "scattergeo": [
           {
            "marker": {
             "colorbar": {
              "outlinewidth": 0,
              "ticks": ""
             }
            },
            "type": "scattergeo"
           }
          ],
          "scattergl": [
           {
            "marker": {
             "colorbar": {
              "outlinewidth": 0,
              "ticks": ""
             }
            },
            "type": "scattergl"
           }
          ],
          "scattermapbox": [
           {
            "marker": {
             "colorbar": {
              "outlinewidth": 0,
              "ticks": ""
             }
            },
            "type": "scattermapbox"
           }
          ],
          "scatterpolar": [
           {
            "marker": {
             "colorbar": {
              "outlinewidth": 0,
              "ticks": ""
             }
            },
            "type": "scatterpolar"
           }
          ],
          "scatterpolargl": [
           {
            "marker": {
             "colorbar": {
              "outlinewidth": 0,
              "ticks": ""
             }
            },
            "type": "scatterpolargl"
           }
          ],
          "scatterternary": [
           {
            "marker": {
             "colorbar": {
              "outlinewidth": 0,
              "ticks": ""
             }
            },
            "type": "scatterternary"
           }
          ],
          "surface": [
           {
            "colorbar": {
             "outlinewidth": 0,
             "ticks": ""
            },
            "colorscale": [
             [
              0,
              "#0d0887"
             ],
             [
              0.1111111111111111,
              "#46039f"
             ],
             [
              0.2222222222222222,
              "#7201a8"
             ],
             [
              0.3333333333333333,
              "#9c179e"
             ],
             [
              0.4444444444444444,
              "#bd3786"
             ],
             [
              0.5555555555555556,
              "#d8576b"
             ],
             [
              0.6666666666666666,
              "#ed7953"
             ],
             [
              0.7777777777777778,
              "#fb9f3a"
             ],
             [
              0.8888888888888888,
              "#fdca26"
             ],
             [
              1,
              "#f0f921"
             ]
            ],
            "type": "surface"
           }
          ],
          "table": [
           {
            "cells": {
             "fill": {
              "color": "#EBF0F8"
             },
             "line": {
              "color": "white"
             }
            },
            "header": {
             "fill": {
              "color": "#C8D4E3"
             },
             "line": {
              "color": "white"
             }
            },
            "type": "table"
           }
          ]
         },
         "layout": {
          "annotationdefaults": {
           "arrowcolor": "#2a3f5f",
           "arrowhead": 0,
           "arrowwidth": 1
          },
          "autotypenumbers": "strict",
          "coloraxis": {
           "colorbar": {
            "outlinewidth": 0,
            "ticks": ""
           }
          },
          "colorscale": {
           "diverging": [
            [
             0,
             "#8e0152"
            ],
            [
             0.1,
             "#c51b7d"
            ],
            [
             0.2,
             "#de77ae"
            ],
            [
             0.3,
             "#f1b6da"
            ],
            [
             0.4,
             "#fde0ef"
            ],
            [
             0.5,
             "#f7f7f7"
            ],
            [
             0.6,
             "#e6f5d0"
            ],
            [
             0.7,
             "#b8e186"
            ],
            [
             0.8,
             "#7fbc41"
            ],
            [
             0.9,
             "#4d9221"
            ],
            [
             1,
             "#276419"
            ]
           ],
           "sequential": [
            [
             0,
             "#0d0887"
            ],
            [
             0.1111111111111111,
             "#46039f"
            ],
            [
             0.2222222222222222,
             "#7201a8"
            ],
            [
             0.3333333333333333,
             "#9c179e"
            ],
            [
             0.4444444444444444,
             "#bd3786"
            ],
            [
             0.5555555555555556,
             "#d8576b"
            ],
            [
             0.6666666666666666,
             "#ed7953"
            ],
            [
             0.7777777777777778,
             "#fb9f3a"
            ],
            [
             0.8888888888888888,
             "#fdca26"
            ],
            [
             1,
             "#f0f921"
            ]
           ],
           "sequentialminus": [
            [
             0,
             "#0d0887"
            ],
            [
             0.1111111111111111,
             "#46039f"
            ],
            [
             0.2222222222222222,
             "#7201a8"
            ],
            [
             0.3333333333333333,
             "#9c179e"
            ],
            [
             0.4444444444444444,
             "#bd3786"
            ],
            [
             0.5555555555555556,
             "#d8576b"
            ],
            [
             0.6666666666666666,
             "#ed7953"
            ],
            [
             0.7777777777777778,
             "#fb9f3a"
            ],
            [
             0.8888888888888888,
             "#fdca26"
            ],
            [
             1,
             "#f0f921"
            ]
           ]
          },
          "colorway": [
           "#636efa",
           "#EF553B",
           "#00cc96",
           "#ab63fa",
           "#FFA15A",
           "#19d3f3",
           "#FF6692",
           "#B6E880",
           "#FF97FF",
           "#FECB52"
          ],
          "font": {
           "color": "#2a3f5f"
          },
          "geo": {
           "bgcolor": "white",
           "lakecolor": "white",
           "landcolor": "#E5ECF6",
           "showlakes": true,
           "showland": true,
           "subunitcolor": "white"
          },
          "hoverlabel": {
           "align": "left"
          },
          "hovermode": "closest",
          "mapbox": {
           "style": "light"
          },
          "paper_bgcolor": "white",
          "plot_bgcolor": "#E5ECF6",
          "polar": {
           "angularaxis": {
            "gridcolor": "white",
            "linecolor": "white",
            "ticks": ""
           },
           "bgcolor": "#E5ECF6",
           "radialaxis": {
            "gridcolor": "white",
            "linecolor": "white",
            "ticks": ""
           }
          },
          "scene": {
           "xaxis": {
            "backgroundcolor": "#E5ECF6",
            "gridcolor": "white",
            "gridwidth": 2,
            "linecolor": "white",
            "showbackground": true,
            "ticks": "",
            "zerolinecolor": "white"
           },
           "yaxis": {
            "backgroundcolor": "#E5ECF6",
            "gridcolor": "white",
            "gridwidth": 2,
            "linecolor": "white",
            "showbackground": true,
            "ticks": "",
            "zerolinecolor": "white"
           },
           "zaxis": {
            "backgroundcolor": "#E5ECF6",
            "gridcolor": "white",
            "gridwidth": 2,
            "linecolor": "white",
            "showbackground": true,
            "ticks": "",
            "zerolinecolor": "white"
           }
          },
          "shapedefaults": {
           "line": {
            "color": "#2a3f5f"
           }
          },
          "ternary": {
           "aaxis": {
            "gridcolor": "white",
            "linecolor": "white",
            "ticks": ""
           },
           "baxis": {
            "gridcolor": "white",
            "linecolor": "white",
            "ticks": ""
           },
           "bgcolor": "#E5ECF6",
           "caxis": {
            "gridcolor": "white",
            "linecolor": "white",
            "ticks": ""
           }
          },
          "title": {
           "x": 0.05
          },
          "xaxis": {
           "automargin": true,
           "gridcolor": "white",
           "linecolor": "white",
           "ticks": "",
           "title": {
            "standoff": 15
           },
           "zerolinecolor": "white",
           "zerolinewidth": 2
          },
          "yaxis": {
           "automargin": true,
           "gridcolor": "white",
           "linecolor": "white",
           "ticks": "",
           "title": {
            "standoff": 15
           },
           "zerolinecolor": "white",
           "zerolinewidth": 2
          }
         }
        },
        "width": 1000
       }
      }
     },
     "metadata": {},
     "output_type": "display_data"
    }
   ],
   "source": [
    "#Построим иерархическую диаграмму зависимости заработной платы работника от его роли\n",
    "treemap_data = ds_salaries.groupby(\n",
    "    by='job_title',\n",
    "    as_index=False\n",
    ")['salary_in_usd'].mean()\n",
    "\n",
    "fig = px.treemap(\n",
    "    data_frame= treemap_data,\n",
    "    path=['job_title'],\n",
    "    values='salary_in_usd',\n",
    "    height=500,\n",
    "    width=1000\n",
    ")\n",
    "fig.show()"
   ]
  },
  {
   "cell_type": "code",
   "execution_count": 220,
   "metadata": {},
   "outputs": [
    {
     "name": "stdout",
     "output_type": "stream",
     "text": [
      "Заработная плата в зависимости от роли сотрудника\n"
     ]
    },
    {
     "data": {
      "text/html": [
       "<div>\n",
       "<style scoped>\n",
       "    .dataframe tbody tr th:only-of-type {\n",
       "        vertical-align: middle;\n",
       "    }\n",
       "\n",
       "    .dataframe tbody tr th {\n",
       "        vertical-align: top;\n",
       "    }\n",
       "\n",
       "    .dataframe thead th {\n",
       "        text-align: right;\n",
       "    }\n",
       "</style>\n",
       "<table border=\"1\" class=\"dataframe\">\n",
       "  <thead>\n",
       "    <tr style=\"text-align: right;\">\n",
       "      <th></th>\n",
       "      <th>count</th>\n",
       "      <th>mean</th>\n",
       "      <th>std</th>\n",
       "      <th>min</th>\n",
       "      <th>25%</th>\n",
       "      <th>50%</th>\n",
       "      <th>75%</th>\n",
       "      <th>max</th>\n",
       "    </tr>\n",
       "    <tr>\n",
       "      <th>job_title</th>\n",
       "      <th></th>\n",
       "      <th></th>\n",
       "      <th></th>\n",
       "      <th></th>\n",
       "      <th></th>\n",
       "      <th></th>\n",
       "      <th></th>\n",
       "      <th></th>\n",
       "    </tr>\n",
       "  </thead>\n",
       "  <tbody>\n",
       "    <tr>\n",
       "      <th>3D Computer Vision Researcher</th>\n",
       "      <td>1.0</td>\n",
       "      <td>5409.00</td>\n",
       "      <td>NaN</td>\n",
       "      <td>5409.0</td>\n",
       "      <td>5409.00</td>\n",
       "      <td>5409.0</td>\n",
       "      <td>5409.0</td>\n",
       "      <td>5409.0</td>\n",
       "    </tr>\n",
       "    <tr>\n",
       "      <th>AI Scientist</th>\n",
       "      <td>7.0</td>\n",
       "      <td>66135.57</td>\n",
       "      <td>70152.16</td>\n",
       "      <td>12000.0</td>\n",
       "      <td>15026.50</td>\n",
       "      <td>45896.0</td>\n",
       "      <td>87500.0</td>\n",
       "      <td>200000.0</td>\n",
       "    </tr>\n",
       "    <tr>\n",
       "      <th>Analytics Engineer</th>\n",
       "      <td>4.0</td>\n",
       "      <td>175000.00</td>\n",
       "      <td>29508.08</td>\n",
       "      <td>135000.0</td>\n",
       "      <td>165000.00</td>\n",
       "      <td>179850.0</td>\n",
       "      <td>189850.0</td>\n",
       "      <td>205300.0</td>\n",
       "    </tr>\n",
       "    <tr>\n",
       "      <th>Applied Data Scientist</th>\n",
       "      <td>4.0</td>\n",
       "      <td>124568.75</td>\n",
       "      <td>54645.55</td>\n",
       "      <td>54238.0</td>\n",
       "      <td>96087.25</td>\n",
       "      <td>133518.5</td>\n",
       "      <td>162000.0</td>\n",
       "      <td>177000.0</td>\n",
       "    </tr>\n",
       "    <tr>\n",
       "      <th>Applied Machine Learning Scientist</th>\n",
       "      <td>3.0</td>\n",
       "      <td>48425.00</td>\n",
       "      <td>23244.72</td>\n",
       "      <td>31875.0</td>\n",
       "      <td>35137.50</td>\n",
       "      <td>38400.0</td>\n",
       "      <td>56700.0</td>\n",
       "      <td>75000.0</td>\n",
       "    </tr>\n",
       "    <tr>\n",
       "      <th>BI Data Analyst</th>\n",
       "      <td>6.0</td>\n",
       "      <td>74755.17</td>\n",
       "      <td>50989.56</td>\n",
       "      <td>9272.0</td>\n",
       "      <td>40944.25</td>\n",
       "      <td>76500.0</td>\n",
       "      <td>99500.0</td>\n",
       "      <td>150000.0</td>\n",
       "    </tr>\n",
       "    <tr>\n",
       "      <th>Big Data Architect</th>\n",
       "      <td>1.0</td>\n",
       "      <td>99703.00</td>\n",
       "      <td>NaN</td>\n",
       "      <td>99703.0</td>\n",
       "      <td>99703.00</td>\n",
       "      <td>99703.0</td>\n",
       "      <td>99703.0</td>\n",
       "      <td>99703.0</td>\n",
       "    </tr>\n",
       "    <tr>\n",
       "      <th>Big Data Engineer</th>\n",
       "      <td>8.0</td>\n",
       "      <td>51974.00</td>\n",
       "      <td>42954.76</td>\n",
       "      <td>5882.0</td>\n",
       "      <td>17557.00</td>\n",
       "      <td>41305.5</td>\n",
       "      <td>79756.0</td>\n",
       "      <td>114047.0</td>\n",
       "    </tr>\n",
       "    <tr>\n",
       "      <th>Business Data Analyst</th>\n",
       "      <td>5.0</td>\n",
       "      <td>76691.20</td>\n",
       "      <td>43814.85</td>\n",
       "      <td>18442.0</td>\n",
       "      <td>59102.00</td>\n",
       "      <td>70912.0</td>\n",
       "      <td>100000.0</td>\n",
       "      <td>135000.0</td>\n",
       "    </tr>\n",
       "    <tr>\n",
       "      <th>Cloud Data Engineer</th>\n",
       "      <td>2.0</td>\n",
       "      <td>124647.00</td>\n",
       "      <td>49996.69</td>\n",
       "      <td>89294.0</td>\n",
       "      <td>106970.50</td>\n",
       "      <td>124647.0</td>\n",
       "      <td>142323.5</td>\n",
       "      <td>160000.0</td>\n",
       "    </tr>\n",
       "  </tbody>\n",
       "</table>\n",
       "</div>"
      ],
      "text/plain": [
       "                                    count       mean       std       min  \\\n",
       "job_title                                                                  \n",
       "3D Computer Vision Researcher         1.0    5409.00       NaN    5409.0   \n",
       "AI Scientist                          7.0   66135.57  70152.16   12000.0   \n",
       "Analytics Engineer                    4.0  175000.00  29508.08  135000.0   \n",
       "Applied Data Scientist                4.0  124568.75  54645.55   54238.0   \n",
       "Applied Machine Learning Scientist    3.0   48425.00  23244.72   31875.0   \n",
       "BI Data Analyst                       6.0   74755.17  50989.56    9272.0   \n",
       "Big Data Architect                    1.0   99703.00       NaN   99703.0   \n",
       "Big Data Engineer                     8.0   51974.00  42954.76    5882.0   \n",
       "Business Data Analyst                 5.0   76691.20  43814.85   18442.0   \n",
       "Cloud Data Engineer                   2.0  124647.00  49996.69   89294.0   \n",
       "\n",
       "                                          25%       50%       75%       max  \n",
       "job_title                                                                    \n",
       "3D Computer Vision Researcher         5409.00    5409.0    5409.0    5409.0  \n",
       "AI Scientist                         15026.50   45896.0   87500.0  200000.0  \n",
       "Analytics Engineer                  165000.00  179850.0  189850.0  205300.0  \n",
       "Applied Data Scientist               96087.25  133518.5  162000.0  177000.0  \n",
       "Applied Machine Learning Scientist   35137.50   38400.0   56700.0   75000.0  \n",
       "BI Data Analyst                      40944.25   76500.0   99500.0  150000.0  \n",
       "Big Data Architect                   99703.00   99703.0   99703.0   99703.0  \n",
       "Big Data Engineer                    17557.00   41305.5   79756.0  114047.0  \n",
       "Business Data Analyst                59102.00   70912.0  100000.0  135000.0  \n",
       "Cloud Data Engineer                 106970.50  124647.0  142323.5  160000.0  "
      ]
     },
     "execution_count": 220,
     "metadata": {},
     "output_type": "execute_result"
    }
   ],
   "source": [
    "data_agg = ds_salaries.groupby('job_title')['salary_in_usd'].describe().round(2)\n",
    "print('Заработная плата в зависимости от роли сотрудника')\n",
    "data_agg[:10]"
   ]
  },
  {
   "cell_type": "markdown",
   "metadata": {},
   "source": [
    "Из иерархической диаграммы хорошо видно, что зарплаты у сотрудников зависят от их роли. На ролях Data Scientist и Data Engineer очень близки. Но все же у Data Enginner зарплата выше."
   ]
  },
  {
   "cell_type": "markdown",
   "metadata": {},
   "source": [
    "### Заработная плата сотрудника в зависимости от страны проживания"
   ]
  },
  {
   "cell_type": "code",
   "execution_count": 221,
   "metadata": {},
   "outputs": [
    {
     "data": {
      "application/vnd.plotly.v1+json": {
       "config": {
        "plotlyServerURL": "https://plot.ly"
       },
       "data": [
        {
         "branchvalues": "total",
         "domain": {
          "x": [
           0,
           1
          ],
          "y": [
           0,
           1
          ]
         },
         "hovertemplate": "labels=%{label}<br>salary_in_usd=%{value}<br>parent=%{parent}<br>id=%{id}<extra></extra>",
         "ids": [
          "AE",
          "AR",
          "AT",
          "AU",
          "BE",
          "BG",
          "BO",
          "BR",
          "CA",
          "CH",
          "CL",
          "CN",
          "CO",
          "CZ",
          "DE",
          "DK",
          "DZ",
          "EE",
          "ES",
          "FR",
          "GB",
          "GR",
          "HK",
          "HN",
          "HR",
          "HU",
          "IE",
          "IN",
          "IQ",
          "IR",
          "IT",
          "JE",
          "JP",
          "KE",
          "LU",
          "MD",
          "MT",
          "MX",
          "MY",
          "NG",
          "NL",
          "NZ",
          "PH",
          "PK",
          "PL",
          "PR",
          "PT",
          "RO",
          "RS",
          "RU",
          "SG",
          "SI",
          "TN",
          "TR",
          "UA",
          "US",
          "VN"
         ],
         "labels": [
          "AE",
          "AR",
          "AT",
          "AU",
          "BE",
          "BG",
          "BO",
          "BR",
          "CA",
          "CH",
          "CL",
          "CN",
          "CO",
          "CZ",
          "DE",
          "DK",
          "DZ",
          "EE",
          "ES",
          "FR",
          "GB",
          "GR",
          "HK",
          "HN",
          "HR",
          "HU",
          "IE",
          "IN",
          "IQ",
          "IR",
          "IT",
          "JE",
          "JP",
          "KE",
          "LU",
          "MD",
          "MT",
          "MX",
          "MY",
          "NG",
          "NL",
          "NZ",
          "PH",
          "PK",
          "PL",
          "PR",
          "PT",
          "RO",
          "RS",
          "RU",
          "SG",
          "SI",
          "TN",
          "TR",
          "UA",
          "US",
          "VN"
         ],
         "name": "",
         "parents": [
          "",
          "",
          "",
          "",
          "",
          "",
          "",
          "",
          "",
          "",
          "",
          "",
          "",
          "",
          "",
          "",
          "",
          "",
          "",
          "",
          "",
          "",
          "",
          "",
          "",
          "",
          "",
          "",
          "",
          "",
          "",
          "",
          "",
          "",
          "",
          "",
          "",
          "",
          "",
          "",
          "",
          "",
          "",
          "",
          "",
          "",
          "",
          "",
          "",
          "",
          "",
          "",
          "",
          "",
          "",
          "",
          ""
         ],
         "type": "treemap",
         "values": [
          100000,
          60000,
          76738.66666666667,
          108042.66666666667,
          85699,
          80000,
          75000,
          54634.666666666664,
          97085.31034482758,
          122346,
          40038,
          43331,
          21844,
          69999,
          85552.56,
          37252.5,
          100000,
          32974,
          57593.4,
          59886.61111111111,
          81403.15909090909,
          56331.230769230766,
          66022,
          20000,
          45618,
          35997,
          71444,
          37322.333333333336,
          100000,
          4000,
          61600,
          100000,
          103537.71428571429,
          9272,
          59102,
          18000,
          28369,
          18185,
          200000,
          30000,
          60956.6,
          125000,
          45760,
          27462.833333333332,
          56177.5,
          160000,
          42862.5,
          51419,
          25532,
          105750,
          104176.5,
          63831,
          31875,
          20096.666666666668,
          13400,
          141964.34259259258,
          30800
         ]
        }
       ],
       "layout": {
        "height": 500,
        "legend": {
         "tracegroupgap": 0
        },
        "margin": {
         "t": 60
        },
        "template": {
         "data": {
          "bar": [
           {
            "error_x": {
             "color": "#2a3f5f"
            },
            "error_y": {
             "color": "#2a3f5f"
            },
            "marker": {
             "line": {
              "color": "#E5ECF6",
              "width": 0.5
             },
             "pattern": {
              "fillmode": "overlay",
              "size": 10,
              "solidity": 0.2
             }
            },
            "type": "bar"
           }
          ],
          "barpolar": [
           {
            "marker": {
             "line": {
              "color": "#E5ECF6",
              "width": 0.5
             },
             "pattern": {
              "fillmode": "overlay",
              "size": 10,
              "solidity": 0.2
             }
            },
            "type": "barpolar"
           }
          ],
          "carpet": [
           {
            "aaxis": {
             "endlinecolor": "#2a3f5f",
             "gridcolor": "white",
             "linecolor": "white",
             "minorgridcolor": "white",
             "startlinecolor": "#2a3f5f"
            },
            "baxis": {
             "endlinecolor": "#2a3f5f",
             "gridcolor": "white",
             "linecolor": "white",
             "minorgridcolor": "white",
             "startlinecolor": "#2a3f5f"
            },
            "type": "carpet"
           }
          ],
          "choropleth": [
           {
            "colorbar": {
             "outlinewidth": 0,
             "ticks": ""
            },
            "type": "choropleth"
           }
          ],
          "contour": [
           {
            "colorbar": {
             "outlinewidth": 0,
             "ticks": ""
            },
            "colorscale": [
             [
              0,
              "#0d0887"
             ],
             [
              0.1111111111111111,
              "#46039f"
             ],
             [
              0.2222222222222222,
              "#7201a8"
             ],
             [
              0.3333333333333333,
              "#9c179e"
             ],
             [
              0.4444444444444444,
              "#bd3786"
             ],
             [
              0.5555555555555556,
              "#d8576b"
             ],
             [
              0.6666666666666666,
              "#ed7953"
             ],
             [
              0.7777777777777778,
              "#fb9f3a"
             ],
             [
              0.8888888888888888,
              "#fdca26"
             ],
             [
              1,
              "#f0f921"
             ]
            ],
            "type": "contour"
           }
          ],
          "contourcarpet": [
           {
            "colorbar": {
             "outlinewidth": 0,
             "ticks": ""
            },
            "type": "contourcarpet"
           }
          ],
          "heatmap": [
           {
            "colorbar": {
             "outlinewidth": 0,
             "ticks": ""
            },
            "colorscale": [
             [
              0,
              "#0d0887"
             ],
             [
              0.1111111111111111,
              "#46039f"
             ],
             [
              0.2222222222222222,
              "#7201a8"
             ],
             [
              0.3333333333333333,
              "#9c179e"
             ],
             [
              0.4444444444444444,
              "#bd3786"
             ],
             [
              0.5555555555555556,
              "#d8576b"
             ],
             [
              0.6666666666666666,
              "#ed7953"
             ],
             [
              0.7777777777777778,
              "#fb9f3a"
             ],
             [
              0.8888888888888888,
              "#fdca26"
             ],
             [
              1,
              "#f0f921"
             ]
            ],
            "type": "heatmap"
           }
          ],
          "heatmapgl": [
           {
            "colorbar": {
             "outlinewidth": 0,
             "ticks": ""
            },
            "colorscale": [
             [
              0,
              "#0d0887"
             ],
             [
              0.1111111111111111,
              "#46039f"
             ],
             [
              0.2222222222222222,
              "#7201a8"
             ],
             [
              0.3333333333333333,
              "#9c179e"
             ],
             [
              0.4444444444444444,
              "#bd3786"
             ],
             [
              0.5555555555555556,
              "#d8576b"
             ],
             [
              0.6666666666666666,
              "#ed7953"
             ],
             [
              0.7777777777777778,
              "#fb9f3a"
             ],
             [
              0.8888888888888888,
              "#fdca26"
             ],
             [
              1,
              "#f0f921"
             ]
            ],
            "type": "heatmapgl"
           }
          ],
          "histogram": [
           {
            "marker": {
             "pattern": {
              "fillmode": "overlay",
              "size": 10,
              "solidity": 0.2
             }
            },
            "type": "histogram"
           }
          ],
          "histogram2d": [
           {
            "colorbar": {
             "outlinewidth": 0,
             "ticks": ""
            },
            "colorscale": [
             [
              0,
              "#0d0887"
             ],
             [
              0.1111111111111111,
              "#46039f"
             ],
             [
              0.2222222222222222,
              "#7201a8"
             ],
             [
              0.3333333333333333,
              "#9c179e"
             ],
             [
              0.4444444444444444,
              "#bd3786"
             ],
             [
              0.5555555555555556,
              "#d8576b"
             ],
             [
              0.6666666666666666,
              "#ed7953"
             ],
             [
              0.7777777777777778,
              "#fb9f3a"
             ],
             [
              0.8888888888888888,
              "#fdca26"
             ],
             [
              1,
              "#f0f921"
             ]
            ],
            "type": "histogram2d"
           }
          ],
          "histogram2dcontour": [
           {
            "colorbar": {
             "outlinewidth": 0,
             "ticks": ""
            },
            "colorscale": [
             [
              0,
              "#0d0887"
             ],
             [
              0.1111111111111111,
              "#46039f"
             ],
             [
              0.2222222222222222,
              "#7201a8"
             ],
             [
              0.3333333333333333,
              "#9c179e"
             ],
             [
              0.4444444444444444,
              "#bd3786"
             ],
             [
              0.5555555555555556,
              "#d8576b"
             ],
             [
              0.6666666666666666,
              "#ed7953"
             ],
             [
              0.7777777777777778,
              "#fb9f3a"
             ],
             [
              0.8888888888888888,
              "#fdca26"
             ],
             [
              1,
              "#f0f921"
             ]
            ],
            "type": "histogram2dcontour"
           }
          ],
          "mesh3d": [
           {
            "colorbar": {
             "outlinewidth": 0,
             "ticks": ""
            },
            "type": "mesh3d"
           }
          ],
          "parcoords": [
           {
            "line": {
             "colorbar": {
              "outlinewidth": 0,
              "ticks": ""
             }
            },
            "type": "parcoords"
           }
          ],
          "pie": [
           {
            "automargin": true,
            "type": "pie"
           }
          ],
          "scatter": [
           {
            "fillpattern": {
             "fillmode": "overlay",
             "size": 10,
             "solidity": 0.2
            },
            "type": "scatter"
           }
          ],
          "scatter3d": [
           {
            "line": {
             "colorbar": {
              "outlinewidth": 0,
              "ticks": ""
             }
            },
            "marker": {
             "colorbar": {
              "outlinewidth": 0,
              "ticks": ""
             }
            },
            "type": "scatter3d"
           }
          ],
          "scattercarpet": [
           {
            "marker": {
             "colorbar": {
              "outlinewidth": 0,
              "ticks": ""
             }
            },
            "type": "scattercarpet"
           }
          ],
          "scattergeo": [
           {
            "marker": {
             "colorbar": {
              "outlinewidth": 0,
              "ticks": ""
             }
            },
            "type": "scattergeo"
           }
          ],
          "scattergl": [
           {
            "marker": {
             "colorbar": {
              "outlinewidth": 0,
              "ticks": ""
             }
            },
            "type": "scattergl"
           }
          ],
          "scattermapbox": [
           {
            "marker": {
             "colorbar": {
              "outlinewidth": 0,
              "ticks": ""
             }
            },
            "type": "scattermapbox"
           }
          ],
          "scatterpolar": [
           {
            "marker": {
             "colorbar": {
              "outlinewidth": 0,
              "ticks": ""
             }
            },
            "type": "scatterpolar"
           }
          ],
          "scatterpolargl": [
           {
            "marker": {
             "colorbar": {
              "outlinewidth": 0,
              "ticks": ""
             }
            },
            "type": "scatterpolargl"
           }
          ],
          "scatterternary": [
           {
            "marker": {
             "colorbar": {
              "outlinewidth": 0,
              "ticks": ""
             }
            },
            "type": "scatterternary"
           }
          ],
          "surface": [
           {
            "colorbar": {
             "outlinewidth": 0,
             "ticks": ""
            },
            "colorscale": [
             [
              0,
              "#0d0887"
             ],
             [
              0.1111111111111111,
              "#46039f"
             ],
             [
              0.2222222222222222,
              "#7201a8"
             ],
             [
              0.3333333333333333,
              "#9c179e"
             ],
             [
              0.4444444444444444,
              "#bd3786"
             ],
             [
              0.5555555555555556,
              "#d8576b"
             ],
             [
              0.6666666666666666,
              "#ed7953"
             ],
             [
              0.7777777777777778,
              "#fb9f3a"
             ],
             [
              0.8888888888888888,
              "#fdca26"
             ],
             [
              1,
              "#f0f921"
             ]
            ],
            "type": "surface"
           }
          ],
          "table": [
           {
            "cells": {
             "fill": {
              "color": "#EBF0F8"
             },
             "line": {
              "color": "white"
             }
            },
            "header": {
             "fill": {
              "color": "#C8D4E3"
             },
             "line": {
              "color": "white"
             }
            },
            "type": "table"
           }
          ]
         },
         "layout": {
          "annotationdefaults": {
           "arrowcolor": "#2a3f5f",
           "arrowhead": 0,
           "arrowwidth": 1
          },
          "autotypenumbers": "strict",
          "coloraxis": {
           "colorbar": {
            "outlinewidth": 0,
            "ticks": ""
           }
          },
          "colorscale": {
           "diverging": [
            [
             0,
             "#8e0152"
            ],
            [
             0.1,
             "#c51b7d"
            ],
            [
             0.2,
             "#de77ae"
            ],
            [
             0.3,
             "#f1b6da"
            ],
            [
             0.4,
             "#fde0ef"
            ],
            [
             0.5,
             "#f7f7f7"
            ],
            [
             0.6,
             "#e6f5d0"
            ],
            [
             0.7,
             "#b8e186"
            ],
            [
             0.8,
             "#7fbc41"
            ],
            [
             0.9,
             "#4d9221"
            ],
            [
             1,
             "#276419"
            ]
           ],
           "sequential": [
            [
             0,
             "#0d0887"
            ],
            [
             0.1111111111111111,
             "#46039f"
            ],
            [
             0.2222222222222222,
             "#7201a8"
            ],
            [
             0.3333333333333333,
             "#9c179e"
            ],
            [
             0.4444444444444444,
             "#bd3786"
            ],
            [
             0.5555555555555556,
             "#d8576b"
            ],
            [
             0.6666666666666666,
             "#ed7953"
            ],
            [
             0.7777777777777778,
             "#fb9f3a"
            ],
            [
             0.8888888888888888,
             "#fdca26"
            ],
            [
             1,
             "#f0f921"
            ]
           ],
           "sequentialminus": [
            [
             0,
             "#0d0887"
            ],
            [
             0.1111111111111111,
             "#46039f"
            ],
            [
             0.2222222222222222,
             "#7201a8"
            ],
            [
             0.3333333333333333,
             "#9c179e"
            ],
            [
             0.4444444444444444,
             "#bd3786"
            ],
            [
             0.5555555555555556,
             "#d8576b"
            ],
            [
             0.6666666666666666,
             "#ed7953"
            ],
            [
             0.7777777777777778,
             "#fb9f3a"
            ],
            [
             0.8888888888888888,
             "#fdca26"
            ],
            [
             1,
             "#f0f921"
            ]
           ]
          },
          "colorway": [
           "#636efa",
           "#EF553B",
           "#00cc96",
           "#ab63fa",
           "#FFA15A",
           "#19d3f3",
           "#FF6692",
           "#B6E880",
           "#FF97FF",
           "#FECB52"
          ],
          "font": {
           "color": "#2a3f5f"
          },
          "geo": {
           "bgcolor": "white",
           "lakecolor": "white",
           "landcolor": "#E5ECF6",
           "showlakes": true,
           "showland": true,
           "subunitcolor": "white"
          },
          "hoverlabel": {
           "align": "left"
          },
          "hovermode": "closest",
          "mapbox": {
           "style": "light"
          },
          "paper_bgcolor": "white",
          "plot_bgcolor": "#E5ECF6",
          "polar": {
           "angularaxis": {
            "gridcolor": "white",
            "linecolor": "white",
            "ticks": ""
           },
           "bgcolor": "#E5ECF6",
           "radialaxis": {
            "gridcolor": "white",
            "linecolor": "white",
            "ticks": ""
           }
          },
          "scene": {
           "xaxis": {
            "backgroundcolor": "#E5ECF6",
            "gridcolor": "white",
            "gridwidth": 2,
            "linecolor": "white",
            "showbackground": true,
            "ticks": "",
            "zerolinecolor": "white"
           },
           "yaxis": {
            "backgroundcolor": "#E5ECF6",
            "gridcolor": "white",
            "gridwidth": 2,
            "linecolor": "white",
            "showbackground": true,
            "ticks": "",
            "zerolinecolor": "white"
           },
           "zaxis": {
            "backgroundcolor": "#E5ECF6",
            "gridcolor": "white",
            "gridwidth": 2,
            "linecolor": "white",
            "showbackground": true,
            "ticks": "",
            "zerolinecolor": "white"
           }
          },
          "shapedefaults": {
           "line": {
            "color": "#2a3f5f"
           }
          },
          "ternary": {
           "aaxis": {
            "gridcolor": "white",
            "linecolor": "white",
            "ticks": ""
           },
           "baxis": {
            "gridcolor": "white",
            "linecolor": "white",
            "ticks": ""
           },
           "bgcolor": "#E5ECF6",
           "caxis": {
            "gridcolor": "white",
            "linecolor": "white",
            "ticks": ""
           }
          },
          "title": {
           "x": 0.05
          },
          "xaxis": {
           "automargin": true,
           "gridcolor": "white",
           "linecolor": "white",
           "ticks": "",
           "title": {
            "standoff": 15
           },
           "zerolinecolor": "white",
           "zerolinewidth": 2
          },
          "yaxis": {
           "automargin": true,
           "gridcolor": "white",
           "linecolor": "white",
           "ticks": "",
           "title": {
            "standoff": 15
           },
           "zerolinecolor": "white",
           "zerolinewidth": 2
          }
         }
        },
        "width": 1000
       }
      }
     },
     "metadata": {},
     "output_type": "display_data"
    }
   ],
   "source": [
    "#Построим иерархическую диаграмму распределения заработной платы сотрудника от страны проживания\n",
    "treemap_data = ds_salaries.groupby(\n",
    "    by='employee_residence',\n",
    "    as_index=False\n",
    ")['salary_in_usd'].mean()\n",
    "\n",
    "fig = px.treemap(\n",
    "    data_frame= treemap_data,\n",
    "    path=['employee_residence'],\n",
    "    values='salary_in_usd',\n",
    "    height=500,\n",
    "    width=1000\n",
    ")\n",
    "fig.show()"
   ]
  },
  {
   "cell_type": "code",
   "execution_count": 222,
   "metadata": {},
   "outputs": [
    {
     "name": "stdout",
     "output_type": "stream",
     "text": [
      "Заработная плата в зависимости от страны проживания сотрудника\n"
     ]
    },
    {
     "data": {
      "text/html": [
       "<div>\n",
       "<style scoped>\n",
       "    .dataframe tbody tr th:only-of-type {\n",
       "        vertical-align: middle;\n",
       "    }\n",
       "\n",
       "    .dataframe tbody tr th {\n",
       "        vertical-align: top;\n",
       "    }\n",
       "\n",
       "    .dataframe thead th {\n",
       "        text-align: right;\n",
       "    }\n",
       "</style>\n",
       "<table border=\"1\" class=\"dataframe\">\n",
       "  <thead>\n",
       "    <tr style=\"text-align: right;\">\n",
       "      <th></th>\n",
       "      <th>count</th>\n",
       "      <th>mean</th>\n",
       "      <th>std</th>\n",
       "      <th>min</th>\n",
       "      <th>25%</th>\n",
       "      <th>50%</th>\n",
       "      <th>75%</th>\n",
       "      <th>max</th>\n",
       "    </tr>\n",
       "    <tr>\n",
       "      <th>employee_residence</th>\n",
       "      <th></th>\n",
       "      <th></th>\n",
       "      <th></th>\n",
       "      <th></th>\n",
       "      <th></th>\n",
       "      <th></th>\n",
       "      <th></th>\n",
       "      <th></th>\n",
       "    </tr>\n",
       "  </thead>\n",
       "  <tbody>\n",
       "    <tr>\n",
       "      <th>PR</th>\n",
       "      <td>1.0</td>\n",
       "      <td>160000.00</td>\n",
       "      <td>NaN</td>\n",
       "      <td>160000.0</td>\n",
       "      <td>160000.00</td>\n",
       "      <td>160000.0</td>\n",
       "      <td>160000.00</td>\n",
       "      <td>160000.0</td>\n",
       "    </tr>\n",
       "    <tr>\n",
       "      <th>PT</th>\n",
       "      <td>6.0</td>\n",
       "      <td>42862.50</td>\n",
       "      <td>21443.78</td>\n",
       "      <td>10000.0</td>\n",
       "      <td>29032.25</td>\n",
       "      <td>53090.0</td>\n",
       "      <td>57691.25</td>\n",
       "      <td>60757.0</td>\n",
       "    </tr>\n",
       "    <tr>\n",
       "      <th>RO</th>\n",
       "      <td>2.0</td>\n",
       "      <td>51419.00</td>\n",
       "      <td>35940.82</td>\n",
       "      <td>26005.0</td>\n",
       "      <td>38712.00</td>\n",
       "      <td>51419.0</td>\n",
       "      <td>64126.00</td>\n",
       "      <td>76833.0</td>\n",
       "    </tr>\n",
       "    <tr>\n",
       "      <th>RS</th>\n",
       "      <td>1.0</td>\n",
       "      <td>25532.00</td>\n",
       "      <td>NaN</td>\n",
       "      <td>25532.0</td>\n",
       "      <td>25532.00</td>\n",
       "      <td>25532.0</td>\n",
       "      <td>25532.00</td>\n",
       "      <td>25532.0</td>\n",
       "    </tr>\n",
       "    <tr>\n",
       "      <th>RU</th>\n",
       "      <td>4.0</td>\n",
       "      <td>105750.00</td>\n",
       "      <td>84255.07</td>\n",
       "      <td>48000.0</td>\n",
       "      <td>57000.00</td>\n",
       "      <td>72500.0</td>\n",
       "      <td>121250.00</td>\n",
       "      <td>230000.0</td>\n",
       "    </tr>\n",
       "    <tr>\n",
       "      <th>SG</th>\n",
       "      <td>2.0</td>\n",
       "      <td>104176.50</td>\n",
       "      <td>21047.03</td>\n",
       "      <td>89294.0</td>\n",
       "      <td>96735.25</td>\n",
       "      <td>104176.5</td>\n",
       "      <td>111617.75</td>\n",
       "      <td>119059.0</td>\n",
       "    </tr>\n",
       "    <tr>\n",
       "      <th>SI</th>\n",
       "      <td>2.0</td>\n",
       "      <td>63831.00</td>\n",
       "      <td>55165.64</td>\n",
       "      <td>24823.0</td>\n",
       "      <td>44327.00</td>\n",
       "      <td>63831.0</td>\n",
       "      <td>83335.00</td>\n",
       "      <td>102839.0</td>\n",
       "    </tr>\n",
       "    <tr>\n",
       "      <th>TN</th>\n",
       "      <td>1.0</td>\n",
       "      <td>31875.00</td>\n",
       "      <td>NaN</td>\n",
       "      <td>31875.0</td>\n",
       "      <td>31875.00</td>\n",
       "      <td>31875.0</td>\n",
       "      <td>31875.00</td>\n",
       "      <td>31875.0</td>\n",
       "    </tr>\n",
       "    <tr>\n",
       "      <th>TR</th>\n",
       "      <td>3.0</td>\n",
       "      <td>20096.67</td>\n",
       "      <td>7956.76</td>\n",
       "      <td>12103.0</td>\n",
       "      <td>16137.00</td>\n",
       "      <td>20171.0</td>\n",
       "      <td>24093.50</td>\n",
       "      <td>28016.0</td>\n",
       "    </tr>\n",
       "    <tr>\n",
       "      <th>UA</th>\n",
       "      <td>1.0</td>\n",
       "      <td>13400.00</td>\n",
       "      <td>NaN</td>\n",
       "      <td>13400.0</td>\n",
       "      <td>13400.00</td>\n",
       "      <td>13400.0</td>\n",
       "      <td>13400.00</td>\n",
       "      <td>13400.0</td>\n",
       "    </tr>\n",
       "    <tr>\n",
       "      <th>US</th>\n",
       "      <td>324.0</td>\n",
       "      <td>141964.34</td>\n",
       "      <td>50021.98</td>\n",
       "      <td>25000.0</td>\n",
       "      <td>105000.00</td>\n",
       "      <td>136807.0</td>\n",
       "      <td>170000.00</td>\n",
       "      <td>325000.0</td>\n",
       "    </tr>\n",
       "    <tr>\n",
       "      <th>VN</th>\n",
       "      <td>3.0</td>\n",
       "      <td>30800.00</td>\n",
       "      <td>23923.21</td>\n",
       "      <td>4000.0</td>\n",
       "      <td>21200.00</td>\n",
       "      <td>38400.0</td>\n",
       "      <td>44200.00</td>\n",
       "      <td>50000.0</td>\n",
       "    </tr>\n",
       "  </tbody>\n",
       "</table>\n",
       "</div>"
      ],
      "text/plain": [
       "                    count       mean       std       min        25%       50%  \\\n",
       "employee_residence                                                              \n",
       "PR                    1.0  160000.00       NaN  160000.0  160000.00  160000.0   \n",
       "PT                    6.0   42862.50  21443.78   10000.0   29032.25   53090.0   \n",
       "RO                    2.0   51419.00  35940.82   26005.0   38712.00   51419.0   \n",
       "RS                    1.0   25532.00       NaN   25532.0   25532.00   25532.0   \n",
       "RU                    4.0  105750.00  84255.07   48000.0   57000.00   72500.0   \n",
       "SG                    2.0  104176.50  21047.03   89294.0   96735.25  104176.5   \n",
       "SI                    2.0   63831.00  55165.64   24823.0   44327.00   63831.0   \n",
       "TN                    1.0   31875.00       NaN   31875.0   31875.00   31875.0   \n",
       "TR                    3.0   20096.67   7956.76   12103.0   16137.00   20171.0   \n",
       "UA                    1.0   13400.00       NaN   13400.0   13400.00   13400.0   \n",
       "US                  324.0  141964.34  50021.98   25000.0  105000.00  136807.0   \n",
       "VN                    3.0   30800.00  23923.21    4000.0   21200.00   38400.0   \n",
       "\n",
       "                          75%       max  \n",
       "employee_residence                       \n",
       "PR                  160000.00  160000.0  \n",
       "PT                   57691.25   60757.0  \n",
       "RO                   64126.00   76833.0  \n",
       "RS                   25532.00   25532.0  \n",
       "RU                  121250.00  230000.0  \n",
       "SG                  111617.75  119059.0  \n",
       "SI                   83335.00  102839.0  \n",
       "TN                   31875.00   31875.0  \n",
       "TR                   24093.50   28016.0  \n",
       "UA                   13400.00   13400.0  \n",
       "US                  170000.00  325000.0  \n",
       "VN                   44200.00   50000.0  "
      ]
     },
     "execution_count": 222,
     "metadata": {},
     "output_type": "execute_result"
    }
   ],
   "source": [
    "data_agg = ds_salaries.groupby('employee_residence')['salary_in_usd'].describe().round(2)\n",
    "print('Заработная плата в зависимости от страны проживания сотрудника')\n",
    "\n",
    "data_agg[45:]"
   ]
  },
  {
   "cell_type": "markdown",
   "metadata": {},
   "source": [
    "Заработная плата зависит от местонахождения сотрудника. Из диаграммы видно, что Россия занимает 7 место по заработным платам среди специалистов"
   ]
  },
  {
   "cell_type": "markdown",
   "metadata": {},
   "source": [
    "### Заработная плата сотрудников в зависимости от местонахождения главного офиса компании"
   ]
  },
  {
   "cell_type": "code",
   "execution_count": 223,
   "metadata": {},
   "outputs": [
    {
     "data": {
      "application/vnd.plotly.v1+json": {
       "config": {
        "plotlyServerURL": "https://plot.ly"
       },
       "data": [
        {
         "branchvalues": "total",
         "domain": {
          "x": [
           0,
           1
          ],
          "y": [
           0,
           1
          ]
         },
         "hovertemplate": "labels=%{label}<br>salary_in_usd=%{value}<br>parent=%{parent}<br>id=%{id}<extra></extra>",
         "ids": [
          "AE",
          "AS",
          "AT",
          "AU",
          "BE",
          "BR",
          "CA",
          "CH",
          "CL",
          "CN",
          "CO",
          "CZ",
          "DE",
          "DK",
          "DZ",
          "EE",
          "ES",
          "FR",
          "GB",
          "GR",
          "HN",
          "HR",
          "HU",
          "IE",
          "IL",
          "IN",
          "IQ",
          "IR",
          "IT",
          "JP",
          "KE",
          "LU",
          "MD",
          "MT",
          "MX",
          "MY",
          "NG",
          "NL",
          "NZ",
          "PK",
          "PL",
          "PT",
          "RO",
          "RU",
          "SG",
          "SI",
          "TR",
          "UA",
          "US",
          "VN"
         ],
         "labels": [
          "AE",
          "AS",
          "AT",
          "AU",
          "BE",
          "BR",
          "CA",
          "CH",
          "CL",
          "CN",
          "CO",
          "CZ",
          "DE",
          "DK",
          "DZ",
          "EE",
          "ES",
          "FR",
          "GB",
          "GR",
          "HN",
          "HR",
          "HU",
          "IE",
          "IL",
          "IN",
          "IQ",
          "IR",
          "IT",
          "JP",
          "KE",
          "LU",
          "MD",
          "MT",
          "MX",
          "MY",
          "NG",
          "NL",
          "NZ",
          "PK",
          "PL",
          "PT",
          "RO",
          "RU",
          "SG",
          "SI",
          "TR",
          "UA",
          "US",
          "VN"
         ],
         "name": "",
         "parents": [
          "",
          "",
          "",
          "",
          "",
          "",
          "",
          "",
          "",
          "",
          "",
          "",
          "",
          "",
          "",
          "",
          "",
          "",
          "",
          "",
          "",
          "",
          "",
          "",
          "",
          "",
          "",
          "",
          "",
          "",
          "",
          "",
          "",
          "",
          "",
          "",
          "",
          "",
          "",
          "",
          "",
          "",
          "",
          "",
          "",
          "",
          "",
          "",
          "",
          ""
         ],
         "type": "treemap",
         "values": [
          100000,
          18053,
          72920.75,
          108042.66666666667,
          85699,
          18602.666666666668,
          99823.73333333334,
          64114,
          40038,
          71665.5,
          21844,
          50937,
          81887.21428571429,
          54386.333333333336,
          100000,
          32974,
          53060.142857142855,
          63970.666666666664,
          81583.0425531915,
          52293.09090909091,
          20000,
          45618,
          35735,
          71444,
          119059,
          28581.75,
          100000,
          4000,
          36366.5,
          114127.33333333333,
          9272,
          43942.666666666664,
          18000,
          28369,
          32123.333333333332,
          40000,
          30000,
          54945.75,
          125000,
          13333.333333333334,
          66082.5,
          47793.75,
          60000,
          157500,
          89294,
          63831,
          20096.666666666668,
          13400,
          137186.21902017292,
          4000
         ]
        }
       ],
       "layout": {
        "height": 500,
        "legend": {
         "tracegroupgap": 0
        },
        "margin": {
         "t": 60
        },
        "template": {
         "data": {
          "bar": [
           {
            "error_x": {
             "color": "#2a3f5f"
            },
            "error_y": {
             "color": "#2a3f5f"
            },
            "marker": {
             "line": {
              "color": "#E5ECF6",
              "width": 0.5
             },
             "pattern": {
              "fillmode": "overlay",
              "size": 10,
              "solidity": 0.2
             }
            },
            "type": "bar"
           }
          ],
          "barpolar": [
           {
            "marker": {
             "line": {
              "color": "#E5ECF6",
              "width": 0.5
             },
             "pattern": {
              "fillmode": "overlay",
              "size": 10,
              "solidity": 0.2
             }
            },
            "type": "barpolar"
           }
          ],
          "carpet": [
           {
            "aaxis": {
             "endlinecolor": "#2a3f5f",
             "gridcolor": "white",
             "linecolor": "white",
             "minorgridcolor": "white",
             "startlinecolor": "#2a3f5f"
            },
            "baxis": {
             "endlinecolor": "#2a3f5f",
             "gridcolor": "white",
             "linecolor": "white",
             "minorgridcolor": "white",
             "startlinecolor": "#2a3f5f"
            },
            "type": "carpet"
           }
          ],
          "choropleth": [
           {
            "colorbar": {
             "outlinewidth": 0,
             "ticks": ""
            },
            "type": "choropleth"
           }
          ],
          "contour": [
           {
            "colorbar": {
             "outlinewidth": 0,
             "ticks": ""
            },
            "colorscale": [
             [
              0,
              "#0d0887"
             ],
             [
              0.1111111111111111,
              "#46039f"
             ],
             [
              0.2222222222222222,
              "#7201a8"
             ],
             [
              0.3333333333333333,
              "#9c179e"
             ],
             [
              0.4444444444444444,
              "#bd3786"
             ],
             [
              0.5555555555555556,
              "#d8576b"
             ],
             [
              0.6666666666666666,
              "#ed7953"
             ],
             [
              0.7777777777777778,
              "#fb9f3a"
             ],
             [
              0.8888888888888888,
              "#fdca26"
             ],
             [
              1,
              "#f0f921"
             ]
            ],
            "type": "contour"
           }
          ],
          "contourcarpet": [
           {
            "colorbar": {
             "outlinewidth": 0,
             "ticks": ""
            },
            "type": "contourcarpet"
           }
          ],
          "heatmap": [
           {
            "colorbar": {
             "outlinewidth": 0,
             "ticks": ""
            },
            "colorscale": [
             [
              0,
              "#0d0887"
             ],
             [
              0.1111111111111111,
              "#46039f"
             ],
             [
              0.2222222222222222,
              "#7201a8"
             ],
             [
              0.3333333333333333,
              "#9c179e"
             ],
             [
              0.4444444444444444,
              "#bd3786"
             ],
             [
              0.5555555555555556,
              "#d8576b"
             ],
             [
              0.6666666666666666,
              "#ed7953"
             ],
             [
              0.7777777777777778,
              "#fb9f3a"
             ],
             [
              0.8888888888888888,
              "#fdca26"
             ],
             [
              1,
              "#f0f921"
             ]
            ],
            "type": "heatmap"
           }
          ],
          "heatmapgl": [
           {
            "colorbar": {
             "outlinewidth": 0,
             "ticks": ""
            },
            "colorscale": [
             [
              0,
              "#0d0887"
             ],
             [
              0.1111111111111111,
              "#46039f"
             ],
             [
              0.2222222222222222,
              "#7201a8"
             ],
             [
              0.3333333333333333,
              "#9c179e"
             ],
             [
              0.4444444444444444,
              "#bd3786"
             ],
             [
              0.5555555555555556,
              "#d8576b"
             ],
             [
              0.6666666666666666,
              "#ed7953"
             ],
             [
              0.7777777777777778,
              "#fb9f3a"
             ],
             [
              0.8888888888888888,
              "#fdca26"
             ],
             [
              1,
              "#f0f921"
             ]
            ],
            "type": "heatmapgl"
           }
          ],
          "histogram": [
           {
            "marker": {
             "pattern": {
              "fillmode": "overlay",
              "size": 10,
              "solidity": 0.2
             }
            },
            "type": "histogram"
           }
          ],
          "histogram2d": [
           {
            "colorbar": {
             "outlinewidth": 0,
             "ticks": ""
            },
            "colorscale": [
             [
              0,
              "#0d0887"
             ],
             [
              0.1111111111111111,
              "#46039f"
             ],
             [
              0.2222222222222222,
              "#7201a8"
             ],
             [
              0.3333333333333333,
              "#9c179e"
             ],
             [
              0.4444444444444444,
              "#bd3786"
             ],
             [
              0.5555555555555556,
              "#d8576b"
             ],
             [
              0.6666666666666666,
              "#ed7953"
             ],
             [
              0.7777777777777778,
              "#fb9f3a"
             ],
             [
              0.8888888888888888,
              "#fdca26"
             ],
             [
              1,
              "#f0f921"
             ]
            ],
            "type": "histogram2d"
           }
          ],
          "histogram2dcontour": [
           {
            "colorbar": {
             "outlinewidth": 0,
             "ticks": ""
            },
            "colorscale": [
             [
              0,
              "#0d0887"
             ],
             [
              0.1111111111111111,
              "#46039f"
             ],
             [
              0.2222222222222222,
              "#7201a8"
             ],
             [
              0.3333333333333333,
              "#9c179e"
             ],
             [
              0.4444444444444444,
              "#bd3786"
             ],
             [
              0.5555555555555556,
              "#d8576b"
             ],
             [
              0.6666666666666666,
              "#ed7953"
             ],
             [
              0.7777777777777778,
              "#fb9f3a"
             ],
             [
              0.8888888888888888,
              "#fdca26"
             ],
             [
              1,
              "#f0f921"
             ]
            ],
            "type": "histogram2dcontour"
           }
          ],
          "mesh3d": [
           {
            "colorbar": {
             "outlinewidth": 0,
             "ticks": ""
            },
            "type": "mesh3d"
           }
          ],
          "parcoords": [
           {
            "line": {
             "colorbar": {
              "outlinewidth": 0,
              "ticks": ""
             }
            },
            "type": "parcoords"
           }
          ],
          "pie": [
           {
            "automargin": true,
            "type": "pie"
           }
          ],
          "scatter": [
           {
            "fillpattern": {
             "fillmode": "overlay",
             "size": 10,
             "solidity": 0.2
            },
            "type": "scatter"
           }
          ],
          "scatter3d": [
           {
            "line": {
             "colorbar": {
              "outlinewidth": 0,
              "ticks": ""
             }
            },
            "marker": {
             "colorbar": {
              "outlinewidth": 0,
              "ticks": ""
             }
            },
            "type": "scatter3d"
           }
          ],
          "scattercarpet": [
           {
            "marker": {
             "colorbar": {
              "outlinewidth": 0,
              "ticks": ""
             }
            },
            "type": "scattercarpet"
           }
          ],
          "scattergeo": [
           {
            "marker": {
             "colorbar": {
              "outlinewidth": 0,
              "ticks": ""
             }
            },
            "type": "scattergeo"
           }
          ],
          "scattergl": [
           {
            "marker": {
             "colorbar": {
              "outlinewidth": 0,
              "ticks": ""
             }
            },
            "type": "scattergl"
           }
          ],
          "scattermapbox": [
           {
            "marker": {
             "colorbar": {
              "outlinewidth": 0,
              "ticks": ""
             }
            },
            "type": "scattermapbox"
           }
          ],
          "scatterpolar": [
           {
            "marker": {
             "colorbar": {
              "outlinewidth": 0,
              "ticks": ""
             }
            },
            "type": "scatterpolar"
           }
          ],
          "scatterpolargl": [
           {
            "marker": {
             "colorbar": {
              "outlinewidth": 0,
              "ticks": ""
             }
            },
            "type": "scatterpolargl"
           }
          ],
          "scatterternary": [
           {
            "marker": {
             "colorbar": {
              "outlinewidth": 0,
              "ticks": ""
             }
            },
            "type": "scatterternary"
           }
          ],
          "surface": [
           {
            "colorbar": {
             "outlinewidth": 0,
             "ticks": ""
            },
            "colorscale": [
             [
              0,
              "#0d0887"
             ],
             [
              0.1111111111111111,
              "#46039f"
             ],
             [
              0.2222222222222222,
              "#7201a8"
             ],
             [
              0.3333333333333333,
              "#9c179e"
             ],
             [
              0.4444444444444444,
              "#bd3786"
             ],
             [
              0.5555555555555556,
              "#d8576b"
             ],
             [
              0.6666666666666666,
              "#ed7953"
             ],
             [
              0.7777777777777778,
              "#fb9f3a"
             ],
             [
              0.8888888888888888,
              "#fdca26"
             ],
             [
              1,
              "#f0f921"
             ]
            ],
            "type": "surface"
           }
          ],
          "table": [
           {
            "cells": {
             "fill": {
              "color": "#EBF0F8"
             },
             "line": {
              "color": "white"
             }
            },
            "header": {
             "fill": {
              "color": "#C8D4E3"
             },
             "line": {
              "color": "white"
             }
            },
            "type": "table"
           }
          ]
         },
         "layout": {
          "annotationdefaults": {
           "arrowcolor": "#2a3f5f",
           "arrowhead": 0,
           "arrowwidth": 1
          },
          "autotypenumbers": "strict",
          "coloraxis": {
           "colorbar": {
            "outlinewidth": 0,
            "ticks": ""
           }
          },
          "colorscale": {
           "diverging": [
            [
             0,
             "#8e0152"
            ],
            [
             0.1,
             "#c51b7d"
            ],
            [
             0.2,
             "#de77ae"
            ],
            [
             0.3,
             "#f1b6da"
            ],
            [
             0.4,
             "#fde0ef"
            ],
            [
             0.5,
             "#f7f7f7"
            ],
            [
             0.6,
             "#e6f5d0"
            ],
            [
             0.7,
             "#b8e186"
            ],
            [
             0.8,
             "#7fbc41"
            ],
            [
             0.9,
             "#4d9221"
            ],
            [
             1,
             "#276419"
            ]
           ],
           "sequential": [
            [
             0,
             "#0d0887"
            ],
            [
             0.1111111111111111,
             "#46039f"
            ],
            [
             0.2222222222222222,
             "#7201a8"
            ],
            [
             0.3333333333333333,
             "#9c179e"
            ],
            [
             0.4444444444444444,
             "#bd3786"
            ],
            [
             0.5555555555555556,
             "#d8576b"
            ],
            [
             0.6666666666666666,
             "#ed7953"
            ],
            [
             0.7777777777777778,
             "#fb9f3a"
            ],
            [
             0.8888888888888888,
             "#fdca26"
            ],
            [
             1,
             "#f0f921"
            ]
           ],
           "sequentialminus": [
            [
             0,
             "#0d0887"
            ],
            [
             0.1111111111111111,
             "#46039f"
            ],
            [
             0.2222222222222222,
             "#7201a8"
            ],
            [
             0.3333333333333333,
             "#9c179e"
            ],
            [
             0.4444444444444444,
             "#bd3786"
            ],
            [
             0.5555555555555556,
             "#d8576b"
            ],
            [
             0.6666666666666666,
             "#ed7953"
            ],
            [
             0.7777777777777778,
             "#fb9f3a"
            ],
            [
             0.8888888888888888,
             "#fdca26"
            ],
            [
             1,
             "#f0f921"
            ]
           ]
          },
          "colorway": [
           "#636efa",
           "#EF553B",
           "#00cc96",
           "#ab63fa",
           "#FFA15A",
           "#19d3f3",
           "#FF6692",
           "#B6E880",
           "#FF97FF",
           "#FECB52"
          ],
          "font": {
           "color": "#2a3f5f"
          },
          "geo": {
           "bgcolor": "white",
           "lakecolor": "white",
           "landcolor": "#E5ECF6",
           "showlakes": true,
           "showland": true,
           "subunitcolor": "white"
          },
          "hoverlabel": {
           "align": "left"
          },
          "hovermode": "closest",
          "mapbox": {
           "style": "light"
          },
          "paper_bgcolor": "white",
          "plot_bgcolor": "#E5ECF6",
          "polar": {
           "angularaxis": {
            "gridcolor": "white",
            "linecolor": "white",
            "ticks": ""
           },
           "bgcolor": "#E5ECF6",
           "radialaxis": {
            "gridcolor": "white",
            "linecolor": "white",
            "ticks": ""
           }
          },
          "scene": {
           "xaxis": {
            "backgroundcolor": "#E5ECF6",
            "gridcolor": "white",
            "gridwidth": 2,
            "linecolor": "white",
            "showbackground": true,
            "ticks": "",
            "zerolinecolor": "white"
           },
           "yaxis": {
            "backgroundcolor": "#E5ECF6",
            "gridcolor": "white",
            "gridwidth": 2,
            "linecolor": "white",
            "showbackground": true,
            "ticks": "",
            "zerolinecolor": "white"
           },
           "zaxis": {
            "backgroundcolor": "#E5ECF6",
            "gridcolor": "white",
            "gridwidth": 2,
            "linecolor": "white",
            "showbackground": true,
            "ticks": "",
            "zerolinecolor": "white"
           }
          },
          "shapedefaults": {
           "line": {
            "color": "#2a3f5f"
           }
          },
          "ternary": {
           "aaxis": {
            "gridcolor": "white",
            "linecolor": "white",
            "ticks": ""
           },
           "baxis": {
            "gridcolor": "white",
            "linecolor": "white",
            "ticks": ""
           },
           "bgcolor": "#E5ECF6",
           "caxis": {
            "gridcolor": "white",
            "linecolor": "white",
            "ticks": ""
           }
          },
          "title": {
           "x": 0.05
          },
          "xaxis": {
           "automargin": true,
           "gridcolor": "white",
           "linecolor": "white",
           "ticks": "",
           "title": {
            "standoff": 15
           },
           "zerolinecolor": "white",
           "zerolinewidth": 2
          },
          "yaxis": {
           "automargin": true,
           "gridcolor": "white",
           "linecolor": "white",
           "ticks": "",
           "title": {
            "standoff": 15
           },
           "zerolinecolor": "white",
           "zerolinewidth": 2
          }
         }
        },
        "width": 1000
       }
      }
     },
     "metadata": {},
     "output_type": "display_data"
    }
   ],
   "source": [
    "#Построим иерархическую диаграмму распределения заработной платы сотрудника от местонахождения главного офиса компании\n",
    "treemap_data = ds_salaries.groupby(\n",
    "    by='company_location',\n",
    "    as_index=False\n",
    ")['salary_in_usd'].mean()\n",
    "\n",
    "fig = px.treemap(\n",
    "    data_frame= treemap_data,\n",
    "    path=['company_location'],\n",
    "    values='salary_in_usd',\n",
    "    height=500,\n",
    "    width=1000\n",
    ")\n",
    "fig.show()"
   ]
  },
  {
   "cell_type": "code",
   "execution_count": 224,
   "metadata": {},
   "outputs": [
    {
     "name": "stdout",
     "output_type": "stream",
     "text": [
      "Заработная плата в зависимости от местонахождения главного офиса компании\n"
     ]
    },
    {
     "data": {
      "text/html": [
       "<div>\n",
       "<style scoped>\n",
       "    .dataframe tbody tr th:only-of-type {\n",
       "        vertical-align: middle;\n",
       "    }\n",
       "\n",
       "    .dataframe tbody tr th {\n",
       "        vertical-align: top;\n",
       "    }\n",
       "\n",
       "    .dataframe thead th {\n",
       "        text-align: right;\n",
       "    }\n",
       "</style>\n",
       "<table border=\"1\" class=\"dataframe\">\n",
       "  <thead>\n",
       "    <tr style=\"text-align: right;\">\n",
       "      <th></th>\n",
       "      <th>count</th>\n",
       "      <th>mean</th>\n",
       "      <th>std</th>\n",
       "      <th>min</th>\n",
       "      <th>25%</th>\n",
       "      <th>50%</th>\n",
       "      <th>75%</th>\n",
       "      <th>max</th>\n",
       "    </tr>\n",
       "    <tr>\n",
       "      <th>company_location</th>\n",
       "      <th></th>\n",
       "      <th></th>\n",
       "      <th></th>\n",
       "      <th></th>\n",
       "      <th></th>\n",
       "      <th></th>\n",
       "      <th></th>\n",
       "      <th></th>\n",
       "    </tr>\n",
       "  </thead>\n",
       "  <tbody>\n",
       "    <tr>\n",
       "      <th>PL</th>\n",
       "      <td>4.0</td>\n",
       "      <td>66082.50</td>\n",
       "      <td>58863.60</td>\n",
       "      <td>28476.0</td>\n",
       "      <td>33811.50</td>\n",
       "      <td>41093.5</td>\n",
       "      <td>73364.5</td>\n",
       "      <td>153667.0</td>\n",
       "    </tr>\n",
       "    <tr>\n",
       "      <th>PT</th>\n",
       "      <td>4.0</td>\n",
       "      <td>47793.75</td>\n",
       "      <td>17789.25</td>\n",
       "      <td>21983.0</td>\n",
       "      <td>43130.75</td>\n",
       "      <td>54217.5</td>\n",
       "      <td>58880.5</td>\n",
       "      <td>60757.0</td>\n",
       "    </tr>\n",
       "    <tr>\n",
       "      <th>RO</th>\n",
       "      <td>1.0</td>\n",
       "      <td>60000.00</td>\n",
       "      <td>NaN</td>\n",
       "      <td>60000.0</td>\n",
       "      <td>60000.00</td>\n",
       "      <td>60000.0</td>\n",
       "      <td>60000.0</td>\n",
       "      <td>60000.0</td>\n",
       "    </tr>\n",
       "    <tr>\n",
       "      <th>RU</th>\n",
       "      <td>2.0</td>\n",
       "      <td>157500.00</td>\n",
       "      <td>102530.48</td>\n",
       "      <td>85000.0</td>\n",
       "      <td>121250.00</td>\n",
       "      <td>157500.0</td>\n",
       "      <td>193750.0</td>\n",
       "      <td>230000.0</td>\n",
       "    </tr>\n",
       "    <tr>\n",
       "      <th>SG</th>\n",
       "      <td>1.0</td>\n",
       "      <td>89294.00</td>\n",
       "      <td>NaN</td>\n",
       "      <td>89294.0</td>\n",
       "      <td>89294.00</td>\n",
       "      <td>89294.0</td>\n",
       "      <td>89294.0</td>\n",
       "      <td>89294.0</td>\n",
       "    </tr>\n",
       "    <tr>\n",
       "      <th>SI</th>\n",
       "      <td>2.0</td>\n",
       "      <td>63831.00</td>\n",
       "      <td>55165.64</td>\n",
       "      <td>24823.0</td>\n",
       "      <td>44327.00</td>\n",
       "      <td>63831.0</td>\n",
       "      <td>83335.0</td>\n",
       "      <td>102839.0</td>\n",
       "    </tr>\n",
       "    <tr>\n",
       "      <th>TR</th>\n",
       "      <td>3.0</td>\n",
       "      <td>20096.67</td>\n",
       "      <td>7956.76</td>\n",
       "      <td>12103.0</td>\n",
       "      <td>16137.00</td>\n",
       "      <td>20171.0</td>\n",
       "      <td>24093.5</td>\n",
       "      <td>28016.0</td>\n",
       "    </tr>\n",
       "    <tr>\n",
       "      <th>UA</th>\n",
       "      <td>1.0</td>\n",
       "      <td>13400.00</td>\n",
       "      <td>NaN</td>\n",
       "      <td>13400.0</td>\n",
       "      <td>13400.00</td>\n",
       "      <td>13400.0</td>\n",
       "      <td>13400.0</td>\n",
       "      <td>13400.0</td>\n",
       "    </tr>\n",
       "    <tr>\n",
       "      <th>US</th>\n",
       "      <td>347.0</td>\n",
       "      <td>137186.22</td>\n",
       "      <td>52980.68</td>\n",
       "      <td>5679.0</td>\n",
       "      <td>100000.00</td>\n",
       "      <td>135000.0</td>\n",
       "      <td>168937.5</td>\n",
       "      <td>325000.0</td>\n",
       "    </tr>\n",
       "    <tr>\n",
       "      <th>VN</th>\n",
       "      <td>1.0</td>\n",
       "      <td>4000.00</td>\n",
       "      <td>NaN</td>\n",
       "      <td>4000.0</td>\n",
       "      <td>4000.00</td>\n",
       "      <td>4000.0</td>\n",
       "      <td>4000.0</td>\n",
       "      <td>4000.0</td>\n",
       "    </tr>\n",
       "  </tbody>\n",
       "</table>\n",
       "</div>"
      ],
      "text/plain": [
       "                  count       mean        std      min        25%       50%  \\\n",
       "company_location                                                              \n",
       "PL                  4.0   66082.50   58863.60  28476.0   33811.50   41093.5   \n",
       "PT                  4.0   47793.75   17789.25  21983.0   43130.75   54217.5   \n",
       "RO                  1.0   60000.00        NaN  60000.0   60000.00   60000.0   \n",
       "RU                  2.0  157500.00  102530.48  85000.0  121250.00  157500.0   \n",
       "SG                  1.0   89294.00        NaN  89294.0   89294.00   89294.0   \n",
       "SI                  2.0   63831.00   55165.64  24823.0   44327.00   63831.0   \n",
       "TR                  3.0   20096.67    7956.76  12103.0   16137.00   20171.0   \n",
       "UA                  1.0   13400.00        NaN  13400.0   13400.00   13400.0   \n",
       "US                347.0  137186.22   52980.68   5679.0  100000.00  135000.0   \n",
       "VN                  1.0    4000.00        NaN   4000.0    4000.00    4000.0   \n",
       "\n",
       "                       75%       max  \n",
       "company_location                      \n",
       "PL                 73364.5  153667.0  \n",
       "PT                 58880.5   60757.0  \n",
       "RO                 60000.0   60000.0  \n",
       "RU                193750.0  230000.0  \n",
       "SG                 89294.0   89294.0  \n",
       "SI                 83335.0  102839.0  \n",
       "TR                 24093.5   28016.0  \n",
       "UA                 13400.0   13400.0  \n",
       "US                168937.5  325000.0  \n",
       "VN                  4000.0    4000.0  "
      ]
     },
     "execution_count": 224,
     "metadata": {},
     "output_type": "execute_result"
    }
   ],
   "source": [
    "data_agg = ds_salaries.groupby('company_location')['salary_in_usd'].describe().round(2)\n",
    "print('Заработная плата в зависимости от местонахождения главного офиса компании')\n",
    "data_agg[40:]"
   ]
  },
  {
   "cell_type": "markdown",
   "metadata": {},
   "source": [
    "Заработная плата сотрудника зависит от местонахождения главного офиса компании. В данном случае самая высокая зарплата у сотрудников с главным офисом компании в России"
   ]
  },
  {
   "cell_type": "markdown",
   "metadata": {},
   "source": [
    "### Заработная плата сотрудников от размера компании"
   ]
  },
  {
   "cell_type": "code",
   "execution_count": 225,
   "metadata": {},
   "outputs": [
    {
     "name": "stderr",
     "output_type": "stream",
     "text": [
      "C:\\Users\\Андрей\\AppData\\Local\\Temp\\ipykernel_1224\\987598912.py:2: FutureWarning:\n",
      "\n",
      "\n",
      "\n",
      "Passing `palette` without assigning `hue` is deprecated and will be removed in v0.14.0. Assign the `y` variable to `hue` and set `legend=False` for the same effect.\n",
      "\n",
      "\n"
     ]
    },
    {
     "data": {
      "image/png": "[encoded data removed]",
      "text/plain": [
       "<Figure size 640x480 with 1 Axes>"
      ]
     },
     "metadata": {},
     "output_type": "display_data"
    }
   ],
   "source": [
    "#Построим рапределение выплат заработной платы в зависимости от размера компании\n",
    "ax = sns.boxplot(ds_salaries, \n",
    "                 x='salary_in_usd', \n",
    "                 y='company_size',\n",
    "                 orient='h',\n",
    "                 palette= ['green', 'blue', 'red'], \n",
    "                 medianprops={'color':'black', 'linestyle': '--'})\n",
    "ax.set(xlabel='Размер заработной платы', ylabel='Размер компании')\n",
    "plt.title('Распределение заработной платы от типа размера компании')\n",
    "plt.show()"
   ]
  },
  {
   "cell_type": "code",
   "execution_count": 226,
   "metadata": {},
   "outputs": [
    {
     "name": "stdout",
     "output_type": "stream",
     "text": [
      "Заработная плата в зависимости от местонахождения главного офиса компании\n"
     ]
    },
    {
     "data": {
      "text/html": [
       "<div>\n",
       "<style scoped>\n",
       "    .dataframe tbody tr th:only-of-type {\n",
       "        vertical-align: middle;\n",
       "    }\n",
       "\n",
       "    .dataframe tbody tr th {\n",
       "        vertical-align: top;\n",
       "    }\n",
       "\n",
       "    .dataframe thead th {\n",
       "        text-align: right;\n",
       "    }\n",
       "</style>\n",
       "<table border=\"1\" class=\"dataframe\">\n",
       "  <thead>\n",
       "    <tr style=\"text-align: right;\">\n",
       "      <th></th>\n",
       "      <th>count</th>\n",
       "      <th>mean</th>\n",
       "      <th>std</th>\n",
       "      <th>min</th>\n",
       "      <th>25%</th>\n",
       "      <th>50%</th>\n",
       "      <th>75%</th>\n",
       "      <th>max</th>\n",
       "    </tr>\n",
       "    <tr>\n",
       "      <th>company_size</th>\n",
       "      <th></th>\n",
       "      <th></th>\n",
       "      <th></th>\n",
       "      <th></th>\n",
       "      <th></th>\n",
       "      <th></th>\n",
       "      <th></th>\n",
       "      <th></th>\n",
       "    </tr>\n",
       "  </thead>\n",
       "  <tbody>\n",
       "    <tr>\n",
       "      <th>L</th>\n",
       "      <td>192.0</td>\n",
       "      <td>109063.09</td>\n",
       "      <td>63669.51</td>\n",
       "      <td>5882.0</td>\n",
       "      <td>59775.5</td>\n",
       "      <td>98141.0</td>\n",
       "      <td>151250.0</td>\n",
       "      <td>325000.0</td>\n",
       "    </tr>\n",
       "    <tr>\n",
       "      <th>M</th>\n",
       "      <td>325.0</td>\n",
       "      <td>115880.56</td>\n",
       "      <td>56412.60</td>\n",
       "      <td>4000.0</td>\n",
       "      <td>78000.0</td>\n",
       "      <td>112900.0</td>\n",
       "      <td>152500.0</td>\n",
       "      <td>324000.0</td>\n",
       "    </tr>\n",
       "    <tr>\n",
       "      <th>S</th>\n",
       "      <td>82.0</td>\n",
       "      <td>73506.24</td>\n",
       "      <td>51443.02</td>\n",
       "      <td>2859.0</td>\n",
       "      <td>41816.0</td>\n",
       "      <td>65000.0</td>\n",
       "      <td>98936.5</td>\n",
       "      <td>260000.0</td>\n",
       "    </tr>\n",
       "  </tbody>\n",
       "</table>\n",
       "</div>"
      ],
      "text/plain": [
       "              count       mean       std     min      25%       50%       75%  \\\n",
       "company_size                                                                    \n",
       "L             192.0  109063.09  63669.51  5882.0  59775.5   98141.0  151250.0   \n",
       "M             325.0  115880.56  56412.60  4000.0  78000.0  112900.0  152500.0   \n",
       "S              82.0   73506.24  51443.02  2859.0  41816.0   65000.0   98936.5   \n",
       "\n",
       "                   max  \n",
       "company_size            \n",
       "L             325000.0  \n",
       "M             324000.0  \n",
       "S             260000.0  "
      ]
     },
     "execution_count": 226,
     "metadata": {},
     "output_type": "execute_result"
    }
   ],
   "source": [
    "data_agg = ds_salaries.groupby('company_size')['salary_in_usd'].describe().round(2)\n",
    "print('Заработная плата в зависимости от местонахождения главного офиса компании')\n",
    "data_agg"
   ]
  },
  {
   "cell_type": "markdown",
   "metadata": {},
   "source": [
    "Заработная плата сотрудников зависит от размера компании. Самая высокая заработная плата наблюдается в большой компании. Но медианная заработная плата выше в компании со средним размером."
   ]
  },
  {
   "cell_type": "markdown",
   "metadata": {},
   "source": [
    "## Статистический анализ данных"
   ]
  },
  {
   "cell_type": "code",
   "execution_count": 227,
   "metadata": {},
   "outputs": [],
   "source": [
    "#Функция для принятия решения о нормальности\n",
    "def decision_normality(p):\n",
    "    print('p-value = {:.3f}'.format(p))\n",
    "    if p <= alpha:\n",
    "        print('p-значение меньше, чем заданный уровень значимости {:.2f}. Распределение отлично от нормального.'.format(alpha))\n",
    "    else:\n",
    "        print('p-значение больше, чем заданный уровень значимости {:.2f}. Распределение является нормальным.'.format(alpha))\n",
    "        \n",
    "#Функция для принятия решения об отклонении нулевой гипотезы\n",
    "def decision_hypothesis(p):\n",
    "    print('p-value = {:.3f}'.format(p))\n",
    "    if p <= alpha:\n",
    "        print('p-значение меньше, чем заданный уровень значимости {:.2f}. Отвергаем нулевую гипотезу в пользу альтернативной.'.format(alpha))\n",
    "    else:\n",
    "        print('p-значение больше, чем заданный уровень значимости {:.2f}. У нас нет оснований отвергнуть нулевую гипотезу.'.format(alpha))\n",
    "        "
   ]
  },
  {
   "cell_type": "markdown",
   "metadata": {},
   "source": [
    "### Наблюдается ли ежегодный рост зарплат у специалистов Data Scientist ?\n",
    "\n",
    "**Сформулируем нулевую и альтернативную гипотезы**\n",
    "\n",
    "*Нулевая гипотеза* ($H_0$): размер заработной платы специалистов Data Scientist становится меньше или не изменяется с каждым годом: 2020 год ($μ_1$), 2021 год ($μ_2$), 2022 год ($μ_3$). \n",
    "\n",
    "$$ H_0 : μ_1 >= μ_2 >= μ_3 $$\n",
    "\n",
    "*Альтернативная гипотеза* ($H_1$): размер заработной платы специалистов Data Scientist растет с каждым годом: 2020 год ($μ_1$), 2021 год ($μ_2$), 2022 год ($μ_3$). \n",
    "\n",
    "$$ H_1 : μ_1 < μ_2 < μ_3 $$"
   ]
  },
  {
   "cell_type": "markdown",
   "metadata": {},
   "source": [
    "**Проверка на нормальность**\n",
    "\n",
    "С помощью теста Шапиро-Уилка проверим, распределен ли признак нормально. Напомним гипотезы теста Шапиро-Уилка:\n",
    "\n",
    "*Нулевая гипотеза* ($H_0$): распределение данные является нормальным.\n",
    "\n",
    "*Альтернативная гипотеза* ($H_1$): распределение данных отлично от нормального. "
   ]
  },
  {
   "cell_type": "code",
   "execution_count": 228,
   "metadata": {},
   "outputs": [
    {
     "name": "stdout",
     "output_type": "stream",
     "text": [
      "2020 год:\n",
      "p-value = 0.145\n",
      "p-значение больше, чем заданный уровень значимости 0.05. Распределение является нормальным.\n",
      "2021 год:\n",
      "p-value = 0.125\n",
      "p-значение больше, чем заданный уровень значимости 0.05. Распределение является нормальным.\n",
      "2022 год:\n",
      "p-value = 0.327\n",
      "p-значение больше, чем заданный уровень значимости 0.05. Распределение является нормальным.\n"
     ]
    }
   ],
   "source": [
    "#Дата фрейм только со специалистами Data Scientist\n",
    "\n",
    "data_scientist_df = ds_salaries[ds_salaries['job_title'] == 'Data Scientist']\n",
    "\n",
    "#Значения зарплат \n",
    "salary_in_2020 = data_scientist_df.loc[data_scientist_df['work_year'] == 2020, 'salary_in_usd']\n",
    "salary_in_2021 = data_scientist_df.loc[data_scientist_df['work_year'] == 2021, 'salary_in_usd']\n",
    "salary_in_2022 = data_scientist_df.loc[data_scientist_df['work_year'] == 2022, 'salary_in_usd']\n",
    "\n",
    "#Проводим тест Шапиро-Уилка\n",
    "print('2020 год:')\n",
    "result = stats.shapiro(salary_in_2020)\n",
    "decision_normality(result[1])\n",
    "\n",
    "print('2021 год:')\n",
    "result = stats.shapiro(salary_in_2021)\n",
    "decision_normality(result[1])\n",
    "\n",
    "print('2022 год:')\n",
    "result = stats.shapiro(salary_in_2022)\n",
    "decision_normality(result[1])"
   ]
  },
  {
   "cell_type": "markdown",
   "metadata": {},
   "source": [
    "**Выберем подходящий статистический тест**\n",
    "\n",
    "Для выбора нужного теста воспользуемся алгоритмом выбора теста. Для этого ответим на следующие вопросы:\n",
    "* Какой тип признака \"Размер заработной платы\"? - Количественный.\n",
    "* Сколько сравниваемых групп? - Три.\n",
    "* Группы зависимы? - Нет.\n",
    "* Признак распределен по нормальному закону? - Да.\n",
    "\n",
    "Чтобы проверить нашу гипотезу, можно использовать однофакторный дисперсионный анализ (ANOVA).\n",
    "\n",
    "**Проведем тест**\n"
   ]
  },
  {
   "cell_type": "code",
   "execution_count": 229,
   "metadata": {},
   "outputs": [
    {
     "name": "stdout",
     "output_type": "stream",
     "text": [
      "p-value = 0.000\n",
      "p-значение меньше, чем заданный уровень значимости 0.05. Отвергаем нулевую гипотезу в пользу альтернативной.\n"
     ]
    }
   ],
   "source": [
    "#Проводим тест\n",
    "_, p = stats.f_oneway(salary_in_2020, salary_in_2021, salary_in_2022)\n",
    "decision_hypothesis(p) "
   ]
  },
  {
   "cell_type": "markdown",
   "metadata": {},
   "source": [
    "**Вывод**\n",
    "\n",
    "Есть основания утверждать, что с каждым годом растет заработная плата у специалистов Data Scientist."
   ]
  },
  {
   "cell_type": "markdown",
   "metadata": {},
   "source": [
    "### Как соотносятся зарплаты Data Scientist и Data Engineer в 2022 году?\n",
    "\n",
    "**Сформулируем нулевую и альтернативную гипотезы**\n",
    "\n",
    "*Нулевая гипотеза* ($H_0$) : размер заработной платы Data Scientist ($μ_1$) и Data Engineer ($μ_2$) в 2022 году не отличается.\n",
    "\n",
    "$$ H_0 : μ_1 = μ_2 $$\n",
    "\n",
    "*Альтернативная гипотеза* ($H_1$) : размер заработной платы Data Scientist ($μ_1$) и Data Engineer ($μ_2$) в 2022 году различается.\n",
    "\n",
    "$$ H_1 : μ_1 \\neq μ_2 $$"
   ]
  },
  {
   "cell_type": "markdown",
   "metadata": {},
   "source": [
    "**Проверка на нормальность**\n",
    "\n",
    "С помощью теста Шапиро-Уилка проверим, распределён ли признак нормально."
   ]
  },
  {
   "cell_type": "code",
   "execution_count": 230,
   "metadata": {},
   "outputs": [
    {
     "name": "stdout",
     "output_type": "stream",
     "text": [
      "Data Scientist:\n",
      "p-value = 0.327\n",
      "p-значение больше, чем заданный уровень значимости 0.05. Распределение является нормальным.\n",
      "Data Engineer:\n",
      "p-value = 0.010\n",
      "p-значение меньше, чем заданный уровень значимости 0.05. Распределение отлично от нормального.\n"
     ]
    }
   ],
   "source": [
    "#Подготовка данных для анализа\n",
    "df_salary_in_2022 = ds_salaries[ds_salaries['work_year'] == 2022]\n",
    "salary_DS = df_salary_in_2022.loc[df_salary_in_2022['job_title'] == 'Data Scientist', 'salary_in_usd']\n",
    "salary_DE = df_salary_in_2022.loc[df_salary_in_2022['job_title'] == 'Data Engineer', 'salary_in_usd']\n",
    "\n",
    "#Проводим тест Шапиро-Уилка\n",
    "print('Data Scientist:')\n",
    "result = stats.shapiro(salary_DS)\n",
    "decision_normality(result[1])\n",
    "\n",
    "print('Data Engineer:')\n",
    "result = stats.shapiro(salary_DE)\n",
    "decision_normality(result[1])\n"
   ]
  },
  {
   "cell_type": "markdown",
   "metadata": {},
   "source": [
    "**Выберем подходящий статистический тест**\n",
    "\n",
    "Для выбора нужного теста воспользуемся алгоритмом выбора теста. Для этого ответим на следующие вопросы:\n",
    "* Какой тип признака \"Размер заработной платы\"? - Количественный.\n",
    "* Сколько сравниваемых групп? - Две.\n",
    "* Группы зависимы? - Нет.\n",
    "* Признак распределен по нормальному закону? - Нет.\n",
    "\n",
    "Чтобы проверить нашу гипотезу, можно использовать U-критерий Манна — Уитни.\n",
    "\n",
    "\n",
    "**Проведем тест**\n"
   ]
  },
  {
   "cell_type": "code",
   "execution_count": 231,
   "metadata": {},
   "outputs": [
    {
     "name": "stdout",
     "output_type": "stream",
     "text": [
      "p-value = 0.155\n",
      "p-значение больше, чем заданный уровень значимости 0.05. У нас нет оснований отвергнуть нулевую гипотезу.\n"
     ]
    }
   ],
   "source": [
    "#Проводим тест\n",
    "_, p = stats.mannwhitneyu(salary_DS, salary_DE)\n",
    "decision_hypothesis(p)"
   ]
  },
  {
   "cell_type": "markdown",
   "metadata": {},
   "source": [
    "**Вывод**\n",
    "\n",
    "Нет оснований утверждать что размер заработной платы в 2022 году у Data Science и Data Engineer отличаются."
   ]
  },
  {
   "cell_type": "markdown",
   "metadata": {},
   "source": [
    "### Как соотносятся зарплаты специалистов Data Scientist в компаниях разных рамеров?\n",
    "\n",
    "**Сформулируем нулевую и альтернативную гипотезы**\n",
    "\n",
    "*Нулевая гипотеза* ($H_0$) : размер заработной платы Data Scientist не зависит от размера компании: S ($μ_1$), M ($μ_2$), L ($μ_3$).\n",
    "\n",
    "$$ H_0 : μ_1 = μ_2 = μ_3 $$\n",
    "\n",
    "*Альтернативная гипотеза* ($H_1$) : размер заработной платы Data Scientist зависит от размера компании: S ($μ_1$), M ($μ_2$), L ($μ_3$).\n",
    "\n",
    "$$ H_1 : μ_1 \\neq μ_2 \\neq μ_3 $$"
   ]
  },
  {
   "cell_type": "markdown",
   "metadata": {},
   "source": [
    "**Проверка на нормальность**\n",
    "\n",
    "С помощью теста Шапиро-Уилка проверим, распределён ли признак нормально."
   ]
  },
  {
   "cell_type": "code",
   "execution_count": 232,
   "metadata": {},
   "outputs": [
    {
     "name": "stdout",
     "output_type": "stream",
     "text": [
      "Для S компании:\n",
      "p-value = 0.189\n",
      "p-значение больше, чем заданный уровень значимости 0.05. Распределение является нормальным.\n",
      "Для M компании:\n",
      "p-value = 0.639\n",
      "p-значение больше, чем заданный уровень значимости 0.05. Распределение является нормальным.\n",
      "Для L компании:\n",
      "p-value = 0.042\n",
      "p-значение меньше, чем заданный уровень значимости 0.05. Распределение отлично от нормального.\n"
     ]
    }
   ],
   "source": [
    "#Подготовка данных для анализа\n",
    "data_scientist_df = ds_salaries[ds_salaries['job_title'] == 'Data Scientist']\n",
    "salary_in_S = data_scientist_df.loc[data_scientist_df['company_size'] == 'S', 'salary_in_usd']\n",
    "salary_in_M = data_scientist_df.loc[data_scientist_df['company_size'] == 'M', 'salary_in_usd']\n",
    "salary_in_L = data_scientist_df.loc[data_scientist_df['company_size'] == 'L', 'salary_in_usd']\n",
    "\n",
    "#Проводим тест Шапиро-Уилка\n",
    "print('Для S компании:')\n",
    "result = stats.shapiro(salary_in_S)\n",
    "decision_normality(result[1])\n",
    "\n",
    "print('Для M компании:')\n",
    "result = stats.shapiro(salary_in_M)\n",
    "decision_normality(result[1])\n",
    "\n",
    "print('Для L компании:')\n",
    "result = stats.shapiro(salary_in_L)\n",
    "decision_normality(result[1])\n"
   ]
  },
  {
   "cell_type": "markdown",
   "metadata": {},
   "source": [
    "**Выберем подходящий статистический тест**\n",
    "\n",
    "Для выбора нужного теста воспользуемся алгоритмом выбора теста. Для этого ответим на следующие вопросы:\n",
    "* Какой тип признака \"Размер заработной платы\"? - Количественный.\n",
    "* Сколько сравниваемых групп? - Три.\n",
    "* Группы зависимы? - Нет.\n",
    "* Признак распределен по нормальному закону? - Нет.\n",
    "\n",
    "Чтобы проверить нашу гипотезу, можно использовать критерий Краскела-Уоллиса.\n",
    "\n",
    "\n",
    "**Проведем тест**\n"
   ]
  },
  {
   "cell_type": "code",
   "execution_count": 233,
   "metadata": {},
   "outputs": [
    {
     "name": "stdout",
     "output_type": "stream",
     "text": [
      "p-value = 0.000\n",
      "p-значение меньше, чем заданный уровень значимости 0.05. Отвергаем нулевую гипотезу в пользу альтернативной.\n"
     ]
    }
   ],
   "source": [
    "#Проводим тест\n",
    "_, p = stats.kruskal(salary_in_S, salary_in_M, salary_in_L)\n",
    "decision_hypothesis(p)"
   ]
  },
  {
   "cell_type": "markdown",
   "metadata": {},
   "source": [
    "**Вывод**\n",
    "\n",
    "Есть основания утверждать, что размер заработной платы Data Scientist зависит от размера компании в которой работает специалист."
   ]
  },
  {
   "cell_type": "markdown",
   "metadata": {},
   "source": [
    "### Есть ли связь между наличием должностей Data Scientist и Data Engineer и размером компании?\n",
    "\n",
    "**Сформулируем нулевую и альтернативные гипотезы**\n",
    "\n",
    "*Нулевая гипотеза*: между тем, есть ли наличие должностей Data Scientist и Data Engineer, и размером компании нет взаимосвязи (признаки независимы).\n",
    "\n",
    "*Альтернативная гипотеза*: между тем, есть ли наличие должностей Data Scientist и Data Engineer, и размером компании есть взаимосвязь (признаки зависимы).\n"
   ]
  },
  {
   "cell_type": "markdown",
   "metadata": {},
   "source": [
    "**Выберем подходящий статистический тест**\n",
    "\n",
    "Для выбора нужного теста воспользуемся алгоритмом выбора теста. Для этого ответим на следующие вопросы:\n",
    "* Какой тип у признака «Размер компании»? — Категориальный.\n",
    "* Сколько сравниваемых групп? — Две.\n",
    "* Проверяется независимость групп? — Да.\n",
    "\n",
    "Для проверки нашей гипотезы можно использовать критерий ${\\chi}^2$ (хи-квадрат).\n",
    "\n",
    "**Проведём тест**"
   ]
  },
  {
   "cell_type": "code",
   "execution_count": 234,
   "metadata": {},
   "outputs": [
    {
     "data": {
      "text/html": [
       "<div>\n",
       "<style scoped>\n",
       "    .dataframe tbody tr th:only-of-type {\n",
       "        vertical-align: middle;\n",
       "    }\n",
       "\n",
       "    .dataframe tbody tr th {\n",
       "        vertical-align: top;\n",
       "    }\n",
       "\n",
       "    .dataframe thead th {\n",
       "        text-align: right;\n",
       "    }\n",
       "</style>\n",
       "<table border=\"1\" class=\"dataframe\">\n",
       "  <thead>\n",
       "    <tr style=\"text-align: right;\">\n",
       "      <th>company_size</th>\n",
       "      <th>L</th>\n",
       "      <th>M</th>\n",
       "      <th>S</th>\n",
       "    </tr>\n",
       "    <tr>\n",
       "      <th>job_title</th>\n",
       "      <th></th>\n",
       "      <th></th>\n",
       "      <th></th>\n",
       "    </tr>\n",
       "  </thead>\n",
       "  <tbody>\n",
       "    <tr>\n",
       "      <th>Data Engineer</th>\n",
       "      <td>37</td>\n",
       "      <td>89</td>\n",
       "      <td>6</td>\n",
       "    </tr>\n",
       "    <tr>\n",
       "      <th>Data Scientist</th>\n",
       "      <td>44</td>\n",
       "      <td>77</td>\n",
       "      <td>21</td>\n",
       "    </tr>\n",
       "  </tbody>\n",
       "</table>\n",
       "</div>"
      ],
      "text/plain": [
       "company_size     L   M   S\n",
       "job_title                 \n",
       "Data Engineer   37  89   6\n",
       "Data Scientist  44  77  21"
      ]
     },
     "execution_count": 234,
     "metadata": {},
     "output_type": "execute_result"
    }
   ],
   "source": [
    "#Подготовка данных для анализа\n",
    "df_DS_and_DE = ds_salaries[(ds_salaries['job_title'] == 'Data Scientist') | (ds_salaries['job_title'] == 'Data Engineer')]\n",
    "\n",
    "#Составляем таблицу сопряженности\n",
    "cross_table = pd.crosstab(df_DS_and_DE['job_title'], df_DS_and_DE['company_size'])\n",
    "\n",
    "cross_table"
   ]
  },
  {
   "cell_type": "code",
   "execution_count": 235,
   "metadata": {},
   "outputs": [
    {
     "name": "stdout",
     "output_type": "stream",
     "text": [
      "p-value = 0.009\n",
      "p-значение меньше, чем заданный уровень значимости 0.05. Отвергаем нулевую гипотезу в пользу альтернативной.\n"
     ]
    }
   ],
   "source": [
    "#Проводим тест\n",
    "_, p, _, _ = stats.chi2_contingency(cross_table)\n",
    "decision_hypothesis(p)"
   ]
  },
  {
   "cell_type": "markdown",
   "metadata": {},
   "source": [
    "**Вывод**\n",
    "\n",
    "Существует статистически значимая взаимосвязь между наличием должностей Data Scientist и Data Engineer, и размером компании."
   ]
  },
  {
   "cell_type": "markdown",
   "metadata": {},
   "source": [
    "## Итоговые результаты исследования\n",
    "\n",
    "* Есть основания утверждать, что с каждым годом растет заработная плата у специалистов Data Scientist.\n",
    "\n",
    "* Нет оснований утверждать что размер заработной платы в 2022 году у Data Science и Data Engineer отличаются.\n",
    "\n",
    "* Есть основания утверждать, что размер заработной платы Data Scientist зависит от размера компании в которой работает специалист.\n",
    "\n",
    "* Существует статистически значимая взаимосвязь между наличием должностей Data Scientist и Data Engineer, и размером компании."
   ]
  },
  {
   "cell_type": "markdown",
   "metadata": {},
   "source": [
    "## Самостоятельная формулировка дополнительных гипотез\n",
    "\n",
    "**Дополнительные вопросы**\n",
    "\n",
    "* Наблюдается ли рост заработных плат у специалистов Data Science с повышением их опыта работы?\n",
    "\n",
    "* Зависят ли заработные платы специалистов Data Science и Data Engineer от типа трудоустройства?"
   ]
  },
  {
   "cell_type": "markdown",
   "metadata": {},
   "source": [
    "### Наблюдается ли рост заработных плат у специалистов Data Science с повышением их опыта работы?\n",
    "\n",
    "**Сформулируем нулевую и альтернативную гипотезы**\n",
    "\n",
    "*Нулевая гипотеза* ($H_0$): размер заработной платы специалистов Data Scientist становится меньше или не изменяется в зависимости от их опыта работы: EN ($μ_1$), MI ($μ_2$), SE ($μ_3$), EX ($μ_4$). \n",
    "\n",
    "$$ H_0 : μ_1 >= μ_2 >= μ_3 >= μ_4 $$\n",
    "\n",
    "*Альтернативная гипотеза* ($H_1$): размер заработной платы специалистов Data Scientist растет в зависимости от их опыта работы: EN ($μ_1$), MI ($μ_2$), SE ($μ_3$), EX ($μ_4$). \n",
    "\n",
    "$$ H_1 : μ_1 < μ_2 < μ_3 < μ_4 $$"
   ]
  },
  {
   "cell_type": "code",
   "execution_count": 236,
   "metadata": {},
   "outputs": [],
   "source": [
    "#Подготовка данных для визуального анализа\n",
    "data_scientist_df = ds_salaries[ds_salaries['job_title'] == 'Data Scientist']\n"
   ]
  },
  {
   "cell_type": "markdown",
   "metadata": {},
   "source": [
    "**Визуальный анализ данных**"
   ]
  },
  {
   "cell_type": "code",
   "execution_count": 237,
   "metadata": {},
   "outputs": [
    {
     "name": "stderr",
     "output_type": "stream",
     "text": [
      "C:\\Users\\Андрей\\AppData\\Local\\Temp\\ipykernel_1224\\3594863265.py:1: FutureWarning:\n",
      "\n",
      "\n",
      "\n",
      "Passing `palette` without assigning `hue` is deprecated and will be removed in v0.14.0. Assign the `y` variable to `hue` and set `legend=False` for the same effect.\n",
      "\n",
      "\n",
      "C:\\Users\\Андрей\\AppData\\Local\\Temp\\ipykernel_1224\\3594863265.py:1: UserWarning:\n",
      "\n",
      "The palette list has more values (4) than needed (3), which may not be intended.\n",
      "\n"
     ]
    },
    {
     "data": {
      "image/png": "[encoded data removed]",
      "text/plain": [
       "<Figure size 640x480 with 1 Axes>"
      ]
     },
     "metadata": {},
     "output_type": "display_data"
    }
   ],
   "source": [
    "ax = sns.boxplot(data_scientist_df, \n",
    "                 x='salary_in_usd', \n",
    "                 y='experience_level', \n",
    "                 orient='h',\n",
    "                 palette= ['green', 'blue', 'orange', 'red'], \n",
    "                 medianprops={'color':'black', 'linestyle': '--'})\n",
    "ax.set(xlabel='Размер заработной платы', ylabel='Опыт работы')\n",
    "plt.title('Распределение заработной платы по опыту работы у специалистов Data Science')\n",
    "plt.show()"
   ]
  },
  {
   "cell_type": "code",
   "execution_count": 238,
   "metadata": {},
   "outputs": [
    {
     "name": "stdout",
     "output_type": "stream",
     "text": [
      "Заработная плата в зависимости от опыта работы у специалистов Data Science\n"
     ]
    },
    {
     "data": {
      "text/html": [
       "<div>\n",
       "<style scoped>\n",
       "    .dataframe tbody tr th:only-of-type {\n",
       "        vertical-align: middle;\n",
       "    }\n",
       "\n",
       "    .dataframe tbody tr th {\n",
       "        vertical-align: top;\n",
       "    }\n",
       "\n",
       "    .dataframe thead th {\n",
       "        text-align: right;\n",
       "    }\n",
       "</style>\n",
       "<table border=\"1\" class=\"dataframe\">\n",
       "  <thead>\n",
       "    <tr style=\"text-align: right;\">\n",
       "      <th></th>\n",
       "      <th>count</th>\n",
       "      <th>mean</th>\n",
       "      <th>std</th>\n",
       "      <th>min</th>\n",
       "      <th>25%</th>\n",
       "      <th>50%</th>\n",
       "      <th>75%</th>\n",
       "      <th>max</th>\n",
       "    </tr>\n",
       "    <tr>\n",
       "      <th>experience_level</th>\n",
       "      <th></th>\n",
       "      <th></th>\n",
       "      <th></th>\n",
       "      <th></th>\n",
       "      <th></th>\n",
       "      <th></th>\n",
       "      <th></th>\n",
       "      <th></th>\n",
       "    </tr>\n",
       "  </thead>\n",
       "  <tbody>\n",
       "    <tr>\n",
       "      <th>EN</th>\n",
       "      <td>22.0</td>\n",
       "      <td>55330.91</td>\n",
       "      <td>31237.82</td>\n",
       "      <td>4000.0</td>\n",
       "      <td>31474.0</td>\n",
       "      <td>50483.5</td>\n",
       "      <td>85027.25</td>\n",
       "      <td>105000.0</td>\n",
       "    </tr>\n",
       "    <tr>\n",
       "      <th>MI</th>\n",
       "      <td>60.0</td>\n",
       "      <td>82039.13</td>\n",
       "      <td>46869.58</td>\n",
       "      <td>2859.0</td>\n",
       "      <td>41768.0</td>\n",
       "      <td>77479.0</td>\n",
       "      <td>118264.75</td>\n",
       "      <td>200000.0</td>\n",
       "    </tr>\n",
       "    <tr>\n",
       "      <th>SE</th>\n",
       "      <td>60.0</td>\n",
       "      <td>148653.87</td>\n",
       "      <td>48806.50</td>\n",
       "      <td>20171.0</td>\n",
       "      <td>120000.0</td>\n",
       "      <td>140400.0</td>\n",
       "      <td>180000.00</td>\n",
       "      <td>260000.0</td>\n",
       "    </tr>\n",
       "  </tbody>\n",
       "</table>\n",
       "</div>"
      ],
      "text/plain": [
       "                  count       mean       std      min       25%       50%  \\\n",
       "experience_level                                                            \n",
       "EN                 22.0   55330.91  31237.82   4000.0   31474.0   50483.5   \n",
       "MI                 60.0   82039.13  46869.58   2859.0   41768.0   77479.0   \n",
       "SE                 60.0  148653.87  48806.50  20171.0  120000.0  140400.0   \n",
       "\n",
       "                        75%       max  \n",
       "experience_level                       \n",
       "EN                 85027.25  105000.0  \n",
       "MI                118264.75  200000.0  \n",
       "SE                180000.00  260000.0  "
      ]
     },
     "execution_count": 238,
     "metadata": {},
     "output_type": "execute_result"
    }
   ],
   "source": [
    "data_agg = data_scientist_df.groupby('experience_level')['salary_in_usd'].describe().round(2)\n",
    "print('Заработная плата в зависимости от опыта работы у специалистов Data Science')\n",
    "data_agg"
   ]
  },
  {
   "cell_type": "markdown",
   "metadata": {},
   "source": [
    "Из визуального анализа можно сделать вывод, что ни один из специалистов Data Science не имеет опыт работы Executive-level/Director. На первый взгляд, можно сказать, что с увеличением опыта работы, зарплаты специалистов растут."
   ]
  },
  {
   "cell_type": "markdown",
   "metadata": {},
   "source": [
    "**Проверка на нормальность**\n",
    "\n",
    "С помощью теста Шапиро-Уилка проверим, распределён ли признак нормально."
   ]
  },
  {
   "cell_type": "code",
   "execution_count": 239,
   "metadata": {},
   "outputs": [
    {
     "name": "stdout",
     "output_type": "stream",
     "text": [
      "Для опыта работы EN:\n",
      "p-value = 0.174\n",
      "p-значение больше, чем заданный уровень значимости 0.05. Распределение является нормальным.\n",
      "Для опыта работы MI:\n",
      "p-value = 0.178\n",
      "p-значение больше, чем заданный уровень значимости 0.05. Распределение является нормальным.\n",
      "Для опыта работы SE:\n",
      "p-value = 0.541\n",
      "p-значение больше, чем заданный уровень значимости 0.05. Распределение является нормальным.\n"
     ]
    }
   ],
   "source": [
    "#Подготовка данных для проверки на нормальность\n",
    "salary_EN = data_scientist_df.loc[data_scientist_df['experience_level'] == 'EN', 'salary_in_usd']\n",
    "salary_MI = data_scientist_df.loc[data_scientist_df['experience_level'] == 'MI', 'salary_in_usd']\n",
    "salary_SE = data_scientist_df.loc[data_scientist_df['experience_level'] == 'SE', 'salary_in_usd']\n",
    "\n",
    "#Проводим тест Шапиро-Уилка\n",
    "print('Для опыта работы EN:')\n",
    "result = stats.shapiro(salary_EN)\n",
    "decision_normality(result[1])\n",
    "\n",
    "print('Для опыта работы MI:')\n",
    "result = stats.shapiro(salary_MI)\n",
    "decision_normality(result[1])\n",
    "\n",
    "print('Для опыта работы SE:')\n",
    "result = stats.shapiro(salary_SE)\n",
    "decision_normality(result[1])"
   ]
  },
  {
   "cell_type": "markdown",
   "metadata": {},
   "source": [
    "**Выберем подходящий статистический тест**\n",
    "\n",
    "Для выбора нужного теста воспользуемся алгоритмом выбора теста. Для этого ответим на следующие вопросы:\n",
    "* Какой тип признака \"Размер заработной платы\"? - Количественный.\n",
    "* Сколько сравниваемых групп? - Три.\n",
    "* Группы зависимы? - Нет.\n",
    "* Признак распределен по нормальному закону? - Да.\n",
    "\n",
    "Чтобы проверить нашу гипотезу, можно использовать однофакторный дисперсионный анализ (ANOVA).\n",
    "\n",
    "\n",
    "**Проведем тест**"
   ]
  },
  {
   "cell_type": "code",
   "execution_count": 240,
   "metadata": {},
   "outputs": [
    {
     "name": "stdout",
     "output_type": "stream",
     "text": [
      "p-value = 0.000\n",
      "p-значение меньше, чем заданный уровень значимости 0.05. Отвергаем нулевую гипотезу в пользу альтернативной.\n"
     ]
    }
   ],
   "source": [
    "#Проводим тест\n",
    "_, p = stats.f_oneway(salary_EN, salary_MI, salary_SE)\n",
    "decision_hypothesis(p) "
   ]
  },
  {
   "cell_type": "markdown",
   "metadata": {},
   "source": [
    "**Вывод**\n",
    "\n",
    "Есть основания утверждать, что с увеличением опыта работы у специалистов Data Science растет заработная плата."
   ]
  },
  {
   "cell_type": "markdown",
   "metadata": {},
   "source": [
    "### Зависят ли заработные платы специалистов Data Science и Data Engineer от типа трудоустройства?\n",
    "\n",
    "**Сформулируем нулевую и альтернативную гипотезы**\n",
    "\n",
    "*Нулевая гипотеза* ($H_0$) : размер заработной платы Data Scientist и Data Engineer не зависит от типа трудоустройства:  PT ($μ_1$), FT ($μ_2$), CT ($μ_3$), FL ($μ_4$) .\n",
    "\n",
    "$$ H_0 : μ_1 = μ_2 = μ_3 = μ_4 $$\n",
    "\n",
    "*Альтернативная гипотеза* ($H_1$) : размер заработной платы Data Scientist и Data Engineer зависит от типа трудоустройства:  PT ($μ_1$), FT ($μ_2$), CT ($μ_3$), FL ($μ_4$) .\n",
    "\n",
    "$$ H_1 : μ_1 \\neq μ_2 \\neq μ_3 \\neq μ_4 $$\n"
   ]
  },
  {
   "cell_type": "code",
   "execution_count": 241,
   "metadata": {},
   "outputs": [],
   "source": [
    "#Подготовка данных для визуального анализа\n",
    "df_DS_and_DE = ds_salaries[(ds_salaries['job_title'] == 'Data Scientist') | (ds_salaries['job_title'] == 'Data Engineer')]"
   ]
  },
  {
   "cell_type": "markdown",
   "metadata": {},
   "source": [
    "**Визуальный анализ данных**"
   ]
  },
  {
   "cell_type": "code",
   "execution_count": 242,
   "metadata": {},
   "outputs": [
    {
     "name": "stderr",
     "output_type": "stream",
     "text": [
      "C:\\Users\\Андрей\\AppData\\Local\\Temp\\ipykernel_1224\\3269200856.py:1: FutureWarning:\n",
      "\n",
      "\n",
      "\n",
      "Passing `palette` without assigning `hue` is deprecated and will be removed in v0.14.0. Assign the `y` variable to `hue` and set `legend=False` for the same effect.\n",
      "\n",
      "\n",
      "C:\\Users\\Андрей\\AppData\\Local\\Temp\\ipykernel_1224\\3269200856.py:1: UserWarning:\n",
      "\n",
      "The palette list has more values (4) than needed (3), which may not be intended.\n",
      "\n"
     ]
    },
    {
     "data": {
      "image/png": "[encoded data removed]",
      "text/plain": [
       "<Figure size 640x480 with 1 Axes>"
      ]
     },
     "metadata": {},
     "output_type": "display_data"
    }
   ],
   "source": [
    "ax = sns.boxplot(df_DS_and_DE, \n",
    "                 x='salary_in_usd', \n",
    "                 y='employment_type', \n",
    "                 orient='h',\n",
    "                 palette= ['green', 'blue', 'orange', 'red'], \n",
    "                 medianprops={'color':'black', 'linestyle': '--'})\n",
    "ax.set(xlabel='Размер заработной платы', ylabel='Тип трудоустройства')\n",
    "plt.title('Распределение заработной платы по типу трудоустройства у специалистов Data Science и Data Engineer')\n",
    "plt.show()"
   ]
  },
  {
   "cell_type": "code",
   "execution_count": 243,
   "metadata": {},
   "outputs": [
    {
     "name": "stdout",
     "output_type": "stream",
     "text": [
      "Заработная плата в зависимости от опыта работы у специалистов Data Science\n"
     ]
    },
    {
     "data": {
      "text/html": [
       "<div>\n",
       "<style scoped>\n",
       "    .dataframe tbody tr th:only-of-type {\n",
       "        vertical-align: middle;\n",
       "    }\n",
       "\n",
       "    .dataframe tbody tr th {\n",
       "        vertical-align: top;\n",
       "    }\n",
       "\n",
       "    .dataframe thead th {\n",
       "        text-align: right;\n",
       "    }\n",
       "</style>\n",
       "<table border=\"1\" class=\"dataframe\">\n",
       "  <thead>\n",
       "    <tr style=\"text-align: right;\">\n",
       "      <th></th>\n",
       "      <th>count</th>\n",
       "      <th>mean</th>\n",
       "      <th>std</th>\n",
       "      <th>min</th>\n",
       "      <th>25%</th>\n",
       "      <th>50%</th>\n",
       "      <th>75%</th>\n",
       "      <th>max</th>\n",
       "    </tr>\n",
       "    <tr>\n",
       "      <th>employment_type</th>\n",
       "      <th></th>\n",
       "      <th></th>\n",
       "      <th></th>\n",
       "      <th></th>\n",
       "      <th></th>\n",
       "      <th></th>\n",
       "      <th></th>\n",
       "      <th></th>\n",
       "    </tr>\n",
       "  </thead>\n",
       "  <tbody>\n",
       "    <tr>\n",
       "      <th>FL</th>\n",
       "      <td>2.0</td>\n",
       "      <td>60000.00</td>\n",
       "      <td>56568.54</td>\n",
       "      <td>20000.0</td>\n",
       "      <td>40000.00</td>\n",
       "      <td>60000.0</td>\n",
       "      <td>80000.00</td>\n",
       "      <td>100000.0</td>\n",
       "    </tr>\n",
       "    <tr>\n",
       "      <th>FT</th>\n",
       "      <td>268.0</td>\n",
       "      <td>110344.00</td>\n",
       "      <td>58322.73</td>\n",
       "      <td>2859.0</td>\n",
       "      <td>65821.25</td>\n",
       "      <td>105000.0</td>\n",
       "      <td>150000.00</td>\n",
       "      <td>324000.0</td>\n",
       "    </tr>\n",
       "    <tr>\n",
       "      <th>PT</th>\n",
       "      <td>4.0</td>\n",
       "      <td>61591.75</td>\n",
       "      <td>32554.82</td>\n",
       "      <td>21669.0</td>\n",
       "      <td>46635.00</td>\n",
       "      <td>62349.0</td>\n",
       "      <td>77305.75</td>\n",
       "      <td>100000.0</td>\n",
       "    </tr>\n",
       "  </tbody>\n",
       "</table>\n",
       "</div>"
      ],
      "text/plain": [
       "                 count       mean       std      min       25%       50%  \\\n",
       "employment_type                                                            \n",
       "FL                 2.0   60000.00  56568.54  20000.0  40000.00   60000.0   \n",
       "FT               268.0  110344.00  58322.73   2859.0  65821.25  105000.0   \n",
       "PT                 4.0   61591.75  32554.82  21669.0  46635.00   62349.0   \n",
       "\n",
       "                       75%       max  \n",
       "employment_type                       \n",
       "FL                80000.00  100000.0  \n",
       "FT               150000.00  324000.0  \n",
       "PT                77305.75  100000.0  "
      ]
     },
     "execution_count": 243,
     "metadata": {},
     "output_type": "execute_result"
    }
   ],
   "source": [
    "data_agg = df_DS_and_DE.groupby('employment_type')['salary_in_usd'].describe().round(2)\n",
    "print('Заработная плата в зависимости от опыта работы у специалистов Data Science')\n",
    "data_agg"
   ]
  },
  {
   "cell_type": "markdown",
   "metadata": {},
   "source": [
    "Из визуального анализа видно, что подавляющее большинство людей работают на полном рабочем дне. Нет ни одного сотрудника с типом трудоустройства по контракту."
   ]
  },
  {
   "cell_type": "markdown",
   "metadata": {},
   "source": [
    "**Проверка на нормальность**\n",
    "\n",
    "С помощью теста Шапиро-Уилка проверим, распределён ли признак нормально."
   ]
  },
  {
   "cell_type": "code",
   "execution_count": 244,
   "metadata": {},
   "outputs": [
    {
     "name": "stdout",
     "output_type": "stream",
     "text": [
      "Для типа трудоустройства FL:\n",
      "p-value = nan\n",
      "p-значение больше, чем заданный уровень значимости 0.05. Распределение является нормальным.\n",
      "Для типа трудоустройства FT:\n",
      "p-value = 0.001\n",
      "p-значение меньше, чем заданный уровень значимости 0.05. Распределение отлично от нормального.\n",
      "Для типа трудоустройства PT:\n",
      "p-value = 0.989\n",
      "p-значение больше, чем заданный уровень значимости 0.05. Распределение является нормальным.\n"
     ]
    },
    {
     "name": "stderr",
     "output_type": "stream",
     "text": [
      "C:\\Users\\Андрей\\AppData\\Local\\Temp\\ipykernel_1224\\3863886105.py:8: SmallSampleWarning:\n",
      "\n",
      "One or more sample arguments is too small; all returned values will be NaN. See documentation for sample size requirements.\n",
      "\n"
     ]
    }
   ],
   "source": [
    "#Подготовка данных для проверки на нормальность\n",
    "salary_FL = df_DS_and_DE.loc[df_DS_and_DE['employment_type'] == 'FL', 'salary_in_usd']\n",
    "salary_FT = df_DS_and_DE.loc[df_DS_and_DE['employment_type'] == 'FT', 'salary_in_usd']\n",
    "salary_PT = df_DS_and_DE.loc[df_DS_and_DE['employment_type'] == 'PT', 'salary_in_usd']\n",
    "\n",
    "#Проводим тест Шапиро-Уилка\n",
    "print('Для типа трудоустройства FL:')\n",
    "result = stats.shapiro(salary_FL)\n",
    "decision_normality(result[1])\n",
    "\n",
    "print('Для типа трудоустройства FT:')\n",
    "result = stats.shapiro(salary_FT)\n",
    "decision_normality(result[1])\n",
    "\n",
    "print('Для типа трудоустройства PT:')\n",
    "result = stats.shapiro(salary_PT)\n",
    "decision_normality(result[1])"
   ]
  },
  {
   "cell_type": "markdown",
   "metadata": {},
   "source": [
    "**Выберем подходящий статистический тест**\n",
    "\n",
    "Для выбора нужного теста воспользуемся алгоритмом выбора теста. Для этого ответим на следующие вопросы:\n",
    "* Какой тип признака \"Размер заработной платы\"? - Количественный.\n",
    "* Сколько сравниваемых групп? - Три.\n",
    "* Группы зависимы? - Нет.\n",
    "* Признак распределен по нормальному закону? - Нет.\n",
    "\n",
    "Чтобы проверить нашу гипотезу, можно использовать критерий Краскела-Уоллиса.\n",
    "\n",
    "\n",
    "**Проведем тест**"
   ]
  },
  {
   "cell_type": "code",
   "execution_count": 245,
   "metadata": {},
   "outputs": [
    {
     "name": "stdout",
     "output_type": "stream",
     "text": [
      "p-value = 0.104\n",
      "p-значение больше, чем заданный уровень значимости 0.05. У нас нет оснований отвергнуть нулевую гипотезу.\n"
     ]
    }
   ],
   "source": [
    "#Проводим тест\n",
    "_, p = stats.kruskal(salary_FL, salary_FT, salary_PT)\n",
    "decision_hypothesis(p)"
   ]
  },
  {
   "cell_type": "markdown",
   "metadata": {},
   "source": [
    "**Вывод**\n",
    "\n",
    "По результатам полученным в ходе теста, можно сделать вывод, что заработная плата специалистов Data Scientist и Data Engineer не зависит от типа трудоустройства."
   ]
  },
  {
   "cell_type": "markdown",
   "metadata": {},
   "source": [
    "## Итоговые результаты самостоятельных исследований\n",
    "\n",
    "* Есть основания утверждать, что с увеличением опыта работы у специалистов Data Science растет заработная плата.\n",
    "\n",
    "* По результатам полученным в ходе теста, можно сделать вывод, что заработная плата специалистов Data Scientist и Data Engineer не зависит от типа трудоустройства."
   ]
  }
 ],
 "metadata": {
  "kernelspec": {
   "display_name": "Python 3",
   "language": "python",
   "name": "python3"
  },
  "language_info": {
   "codemirror_mode": {
    "name": "ipython",
    "version": 3
   },
   "file_extension": ".py",
   "mimetype": "text/x-python",
   "name": "python",
   "nbconvert_exporter": "python",
   "pygments_lexer": "ipython3",
   "version": "3.11.9"
  }
 },
 "nbformat": 4,
 "nbformat_minor": 2
}
