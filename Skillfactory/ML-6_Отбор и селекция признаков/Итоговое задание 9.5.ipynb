{
 "cells": [
  {
   "cell_type": "markdown",
   "metadata": {},
   "source": [
    "# Итоговое задание 9.5"
   ]
  },
  {
   "cell_type": "code",
   "execution_count": 21,
   "metadata": {},
   "outputs": [],
   "source": [
    "#Импортируем необходимые библиотеки\n",
    "\n",
    "#Для анализа и предобработки данных\n",
    "import pandas as pd\n",
    "\n",
    "#Метрики\n",
    "from sklearn import metrics\n",
    "from sklearn.metrics import mean_absolute_error\n",
    "#Методы разделения и валидации\n",
    "from sklearn import model_selection\n",
    "from sklearn.model_selection import train_test_split\n",
    "#Линейные модели\n",
    "from sklearn import linear_model\n",
    "from sklearn.linear_model import LinearRegression\n",
    "\n",
    "#RFE\n",
    "from sklearn.feature_selection import RFE\n",
    "#SelectKBest\n",
    "from sklearn.feature_selection import SelectKBest, f_regression\n"
   ]
  },
  {
   "cell_type": "code",
   "execution_count": 22,
   "metadata": {},
   "outputs": [],
   "source": [
    "#Загружаем DataFrame\n",
    "data = pd.read_excel('data/data_ford_price.xlsx')\n",
    "\n",
    "#Подготавливаем данные\n",
    "data = data[['price', 'year', 'cylinders', 'odometer', \n",
    "             'lat', 'long', 'weather']]\n",
    "data.dropna(inplace=True)\n",
    "y = data['price']\n",
    "X = data.drop(columns='price')\n",
    "#Разделяем данные на тренировочную и тестовую выборки\n",
    "X_train, X_test, y_train, y_test = train_test_split(X, y, test_size=0.3, random_state=30)"
   ]
  },
  {
   "cell_type": "markdown",
   "metadata": {},
   "source": [
    "Выделим три наиболее значимых признака по RFE"
   ]
  },
  {
   "cell_type": "code",
   "execution_count": 23,
   "metadata": {},
   "outputs": [
    {
     "data": {
      "text/plain": [
       "array(['year', 'cylinders', 'lat'], dtype=object)"
      ]
     },
     "execution_count": 23,
     "metadata": {},
     "output_type": "execute_result"
    }
   ],
   "source": [
    "estimator = LinearRegression()\n",
    "selector_RFE = RFE(estimator, n_features_to_select=3, step=1)\n",
    "selector_RFE = selector_RFE.fit(X_train, y_train)\n",
    "\n",
    "selector_RFE.get_feature_names_out()"
   ]
  },
  {
   "cell_type": "markdown",
   "metadata": {},
   "source": [
    "Выделим три наиболее значимых признака по SelectKBest"
   ]
  },
  {
   "cell_type": "code",
   "execution_count": 24,
   "metadata": {},
   "outputs": [
    {
     "data": {
      "text/plain": [
       "array(['year', 'cylinders', 'odometer'], dtype=object)"
      ]
     },
     "execution_count": 24,
     "metadata": {},
     "output_type": "execute_result"
    }
   ],
   "source": [
    "selector_SelectKBest = SelectKBest(f_regression, k=3)\n",
    "selector_SelectKBest.fit(X_train, y_train)\n",
    "\n",
    "selector_SelectKBest.get_feature_names_out()"
   ]
  },
  {
   "cell_type": "markdown",
   "metadata": {},
   "source": [
    "Обучаем модель линейной регрессии на трех признаках, выбранных RFE"
   ]
  },
  {
   "cell_type": "code",
   "execution_count": 25,
   "metadata": {},
   "outputs": [
    {
     "name": "stdout",
     "output_type": "stream",
     "text": [
      "MAE: 5252.681\n"
     ]
    }
   ],
   "source": [
    "#Подготваливаем данные\n",
    "X = data[['year', 'cylinders', 'lat']]\n",
    "y = data['price']\n",
    "\n",
    "#Разделяем данные на тренировочную и тестовую выборки\n",
    "X_train, X_test, y_train, y_test = train_test_split(X, y, test_size=0.3, random_state=30)\n",
    "\n",
    "#Инициализируем модель линейной регрессии\n",
    "model_RFE = LinearRegression()\n",
    "\n",
    "#Обучаем модель на тренировочных данных\n",
    "model_RFE.fit(X_train, y_train)\n",
    "\n",
    "#Делаем предсказание \n",
    "y_pred = model_RFE.predict(X_test)\n",
    "\n",
    "#Находим MAE\n",
    "mae = mean_absolute_error(y_test, y_pred)\n",
    "print('MAE: {:.3f}'.format(mae))"
   ]
  },
  {
   "cell_type": "markdown",
   "metadata": {},
   "source": [
    "Обучаем модель линейной регрессии на трех признаках, выбранных SelectKBest"
   ]
  },
  {
   "cell_type": "code",
   "execution_count": 26,
   "metadata": {},
   "outputs": [
    {
     "name": "stdout",
     "output_type": "stream",
     "text": [
      "MAE: 4910.266\n"
     ]
    }
   ],
   "source": [
    "#Подготваливаем данные\n",
    "X = data[['year', 'cylinders', 'odometer']]\n",
    "y = data['price']\n",
    "\n",
    "#Разделяем данные на тренировочную и тестовую выборки\n",
    "X_train, X_test, y_train, y_test = train_test_split(X, y, test_size=0.3, random_state=30)\n",
    "\n",
    "#Инициализируем модель линейной регрессии\n",
    "model_SelectKBest = LinearRegression()\n",
    "\n",
    "#Обучаем модель на тренировочных данных\n",
    "model_SelectKBest .fit(X_train, y_train)\n",
    "\n",
    "#Делаем предсказание \n",
    "y_pred = model_SelectKBest .predict(X_test)\n",
    "\n",
    "#Находим MAE\n",
    "mae = mean_absolute_error(y_test, y_pred)\n",
    "print('MAE: {:.3f}'.format(mae))"
   ]
  },
  {
   "cell_type": "markdown",
   "metadata": {},
   "source": [
    "Метод SelectKBest на тестовой выборке показал результат лучше, чем RFE. С данным утверждением я согласен, так как на мой взгляд признак пробега ('odometer') имеет больше значения, чем широта ('lat')."
   ]
  }
 ],
 "metadata": {
  "kernelspec": {
   "display_name": "Python 3",
   "language": "python",
   "name": "python3"
  },
  "language_info": {
   "codemirror_mode": {
    "name": "ipython",
    "version": 3
   },
   "file_extension": ".py",
   "mimetype": "text/x-python",
   "name": "python",
   "nbconvert_exporter": "python",
   "pygments_lexer": "ipython3",
   "version": "3.11.9"
  }
 },
 "nbformat": 4,
 "nbformat_minor": 2
}
