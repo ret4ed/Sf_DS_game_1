{
  "cells": [
    {
      "cell_type": "markdown",
      "id": "42289889-bd57-434e-9637-d3e354756316",
      "metadata": {
        "id": "42289889-bd57-434e-9637-d3e354756316"
      },
      "source": [
        "<center> <img src = https://raw.githubusercontent.com/AndreyRysistov/DatasetsForPandas/main/hh%20label.jpg alt=\"drawing\" style=\"width:400px;\"> </center>"
      ]
    },
    {
      "cell_type": "markdown",
      "id": "829cb75b-f14e-4ba8-9195-7ba929a7d656",
      "metadata": {
        "id": "829cb75b-f14e-4ba8-9195-7ba929a7d656",
        "tags": []
      },
      "source": [
        "# <center> Проект: Анализ вакансий из HeadHunter\n",
        "   "
      ]
    },
    {
      "cell_type": "code",
      "execution_count": 1,
      "id": "dccfde33-2452-43fb-a8a5-5c6ebc02a71d",
      "metadata": {
        "id": "dccfde33-2452-43fb-a8a5-5c6ebc02a71d"
      },
      "outputs": [],
      "source": [
        "import pandas as pd\n",
        "import psycopg2"
      ]
    },
    {
      "cell_type": "code",
      "execution_count": 2,
      "id": "447c0367",
      "metadata": {},
      "outputs": [],
      "source": [
        "# Что избежать отображение предупреждений об использовании sqlalchemy \n",
        "import warnings\n",
        "warnings.filterwarnings(\"ignore\")"
      ]
    },
    {
      "cell_type": "code",
      "execution_count": 1522,
      "id": "oVKH4ehvf8Ay",
      "metadata": {
        "id": "oVKH4ehvf8Ay"
      },
      "outputs": [],
      "source": [
        "# вставьте сюда параметры подключения из юнита 1. Работа с базой данных из Python \n",
        "#Удалил перед отправкой на github"
      ]
    },
    {
      "cell_type": "code",
      "execution_count": null,
      "id": "cfb93f14",
      "metadata": {},
      "outputs": [],
      "source": [
        "# не уверен, как вы организовали хранение скрытой информации\n",
        "# предлагаю использовать dotenv, для этого\n",
        "# в корневой папке с проектом создаём файл .env туда переносим 5 переменных\n",
        "# во кладке source control добавляем .env файл в gitignore\n",
        "# теперь можно подгрузить переменные, явным образом не показывая их в коде\n",
        "\n",
        "import os\n",
        "from dotenv import load_dotenv\n",
        "\n",
        "load_dotenv()\n",
        "DBNAME = os.getenv(\"DBNAME\")\n",
        "USER = os.getenv(\"USER\")\n",
        "PASSWORD = os.getenv(\"PASSWORD\")\n",
        "HOST = os.getenv(\"HOST\")\n",
        "PORT = os.getenv(\"PORT\")"
      ]
    },
    {
      "cell_type": "code",
      "execution_count": 10,
      "id": "G4X_q8KBf7SF",
      "metadata": {
        "id": "G4X_q8KBf7SF"
      },
      "outputs": [],
      "source": [
        "connection = psycopg2.connect(\n",
        "    dbname=DBNAME,\n",
        "    user=USER,\n",
        "    host=HOST,\n",
        "    password=PASSWORD,\n",
        "    port=PORT\n",
        ")"
      ]
    },
    {
      "cell_type": "markdown",
      "id": "0dc6476b-7a00-44f1-ac93-6e3baed33a29",
      "metadata": {
        "id": "0dc6476b-7a00-44f1-ac93-6e3baed33a29"
      },
      "source": [
        "# Юнит 3. Предварительный анализ данных"
      ]
    },
    {
      "cell_type": "markdown",
      "id": "889782b6-8d1c-410e-8920-e57f27917c64",
      "metadata": {
        "id": "889782b6-8d1c-410e-8920-e57f27917c64"
      },
      "source": [
        "1. Напишите запрос, который посчитает количество вакансий в нашей базе (вакансии находятся в таблице vacancies). "
      ]
    },
    {
      "cell_type": "code",
      "execution_count": 11,
      "id": "bc39e68e-ed02-4ee2-9235-7258a2f867a8",
      "metadata": {
        "id": "bc39e68e-ed02-4ee2-9235-7258a2f867a8"
      },
      "outputs": [],
      "source": [
        "# текст запроса\n",
        "\n",
        "#Считаем общее количество вакансий в базе данных\n",
        "query_3_1 = f'''SELECT COUNT(*)\n",
        "                FROM public.vacancies\n",
        "            '''"
      ]
    },
    {
      "cell_type": "code",
      "execution_count": 12,
      "id": "7mAwtsk4hEHY",
      "metadata": {
        "id": "7mAwtsk4hEHY"
      },
      "outputs": [
        {
          "data": {
            "text/html": [
              "<div>\n",
              "<style scoped>\n",
              "    .dataframe tbody tr th:only-of-type {\n",
              "        vertical-align: middle;\n",
              "    }\n",
              "\n",
              "    .dataframe tbody tr th {\n",
              "        vertical-align: top;\n",
              "    }\n",
              "\n",
              "    .dataframe thead th {\n",
              "        text-align: right;\n",
              "    }\n",
              "</style>\n",
              "<table border=\"1\" class=\"dataframe\">\n",
              "  <thead>\n",
              "    <tr style=\"text-align: right;\">\n",
              "      <th></th>\n",
              "      <th>count</th>\n",
              "    </tr>\n",
              "  </thead>\n",
              "  <tbody>\n",
              "    <tr>\n",
              "      <th>0</th>\n",
              "      <td>49197</td>\n",
              "    </tr>\n",
              "  </tbody>\n",
              "</table>\n",
              "</div>"
            ],
            "text/plain": [
              "   count\n",
              "0  49197"
            ]
          },
          "metadata": {},
          "output_type": "display_data"
        }
      ],
      "source": [
        "# результат запроса\n",
        "\n",
        "#Выводим результат запроса\n",
        "df_query_3_1 = pd.read_sql_query(query_3_1, connection)\n",
        "display(df_query_3_1)"
      ]
    },
    {
      "cell_type": "markdown",
      "id": "b583485d-1f9e-494e-ada4-80ffff7c53d6",
      "metadata": {
        "id": "b583485d-1f9e-494e-ada4-80ffff7c53d6"
      },
      "source": [
        "2. Напишите запрос, который посчитает количество работодателей (таблица employers). "
      ]
    },
    {
      "cell_type": "code",
      "execution_count": 20,
      "id": "5408c52c-3407-4a63-b25b-1aafa2322d28",
      "metadata": {
        "id": "5408c52c-3407-4a63-b25b-1aafa2322d28"
      },
      "outputs": [],
      "source": [
        "# текст запроса\n",
        "\n",
        "#Считаем общее количество работадателей в базе данных\n",
        "query_3_2 = f'''SELECT COUNT(*)\n",
        "                FROM public.employers\n",
        "            '''"
      ]
    },
    {
      "cell_type": "code",
      "execution_count": 21,
      "id": "jVL4eshKhdqc",
      "metadata": {
        "id": "jVL4eshKhdqc"
      },
      "outputs": [
        {
          "data": {
            "text/html": [
              "<div>\n",
              "<style scoped>\n",
              "    .dataframe tbody tr th:only-of-type {\n",
              "        vertical-align: middle;\n",
              "    }\n",
              "\n",
              "    .dataframe tbody tr th {\n",
              "        vertical-align: top;\n",
              "    }\n",
              "\n",
              "    .dataframe thead th {\n",
              "        text-align: right;\n",
              "    }\n",
              "</style>\n",
              "<table border=\"1\" class=\"dataframe\">\n",
              "  <thead>\n",
              "    <tr style=\"text-align: right;\">\n",
              "      <th></th>\n",
              "      <th>count</th>\n",
              "    </tr>\n",
              "  </thead>\n",
              "  <tbody>\n",
              "    <tr>\n",
              "      <th>0</th>\n",
              "      <td>23501</td>\n",
              "    </tr>\n",
              "  </tbody>\n",
              "</table>\n",
              "</div>"
            ],
            "text/plain": [
              "   count\n",
              "0  23501"
            ]
          },
          "metadata": {},
          "output_type": "display_data"
        }
      ],
      "source": [
        "# результат запроса\n",
        "\n",
        "#Выводим результат запроса\n",
        "df_query_3_2 = pd.read_sql_query(query_3_2, connection)\n",
        "display(df_query_3_2)"
      ]
    },
    {
      "cell_type": "code",
      "execution_count": 22,
      "id": "b86a9e83",
      "metadata": {},
      "outputs": [
        {
          "name": "stdout",
          "output_type": "stream",
          "text": [
            "Число уникальных id вакансий: 23501\n"
          ]
        }
      ],
      "source": [
        "# Это не ошибка и не требование, просто хочу показать пример использования f-string\n",
        "print(f'Число уникальных id вакансий: {df_query_3_2.squeeze()}')"
      ]
    },
    {
      "cell_type": "markdown",
      "id": "a2bfff1f-c975-4bf6-84be-2185d79dcb76",
      "metadata": {
        "id": "a2bfff1f-c975-4bf6-84be-2185d79dcb76"
      },
      "source": [
        "3. Посчитате с помощью запроса количество регионов (таблица areas)."
      ]
    },
    {
      "cell_type": "code",
      "execution_count": 15,
      "id": "1m8QJwBYhey6",
      "metadata": {
        "id": "1m8QJwBYhey6"
      },
      "outputs": [],
      "source": [
        "# текст запроса\n",
        "\n",
        "#Считаем общее количество регионов в базе данных\n",
        "query_3_3 = f'''SELECT COUNT(*)\n",
        "                FROM public.areas\n",
        "            '''"
      ]
    },
    {
      "cell_type": "code",
      "execution_count": 16,
      "id": "EZsn9tlfhe7f",
      "metadata": {
        "id": "EZsn9tlfhe7f"
      },
      "outputs": [
        {
          "data": {
            "text/html": [
              "<div>\n",
              "<style scoped>\n",
              "    .dataframe tbody tr th:only-of-type {\n",
              "        vertical-align: middle;\n",
              "    }\n",
              "\n",
              "    .dataframe tbody tr th {\n",
              "        vertical-align: top;\n",
              "    }\n",
              "\n",
              "    .dataframe thead th {\n",
              "        text-align: right;\n",
              "    }\n",
              "</style>\n",
              "<table border=\"1\" class=\"dataframe\">\n",
              "  <thead>\n",
              "    <tr style=\"text-align: right;\">\n",
              "      <th></th>\n",
              "      <th>count</th>\n",
              "    </tr>\n",
              "  </thead>\n",
              "  <tbody>\n",
              "    <tr>\n",
              "      <th>0</th>\n",
              "      <td>1362</td>\n",
              "    </tr>\n",
              "  </tbody>\n",
              "</table>\n",
              "</div>"
            ],
            "text/plain": [
              "   count\n",
              "0   1362"
            ]
          },
          "metadata": {},
          "output_type": "display_data"
        }
      ],
      "source": [
        "# результат запроса\n",
        "\n",
        "#Выводим результат запроса\n",
        "df_query_3_3 = pd.read_sql_query(query_3_3, connection)\n",
        "display(df_query_3_3)"
      ]
    },
    {
      "cell_type": "markdown",
      "id": "41bb59f3-53cc-4a67-a5bc-bedf573955e4",
      "metadata": {
        "id": "41bb59f3-53cc-4a67-a5bc-bedf573955e4"
      },
      "source": [
        "4. Посчитате с помощью запроса количество сфер деятельности в базе (таблица industries)."
      ]
    },
    {
      "cell_type": "code",
      "execution_count": 17,
      "id": "d286cf4c-707b-4cd2-9190-7ab3587d04a1",
      "metadata": {
        "id": "d286cf4c-707b-4cd2-9190-7ab3587d04a1"
      },
      "outputs": [],
      "source": [
        "# текст запроса\n",
        "\n",
        "#Считаем общее количество сфер деятельности в базе данных\n",
        "query_3_4 = f'''SELECT COUNT(*)\n",
        "                FROM public.industries\n",
        "            '''"
      ]
    },
    {
      "cell_type": "code",
      "execution_count": 18,
      "id": "JYAaoZ4qhfzW",
      "metadata": {
        "id": "JYAaoZ4qhfzW"
      },
      "outputs": [
        {
          "data": {
            "text/html": [
              "<div>\n",
              "<style scoped>\n",
              "    .dataframe tbody tr th:only-of-type {\n",
              "        vertical-align: middle;\n",
              "    }\n",
              "\n",
              "    .dataframe tbody tr th {\n",
              "        vertical-align: top;\n",
              "    }\n",
              "\n",
              "    .dataframe thead th {\n",
              "        text-align: right;\n",
              "    }\n",
              "</style>\n",
              "<table border=\"1\" class=\"dataframe\">\n",
              "  <thead>\n",
              "    <tr style=\"text-align: right;\">\n",
              "      <th></th>\n",
              "      <th>count</th>\n",
              "    </tr>\n",
              "  </thead>\n",
              "  <tbody>\n",
              "    <tr>\n",
              "      <th>0</th>\n",
              "      <td>294</td>\n",
              "    </tr>\n",
              "  </tbody>\n",
              "</table>\n",
              "</div>"
            ],
            "text/plain": [
              "   count\n",
              "0    294"
            ]
          },
          "metadata": {},
          "output_type": "display_data"
        }
      ],
      "source": [
        "# результат запроса\n",
        "\n",
        "#Выводим результат запроса\n",
        "df_query_3_4 = pd.read_sql_query(query_3_4, connection)\n",
        "display(df_query_3_4)"
      ]
    },
    {
      "cell_type": "markdown",
      "id": "9a8a2181-6914-448b-85f1-38f5f18b8a93",
      "metadata": {
        "id": "9a8a2181-6914-448b-85f1-38f5f18b8a93"
      },
      "source": [
        "***"
      ]
    },
    {
      "cell_type": "markdown",
      "id": "bc5bb749",
      "metadata": {},
      "source": [
        "### Выводы по предварительному анализу\n",
        "По предварительному анализу, как по мне нельзя сделать конкретных выводов. Можно лишь получить информацию о количестве вакансий, работодателей, регионов и сфер деятельности. \n",
        "\n",
        "Видно, что количество работодателей **(23501)** примерно вдвое меньше количества вакансий **(49197)**. Это может означать, что некоторые работодатели выложили несколько вакансий. Также это не исключает, что у работодателя может не быть вакансий вовсе.\n",
        "\n",
        "По количеству регионов **(1362)** видно, что работодатели находятся по всей стране, а не сосредоточенны в конкретных городах. Также работодатели находятся и вне нашей страны, например в Белоруси.\n",
        "\n",
        "Также видно, что имеется немалое количество сфер деятельности **(294)**."
      ]
    },
    {
      "cell_type": "markdown",
      "id": "8d62a9f3-f64e-4fe7-bdac-c4dffa16155e",
      "metadata": {
        "id": "8d62a9f3-f64e-4fe7-bdac-c4dffa16155e"
      },
      "source": [
        "# Юнит 4. Детальный анализ вакансий"
      ]
    },
    {
      "cell_type": "markdown",
      "id": "93053d3d-b284-481a-9cf7-012d7014c0e0",
      "metadata": {
        "id": "93053d3d-b284-481a-9cf7-012d7014c0e0"
      },
      "source": [
        "1. Напишите запрос, который позволит узнать, сколько (cnt) вакансий в каждом регионе (area).\n",
        "Отсортируйте по количеству вакансий в порядке убывания."
      ]
    },
    {
      "cell_type": "code",
      "execution_count": 23,
      "id": "3f069da6-fdc9-4ae7-b514-fafe2675efd3",
      "metadata": {
        "id": "3f069da6-fdc9-4ae7-b514-fafe2675efd3"
      },
      "outputs": [],
      "source": [
        "# текст запроса\n",
        "\n",
        "#Ищем топ 5 регионов по количеству вакансий в них\n",
        "n = 5\n",
        "query_4_1 = f''' SELECT a.name,\n",
        "                 COUNT(v.id)\n",
        "                 FROM public.vacancies v \n",
        "                 JOIN public.areas a ON v.area_id = a.id\n",
        "                 GROUP BY a.name\n",
        "                 ORDER BY 2 DESC\n",
        "                 LIMIT({n})\n",
        "            '''"
      ]
    },
    {
      "cell_type": "code",
      "execution_count": 24,
      "id": "P7QL86hrjhRJ",
      "metadata": {
        "id": "P7QL86hrjhRJ"
      },
      "outputs": [
        {
          "data": {
            "text/html": [
              "<div>\n",
              "<style scoped>\n",
              "    .dataframe tbody tr th:only-of-type {\n",
              "        vertical-align: middle;\n",
              "    }\n",
              "\n",
              "    .dataframe tbody tr th {\n",
              "        vertical-align: top;\n",
              "    }\n",
              "\n",
              "    .dataframe thead th {\n",
              "        text-align: right;\n",
              "    }\n",
              "</style>\n",
              "<table border=\"1\" class=\"dataframe\">\n",
              "  <thead>\n",
              "    <tr style=\"text-align: right;\">\n",
              "      <th></th>\n",
              "      <th>name</th>\n",
              "      <th>count</th>\n",
              "    </tr>\n",
              "  </thead>\n",
              "  <tbody>\n",
              "    <tr>\n",
              "      <th>0</th>\n",
              "      <td>Москва</td>\n",
              "      <td>5333</td>\n",
              "    </tr>\n",
              "    <tr>\n",
              "      <th>1</th>\n",
              "      <td>Санкт-Петербург</td>\n",
              "      <td>2851</td>\n",
              "    </tr>\n",
              "    <tr>\n",
              "      <th>2</th>\n",
              "      <td>Минск</td>\n",
              "      <td>2112</td>\n",
              "    </tr>\n",
              "    <tr>\n",
              "      <th>3</th>\n",
              "      <td>Новосибирск</td>\n",
              "      <td>2006</td>\n",
              "    </tr>\n",
              "    <tr>\n",
              "      <th>4</th>\n",
              "      <td>Алматы</td>\n",
              "      <td>1892</td>\n",
              "    </tr>\n",
              "  </tbody>\n",
              "</table>\n",
              "</div>"
            ],
            "text/plain": [
              "              name  count\n",
              "0           Москва   5333\n",
              "1  Санкт-Петербург   2851\n",
              "2            Минск   2112\n",
              "3      Новосибирск   2006\n",
              "4           Алматы   1892"
            ]
          },
          "metadata": {},
          "output_type": "display_data"
        }
      ],
      "source": [
        "# результат запроса\n",
        "\n",
        "#Выводим результат запроса\n",
        "query_4_1 = pd.read_sql_query(query_4_1, connection)\n",
        "display(query_4_1)"
      ]
    },
    {
      "cell_type": "markdown",
      "id": "4266f0b6-1646-492a-88b4-2f6a46502135",
      "metadata": {
        "id": "4266f0b6-1646-492a-88b4-2f6a46502135"
      },
      "source": [
        "2. Напишите запрос, чтобы определить у какого количества вакансий заполнено хотя бы одно из двух полей с зарплатой."
      ]
    },
    {
      "cell_type": "code",
      "execution_count": 25,
      "id": "0c44b350-72eb-4d65-8b54-a1fc449ba9fd",
      "metadata": {
        "id": "0c44b350-72eb-4d65-8b54-a1fc449ba9fd"
      },
      "outputs": [],
      "source": [
        "# текст запроса\n",
        "\n",
        "#Считаем количество вакансий с \n",
        "#заполненной хотя бы одной из двух полей с зарплатой\n",
        "query_4_2 = f'''SELECT COUNT(id)\n",
        "                FROM public.vacancies \n",
        "                WHERE salary_from IS NOT NULL OR salary_to IS NOT NULL\n",
        "            '''"
      ]
    },
    {
      "cell_type": "code",
      "execution_count": 26,
      "id": "rhvwaMDkoWTi",
      "metadata": {
        "id": "rhvwaMDkoWTi"
      },
      "outputs": [
        {
          "data": {
            "text/html": [
              "<div>\n",
              "<style scoped>\n",
              "    .dataframe tbody tr th:only-of-type {\n",
              "        vertical-align: middle;\n",
              "    }\n",
              "\n",
              "    .dataframe tbody tr th {\n",
              "        vertical-align: top;\n",
              "    }\n",
              "\n",
              "    .dataframe thead th {\n",
              "        text-align: right;\n",
              "    }\n",
              "</style>\n",
              "<table border=\"1\" class=\"dataframe\">\n",
              "  <thead>\n",
              "    <tr style=\"text-align: right;\">\n",
              "      <th></th>\n",
              "      <th>count</th>\n",
              "    </tr>\n",
              "  </thead>\n",
              "  <tbody>\n",
              "    <tr>\n",
              "      <th>0</th>\n",
              "      <td>24073</td>\n",
              "    </tr>\n",
              "  </tbody>\n",
              "</table>\n",
              "</div>"
            ],
            "text/plain": [
              "   count\n",
              "0  24073"
            ]
          },
          "metadata": {},
          "output_type": "display_data"
        }
      ],
      "source": [
        "# результат запроса\n",
        "\n",
        "#Выводим результат запроса\n",
        "query_4_2 = pd.read_sql_query(query_4_2, connection)\n",
        "display(query_4_2)"
      ]
    },
    {
      "cell_type": "markdown",
      "id": "635c4d5d-f323-4c66-b428-50a088120aa0",
      "metadata": {
        "id": "635c4d5d-f323-4c66-b428-50a088120aa0"
      },
      "source": [
        "3. Найдите средние значения для нижней и верхней границы зарплатной вилки. Округлите значения до целого."
      ]
    },
    {
      "cell_type": "code",
      "execution_count": 27,
      "id": "603cdbe4-0ec3-4106-8eaf-c73fcdd29165",
      "metadata": {
        "id": "603cdbe4-0ec3-4106-8eaf-c73fcdd29165"
      },
      "outputs": [],
      "source": [
        "# текст запроса\n",
        "\n",
        "#Ищем средние значения для нижней и верхней границы зарплатной вилки\n",
        "#Значения округляем до целого значения\n",
        "query_4_3 = f'''SELECT ROUND(AVG(salary_from)) salary_from,\n",
        "                ROUND(AVG(salary_to)) salary_to\n",
        "                FROM public.vacancies\n",
        "            '''"
      ]
    },
    {
      "cell_type": "code",
      "execution_count": 28,
      "id": "pswpAb66ovZZ",
      "metadata": {
        "id": "pswpAb66ovZZ"
      },
      "outputs": [
        {
          "data": {
            "text/html": [
              "<div>\n",
              "<style scoped>\n",
              "    .dataframe tbody tr th:only-of-type {\n",
              "        vertical-align: middle;\n",
              "    }\n",
              "\n",
              "    .dataframe tbody tr th {\n",
              "        vertical-align: top;\n",
              "    }\n",
              "\n",
              "    .dataframe thead th {\n",
              "        text-align: right;\n",
              "    }\n",
              "</style>\n",
              "<table border=\"1\" class=\"dataframe\">\n",
              "  <thead>\n",
              "    <tr style=\"text-align: right;\">\n",
              "      <th></th>\n",
              "      <th>salary_from</th>\n",
              "      <th>salary_to</th>\n",
              "    </tr>\n",
              "  </thead>\n",
              "  <tbody>\n",
              "    <tr>\n",
              "      <th>0</th>\n",
              "      <td>71065.0</td>\n",
              "      <td>110537.0</td>\n",
              "    </tr>\n",
              "  </tbody>\n",
              "</table>\n",
              "</div>"
            ],
            "text/plain": [
              "   salary_from  salary_to\n",
              "0      71065.0   110537.0"
            ]
          },
          "metadata": {},
          "output_type": "display_data"
        }
      ],
      "source": [
        "# результат запроса\n",
        "\n",
        "#Выводим результат запроса\n",
        "query_4_3 = pd.read_sql_query(query_4_3, connection)\n",
        "display(query_4_3)"
      ]
    },
    {
      "cell_type": "markdown",
      "id": "f3fdaec9-5fd3-4260-9cf5-1d7406b628a5",
      "metadata": {
        "id": "f3fdaec9-5fd3-4260-9cf5-1d7406b628a5"
      },
      "source": [
        "4. Напишите запрос, который выведет количество вакансий для каждого сочетания типа рабочего графика (schedule) и типа трудоустройства (employment), используемого в вакансиях. Результат отсортируйте по убыванию количества.\n"
      ]
    },
    {
      "cell_type": "code",
      "execution_count": 29,
      "id": "1ea710ec-871b-431e-9462-c7d0fd87011b",
      "metadata": {
        "id": "1ea710ec-871b-431e-9462-c7d0fd87011b"
      },
      "outputs": [],
      "source": [
        "# текст запроса\n",
        "\n",
        "#Ищем количество вакансий каждого сочетания schedule и employment\n",
        "query_4_4 = f'''SELECT \n",
        "                        DISTINCT \n",
        "                                schedule, \n",
        "                                employment,\n",
        "                                COUNT(*) cnt\n",
        "                FROM public.vacancies\n",
        "                GROUP BY schedule, employment\n",
        "                ORDER BY cnt DESC\n",
        "'''"
      ]
    },
    {
      "cell_type": "code",
      "execution_count": 30,
      "id": "lGUVqavdo4JQ",
      "metadata": {
        "id": "lGUVqavdo4JQ"
      },
      "outputs": [
        {
          "data": {
            "text/html": [
              "<div>\n",
              "<style scoped>\n",
              "    .dataframe tbody tr th:only-of-type {\n",
              "        vertical-align: middle;\n",
              "    }\n",
              "\n",
              "    .dataframe tbody tr th {\n",
              "        vertical-align: top;\n",
              "    }\n",
              "\n",
              "    .dataframe thead th {\n",
              "        text-align: right;\n",
              "    }\n",
              "</style>\n",
              "<table border=\"1\" class=\"dataframe\">\n",
              "  <thead>\n",
              "    <tr style=\"text-align: right;\">\n",
              "      <th></th>\n",
              "      <th>schedule</th>\n",
              "      <th>employment</th>\n",
              "      <th>cnt</th>\n",
              "    </tr>\n",
              "  </thead>\n",
              "  <tbody>\n",
              "    <tr>\n",
              "      <th>0</th>\n",
              "      <td>Полный день</td>\n",
              "      <td>Полная занятость</td>\n",
              "      <td>35367</td>\n",
              "    </tr>\n",
              "    <tr>\n",
              "      <th>1</th>\n",
              "      <td>Удаленная работа</td>\n",
              "      <td>Полная занятость</td>\n",
              "      <td>7802</td>\n",
              "    </tr>\n",
              "    <tr>\n",
              "      <th>2</th>\n",
              "      <td>Гибкий график</td>\n",
              "      <td>Полная занятость</td>\n",
              "      <td>1593</td>\n",
              "    </tr>\n",
              "    <tr>\n",
              "      <th>3</th>\n",
              "      <td>Удаленная работа</td>\n",
              "      <td>Частичная занятость</td>\n",
              "      <td>1312</td>\n",
              "    </tr>\n",
              "    <tr>\n",
              "      <th>4</th>\n",
              "      <td>Сменный график</td>\n",
              "      <td>Полная занятость</td>\n",
              "      <td>940</td>\n",
              "    </tr>\n",
              "    <tr>\n",
              "      <th>5</th>\n",
              "      <td>Полный день</td>\n",
              "      <td>Стажировка</td>\n",
              "      <td>569</td>\n",
              "    </tr>\n",
              "    <tr>\n",
              "      <th>6</th>\n",
              "      <td>Вахтовый метод</td>\n",
              "      <td>Полная занятость</td>\n",
              "      <td>367</td>\n",
              "    </tr>\n",
              "    <tr>\n",
              "      <th>7</th>\n",
              "      <td>Полный день</td>\n",
              "      <td>Частичная занятость</td>\n",
              "      <td>347</td>\n",
              "    </tr>\n",
              "    <tr>\n",
              "      <th>8</th>\n",
              "      <td>Гибкий график</td>\n",
              "      <td>Частичная занятость</td>\n",
              "      <td>312</td>\n",
              "    </tr>\n",
              "    <tr>\n",
              "      <th>9</th>\n",
              "      <td>Полный день</td>\n",
              "      <td>Проектная работа</td>\n",
              "      <td>141</td>\n",
              "    </tr>\n",
              "    <tr>\n",
              "      <th>10</th>\n",
              "      <td>Удаленная работа</td>\n",
              "      <td>Проектная работа</td>\n",
              "      <td>133</td>\n",
              "    </tr>\n",
              "    <tr>\n",
              "      <th>11</th>\n",
              "      <td>Гибкий график</td>\n",
              "      <td>Стажировка</td>\n",
              "      <td>116</td>\n",
              "    </tr>\n",
              "    <tr>\n",
              "      <th>12</th>\n",
              "      <td>Сменный график</td>\n",
              "      <td>Частичная занятость</td>\n",
              "      <td>101</td>\n",
              "    </tr>\n",
              "    <tr>\n",
              "      <th>13</th>\n",
              "      <td>Удаленная работа</td>\n",
              "      <td>Стажировка</td>\n",
              "      <td>64</td>\n",
              "    </tr>\n",
              "    <tr>\n",
              "      <th>14</th>\n",
              "      <td>Гибкий график</td>\n",
              "      <td>Проектная работа</td>\n",
              "      <td>18</td>\n",
              "    </tr>\n",
              "    <tr>\n",
              "      <th>15</th>\n",
              "      <td>Сменный график</td>\n",
              "      <td>Стажировка</td>\n",
              "      <td>12</td>\n",
              "    </tr>\n",
              "    <tr>\n",
              "      <th>16</th>\n",
              "      <td>Вахтовый метод</td>\n",
              "      <td>Проектная работа</td>\n",
              "      <td>2</td>\n",
              "    </tr>\n",
              "    <tr>\n",
              "      <th>17</th>\n",
              "      <td>Сменный график</td>\n",
              "      <td>Проектная работа</td>\n",
              "      <td>1</td>\n",
              "    </tr>\n",
              "  </tbody>\n",
              "</table>\n",
              "</div>"
            ],
            "text/plain": [
              "            schedule           employment    cnt\n",
              "0        Полный день     Полная занятость  35367\n",
              "1   Удаленная работа     Полная занятость   7802\n",
              "2      Гибкий график     Полная занятость   1593\n",
              "3   Удаленная работа  Частичная занятость   1312\n",
              "4     Сменный график     Полная занятость    940\n",
              "5        Полный день           Стажировка    569\n",
              "6     Вахтовый метод     Полная занятость    367\n",
              "7        Полный день  Частичная занятость    347\n",
              "8      Гибкий график  Частичная занятость    312\n",
              "9        Полный день     Проектная работа    141\n",
              "10  Удаленная работа     Проектная работа    133\n",
              "11     Гибкий график           Стажировка    116\n",
              "12    Сменный график  Частичная занятость    101\n",
              "13  Удаленная работа           Стажировка     64\n",
              "14     Гибкий график     Проектная работа     18\n",
              "15    Сменный график           Стажировка     12\n",
              "16    Вахтовый метод     Проектная работа      2\n",
              "17    Сменный график     Проектная работа      1"
            ]
          },
          "metadata": {},
          "output_type": "display_data"
        },
        {
          "data": {
            "text/plain": [
              "'На втором месте по пополярности находится пара Удаленная работа - Полная занятость с количеством вакансий 7802'"
            ]
          },
          "metadata": {},
          "output_type": "display_data"
        }
      ],
      "source": [
        "# результат запроса\n",
        "\n",
        "#Выводим результат запроса\n",
        "query_4_4 = pd.read_sql_query(query_4_4, connection)\n",
        "display(query_4_4)\n",
        "\n",
        "#Ответ на вопрос задания 4.4\n",
        "schedule = query_4_4['schedule'][1]\n",
        "employment = query_4_4['employment'][1]\n",
        "cnt = query_4_4['cnt'][1]\n",
        "display(f'На втором месте по пополярности находится пара {schedule} - {employment} с количеством вакансий {cnt}')"
      ]
    },
    {
      "cell_type": "markdown",
      "id": "0136ffee-0ead-4a6b-b608-61d1c753a438",
      "metadata": {
        "id": "0136ffee-0ead-4a6b-b608-61d1c753a438"
      },
      "source": [
        "5. Напишите запрос, выводящий значения поля Требуемый опыт работы (experience) в порядке возрастания количества вакансий, в которых указан данный вариант опыта. "
      ]
    },
    {
      "cell_type": "code",
      "execution_count": 31,
      "id": "5b3a8e79-f7ab-4008-b767-12aea3a205ea",
      "metadata": {
        "id": "5b3a8e79-f7ab-4008-b767-12aea3a205ea"
      },
      "outputs": [],
      "source": [
        "# текст запроса\n",
        "\n",
        "#Ищем количество вакансий для experience\n",
        "query_4_5 = f'''SELECT experience,\n",
        "                COUNT(*) cnt\n",
        "                FROM public.vacancies\n",
        "                GROUP BY experience\n",
        "                ORDER BY cnt\n",
        "'''"
      ]
    },
    {
      "cell_type": "code",
      "execution_count": 32,
      "id": "3Is64Y-hpDpq",
      "metadata": {
        "id": "3Is64Y-hpDpq"
      },
      "outputs": [
        {
          "data": {
            "text/html": [
              "<div>\n",
              "<style scoped>\n",
              "    .dataframe tbody tr th:only-of-type {\n",
              "        vertical-align: middle;\n",
              "    }\n",
              "\n",
              "    .dataframe tbody tr th {\n",
              "        vertical-align: top;\n",
              "    }\n",
              "\n",
              "    .dataframe thead th {\n",
              "        text-align: right;\n",
              "    }\n",
              "</style>\n",
              "<table border=\"1\" class=\"dataframe\">\n",
              "  <thead>\n",
              "    <tr style=\"text-align: right;\">\n",
              "      <th></th>\n",
              "      <th>experience</th>\n",
              "      <th>cnt</th>\n",
              "    </tr>\n",
              "  </thead>\n",
              "  <tbody>\n",
              "    <tr>\n",
              "      <th>0</th>\n",
              "      <td>Более 6 лет</td>\n",
              "      <td>1337</td>\n",
              "    </tr>\n",
              "    <tr>\n",
              "      <th>1</th>\n",
              "      <td>Нет опыта</td>\n",
              "      <td>7197</td>\n",
              "    </tr>\n",
              "    <tr>\n",
              "      <th>2</th>\n",
              "      <td>От 3 до 6 лет</td>\n",
              "      <td>14511</td>\n",
              "    </tr>\n",
              "    <tr>\n",
              "      <th>3</th>\n",
              "      <td>От 1 года до 3 лет</td>\n",
              "      <td>26152</td>\n",
              "    </tr>\n",
              "  </tbody>\n",
              "</table>\n",
              "</div>"
            ],
            "text/plain": [
              "           experience    cnt\n",
              "0         Более 6 лет   1337\n",
              "1           Нет опыта   7197\n",
              "2       От 3 до 6 лет  14511\n",
              "3  От 1 года до 3 лет  26152"
            ]
          },
          "metadata": {},
          "output_type": "display_data"
        }
      ],
      "source": [
        "# результат запроса\n",
        "\n",
        "#Выводим результат запроса\n",
        "query_4_5 = pd.read_sql_query(query_4_5, connection)\n",
        "display(query_4_5)"
      ]
    },
    {
      "cell_type": "markdown",
      "id": "oq2b7n1QpIka",
      "metadata": {
        "id": "oq2b7n1QpIka"
      },
      "source": [
        "***"
      ]
    },
    {
      "cell_type": "markdown",
      "id": "17593728",
      "metadata": {},
      "source": [
        "### Выводы по детальному анализу вакансий\n",
        "\n",
        "В ходе детального анализа вакансий были получены следующие данные:\n",
        "\n",
        "1. Количество вакансий в каждом регионе. Выведены топ 5 регионов **(Москва, Санкт-Петербург, Минск, Новосибирск, Алматы)**.\n",
        "2. Количество вакансий у которых заполнена хотя бы одно из двух полей зарплат **(24073)**.\n",
        "3. Найдены средние значения для нижней **(71065)** и верхней **(110537)** границы зарплатной вилки.\n",
        "4. Найдены количества вакансий для каждого сочетания типа рабочего графика и типа трудоустройства используемого в вакансиях. \n",
        "5. Найдены количества вакансий отсортированные по требуемому опыту работы.\n",
        "\n",
        "Эти данные должны пригодиться нам в будущем для создания модели машинного обучения. "
      ]
    },
    {
      "cell_type": "markdown",
      "id": "7ea20ab6-04a7-40a0-adec-443a0e5a42c3",
      "metadata": {
        "id": "7ea20ab6-04a7-40a0-adec-443a0e5a42c3"
      },
      "source": [
        "# Юнит 5. Анализ работодателей"
      ]
    },
    {
      "cell_type": "markdown",
      "id": "968aed80-74ef-4ffb-b5bf-c65b84e9caea",
      "metadata": {
        "id": "968aed80-74ef-4ffb-b5bf-c65b84e9caea"
      },
      "source": [
        "1. Напишите запрос, который позволит узнать, какие работодатели находятся на первом и пятом месте по количеству вакансий."
      ]
    },
    {
      "cell_type": "code",
      "execution_count": 33,
      "id": "f2d62796-d400-4ec1-a675-88112739a50e",
      "metadata": {
        "id": "f2d62796-d400-4ec1-a675-88112739a50e"
      },
      "outputs": [],
      "source": [
        "# текст запроса\n",
        "\n",
        "#Ищем и сортируем работодателей по количеству вакансий\n",
        "query_5_1 = f'''SELECT e.name,\n",
        "                COUNT(v.id) cnt\n",
        "                FROM public.employers e\n",
        "                JOIN public.vacancies v ON e.id = v.employer_id\n",
        "                GROUP BY e.name\n",
        "                ORDER BY cnt DESC\n",
        "'''"
      ]
    },
    {
      "cell_type": "code",
      "execution_count": 34,
      "id": "64tOMkAxqkQk",
      "metadata": {
        "id": "64tOMkAxqkQk"
      },
      "outputs": [
        {
          "data": {
            "text/html": [
              "<div>\n",
              "<style scoped>\n",
              "    .dataframe tbody tr th:only-of-type {\n",
              "        vertical-align: middle;\n",
              "    }\n",
              "\n",
              "    .dataframe tbody tr th {\n",
              "        vertical-align: top;\n",
              "    }\n",
              "\n",
              "    .dataframe thead th {\n",
              "        text-align: right;\n",
              "    }\n",
              "</style>\n",
              "<table border=\"1\" class=\"dataframe\">\n",
              "  <thead>\n",
              "    <tr style=\"text-align: right;\">\n",
              "      <th></th>\n",
              "      <th>name</th>\n",
              "      <th>cnt</th>\n",
              "    </tr>\n",
              "  </thead>\n",
              "  <tbody>\n",
              "    <tr>\n",
              "      <th>0</th>\n",
              "      <td>Яндекс</td>\n",
              "      <td>1933</td>\n",
              "    </tr>\n",
              "    <tr>\n",
              "      <th>1</th>\n",
              "      <td>Ростелеком</td>\n",
              "      <td>491</td>\n",
              "    </tr>\n",
              "    <tr>\n",
              "      <th>2</th>\n",
              "      <td>Тинькофф</td>\n",
              "      <td>444</td>\n",
              "    </tr>\n",
              "    <tr>\n",
              "      <th>3</th>\n",
              "      <td>СБЕР</td>\n",
              "      <td>428</td>\n",
              "    </tr>\n",
              "    <tr>\n",
              "      <th>4</th>\n",
              "      <td>Газпром нефть</td>\n",
              "      <td>331</td>\n",
              "    </tr>\n",
              "    <tr>\n",
              "      <th>...</th>\n",
              "      <td>...</td>\n",
              "      <td>...</td>\n",
              "    </tr>\n",
              "    <tr>\n",
              "      <th>14761</th>\n",
              "      <td>им. Тьюринга</td>\n",
              "      <td>1</td>\n",
              "    </tr>\n",
              "    <tr>\n",
              "      <th>14762</th>\n",
              "      <td>LLC Novalab Tech</td>\n",
              "      <td>1</td>\n",
              "    </tr>\n",
              "    <tr>\n",
              "      <th>14763</th>\n",
              "      <td>Компания Мир упаковки</td>\n",
              "      <td>1</td>\n",
              "    </tr>\n",
              "    <tr>\n",
              "      <th>14764</th>\n",
              "      <td>Лифинцев Олег Иванович</td>\n",
              "      <td>1</td>\n",
              "    </tr>\n",
              "    <tr>\n",
              "      <th>14765</th>\n",
              "      <td>ТрансЭнергоХолдинг</td>\n",
              "      <td>1</td>\n",
              "    </tr>\n",
              "  </tbody>\n",
              "</table>\n",
              "<p>14766 rows × 2 columns</p>\n",
              "</div>"
            ],
            "text/plain": [
              "                         name   cnt\n",
              "0                      Яндекс  1933\n",
              "1                  Ростелеком   491\n",
              "2                    Тинькофф   444\n",
              "3                        СБЕР   428\n",
              "4               Газпром нефть   331\n",
              "...                       ...   ...\n",
              "14761            им. Тьюринга     1\n",
              "14762        LLC Novalab Tech     1\n",
              "14763   Компания Мир упаковки     1\n",
              "14764  Лифинцев Олег Иванович     1\n",
              "14765      ТрансЭнергоХолдинг     1\n",
              "\n",
              "[14766 rows x 2 columns]"
            ]
          },
          "metadata": {},
          "output_type": "display_data"
        },
        {
          "data": {
            "text/plain": [
              "\"Работодатель 'Яндекс' находится на первом месте по количеству вакансий\""
            ]
          },
          "metadata": {},
          "output_type": "display_data"
        },
        {
          "data": {
            "text/plain": [
              "\"Работодатель 'Газпром нефть' находится на пятом месте по количеству вакансий\""
            ]
          },
          "metadata": {},
          "output_type": "display_data"
        }
      ],
      "source": [
        "# результат запроса\n",
        "\n",
        "#Выводим результат запроса\n",
        "query_5_1 = pd.read_sql_query(query_5_1, connection)\n",
        "display(query_5_1)\n",
        "\n",
        "#Ответ на вопрос задания 5.1\n",
        "name_1 = query_5_1['name'][0]\n",
        "name_2 = query_5_1['name'][4]\n",
        "display(f\"Работодатель '{name_1}' находится на первом месте по количеству вакансий\")\n",
        "display(f\"Работодатель '{name_2}' находится на пятом месте по количеству вакансий\")"
      ]
    },
    {
      "cell_type": "markdown",
      "id": "68377cfc-b378-43dc-ab7d-1195abf2c515",
      "metadata": {
        "id": "68377cfc-b378-43dc-ab7d-1195abf2c515"
      },
      "source": [
        "2. Напишите запрос, который для каждого региона выведет количество работодателей и вакансий в нём.\n",
        "Среди регионов, в которых нет вакансий, найдите тот, в котором наибольшее количество работодателей.\n"
      ]
    },
    {
      "cell_type": "code",
      "execution_count": 35,
      "id": "dd7df27a-e3e8-412e-a21a-5d389b71e891",
      "metadata": {
        "id": "dd7df27a-e3e8-412e-a21a-5d389b71e891"
      },
      "outputs": [],
      "source": [
        "# текст запроса\n",
        "\n",
        "#Поиск региона в котором наибольшее число работодателей, но в котором нет вакансий\n",
        "query_5_2 = f'''SELECT a.name,\n",
        "               COUNT(e.id) cnt_emp,\n",
        "               COUNT(v.id) cnt_vac\n",
        "               FROM public.areas a\n",
        "               LEFT JOIN public.employers e ON e.area = a.id\n",
        "               LEFT JOIN public.vacancies v ON v.area_id = a.id\n",
        "               GROUP BY a.name\n",
        "               HAVING COUNT(v.id) = 0\n",
        "               ORDER BY cnt_emp DESC\n",
        "               LIMIT 1\n",
        "'''"
      ]
    },
    {
      "cell_type": "code",
      "execution_count": 36,
      "id": "x1ikWbydrbf6",
      "metadata": {
        "id": "x1ikWbydrbf6"
      },
      "outputs": [
        {
          "data": {
            "text/html": [
              "<div>\n",
              "<style scoped>\n",
              "    .dataframe tbody tr th:only-of-type {\n",
              "        vertical-align: middle;\n",
              "    }\n",
              "\n",
              "    .dataframe tbody tr th {\n",
              "        vertical-align: top;\n",
              "    }\n",
              "\n",
              "    .dataframe thead th {\n",
              "        text-align: right;\n",
              "    }\n",
              "</style>\n",
              "<table border=\"1\" class=\"dataframe\">\n",
              "  <thead>\n",
              "    <tr style=\"text-align: right;\">\n",
              "      <th></th>\n",
              "      <th>name</th>\n",
              "      <th>cnt_emp</th>\n",
              "      <th>cnt_vac</th>\n",
              "    </tr>\n",
              "  </thead>\n",
              "  <tbody>\n",
              "    <tr>\n",
              "      <th>0</th>\n",
              "      <td>Россия</td>\n",
              "      <td>410</td>\n",
              "      <td>0</td>\n",
              "    </tr>\n",
              "  </tbody>\n",
              "</table>\n",
              "</div>"
            ],
            "text/plain": [
              "     name  cnt_emp  cnt_vac\n",
              "0  Россия      410        0"
            ]
          },
          "metadata": {},
          "output_type": "display_data"
        }
      ],
      "source": [
        "# результат запроса\n",
        "\n",
        "#Выводим результат запроса\n",
        "query_5_2 = pd.read_sql_query(query_5_2, connection)\n",
        "display(query_5_2)"
      ]
    },
    {
      "cell_type": "markdown",
      "id": "f2fe0acb-ab1a-4e15-9326-2560e22d73c1",
      "metadata": {
        "id": "f2fe0acb-ab1a-4e15-9326-2560e22d73c1"
      },
      "source": [
        "3. Для каждого работодателя посчитайте количество регионов, в которых он публикует свои вакансии. Отсортируйте результат по убыванию количества.\n"
      ]
    },
    {
      "cell_type": "code",
      "execution_count": 37,
      "id": "6271f8ad-bd2e-4196-ae4a-5b39c4c1010e",
      "metadata": {
        "id": "6271f8ad-bd2e-4196-ae4a-5b39c4c1010e"
      },
      "outputs": [],
      "source": [
        "# текст запроса\n",
        "\n",
        "#Ищем количество регионов, в которых публикуют свои вакансии работодатели\n",
        "query_5_3 = f'''SELECT e.name,\n",
        "                COUNT(DISTINCT v.area_id) cnt\n",
        "                FROM public.employers e\n",
        "                JOIN public.vacancies v ON v.employer_id = e.id\n",
        "                GROUP BY e.name\n",
        "                ORDER BY cnt DESC\n",
        "            '''"
      ]
    },
    {
      "cell_type": "code",
      "execution_count": 38,
      "id": "1EIvX3HasH4F",
      "metadata": {
        "id": "1EIvX3HasH4F"
      },
      "outputs": [
        {
          "data": {
            "text/html": [
              "<div>\n",
              "<style scoped>\n",
              "    .dataframe tbody tr th:only-of-type {\n",
              "        vertical-align: middle;\n",
              "    }\n",
              "\n",
              "    .dataframe tbody tr th {\n",
              "        vertical-align: top;\n",
              "    }\n",
              "\n",
              "    .dataframe thead th {\n",
              "        text-align: right;\n",
              "    }\n",
              "</style>\n",
              "<table border=\"1\" class=\"dataframe\">\n",
              "  <thead>\n",
              "    <tr style=\"text-align: right;\">\n",
              "      <th></th>\n",
              "      <th>name</th>\n",
              "      <th>cnt</th>\n",
              "    </tr>\n",
              "  </thead>\n",
              "  <tbody>\n",
              "    <tr>\n",
              "      <th>0</th>\n",
              "      <td>Яндекс</td>\n",
              "      <td>181</td>\n",
              "    </tr>\n",
              "    <tr>\n",
              "      <th>1</th>\n",
              "      <td>Ростелеком</td>\n",
              "      <td>152</td>\n",
              "    </tr>\n",
              "    <tr>\n",
              "      <th>2</th>\n",
              "      <td>Спецремонт</td>\n",
              "      <td>116</td>\n",
              "    </tr>\n",
              "    <tr>\n",
              "      <th>3</th>\n",
              "      <td>Поляков Денис Иванович</td>\n",
              "      <td>88</td>\n",
              "    </tr>\n",
              "    <tr>\n",
              "      <th>4</th>\n",
              "      <td>ООО ЕФИН</td>\n",
              "      <td>71</td>\n",
              "    </tr>\n",
              "    <tr>\n",
              "      <th>...</th>\n",
              "      <td>...</td>\n",
              "      <td>...</td>\n",
              "    </tr>\n",
              "    <tr>\n",
              "      <th>14761</th>\n",
              "      <td>UniSol</td>\n",
              "      <td>1</td>\n",
              "    </tr>\n",
              "    <tr>\n",
              "      <th>14762</th>\n",
              "      <td>UNISTORY LLC</td>\n",
              "      <td>1</td>\n",
              "    </tr>\n",
              "    <tr>\n",
              "      <th>14763</th>\n",
              "      <td>UNIT6</td>\n",
              "      <td>1</td>\n",
              "    </tr>\n",
              "    <tr>\n",
              "      <th>14764</th>\n",
              "      <td>United Distribution</td>\n",
              "      <td>1</td>\n",
              "    </tr>\n",
              "    <tr>\n",
              "      <th>14765</th>\n",
              "      <td>UNITEL LLC</td>\n",
              "      <td>1</td>\n",
              "    </tr>\n",
              "  </tbody>\n",
              "</table>\n",
              "<p>14766 rows × 2 columns</p>\n",
              "</div>"
            ],
            "text/plain": [
              "                         name  cnt\n",
              "0                      Яндекс  181\n",
              "1                  Ростелеком  152\n",
              "2                  Спецремонт  116\n",
              "3      Поляков Денис Иванович   88\n",
              "4                   ООО ЕФИН    71\n",
              "...                       ...  ...\n",
              "14761                  UniSol    1\n",
              "14762            UNISTORY LLC    1\n",
              "14763                   UNIT6    1\n",
              "14764     United Distribution    1\n",
              "14765              UNITEL LLC    1\n",
              "\n",
              "[14766 rows x 2 columns]"
            ]
          },
          "metadata": {},
          "output_type": "display_data"
        }
      ],
      "source": [
        "# результат запроса\n",
        "\n",
        "#Выводим результат запроса\n",
        "query_5_3 = pd.read_sql_query(query_5_3, connection)\n",
        "display(query_5_3)\n"
      ]
    },
    {
      "cell_type": "markdown",
      "id": "eab2206d-d95b-468b-8e5f-34381abf0ce7",
      "metadata": {
        "id": "eab2206d-d95b-468b-8e5f-34381abf0ce7"
      },
      "source": [
        "4. Напишите запрос для подсчёта количества работодателей, у которых не указана сфера деятельности. "
      ]
    },
    {
      "cell_type": "code",
      "execution_count": 39,
      "id": "80defb23-bfb1-4a18-8be6-bf36aa7165d5",
      "metadata": {
        "id": "80defb23-bfb1-4a18-8be6-bf36aa7165d5"
      },
      "outputs": [],
      "source": [
        "# текст запроса\n",
        "\n",
        "#Ищем количество работодателей, у которых не указана сфера деятельности\n",
        "query_5_4 = f'''SELECT COUNT(*) cnt \n",
        "                FROM public.employers_industries e_i\n",
        "                RIGHT JOIN public.employers e ON e.id = e_i.employer_id\n",
        "                LEFT JOIN public.industries i ON i.id = e_i.industry_id\n",
        "                WHERE i.id IS NULL            \n",
        "'''"
      ]
    },
    {
      "cell_type": "code",
      "execution_count": 40,
      "id": "Dp_yCx6ysQSu",
      "metadata": {
        "id": "Dp_yCx6ysQSu"
      },
      "outputs": [
        {
          "data": {
            "text/html": [
              "<div>\n",
              "<style scoped>\n",
              "    .dataframe tbody tr th:only-of-type {\n",
              "        vertical-align: middle;\n",
              "    }\n",
              "\n",
              "    .dataframe tbody tr th {\n",
              "        vertical-align: top;\n",
              "    }\n",
              "\n",
              "    .dataframe thead th {\n",
              "        text-align: right;\n",
              "    }\n",
              "</style>\n",
              "<table border=\"1\" class=\"dataframe\">\n",
              "  <thead>\n",
              "    <tr style=\"text-align: right;\">\n",
              "      <th></th>\n",
              "      <th>cnt</th>\n",
              "    </tr>\n",
              "  </thead>\n",
              "  <tbody>\n",
              "    <tr>\n",
              "      <th>0</th>\n",
              "      <td>8419</td>\n",
              "    </tr>\n",
              "  </tbody>\n",
              "</table>\n",
              "</div>"
            ],
            "text/plain": [
              "    cnt\n",
              "0  8419"
            ]
          },
          "metadata": {},
          "output_type": "display_data"
        }
      ],
      "source": [
        "# результат запроса\n",
        "\n",
        "#Выводим результат запроса\n",
        "query_5_4 = pd.read_sql_query(query_5_4, connection)\n",
        "display(query_5_4)"
      ]
    },
    {
      "cell_type": "markdown",
      "id": "0112af31-f6b0-4e3b-82ab-71296e752e5e",
      "metadata": {
        "id": "0112af31-f6b0-4e3b-82ab-71296e752e5e"
      },
      "source": [
        "5. Напишите запрос, чтобы узнать название компании, находящейся на третьем месте в алфавитном списке (по названию) компаний, у которых указано четыре сферы деятельности. "
      ]
    },
    {
      "cell_type": "code",
      "execution_count": 41,
      "id": "973b0cfc-a972-470a-8b4a-68744ef220c4",
      "metadata": {
        "id": "973b0cfc-a972-470a-8b4a-68744ef220c4"
      },
      "outputs": [],
      "source": [
        "# текст запроса\n",
        "\n",
        "#Ищем название компании, находящейся на третьем месте в алфавитном\n",
        "#списке компаний, у которых указано четыре сферы деятельности\n",
        "query_5_5 = f'''SELECT e.name,\n",
        "                COUNT(i.id) cnt\n",
        "                FROM public.employers_industries e_i\n",
        "                JOIN public.employers e ON e.id = e_i.employer_id\n",
        "                JOIN public.industries i ON i.id = e_i.industry_id\n",
        "                GROUP BY e.name\n",
        "                HAVING COUNT(i.id) = 4\n",
        "                ORDER BY e.name\n",
        "                OFFSET 2 LIMIT 1\n",
        "'''"
      ]
    },
    {
      "cell_type": "code",
      "execution_count": 42,
      "id": "xsPtpp8EsaED",
      "metadata": {
        "id": "xsPtpp8EsaED"
      },
      "outputs": [
        {
          "data": {
            "text/html": [
              "<div>\n",
              "<style scoped>\n",
              "    .dataframe tbody tr th:only-of-type {\n",
              "        vertical-align: middle;\n",
              "    }\n",
              "\n",
              "    .dataframe tbody tr th {\n",
              "        vertical-align: top;\n",
              "    }\n",
              "\n",
              "    .dataframe thead th {\n",
              "        text-align: right;\n",
              "    }\n",
              "</style>\n",
              "<table border=\"1\" class=\"dataframe\">\n",
              "  <thead>\n",
              "    <tr style=\"text-align: right;\">\n",
              "      <th></th>\n",
              "      <th>name</th>\n",
              "      <th>cnt</th>\n",
              "    </tr>\n",
              "  </thead>\n",
              "  <tbody>\n",
              "    <tr>\n",
              "      <th>0</th>\n",
              "      <td>2ГИС</td>\n",
              "      <td>4</td>\n",
              "    </tr>\n",
              "  </tbody>\n",
              "</table>\n",
              "</div>"
            ],
            "text/plain": [
              "   name  cnt\n",
              "0  2ГИС    4"
            ]
          },
          "metadata": {},
          "output_type": "display_data"
        }
      ],
      "source": [
        "# результат запроса\n",
        "\n",
        "#Выводим результат запроса\n",
        "query_5_5 = pd.read_sql_query(query_5_5, connection)\n",
        "display(query_5_5)"
      ]
    },
    {
      "cell_type": "markdown",
      "id": "3bfcfdaf-755d-4d2b-8ed8-326201dc07ab",
      "metadata": {
        "id": "3bfcfdaf-755d-4d2b-8ed8-326201dc07ab"
      },
      "source": [
        "6. С помощью запроса выясните, у какого количества работодателей в качестве сферы деятельности указана Разработка программного обеспечения.\n"
      ]
    },
    {
      "cell_type": "code",
      "execution_count": 43,
      "id": "ad3f270f-2991-47eb-929b-e8f88a55b0d1",
      "metadata": {
        "id": "ad3f270f-2991-47eb-929b-e8f88a55b0d1"
      },
      "outputs": [],
      "source": [
        "# текст запроса\n",
        "\n",
        "#Ищем количество работодателей у которых в качестве сферы деятельности\n",
        "#указана 'Разработка программного обеспечения'\n",
        "query_5_6 = f'''SELECT COUNT(*)\n",
        "                FROM public.employers_industries e_i\n",
        "                JOIN public.employers e ON e.id = e_i.employer_id\n",
        "                JOIN public.industries i On i.id = e_i.industry_id\n",
        "                WHERE i.name = 'Разработка программного обеспечения'\n",
        "'''"
      ]
    },
    {
      "cell_type": "code",
      "execution_count": 44,
      "id": "H72qxWM0shPR",
      "metadata": {
        "id": "H72qxWM0shPR"
      },
      "outputs": [
        {
          "data": {
            "text/html": [
              "<div>\n",
              "<style scoped>\n",
              "    .dataframe tbody tr th:only-of-type {\n",
              "        vertical-align: middle;\n",
              "    }\n",
              "\n",
              "    .dataframe tbody tr th {\n",
              "        vertical-align: top;\n",
              "    }\n",
              "\n",
              "    .dataframe thead th {\n",
              "        text-align: right;\n",
              "    }\n",
              "</style>\n",
              "<table border=\"1\" class=\"dataframe\">\n",
              "  <thead>\n",
              "    <tr style=\"text-align: right;\">\n",
              "      <th></th>\n",
              "      <th>count</th>\n",
              "    </tr>\n",
              "  </thead>\n",
              "  <tbody>\n",
              "    <tr>\n",
              "      <th>0</th>\n",
              "      <td>3553</td>\n",
              "    </tr>\n",
              "  </tbody>\n",
              "</table>\n",
              "</div>"
            ],
            "text/plain": [
              "   count\n",
              "0   3553"
            ]
          },
          "metadata": {},
          "output_type": "display_data"
        }
      ],
      "source": [
        "# результат запроса\n",
        "\n",
        "#Выводим результат запроса\n",
        "query_5_6 = pd.read_sql_query(query_5_6, connection)\n",
        "display(query_5_6)"
      ]
    },
    {
      "cell_type": "markdown",
      "id": "7b02bb86-0546-40fb-94a4-242f050a5c57",
      "metadata": {
        "id": "7b02bb86-0546-40fb-94a4-242f050a5c57"
      },
      "source": [
        "7. Для компании «Яндекс» выведите список регионов-миллионников, в которых представлены вакансии компании, вместе с количеством вакансий в этих регионах. Также добавьте строку Total с общим количеством вакансий компании. Результат отсортируйте по возрастанию количества.\n",
        "\n",
        "Список городов-милионников надо взять [отсюда](https://ru.wikipedia.org/wiki/%D0%93%D0%BE%D1%80%D0%BE%D0%B4%D0%B0-%D0%BC%D0%B8%D0%BB%D0%BB%D0%B8%D0%BE%D0%BD%D0%B5%D1%80%D1%8B_%D0%A0%D0%BE%D1%81%D1%81%D0%B8%D0%B8). \n",
        "\n",
        "Если возникнут трудности с этим задание посмотрите материалы модуля  PYTHON-17. Как получать данные из веб-источников и API. "
      ]
    },
    {
      "cell_type": "code",
      "execution_count": 45,
      "id": "ZdfrL6gIs1Pn",
      "metadata": {
        "id": "ZdfrL6gIs1Pn"
      },
      "outputs": [
        {
          "name": "stdout",
          "output_type": "stream",
          "text": [
            "['Москва', 'Санкт-Петербург', 'Новосибирск', 'Екатеринбург', 'Казань', 'Красноярск', 'Нижний Новгород', 'Челябинск', 'Уфа', 'Самара', 'Ростов-на-Дону', 'Краснодар', 'Омск', 'Воронеж', 'Пермь', 'Волгоград']\n"
          ]
        }
      ],
      "source": [
        "# код для получения списка городов-милионников\n",
        "\n",
        "#Пишем код для получения списка городов-миллионниеов со страницы на Wikipedia\n",
        "import requests\n",
        "from bs4 import BeautifulSoup \n",
        "url = 'https://ru.wikipedia.org/wiki/Города-миллионеры_России'\n",
        "response = requests.get(url)\n",
        "page = BeautifulSoup(response.text, 'html.parser')\n",
        "table = page.find('table', class_='standard')\n",
        "city_lst = []\n",
        "for i in table.find_all('a'):\n",
        "    title = i.text\n",
        "    city_lst.append(title)\n",
        "city_lst = city_lst[5:]\n",
        "print(city_lst)"
      ]
    },
    {
      "cell_type": "code",
      "execution_count": 46,
      "id": "5a0e32a4-e68a-4365-8a39-2fe24c542c36",
      "metadata": {
        "id": "5a0e32a4-e68a-4365-8a39-2fe24c542c36"
      },
      "outputs": [],
      "source": [
        "# текст запроса\n",
        "\n",
        "#Выводим список городов-миллионников, вместе с количеством вакансий\n",
        "#для компании 'Яндекс'. Также выводим строку с общем количеством\n",
        "#вакансий компании\n",
        "query_5_7 = f'''SELECT a.name,\n",
        "                COUNT(v.id) cnt\n",
        "                FROM public.areas a\n",
        "                JOIN public.vacancies v ON a.id = v.area_id\n",
        "                JOIN public.employers e ON e.id = v.employer_id\n",
        "                WHERE a.name IN {tuple(city_lst)}\n",
        "                GROUP BY a.name, e.name\n",
        "                HAVING e.name = 'Яндекс'\n",
        "                \n",
        "                UNION ALL\n",
        "                SELECT 'Total',\n",
        "                COUNT(v.id)\n",
        "                FROM public.areas a\n",
        "                JOIN public.vacancies v ON a.id = v.area_id\n",
        "                JOIN public.employers e ON e.id = v.employer_id\n",
        "                WHERE a.name IN {tuple(city_lst)} AND e.name = 'Яндекс'\n",
        "                \n",
        "                ORDER BY cnt\n",
        "'''"
      ]
    },
    {
      "cell_type": "code",
      "execution_count": 47,
      "id": "ttPhiO1rsvPq",
      "metadata": {
        "id": "ttPhiO1rsvPq"
      },
      "outputs": [
        {
          "data": {
            "text/html": [
              "<div>\n",
              "<style scoped>\n",
              "    .dataframe tbody tr th:only-of-type {\n",
              "        vertical-align: middle;\n",
              "    }\n",
              "\n",
              "    .dataframe tbody tr th {\n",
              "        vertical-align: top;\n",
              "    }\n",
              "\n",
              "    .dataframe thead th {\n",
              "        text-align: right;\n",
              "    }\n",
              "</style>\n",
              "<table border=\"1\" class=\"dataframe\">\n",
              "  <thead>\n",
              "    <tr style=\"text-align: right;\">\n",
              "      <th></th>\n",
              "      <th>name</th>\n",
              "      <th>cnt</th>\n",
              "    </tr>\n",
              "  </thead>\n",
              "  <tbody>\n",
              "    <tr>\n",
              "      <th>0</th>\n",
              "      <td>Омск</td>\n",
              "      <td>21</td>\n",
              "    </tr>\n",
              "    <tr>\n",
              "      <th>1</th>\n",
              "      <td>Челябинск</td>\n",
              "      <td>22</td>\n",
              "    </tr>\n",
              "    <tr>\n",
              "      <th>2</th>\n",
              "      <td>Красноярск</td>\n",
              "      <td>23</td>\n",
              "    </tr>\n",
              "    <tr>\n",
              "      <th>3</th>\n",
              "      <td>Волгоград</td>\n",
              "      <td>24</td>\n",
              "    </tr>\n",
              "    <tr>\n",
              "      <th>4</th>\n",
              "      <td>Пермь</td>\n",
              "      <td>25</td>\n",
              "    </tr>\n",
              "    <tr>\n",
              "      <th>5</th>\n",
              "      <td>Казань</td>\n",
              "      <td>25</td>\n",
              "    </tr>\n",
              "    <tr>\n",
              "      <th>6</th>\n",
              "      <td>Ростов-на-Дону</td>\n",
              "      <td>25</td>\n",
              "    </tr>\n",
              "    <tr>\n",
              "      <th>7</th>\n",
              "      <td>Уфа</td>\n",
              "      <td>26</td>\n",
              "    </tr>\n",
              "    <tr>\n",
              "      <th>8</th>\n",
              "      <td>Самара</td>\n",
              "      <td>26</td>\n",
              "    </tr>\n",
              "    <tr>\n",
              "      <th>9</th>\n",
              "      <td>Краснодар</td>\n",
              "      <td>30</td>\n",
              "    </tr>\n",
              "    <tr>\n",
              "      <th>10</th>\n",
              "      <td>Воронеж</td>\n",
              "      <td>32</td>\n",
              "    </tr>\n",
              "    <tr>\n",
              "      <th>11</th>\n",
              "      <td>Новосибирск</td>\n",
              "      <td>35</td>\n",
              "    </tr>\n",
              "    <tr>\n",
              "      <th>12</th>\n",
              "      <td>Нижний Новгород</td>\n",
              "      <td>36</td>\n",
              "    </tr>\n",
              "    <tr>\n",
              "      <th>13</th>\n",
              "      <td>Екатеринбург</td>\n",
              "      <td>39</td>\n",
              "    </tr>\n",
              "    <tr>\n",
              "      <th>14</th>\n",
              "      <td>Санкт-Петербург</td>\n",
              "      <td>42</td>\n",
              "    </tr>\n",
              "    <tr>\n",
              "      <th>15</th>\n",
              "      <td>Москва</td>\n",
              "      <td>54</td>\n",
              "    </tr>\n",
              "    <tr>\n",
              "      <th>16</th>\n",
              "      <td>Total</td>\n",
              "      <td>485</td>\n",
              "    </tr>\n",
              "  </tbody>\n",
              "</table>\n",
              "</div>"
            ],
            "text/plain": [
              "               name  cnt\n",
              "0              Омск   21\n",
              "1         Челябинск   22\n",
              "2        Красноярск   23\n",
              "3         Волгоград   24\n",
              "4             Пермь   25\n",
              "5            Казань   25\n",
              "6    Ростов-на-Дону   25\n",
              "7               Уфа   26\n",
              "8            Самара   26\n",
              "9         Краснодар   30\n",
              "10          Воронеж   32\n",
              "11      Новосибирск   35\n",
              "12  Нижний Новгород   36\n",
              "13     Екатеринбург   39\n",
              "14  Санкт-Петербург   42\n",
              "15           Москва   54\n",
              "16            Total  485"
            ]
          },
          "metadata": {},
          "output_type": "display_data"
        }
      ],
      "source": [
        "# результат запроса\n",
        "\n",
        "#Выводим результат запроса\n",
        "query_5_7 = pd.read_sql_query(query_5_7, connection)\n",
        "display(query_5_7)"
      ]
    },
    {
      "cell_type": "markdown",
      "id": "04966e40-3bc3-4dc8-9ba2-e80580ce3abc",
      "metadata": {
        "id": "04966e40-3bc3-4dc8-9ba2-e80580ce3abc"
      },
      "source": [
        "***"
      ]
    },
    {
      "cell_type": "markdown",
      "id": "630a9658",
      "metadata": {},
      "source": [
        "### Выводы по анализу работодателей\n",
        "\n",
        "В ходе проделанной работы были получены данные:\n",
        "1. Выяснили какие работодатели находятся на 1 **(Яндекс)** и 5 **(Газпром нефть)** месте в рейтенге по количеству вакансий.\n",
        "2. Узнали в каком регионе нет вакансий, но наибольшее количество работодателей.\n",
        "3. Посчитали количество регионов, в которых публикуют свои вакансии работодатели.\n",
        "4. Узнали количество работодателей **(8419)**, у которых не указана сфера деятельнсоти.\n",
        "5. Нашли какая компания находится на 3 месте (при сортировке по алфавиту) у которой указано 4 сферы деятельности **(2ГИС)**.\n",
        "6. Узнали у какого количества работодателей в качестве сферы деятельности указано 'Разработка программного обеспечения '**(3553)**.\n",
        "7. Посчитали количество вакансий в городах-миллионниках у компании 'Яндекс'.\n",
        "\n",
        "Полученные данные должны пригодиться нам в будущем для создания модели машинного обучения. "
      ]
    },
    {
      "cell_type": "markdown",
      "id": "b1ef156a-efcb-49ce-bb23-90763e7f35b2",
      "metadata": {
        "id": "b1ef156a-efcb-49ce-bb23-90763e7f35b2",
        "tags": []
      },
      "source": [
        "# Юнит 6. Предметный анализ"
      ]
    },
    {
      "cell_type": "markdown",
      "id": "b9cd50a0-992d-4988-8463-2b2b1c4629b4",
      "metadata": {
        "id": "b9cd50a0-992d-4988-8463-2b2b1c4629b4"
      },
      "source": [
        "1. Сколько вакансий имеет отношение к данным?\n",
        "\n",
        "Считаем, что вакансия имеет отношение к данным, если в её названии содержатся слова 'data' или 'данн'.\n",
        "\n",
        "*Подсказка: Обратите внимание, что названия вакансий могут быть написаны в любом регистре.* \n"
      ]
    },
    {
      "cell_type": "code",
      "execution_count": 48,
      "id": "54ab0e50-c0f1-47cc-a54b-bc5c8bc363f9",
      "metadata": {
        "id": "54ab0e50-c0f1-47cc-a54b-bc5c8bc363f9"
      },
      "outputs": [],
      "source": [
        "# текст запроса\n",
        "\n",
        "#Ищем количество вакансий которые имеют отношение к данным\n",
        "query_6_1 = f'''SELECT COUNT(v.id)\n",
        "                FROM public.vacancies v\n",
        "                WHERE LOWER(v.name) LIKE '%data%' OR LOWER(v.name) LIKE '%данн%'\n",
        "'''"
      ]
    },
    {
      "cell_type": "code",
      "execution_count": 49,
      "id": "9F1meAqsuUjd",
      "metadata": {
        "id": "9F1meAqsuUjd"
      },
      "outputs": [
        {
          "data": {
            "text/html": [
              "<div>\n",
              "<style scoped>\n",
              "    .dataframe tbody tr th:only-of-type {\n",
              "        vertical-align: middle;\n",
              "    }\n",
              "\n",
              "    .dataframe tbody tr th {\n",
              "        vertical-align: top;\n",
              "    }\n",
              "\n",
              "    .dataframe thead th {\n",
              "        text-align: right;\n",
              "    }\n",
              "</style>\n",
              "<table border=\"1\" class=\"dataframe\">\n",
              "  <thead>\n",
              "    <tr style=\"text-align: right;\">\n",
              "      <th></th>\n",
              "      <th>count</th>\n",
              "    </tr>\n",
              "  </thead>\n",
              "  <tbody>\n",
              "    <tr>\n",
              "      <th>0</th>\n",
              "      <td>1771</td>\n",
              "    </tr>\n",
              "  </tbody>\n",
              "</table>\n",
              "</div>"
            ],
            "text/plain": [
              "   count\n",
              "0   1771"
            ]
          },
          "metadata": {},
          "output_type": "display_data"
        }
      ],
      "source": [
        "# результат запроса\n",
        "\n",
        "#Выводим результат запроса\n",
        "query_6_1 = pd.read_sql_query(query_6_1, connection)\n",
        "display(query_6_1)"
      ]
    },
    {
      "cell_type": "markdown",
      "id": "4dea20cb-a36b-474a-a0b9-e08e8e3857a5",
      "metadata": {
        "id": "4dea20cb-a36b-474a-a0b9-e08e8e3857a5"
      },
      "source": [
        "2. Сколько есть подходящих вакансий для начинающего дата-сайентиста? \n",
        "Будем считать вакансиями для дата-сайентистов такие, в названии которых есть хотя бы одно из следующих сочетаний:\n",
        "* 'data scientist'\n",
        "* 'data science'\n",
        "* 'исследователь данных'\n",
        "* 'ML' (здесь не нужно брать вакансии по HTML)\n",
        "* 'machine learning'\n",
        "* 'машинн%обучен%'\n",
        "\n",
        "** В следующих заданиях мы продолжим работать с вакансиями по этому условию.*\n",
        "\n",
        "Считаем вакансиями для специалистов уровня Junior следующие:\n",
        "* в названии есть слово 'junior' *или*\n",
        "* требуемый опыт — Нет опыта *или*\n",
        "* тип трудоустройства — Стажировка.\n",
        " "
      ]
    },
    {
      "cell_type": "code",
      "execution_count": 50,
      "id": "9c61b3c0-bb66-46c9-ae1e-81d3f5752b4a",
      "metadata": {
        "id": "9c61b3c0-bb66-46c9-ae1e-81d3f5752b4a"
      },
      "outputs": [],
      "source": [
        "# текст запроса\n",
        "\n",
        "#Ищем количество вакансий которые подходят для начинающего дата-сайентиста\n",
        "query_6_2 = f'''\n",
        "WITH t AS(\n",
        "    SELECT * \n",
        "    FROM vacancies\n",
        "    WHERE (LOWER(name) LIKE '%data scientist%'\n",
        "    OR LOWER(name) LIKE '%data science%'\n",
        "    OR LOWER(name) LIKE '%исследователь данных%'\n",
        "    OR (LOWER(name) LIKE '%ml%' AND LOWER(name) NOT LIKE '%html%')\n",
        "    OR LOWER(name) LIKE '%machine learning%'\n",
        "    OR LOWER(name) LIKE '%машинн%обучен%')\n",
        ")\n",
        "\n",
        "    SELECT COUNT(id)\n",
        "    FROM t\n",
        "    WHERE (LOWER(name) LIKE '%junior%'\n",
        "        OR experience = 'Нет опыта'\n",
        "        OR employment = 'Стажировка')\n",
        "'''"
      ]
    },
    {
      "cell_type": "code",
      "execution_count": 51,
      "id": "ZNM-LLYuu1dj",
      "metadata": {
        "id": "ZNM-LLYuu1dj"
      },
      "outputs": [
        {
          "data": {
            "text/html": [
              "<div>\n",
              "<style scoped>\n",
              "    .dataframe tbody tr th:only-of-type {\n",
              "        vertical-align: middle;\n",
              "    }\n",
              "\n",
              "    .dataframe tbody tr th {\n",
              "        vertical-align: top;\n",
              "    }\n",
              "\n",
              "    .dataframe thead th {\n",
              "        text-align: right;\n",
              "    }\n",
              "</style>\n",
              "<table border=\"1\" class=\"dataframe\">\n",
              "  <thead>\n",
              "    <tr style=\"text-align: right;\">\n",
              "      <th></th>\n",
              "      <th>count</th>\n",
              "    </tr>\n",
              "  </thead>\n",
              "  <tbody>\n",
              "    <tr>\n",
              "      <th>0</th>\n",
              "      <td>51</td>\n",
              "    </tr>\n",
              "  </tbody>\n",
              "</table>\n",
              "</div>"
            ],
            "text/plain": [
              "   count\n",
              "0     51"
            ]
          },
          "metadata": {},
          "output_type": "display_data"
        }
      ],
      "source": [
        "# результат запроса\n",
        "\n",
        "#Выводим результат запроса\n",
        "query_6_2 = pd.read_sql_query(query_6_2, connection)\n",
        "display(query_6_2)"
      ]
    },
    {
      "cell_type": "markdown",
      "id": "eedceb80-c5ca-480e-b27a-278dfb8b4438",
      "metadata": {
        "id": "eedceb80-c5ca-480e-b27a-278dfb8b4438"
      },
      "source": [
        "3. Сколько есть вакансий для DS, в которых в качестве ключевого навыка указан SQL или postgres?\n",
        "\n",
        "** Критерии для отнесения вакансии к DS указаны в предыдущем задании.*"
      ]
    },
    {
      "cell_type": "code",
      "execution_count": 52,
      "id": "69621713-0cc5-4f1b-a1d7-bb144fa6148c",
      "metadata": {
        "id": "69621713-0cc5-4f1b-a1d7-bb144fa6148c"
      },
      "outputs": [],
      "source": [
        "# текст запроса\n",
        "\n",
        "#Ищем количество вакансий для DS, у которых в качестве ключевого навыка указан \n",
        "#SQL или postgress\n",
        "query_6_3 = f'''\n",
        "WITH t AS(\n",
        "    SELECT * \n",
        "    FROM vacancies\n",
        "    WHERE (LOWER(name) LIKE '%data scientist%'\n",
        "    OR LOWER(name) LIKE '%data science%'\n",
        "    OR LOWER(name) LIKE '%исследователь данных%'\n",
        "    OR (LOWER(name) LIKE '%ml%' AND LOWER(name) NOT LIKE '%html%')\n",
        "    OR LOWER(name) LIKE '%machine learning%'\n",
        "    OR LOWER(name) LIKE '%машинн%обучен%')\n",
        ")\n",
        "\n",
        "    SELECT COUNT(id)\n",
        "    FROM t \n",
        "    WHERE LOWER(key_skills) LIKE '%sql%' \n",
        "    OR LOWER(key_skills) LIKE '%postgres%'\n",
        "'''"
      ]
    },
    {
      "cell_type": "code",
      "execution_count": 53,
      "id": "alA8WEAAvGdf",
      "metadata": {
        "id": "alA8WEAAvGdf"
      },
      "outputs": [
        {
          "data": {
            "text/html": [
              "<div>\n",
              "<style scoped>\n",
              "    .dataframe tbody tr th:only-of-type {\n",
              "        vertical-align: middle;\n",
              "    }\n",
              "\n",
              "    .dataframe tbody tr th {\n",
              "        vertical-align: top;\n",
              "    }\n",
              "\n",
              "    .dataframe thead th {\n",
              "        text-align: right;\n",
              "    }\n",
              "</style>\n",
              "<table border=\"1\" class=\"dataframe\">\n",
              "  <thead>\n",
              "    <tr style=\"text-align: right;\">\n",
              "      <th></th>\n",
              "      <th>count</th>\n",
              "    </tr>\n",
              "  </thead>\n",
              "  <tbody>\n",
              "    <tr>\n",
              "      <th>0</th>\n",
              "      <td>229</td>\n",
              "    </tr>\n",
              "  </tbody>\n",
              "</table>\n",
              "</div>"
            ],
            "text/plain": [
              "   count\n",
              "0    229"
            ]
          },
          "metadata": {},
          "output_type": "display_data"
        }
      ],
      "source": [
        "# результат запроса\n",
        "\n",
        "#Выводим результат запроса\n",
        "query_6_3 = pd.read_sql_query(query_6_3, connection)\n",
        "display(query_6_3)"
      ]
    },
    {
      "cell_type": "markdown",
      "id": "1be1e9c6-37cf-4a5f-bfeb-04cab799dc80",
      "metadata": {
        "id": "1be1e9c6-37cf-4a5f-bfeb-04cab799dc80"
      },
      "source": [
        "4. Проверьте, насколько популярен Python в требованиях работодателей к DS.Для этого вычислите количество вакансий, в которых в качестве ключевого навыка указан Python.\n",
        "\n",
        "** Это можно сделать помощью запроса, аналогичного предыдущему.*"
      ]
    },
    {
      "cell_type": "code",
      "execution_count": 54,
      "id": "0036a355-9ccf-4564-8b01-73d8194297e7",
      "metadata": {
        "id": "0036a355-9ccf-4564-8b01-73d8194297e7"
      },
      "outputs": [],
      "source": [
        "# текст запроса\n",
        "\n",
        "#Ищем количество вакансий для DS, в которых в качестве ключевого навыка указан Python\n",
        "query_6_4 = f'''\n",
        "WITH t AS(\n",
        "    SELECT * \n",
        "    FROM vacancies\n",
        "    WHERE (LOWER(name) LIKE '%data scientist%'\n",
        "    OR LOWER(name) LIKE '%data science%'\n",
        "    OR LOWER(name) LIKE '%исследователь данных%'\n",
        "    OR (LOWER(name) LIKE '%ml%' AND LOWER(name) NOT LIKE '%html%')\n",
        "    OR LOWER(name) LIKE '%machine learning%'\n",
        "    OR LOWER(name) LIKE '%машинн%обучен%')\n",
        ")\n",
        "\n",
        "    SELECT COUNT(id)\n",
        "    FROM t \n",
        "    WHERE LOWER(key_skills) LIKE '%python%'\n",
        "'''"
      ]
    },
    {
      "cell_type": "code",
      "execution_count": 55,
      "id": "1i-5WyucvQ6v",
      "metadata": {
        "id": "1i-5WyucvQ6v"
      },
      "outputs": [
        {
          "data": {
            "text/html": [
              "<div>\n",
              "<style scoped>\n",
              "    .dataframe tbody tr th:only-of-type {\n",
              "        vertical-align: middle;\n",
              "    }\n",
              "\n",
              "    .dataframe tbody tr th {\n",
              "        vertical-align: top;\n",
              "    }\n",
              "\n",
              "    .dataframe thead th {\n",
              "        text-align: right;\n",
              "    }\n",
              "</style>\n",
              "<table border=\"1\" class=\"dataframe\">\n",
              "  <thead>\n",
              "    <tr style=\"text-align: right;\">\n",
              "      <th></th>\n",
              "      <th>count</th>\n",
              "    </tr>\n",
              "  </thead>\n",
              "  <tbody>\n",
              "    <tr>\n",
              "      <th>0</th>\n",
              "      <td>357</td>\n",
              "    </tr>\n",
              "  </tbody>\n",
              "</table>\n",
              "</div>"
            ],
            "text/plain": [
              "   count\n",
              "0    357"
            ]
          },
          "metadata": {},
          "output_type": "display_data"
        }
      ],
      "source": [
        "# результат запроса\n",
        "\n",
        "#Выводим результат запроса\n",
        "query_6_4 = pd.read_sql_query(query_6_4, connection)\n",
        "display(query_6_4)"
      ]
    },
    {
      "cell_type": "markdown",
      "id": "ec3c8db7-fa21-4a41-a994-1af63742a642",
      "metadata": {
        "id": "ec3c8db7-fa21-4a41-a994-1af63742a642"
      },
      "source": [
        "5. Сколько ключевых навыков в среднем указывают в вакансиях для DS?\n",
        "Ответ округлите до двух знаков после точки-разделителя."
      ]
    },
    {
      "cell_type": "code",
      "execution_count": 56,
      "id": "949132bc-d5b6-4611-8218-0b9a504d74f4",
      "metadata": {
        "id": "949132bc-d5b6-4611-8218-0b9a504d74f4"
      },
      "outputs": [],
      "source": [
        "# текст запроса\n",
        "\n",
        "#Ищем сколько ключевых навыков в среднем указывают в вакансиях для DS\n",
        "query_6_5 = f'''\n",
        "WITH t AS(\n",
        "    SELECT * \n",
        "    FROM vacancies\n",
        "    WHERE (name ILIKE '%data scientist%'\n",
        "    OR name ILIKE '%data science%'\n",
        "    OR name ILIKE '%исследователь данных%'\n",
        "    OR (name LIKE '%ML%' AND name NOT ILIKE '%html%')\n",
        "    OR name ILIKE '%machine learning%'\n",
        "    OR name ILIKE '%машинн%обучен%')\n",
        ")\n",
        "    SELECT ROUND(AVG(LENGTH(key_skills) - LENGTH(REPLACE(key_skills, CHR(9) ,'')) + 1), 2)\n",
        "    FROM t \n",
        "    WHERE key_skills IS NOT NULL\n",
        "'''"
      ]
    },
    {
      "cell_type": "code",
      "execution_count": 57,
      "id": "a3V24Tvmviqk",
      "metadata": {
        "id": "a3V24Tvmviqk"
      },
      "outputs": [
        {
          "data": {
            "text/html": [
              "<div>\n",
              "<style scoped>\n",
              "    .dataframe tbody tr th:only-of-type {\n",
              "        vertical-align: middle;\n",
              "    }\n",
              "\n",
              "    .dataframe tbody tr th {\n",
              "        vertical-align: top;\n",
              "    }\n",
              "\n",
              "    .dataframe thead th {\n",
              "        text-align: right;\n",
              "    }\n",
              "</style>\n",
              "<table border=\"1\" class=\"dataframe\">\n",
              "  <thead>\n",
              "    <tr style=\"text-align: right;\">\n",
              "      <th></th>\n",
              "      <th>round</th>\n",
              "    </tr>\n",
              "  </thead>\n",
              "  <tbody>\n",
              "    <tr>\n",
              "      <th>0</th>\n",
              "      <td>6.41</td>\n",
              "    </tr>\n",
              "  </tbody>\n",
              "</table>\n",
              "</div>"
            ],
            "text/plain": [
              "   round\n",
              "0   6.41"
            ]
          },
          "metadata": {},
          "output_type": "display_data"
        }
      ],
      "source": [
        "# результат запроса\n",
        "\n",
        "#Выводим результат запроса\n",
        "query_6_5 = pd.read_sql_query(query_6_5, connection)\n",
        "display(query_6_5)"
      ]
    },
    {
      "cell_type": "markdown",
      "id": "1041c17a-ca8f-4543-a0ca-32778914fb00",
      "metadata": {
        "id": "1041c17a-ca8f-4543-a0ca-32778914fb00"
      },
      "source": [
        "6. Напишите запрос, позволяющий вычислить, какую зарплату для DS в **среднем** указывают для каждого типа требуемого опыта (уникальное значение из поля *experience*). \n",
        "\n",
        "При решении задачи примите во внимание следующее:\n",
        "1. Рассматриваем только вакансии, у которых заполнено хотя бы одно из двух полей с зарплатой.\n",
        "2. Если заполнены оба поля с зарплатой, то считаем зарплату по каждой вакансии как сумму двух полей, делённую на 2. Если заполнено только одно из полей, то его и считаем зарплатой по вакансии.\n",
        "3. Если в расчётах участвует null, в результате он тоже даст null (посмотрите, что возвращает запрос select 1 + null). Чтобы избежать этой ситуацию, мы воспользуемся функцией [coalesce](https://postgrespro.ru/docs/postgresql/9.5/functions-conditional#functions-coalesce-nvl-ifnull), которая заменит null на значение, которое мы передадим. Например, посмотрите, что возвращает запрос `select 1 + coalesce(null, 0)`\n",
        "\n",
        "Выясните, на какую зарплату в среднем может рассчитывать дата-сайентист с опытом работы от 3 до 6 лет. Результат округлите до целого числа. "
      ]
    },
    {
      "cell_type": "code",
      "execution_count": 58,
      "id": "6a743d39-5204-48d3-8271-b9f88e68d40e",
      "metadata": {
        "id": "6a743d39-5204-48d3-8271-b9f88e68d40e"
      },
      "outputs": [],
      "source": [
        "# текст запроса\n",
        "\n",
        "#Выяснили, какая в среднем зарплата для дата-сайентистов с опытом работы от 3 до  6 лет\n",
        "query_6_6 = f'''\n",
        "WITH t AS(\n",
        "    SELECT * \n",
        "    FROM vacancies\n",
        "    WHERE (name ILIKE '%data scientist%'\n",
        "    OR name ILIKE '%data science%'\n",
        "    OR name ILIKE '%исследователь данных%'\n",
        "    OR (name LIKE '%ML%' AND name NOT ILIKE '%html%')\n",
        "    OR name ILIKE '%machine learning%'\n",
        "    OR name ILIKE '%машинн%обучен%')\n",
        ")\n",
        "    SELECT experience,\n",
        "    \n",
        "        --Строчка кода как по мне гениальная, жаль ее автор не я. Пришлось подсмотреть немного )\n",
        "        \n",
        "        ROUND(AVG((coalesce(salary_from, salary_to) + coalesce(salary_to, salary_from)) / 2))::int     \n",
        "    FROM t\n",
        "    WHERE salary_from IS NOT NULL OR salary_to IS NOT NULL\n",
        "    GROUP BY experience\n",
        "'''"
      ]
    },
    {
      "cell_type": "code",
      "execution_count": 59,
      "id": "aRIJ0mZEwU1_",
      "metadata": {
        "id": "aRIJ0mZEwU1_"
      },
      "outputs": [
        {
          "data": {
            "text/html": [
              "<div>\n",
              "<style scoped>\n",
              "    .dataframe tbody tr th:only-of-type {\n",
              "        vertical-align: middle;\n",
              "    }\n",
              "\n",
              "    .dataframe tbody tr th {\n",
              "        vertical-align: top;\n",
              "    }\n",
              "\n",
              "    .dataframe thead th {\n",
              "        text-align: right;\n",
              "    }\n",
              "</style>\n",
              "<table border=\"1\" class=\"dataframe\">\n",
              "  <thead>\n",
              "    <tr style=\"text-align: right;\">\n",
              "      <th></th>\n",
              "      <th>experience</th>\n",
              "      <th>round</th>\n",
              "    </tr>\n",
              "  </thead>\n",
              "  <tbody>\n",
              "    <tr>\n",
              "      <th>0</th>\n",
              "      <td>От 3 до 6 лет</td>\n",
              "      <td>243115</td>\n",
              "    </tr>\n",
              "    <tr>\n",
              "      <th>1</th>\n",
              "      <td>От 1 года до 3 лет</td>\n",
              "      <td>139675</td>\n",
              "    </tr>\n",
              "    <tr>\n",
              "      <th>2</th>\n",
              "      <td>Нет опыта</td>\n",
              "      <td>74643</td>\n",
              "    </tr>\n",
              "  </tbody>\n",
              "</table>\n",
              "</div>"
            ],
            "text/plain": [
              "           experience   round\n",
              "0       От 3 до 6 лет  243115\n",
              "1  От 1 года до 3 лет  139675\n",
              "2           Нет опыта   74643"
            ]
          },
          "metadata": {},
          "output_type": "display_data"
        }
      ],
      "source": [
        "# результат запроса\n",
        "\n",
        "#Выводим результат запроса\n",
        "query_6_6 = pd.read_sql_query(query_6_6, connection)\n",
        "display(query_6_6)"
      ]
    },
    {
      "cell_type": "markdown",
      "id": "6a7892b4-4113-4746-adce-18aa2844f18e",
      "metadata": {
        "id": "6a7892b4-4113-4746-adce-18aa2844f18e"
      },
      "source": [
        "***"
      ]
    },
    {
      "cell_type": "markdown",
      "id": "3c3bac09",
      "metadata": {},
      "source": [
        "### Выводы по предметному анализу\n",
        "\n",
        "В ходе проделанной работы были получены данные:\n",
        "1. Узнали, сколько вакансий имеют отношение к данным **(1771)**.\n",
        "2. Выяснили, сколько вакансий подойдут начинающему специалисту по дата-сайентист **(51)**.\n",
        "3. Определили сколько есть вакансий для DS, у которых в качестве ключевого навыка указан SQL или postgres **(229)**.\n",
        "4. Узнали сколько есть вакансий для DS, у которых в качестве ключевого навыка указан Python **(357)**.\n",
        "5. Нашли сколько в среднем ключевых навыков указывают для DS **(6.41)**.\n",
        "6. Выяснили, какая в среднем вакансия для DS с опытом работы от 3-х до 6-ти лет **(243115)**."
      ]
    },
    {
      "cell_type": "markdown",
      "id": "c0ED6fh7wiBT",
      "metadata": {
        "id": "c0ED6fh7wiBT"
      },
      "source": [
        "# Общий вывод по проекту"
      ]
    },
    {
      "cell_type": "code",
      "execution_count": 1506,
      "id": "h9B3BL-wwj18",
      "metadata": {
        "id": "h9B3BL-wwj18"
      },
      "outputs": [],
      "source": [
        "# подведем итог исследования, обобщите выводы\n",
        "# здесь можно (это будет плюсом) провести дополнительные исследования данных, сделать прогнозы, продумать варианты продолжения исследования"
      ]
    },
    {
      "cell_type": "markdown",
      "id": "53125543",
      "metadata": {},
      "source": [
        "### Итоги исследования\n",
        "\n",
        "В ходе данного исследования были разобраны и проанализированы данные вакансий с Head Hunter. Эти данные влючали в себя 5 таблиц (vacancies, areas, employers, industies employers_industries).\n",
        "\n",
        "Были получены сведения о представленные в данных таблицах вакансиях, регионах, професиях, заработных платах, ключевых навыках для вакансия и многое другое.\n",
        "\n",
        "Полученные данные в будущем должны помочь в построении модели машинного обучения\n"
      ]
    },
    {
      "cell_type": "markdown",
      "id": "774a0abc",
      "metadata": {},
      "source": [
        "## ЮНИТ 7. *Дополнительные исследования**"
      ]
    },
    {
      "cell_type": "markdown",
      "id": "14370431",
      "metadata": {},
      "source": [
        "###  *Исследование 1*\n",
        "Определение количества вакансий, средней зарплаты по регионам для DS у которых хотя бы одна зарплата из двух заполнена.\n"
      ]
    },
    {
      "cell_type": "code",
      "execution_count": 60,
      "id": "8c963f1d",
      "metadata": {},
      "outputs": [],
      "source": [
        "#Пишем запрос\n",
        "query_7_1 = f'''WITH t AS(\n",
        "    SELECT * \n",
        "    FROM vacancies\n",
        "    WHERE (name ILIKE '%data scientist%'\n",
        "    OR name ILIKE '%data science%'\n",
        "    OR name ILIKE '%исследователь данных%'\n",
        "    OR (name LIKE '%ML%' AND name NOT ILIKE '%html%')\n",
        "    OR name ILIKE '%machine learning%'\n",
        "    OR name ILIKE '%машинн%обучен%')\n",
        ")\n",
        "\n",
        "    SELECT a.name,\n",
        "        COUNT(t.id) cnt,\n",
        "        ROUND(AVG((coalesce(salary_from, salary_to) + coalesce(salary_to, salary_from)) / 2))::int avg_salary\n",
        "        FROM t\n",
        "        JOIN public.areas a ON a.id = t.area_id\n",
        "        WHERE salary_from IS NOT NULL OR salary_to IS NOT NULL\n",
        "        GROUP BY a.name\n",
        "        ORDER BY avg_salary DESC\n",
        "'''"
      ]
    },
    {
      "cell_type": "code",
      "execution_count": 61,
      "id": "42c9ae80",
      "metadata": {},
      "outputs": [
        {
          "data": {
            "text/html": [
              "<div>\n",
              "<style scoped>\n",
              "    .dataframe tbody tr th:only-of-type {\n",
              "        vertical-align: middle;\n",
              "    }\n",
              "\n",
              "    .dataframe tbody tr th {\n",
              "        vertical-align: top;\n",
              "    }\n",
              "\n",
              "    .dataframe thead th {\n",
              "        text-align: right;\n",
              "    }\n",
              "</style>\n",
              "<table border=\"1\" class=\"dataframe\">\n",
              "  <thead>\n",
              "    <tr style=\"text-align: right;\">\n",
              "      <th></th>\n",
              "      <th>name</th>\n",
              "      <th>cnt</th>\n",
              "      <th>avg_salary</th>\n",
              "    </tr>\n",
              "  </thead>\n",
              "  <tbody>\n",
              "    <tr>\n",
              "      <th>0</th>\n",
              "      <td>Кипр</td>\n",
              "      <td>1</td>\n",
              "      <td>300000</td>\n",
              "    </tr>\n",
              "    <tr>\n",
              "      <th>1</th>\n",
              "      <td>Армения</td>\n",
              "      <td>3</td>\n",
              "      <td>268863</td>\n",
              "    </tr>\n",
              "    <tr>\n",
              "      <th>2</th>\n",
              "      <td>Турция</td>\n",
              "      <td>1</td>\n",
              "      <td>233794</td>\n",
              "    </tr>\n",
              "    <tr>\n",
              "      <th>3</th>\n",
              "      <td>Черногория</td>\n",
              "      <td>1</td>\n",
              "      <td>233794</td>\n",
              "    </tr>\n",
              "    <tr>\n",
              "      <th>4</th>\n",
              "      <td>Сербия</td>\n",
              "      <td>1</td>\n",
              "      <td>233794</td>\n",
              "    </tr>\n",
              "    <tr>\n",
              "      <th>5</th>\n",
              "      <td>Москва</td>\n",
              "      <td>27</td>\n",
              "      <td>207630</td>\n",
              "    </tr>\n",
              "    <tr>\n",
              "      <th>6</th>\n",
              "      <td>Белгород</td>\n",
              "      <td>1</td>\n",
              "      <td>200000</td>\n",
              "    </tr>\n",
              "    <tr>\n",
              "      <th>7</th>\n",
              "      <td>Санкт-Петербург</td>\n",
              "      <td>7</td>\n",
              "      <td>173335</td>\n",
              "    </tr>\n",
              "    <tr>\n",
              "      <th>8</th>\n",
              "      <td>Новосибирск</td>\n",
              "      <td>3</td>\n",
              "      <td>166333</td>\n",
              "    </tr>\n",
              "    <tr>\n",
              "      <th>9</th>\n",
              "      <td>Рязань</td>\n",
              "      <td>3</td>\n",
              "      <td>136667</td>\n",
              "    </tr>\n",
              "    <tr>\n",
              "      <th>10</th>\n",
              "      <td>Королев</td>\n",
              "      <td>1</td>\n",
              "      <td>130000</td>\n",
              "    </tr>\n",
              "    <tr>\n",
              "      <th>11</th>\n",
              "      <td>Екатеринбург</td>\n",
              "      <td>3</td>\n",
              "      <td>124000</td>\n",
              "    </tr>\n",
              "    <tr>\n",
              "      <th>12</th>\n",
              "      <td>Алматы</td>\n",
              "      <td>2</td>\n",
              "      <td>94587</td>\n",
              "    </tr>\n",
              "    <tr>\n",
              "      <th>13</th>\n",
              "      <td>Уфа</td>\n",
              "      <td>1</td>\n",
              "      <td>90000</td>\n",
              "    </tr>\n",
              "    <tr>\n",
              "      <th>14</th>\n",
              "      <td>Владивосток</td>\n",
              "      <td>2</td>\n",
              "      <td>85000</td>\n",
              "    </tr>\n",
              "    <tr>\n",
              "      <th>15</th>\n",
              "      <td>Пермь</td>\n",
              "      <td>2</td>\n",
              "      <td>75000</td>\n",
              "    </tr>\n",
              "    <tr>\n",
              "      <th>16</th>\n",
              "      <td>Барнаул</td>\n",
              "      <td>1</td>\n",
              "      <td>60000</td>\n",
              "    </tr>\n",
              "    <tr>\n",
              "      <th>17</th>\n",
              "      <td>Ростов-на-Дону</td>\n",
              "      <td>1</td>\n",
              "      <td>50000</td>\n",
              "    </tr>\n",
              "    <tr>\n",
              "      <th>18</th>\n",
              "      <td>Казань</td>\n",
              "      <td>1</td>\n",
              "      <td>50000</td>\n",
              "    </tr>\n",
              "  </tbody>\n",
              "</table>\n",
              "</div>"
            ],
            "text/plain": [
              "               name  cnt  avg_salary\n",
              "0              Кипр    1      300000\n",
              "1           Армения    3      268863\n",
              "2            Турция    1      233794\n",
              "3        Черногория    1      233794\n",
              "4            Сербия    1      233794\n",
              "5            Москва   27      207630\n",
              "6          Белгород    1      200000\n",
              "7   Санкт-Петербург    7      173335\n",
              "8       Новосибирск    3      166333\n",
              "9            Рязань    3      136667\n",
              "10          Королев    1      130000\n",
              "11     Екатеринбург    3      124000\n",
              "12           Алматы    2       94587\n",
              "13              Уфа    1       90000\n",
              "14      Владивосток    2       85000\n",
              "15            Пермь    2       75000\n",
              "16          Барнаул    1       60000\n",
              "17   Ростов-на-Дону    1       50000\n",
              "18           Казань    1       50000"
            ]
          },
          "metadata": {},
          "output_type": "display_data"
        }
      ],
      "source": [
        "#Выводим результат запроса\n",
        "query_7_1 = pd.read_sql_query(query_7_1, connection)\n",
        "display(query_7_1)"
      ]
    },
    {
      "cell_type": "markdown",
      "id": "f69e9c37",
      "metadata": {},
      "source": [
        "### Вывод по *Исследованию 1*\n",
        "\n",
        "Из данного иследования видно, что самая высокая средняя ЗП для DS на Кипре. Лидирующие строчки по средней ЗП находятся не в России. \n",
        "\n",
        "Самая высокая средняя ЗП (в России) в Москве. Также Москва на первом месте по количеству вакансий для DS.\n",
        "\n",
        "Самая низкая средняя ЗП в 2 городах: Ростов-на-дону и Казань."
      ]
    },
    {
      "cell_type": "markdown",
      "id": "bd31cb89",
      "metadata": {},
      "source": [
        "### *Исследование 2* \n",
        "Рассмотрим количество вакансий в разрезе опыта работы сначала для всех профессий, а потом для DS."
      ]
    },
    {
      "cell_type": "code",
      "execution_count": 62,
      "id": "a792a30e",
      "metadata": {},
      "outputs": [],
      "source": [
        "query_7_2_1 = f'''SELECT experience,\n",
        "                COUNT(id) cnt\n",
        "                FROM vacancies\n",
        "                GROUP BY experience\n",
        "                ORDER BY cnt DESC\n",
        "'''"
      ]
    },
    {
      "cell_type": "code",
      "execution_count": 63,
      "id": "4cad0a6e",
      "metadata": {},
      "outputs": [
        {
          "data": {
            "text/html": [
              "<div>\n",
              "<style scoped>\n",
              "    .dataframe tbody tr th:only-of-type {\n",
              "        vertical-align: middle;\n",
              "    }\n",
              "\n",
              "    .dataframe tbody tr th {\n",
              "        vertical-align: top;\n",
              "    }\n",
              "\n",
              "    .dataframe thead th {\n",
              "        text-align: right;\n",
              "    }\n",
              "</style>\n",
              "<table border=\"1\" class=\"dataframe\">\n",
              "  <thead>\n",
              "    <tr style=\"text-align: right;\">\n",
              "      <th></th>\n",
              "      <th>experience</th>\n",
              "      <th>cnt</th>\n",
              "    </tr>\n",
              "  </thead>\n",
              "  <tbody>\n",
              "    <tr>\n",
              "      <th>0</th>\n",
              "      <td>От 1 года до 3 лет</td>\n",
              "      <td>26152</td>\n",
              "    </tr>\n",
              "    <tr>\n",
              "      <th>1</th>\n",
              "      <td>От 3 до 6 лет</td>\n",
              "      <td>14511</td>\n",
              "    </tr>\n",
              "    <tr>\n",
              "      <th>2</th>\n",
              "      <td>Нет опыта</td>\n",
              "      <td>7197</td>\n",
              "    </tr>\n",
              "    <tr>\n",
              "      <th>3</th>\n",
              "      <td>Более 6 лет</td>\n",
              "      <td>1337</td>\n",
              "    </tr>\n",
              "  </tbody>\n",
              "</table>\n",
              "</div>"
            ],
            "text/plain": [
              "           experience    cnt\n",
              "0  От 1 года до 3 лет  26152\n",
              "1       От 3 до 6 лет  14511\n",
              "2           Нет опыта   7197\n",
              "3         Более 6 лет   1337"
            ]
          },
          "metadata": {},
          "output_type": "display_data"
        }
      ],
      "source": [
        "query_7_2_1 =pd.read_sql_query(query_7_2_1, connection)\n",
        "display(query_7_2_1)"
      ]
    },
    {
      "cell_type": "code",
      "execution_count": 64,
      "id": "01bddcd2",
      "metadata": {},
      "outputs": [],
      "source": [
        "query_7_2_2 = f'''WITH t AS(\n",
        "    SELECT * \n",
        "    FROM vacancies\n",
        "    WHERE (name ILIKE '%data scientist%'\n",
        "    OR name ILIKE '%data science%'\n",
        "    OR name ILIKE '%исследователь данных%'\n",
        "    OR (name LIKE '%ML%' AND name NOT ILIKE '%html%')\n",
        "    OR name ILIKE '%machine learning%'\n",
        "    OR name ILIKE '%машинн%обучен%')\n",
        ")\n",
        "\n",
        "    SELECT experience,\n",
        "        COUNT(id) cnt\n",
        "        FROM t\n",
        "        GROUP BY experience\n",
        "        ORDER BY cnt DESC\n",
        "'''"
      ]
    },
    {
      "cell_type": "code",
      "execution_count": 65,
      "id": "47bebcc8",
      "metadata": {},
      "outputs": [
        {
          "data": {
            "text/html": [
              "<div>\n",
              "<style scoped>\n",
              "    .dataframe tbody tr th:only-of-type {\n",
              "        vertical-align: middle;\n",
              "    }\n",
              "\n",
              "    .dataframe tbody tr th {\n",
              "        vertical-align: top;\n",
              "    }\n",
              "\n",
              "    .dataframe thead th {\n",
              "        text-align: right;\n",
              "    }\n",
              "</style>\n",
              "<table border=\"1\" class=\"dataframe\">\n",
              "  <thead>\n",
              "    <tr style=\"text-align: right;\">\n",
              "      <th></th>\n",
              "      <th>experience</th>\n",
              "      <th>cnt</th>\n",
              "    </tr>\n",
              "  </thead>\n",
              "  <tbody>\n",
              "    <tr>\n",
              "      <th>0</th>\n",
              "      <td>От 1 года до 3 лет</td>\n",
              "      <td>223</td>\n",
              "    </tr>\n",
              "    <tr>\n",
              "      <th>1</th>\n",
              "      <td>От 3 до 6 лет</td>\n",
              "      <td>195</td>\n",
              "    </tr>\n",
              "    <tr>\n",
              "      <th>2</th>\n",
              "      <td>Более 6 лет</td>\n",
              "      <td>34</td>\n",
              "    </tr>\n",
              "    <tr>\n",
              "      <th>3</th>\n",
              "      <td>Нет опыта</td>\n",
              "      <td>28</td>\n",
              "    </tr>\n",
              "  </tbody>\n",
              "</table>\n",
              "</div>"
            ],
            "text/plain": [
              "           experience  cnt\n",
              "0  От 1 года до 3 лет  223\n",
              "1       От 3 до 6 лет  195\n",
              "2         Более 6 лет   34\n",
              "3           Нет опыта   28"
            ]
          },
          "metadata": {},
          "output_type": "display_data"
        }
      ],
      "source": [
        "query_7_2_2 = pd.read_sql_query(query_7_2_2, connection)\n",
        "display(query_7_2_2)"
      ]
    },
    {
      "cell_type": "markdown",
      "id": "33881f28",
      "metadata": {},
      "source": [
        "### Выводы по *Исследованию 2*\n",
        "\n",
        "Из данного исследования видно, что самые востребованные специалисты те, у которых есть опыт от 1 года до 3 лет. Это говорит о том, что у человека уже есть первый опыт в работе. Он уже имеет представления о том, чем будет заниматься. Но данному сотруднику еще есть куда расти. Работодатели охотнее приглашают людей с опытом.\n",
        "***\n",
        "На втором месте идут специалисты с опытом работы от 3 до 6 лет. Таких специалистов уже меньше, это видно из двух вариантов исследования. Они имеют опыт работы, поэтому заинтересованность такими людьми высокая.\n",
        "***\n",
        "На третьем месте в первом варианте исследованию идут люди без опыта. Я думаю это связано с тем, что есть много вакансий по типу официантов, курьеров и т.д., куда работодатели могут нанимать студентов или новичков в данной профессии.\n",
        "\n",
        "На третьем месте во втором варианте исследования для DS идут специалисты с опытом работы более 6 лет. Данных вакансий мало, так как профессианалов своего дела немного. Они либо уже устроены на работы, либо могут работать на себя. \n",
        "***\n",
        "На четвертом месте в первом варианте исследования расположились специалисты с опытом работы более 6 лет. Как ранее было сказано, профессианалов мало, и мест на должности с подобными навыками не так и много. Люди могут быть уже устроены, работать годами на одном месте. Либо специалисты работают на себя. Люди с опытом работы на вес золота.\n",
        "\n",
        "На четвертом месте во втором варианте исследования для DS идут люди без опыта работы. Это легко объяснить, так как работа не простая и достаточно высокая конкуренция работодатели готовы не охотно готовы брать людей без опыта. Человека без опыта нужно многому учить, для этого нужны время и средства. Думаю данные вакансии подходят для стажеров в сфере DS.\n",
        "***\n"
      ]
    },
    {
      "cell_type": "markdown",
      "id": "23ecedd4",
      "metadata": {},
      "source": [
        "### *Исследование 3*\n",
        "Рассмотрим, как зависит средняя зарплата от опыта работы по всем вакансиям. Приведем в пример компанию 'Тинькофф' и посмотрим также на количество вакансий у данного работодателя."
      ]
    },
    {
      "cell_type": "code",
      "execution_count": 66,
      "id": "fa3b56e1",
      "metadata": {},
      "outputs": [],
      "source": [
        "query_7_3_1 = f'''SELECT v.experience,\n",
        "                ROUND(AVG((coalesce(v.salary_from, v.salary_to) + coalesce(v.salary_to, v.salary_from)) / 2))::int avg_salary\n",
        "                FROM public.vacancies v\n",
        "                GROUP BY v.experience\n",
        "                ORDER BY avg_salary DESC\n",
        "'''"
      ]
    },
    {
      "cell_type": "code",
      "execution_count": 67,
      "id": "da380db0",
      "metadata": {},
      "outputs": [
        {
          "data": {
            "text/html": [
              "<div>\n",
              "<style scoped>\n",
              "    .dataframe tbody tr th:only-of-type {\n",
              "        vertical-align: middle;\n",
              "    }\n",
              "\n",
              "    .dataframe tbody tr th {\n",
              "        vertical-align: top;\n",
              "    }\n",
              "\n",
              "    .dataframe thead th {\n",
              "        text-align: right;\n",
              "    }\n",
              "</style>\n",
              "<table border=\"1\" class=\"dataframe\">\n",
              "  <thead>\n",
              "    <tr style=\"text-align: right;\">\n",
              "      <th></th>\n",
              "      <th>experience</th>\n",
              "      <th>avg_salary</th>\n",
              "    </tr>\n",
              "  </thead>\n",
              "  <tbody>\n",
              "    <tr>\n",
              "      <th>0</th>\n",
              "      <td>Более 6 лет</td>\n",
              "      <td>166256</td>\n",
              "    </tr>\n",
              "    <tr>\n",
              "      <th>1</th>\n",
              "      <td>От 3 до 6 лет</td>\n",
              "      <td>133211</td>\n",
              "    </tr>\n",
              "    <tr>\n",
              "      <th>2</th>\n",
              "      <td>От 1 года до 3 лет</td>\n",
              "      <td>76541</td>\n",
              "    </tr>\n",
              "    <tr>\n",
              "      <th>3</th>\n",
              "      <td>Нет опыта</td>\n",
              "      <td>40472</td>\n",
              "    </tr>\n",
              "  </tbody>\n",
              "</table>\n",
              "</div>"
            ],
            "text/plain": [
              "           experience  avg_salary\n",
              "0         Более 6 лет      166256\n",
              "1       От 3 до 6 лет      133211\n",
              "2  От 1 года до 3 лет       76541\n",
              "3           Нет опыта       40472"
            ]
          },
          "metadata": {},
          "output_type": "display_data"
        }
      ],
      "source": [
        "query_7_3_1 = pd.read_sql_query(query_7_3_1, connection)\n",
        "display(query_7_3_1)"
      ]
    },
    {
      "cell_type": "code",
      "execution_count": 68,
      "id": "80d15c33",
      "metadata": {},
      "outputs": [],
      "source": [
        "query_7_3_2 = f'''SELECT v.experience,\n",
        "                COUNT(v.id),\n",
        "                ROUND(AVG((coalesce(v.salary_from, v.salary_to) + coalesce(v.salary_to, v.salary_from)) / 2))::int avg_salary\n",
        "                FROM public.vacancies v\n",
        "                JOIN public.employers e ON e.id = v.employer_id\n",
        "                WHERE e.name = 'Тинькофф'\n",
        "                GROUP BY v.experience\n",
        "                ORDER BY avg_salary \n",
        "'''"
      ]
    },
    {
      "cell_type": "code",
      "execution_count": 69,
      "id": "e6c7838d",
      "metadata": {},
      "outputs": [
        {
          "data": {
            "text/html": [
              "<div>\n",
              "<style scoped>\n",
              "    .dataframe tbody tr th:only-of-type {\n",
              "        vertical-align: middle;\n",
              "    }\n",
              "\n",
              "    .dataframe tbody tr th {\n",
              "        vertical-align: top;\n",
              "    }\n",
              "\n",
              "    .dataframe thead th {\n",
              "        text-align: right;\n",
              "    }\n",
              "</style>\n",
              "<table border=\"1\" class=\"dataframe\">\n",
              "  <thead>\n",
              "    <tr style=\"text-align: right;\">\n",
              "      <th></th>\n",
              "      <th>experience</th>\n",
              "      <th>count</th>\n",
              "      <th>avg_salary</th>\n",
              "    </tr>\n",
              "  </thead>\n",
              "  <tbody>\n",
              "    <tr>\n",
              "      <th>0</th>\n",
              "      <td>От 1 года до 3 лет</td>\n",
              "      <td>196</td>\n",
              "      <td>50143.0</td>\n",
              "    </tr>\n",
              "    <tr>\n",
              "      <th>1</th>\n",
              "      <td>Более 6 лет</td>\n",
              "      <td>4</td>\n",
              "      <td>NaN</td>\n",
              "    </tr>\n",
              "    <tr>\n",
              "      <th>2</th>\n",
              "      <td>Нет опыта</td>\n",
              "      <td>10</td>\n",
              "      <td>NaN</td>\n",
              "    </tr>\n",
              "    <tr>\n",
              "      <th>3</th>\n",
              "      <td>От 3 до 6 лет</td>\n",
              "      <td>234</td>\n",
              "      <td>NaN</td>\n",
              "    </tr>\n",
              "  </tbody>\n",
              "</table>\n",
              "</div>"
            ],
            "text/plain": [
              "           experience  count  avg_salary\n",
              "0  От 1 года до 3 лет    196     50143.0\n",
              "1         Более 6 лет      4         NaN\n",
              "2           Нет опыта     10         NaN\n",
              "3       От 3 до 6 лет    234         NaN"
            ]
          },
          "metadata": {},
          "output_type": "display_data"
        }
      ],
      "source": [
        "query_7_3_2 = pd.read_sql_query(query_7_3_2, connection)\n",
        "display(query_7_3_2)"
      ]
    },
    {
      "cell_type": "markdown",
      "id": "df970af8",
      "metadata": {},
      "source": [
        "### Вывод по *Исследованию 3*\n",
        "\n",
        "Из первого варианта исследования видно очень закономерную картину. Что с опытом работы растет заработная плата. Чем больше навыков и умений у человека в своем деле, тем выше его денежное вознаграждение.\n",
        "***\n",
        "Из второго варианта исследования можно сделать интересный вывод. В компании 'Тинькофф' требуются работники с опытом работы от 1 года до трех лет, их средняя заработная плата составляет - **50143** рубля. \n",
        "\n",
        "У всех других вакансий не указана заработная плата. Возможно ЗП обговаривается индивидуально на собеседовании."
      ]
    },
    {
      "cell_type": "markdown",
      "id": "1a1cb6c2",
      "metadata": {},
      "source": [
        "### *Исследование 4*\n",
        "Рассмотрим, сколько требуется специалистов DS в городах Санкт-Петербург и Иваново. Также узнаем на какую среднюю заработную плату стоит рассчитывать в этих городах специалисту DS. "
      ]
    },
    {
      "cell_type": "code",
      "execution_count": 70,
      "id": "c16cbe60",
      "metadata": {},
      "outputs": [],
      "source": [
        "query_7_4_1 = f'''WITH t AS(\n",
        "    SELECT * \n",
        "    FROM vacancies\n",
        "    WHERE (name ILIKE '%data scientist%'\n",
        "    OR name ILIKE '%data science%'\n",
        "    OR name ILIKE '%исследователь данных%'\n",
        "    OR (name LIKE '%ML%' AND name NOT ILIKE '%html%')\n",
        "    OR name ILIKE '%machine learning%'\n",
        "    OR name ILIKE '%машинн%обучен%')\n",
        ")\n",
        "\n",
        "    SELECT COUNT(t.id),\n",
        "        ROUND(AVG((coalesce(t.salary_from, t.salary_to) + coalesce(t.salary_to, t.salary_from)) / 2))::int avg_salary\n",
        "        FROM t\n",
        "        JOIN public.areas a ON a.id = t.area_id\n",
        "        WHERE a.name = 'Санкт-Петербург'\n",
        "'''"
      ]
    },
    {
      "cell_type": "code",
      "execution_count": 71,
      "id": "4e577b39",
      "metadata": {},
      "outputs": [
        {
          "data": {
            "text/html": [
              "<div>\n",
              "<style scoped>\n",
              "    .dataframe tbody tr th:only-of-type {\n",
              "        vertical-align: middle;\n",
              "    }\n",
              "\n",
              "    .dataframe tbody tr th {\n",
              "        vertical-align: top;\n",
              "    }\n",
              "\n",
              "    .dataframe thead th {\n",
              "        text-align: right;\n",
              "    }\n",
              "</style>\n",
              "<table border=\"1\" class=\"dataframe\">\n",
              "  <thead>\n",
              "    <tr style=\"text-align: right;\">\n",
              "      <th></th>\n",
              "      <th>count</th>\n",
              "      <th>avg_salary</th>\n",
              "    </tr>\n",
              "  </thead>\n",
              "  <tbody>\n",
              "    <tr>\n",
              "      <th>0</th>\n",
              "      <td>64</td>\n",
              "      <td>173335</td>\n",
              "    </tr>\n",
              "  </tbody>\n",
              "</table>\n",
              "</div>"
            ],
            "text/plain": [
              "   count  avg_salary\n",
              "0     64      173335"
            ]
          },
          "metadata": {},
          "output_type": "display_data"
        }
      ],
      "source": [
        "query_7_4_1 = pd.read_sql_query(query_7_4_1, connection)\n",
        "display(query_7_4_1)"
      ]
    },
    {
      "cell_type": "code",
      "execution_count": 72,
      "id": "a699bab1",
      "metadata": {},
      "outputs": [],
      "source": [
        "query_7_4_2 = f'''WITH t AS(\n",
        "    SELECT * \n",
        "    FROM vacancies\n",
        "    WHERE (name ILIKE '%data scientist%'\n",
        "    OR name ILIKE '%data science%'\n",
        "    OR name ILIKE '%исследователь данных%'\n",
        "    OR (name LIKE '%ML%' AND name NOT ILIKE '%html%')\n",
        "    OR name ILIKE '%machine learning%'\n",
        "    OR name ILIKE '%машинн%обучен%')\n",
        ")\n",
        "\n",
        "    SELECT COUNT(t.id),\n",
        "        ROUND(AVG((coalesce(t.salary_from, t.salary_to) + coalesce(t.salary_to, t.salary_from)) / 2))::int avg_salary\n",
        "        FROM t\n",
        "        JOIN public.areas a ON a.id = t.area_id\n",
        "        WHERE a.name ILIKE '%иваново (ива%'\n",
        "'''"
      ]
    },
    {
      "cell_type": "code",
      "execution_count": 73,
      "id": "aac373ad",
      "metadata": {},
      "outputs": [
        {
          "data": {
            "text/html": [
              "<div>\n",
              "<style scoped>\n",
              "    .dataframe tbody tr th:only-of-type {\n",
              "        vertical-align: middle;\n",
              "    }\n",
              "\n",
              "    .dataframe tbody tr th {\n",
              "        vertical-align: top;\n",
              "    }\n",
              "\n",
              "    .dataframe thead th {\n",
              "        text-align: right;\n",
              "    }\n",
              "</style>\n",
              "<table border=\"1\" class=\"dataframe\">\n",
              "  <thead>\n",
              "    <tr style=\"text-align: right;\">\n",
              "      <th></th>\n",
              "      <th>count</th>\n",
              "      <th>avg_salary</th>\n",
              "    </tr>\n",
              "  </thead>\n",
              "  <tbody>\n",
              "    <tr>\n",
              "      <th>0</th>\n",
              "      <td>0</td>\n",
              "      <td>None</td>\n",
              "    </tr>\n",
              "  </tbody>\n",
              "</table>\n",
              "</div>"
            ],
            "text/plain": [
              "   count avg_salary\n",
              "0      0       None"
            ]
          },
          "metadata": {},
          "output_type": "display_data"
        }
      ],
      "source": [
        "query_7_4_2 = pd.read_sql_query(query_7_4_2, connection)\n",
        "display(query_7_4_2)"
      ]
    },
    {
      "cell_type": "markdown",
      "id": "86edcd11",
      "metadata": {},
      "source": [
        "### Вывод по *Исследованию 4*\n",
        "\n",
        "Из данного исследования видно, что для специалистов DS в Санкт-Петербурге есть **64** активные вакансии. Средняя заработная плата составляет **173335** рублей.\n",
        "\n",
        "А вот в Иваново (Ивановской области) нет ни одной активной вакансии для специалиста DS."
      ]
    },
    {
      "cell_type": "code",
      "execution_count": 74,
      "id": "3fbc90a8",
      "metadata": {},
      "outputs": [],
      "source": [
        "import matplotlib.pyplot as plt\n",
        "import seaborn as sns"
      ]
    },
    {
      "cell_type": "code",
      "execution_count": 75,
      "id": "b8a2bcd6",
      "metadata": {},
      "outputs": [
        {
          "data": {
            "image/png": "[encoded data removed]",
            "text/plain": [
              "<Figure size 600x600 with 1 Axes>"
            ]
          },
          "metadata": {},
          "output_type": "display_data"
        }
      ],
      "source": [
        "top_10_cities = '''\n",
        "SELECT\n",
        "    COUNT(v.id) AS cnt,\n",
        "    a.name AS area\n",
        "FROM vacancies v\n",
        "JOIN areas a ON v.area_id=a.id\n",
        "GROUP BY a.name\n",
        "ORDER BY cnt DESC\n",
        "LIMIT 10\n",
        "'''\n",
        "\n",
        "df = pd.read_sql_query(top_10_cities, connection)\n",
        "\n",
        "import matplotlib.pyplot as plt\n",
        "# создадим фигуру и отрисуем график \n",
        "fig, ax = plt.subplots(figsize=(6, 6))\n",
        "ax.bar(x=df.area.values, height=df.cnt.values)\n",
        "\n",
        "# Добавим подписи данных\n",
        "for at_x, at_y in enumerate(df.cnt):\n",
        "    ax.text(at_x, at_y + 50, round(at_y, 1), horizontalalignment='center')\n",
        "\n",
        "# Повернём подписи столбцов на оси х\n",
        "plt.xticks(rotation=35, horizontalalignment='right')\n",
        "plt.tight_layout()\n",
        "\n",
        "# добавим подписи осей и графика\n",
        "ax.set(xlabel='Количество вакансий', \n",
        "       ylabel='Наименование региона', \n",
        "       title='Топ 10 регионов по количеству вакансий',\n",
        "       );\n",
        "\n",
        "\n",
        "# выведем на экран результат\n",
        "fig.show()"
      ]
    },
    {
      "cell_type": "code",
      "execution_count": 76,
      "id": "e5de3460",
      "metadata": {},
      "outputs": [
        {
          "data": {
            "image/png": "[encoded data removed]",
            "text/plain": [
              "<Figure size 640x480 with 1 Axes>"
            ]
          },
          "metadata": {},
          "output_type": "display_data"
        }
      ],
      "source": [
        "query_4_1 = f'''\n",
        "SELECT a.name area, COUNT(v.area_id) cnt\n",
        "FROM vacancies v JOIN areas a ON v.area_id = a.id\n",
        "GROUP BY a.id, a.name\n",
        "ORDER BY 2 DESC\n",
        "LIMIT 5\n",
        "'''\n",
        "df = pd.read_sql_query(query_4_1, connection)\n",
        "\n",
        "filtred_color = [('tab:red' if x > 3000 else 'tab:blue') for x in df.cnt]\n",
        "sns.barplot(df, x='area', y='cnt', palette=filtred_color);"
      ]
    },
    {
      "cell_type": "code",
      "execution_count": 77,
      "id": "29fc6446",
      "metadata": {},
      "outputs": [
        {
          "data": {
            "image/png": "[encoded data removed]",
            "text/plain": [
              "<Figure size 640x480 with 1 Axes>"
            ]
          },
          "metadata": {},
          "output_type": "display_data"
        }
      ],
      "source": [
        "query_4_5 = f'''\n",
        "SELECT experience, COUNT(id)\n",
        "FROM vacancies\n",
        "GROUP BY 1\n",
        "ORDER BY 2\n",
        "'''\n",
        "df = pd.read_sql_query(query_4_5, connection)\n",
        "\n",
        "plt.pie(\n",
        "    df['count'],\n",
        "    labels = df['experience'].values,\n",
        "    autopct = '%.2f%%',\n",
        "    explode = (0.05, 0.1, 0, 0.05),\n",
        "    wedgeprops = {'lw':0.8,'edgecolor':'k'},   \n",
        ");"
      ]
    },
    {
      "cell_type": "code",
      "execution_count": 78,
      "id": "e3e216f1",
      "metadata": {},
      "outputs": [
        {
          "data": {
            "image/png": "[encoded data removed]",
            "text/plain": [
              "<Figure size 640x480 with 1 Axes>"
            ]
          },
          "metadata": {},
          "output_type": "display_data"
        }
      ],
      "source": [
        "query_4_3 = f'''\n",
        "SELECT salary_from as salary_from, salary_to as salary_to\n",
        "FROM vacancies\n",
        "'''\n",
        "df = pd.read_sql_query(query_4_3, connection)\n",
        "df.dropna(inplace=True)\n",
        "sns.histplot(data=df, bins=30);"
      ]
    },
    {
      "cell_type": "code",
      "execution_count": 79,
      "id": "888a377c",
      "metadata": {},
      "outputs": [],
      "source": [
        "connection.close()"
      ]
    }
  ],
  "metadata": {
    "colab": {
      "collapsed_sections": [
        "8d62a9f3-f64e-4fe7-bdac-c4dffa16155e"
      ],
      "provenance": []
    },
    "kernelspec": {
      "display_name": "base",
      "language": "python",
      "name": "python3"
    },
    "language_info": {
      "codemirror_mode": {
        "name": "ipython",
        "version": 3
      },
      "file_extension": ".py",
      "mimetype": "text/x-python",
      "name": "python",
      "nbconvert_exporter": "python",
      "pygments_lexer": "ipython3",
      "version": "3.11.7"
    }
  },
  "nbformat": 4,
  "nbformat_minor": 5
}
