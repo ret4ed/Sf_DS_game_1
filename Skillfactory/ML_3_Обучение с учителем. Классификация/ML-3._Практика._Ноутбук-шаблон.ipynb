{
 "cells": [
  {
   "cell_type": "markdown",
   "id": "086a113c",
   "metadata": {
    "id": "086a113c"
   },
   "source": [
    "# <center> Обучение с учителем. Классификация. Практика\n",
    "\n",
    "## <center> Прогнозирование оттока клиентов банка"
   ]
  },
  {
   "cell_type": "markdown",
   "id": "85ccf5ae",
   "metadata": {
    "id": "85ccf5ae"
   },
   "source": [
    "## Постановка задачи"
   ]
  },
  {
   "cell_type": "markdown",
   "id": "20769d74",
   "metadata": {
    "id": "20769d74"
   },
   "source": [
    "Теперь настало время самостоятельной работы. В рамках самостоятельной работы вам предстоит решить задачу прогнозирования оттока клиентов банка. \n",
    "\n",
    "> **Примечание.** Вы уже знакомились с этой задачей в модуле по визуализации («PYTHON-13. Визуализация данных») и провели небольшое исследование данных. Вы можете использовать результаты своего исследования для построения модели машинного обучения.\n",
    "\n",
    "Напомним контекст задачи:\n",
    "\n",
    "> Некоторый банк обратился к вам за помощью: он хочет разработать кампанию лояльности по удержанию клиентов. Для этого он хочет прогнозировать вероятности оттока клиентов и определять, уйдёт ли клиент в ближайшее время. \n",
    "\n",
    "Итак, ранее вы провели небольшой разведывательный анализ, познакомились с данными и выявили, чем ушедшие клиенты отличаются от лояльных и как между собой связаны различные признаки, определяющие клиентов. Вы отлично справились с первой задачей, и теперь представители банка предлагают вам построить саму модель машинного обучения, которая будет прогнозировать отток клиентов. \n",
    "\n",
    "**Ваша задача** - построить классификатор, который позволит своевременно определять уходящих клиентов банка, оценить качество построенных моделей и проинтерпретировать результаты.\n",
    "\n",
    "Разделим эту задачу на две части:\n",
    "* В первой части мы подготовим данные для моделирования и построим простейшую модель логистической регрессии, оценим её качество и проанализируем результаты её работы.\n",
    "\n",
    "* Во второй части мы займёмся построением моделей дерева решений и случайного леса, сравним их результаты с результатами, полученными на первом этапе, и сделаем финальный вывод.\n"
   ]
  },
  {
   "cell_type": "markdown",
   "id": "fd90490e",
   "metadata": {
    "id": "fd90490e"
   },
   "source": [
    "Для начала импортируем библиотеки, которые нам понадобятся:"
   ]
  },
  {
   "cell_type": "code",
   "execution_count": 549,
   "id": "a26669af-982b-421f-9441-4d5f3a8ffb5d",
   "metadata": {
    "id": "a26669af-982b-421f-9441-4d5f3a8ffb5d"
   },
   "outputs": [],
   "source": [
    "import numpy as np #для матричных вычислений\n",
    "import pandas as pd #для анализа и предобработки данных\n",
    "import matplotlib.pyplot as plt #для визуализации\n",
    "import seaborn as sns #для визуализации\n",
    "\n",
    "from sklearn import linear_model #линейные модели\n",
    "from sklearn import metrics #метрики\n",
    "from sklearn import model_selection #сплитование выборки\n",
    "from sklearn import preprocessing #предобработка данных\n",
    "%matplotlib inline"
   ]
  },
  {
   "cell_type": "markdown",
   "id": "6687034e",
   "metadata": {
    "id": "6687034e"
   },
   "source": [
    "Итак, прочитаем нашу таблицу:"
   ]
  },
  {
   "cell_type": "code",
   "execution_count": 550,
   "id": "2fa60e26-cf4c-4dec-baca-90c3025d2bed",
   "metadata": {
    "colab": {
     "base_uri": "https://localhost:8080/",
     "height": 270
    },
    "executionInfo": {
     "elapsed": 7,
     "status": "ok",
     "timestamp": 1678085430153,
     "user": {
      "displayName": "Андрей Достоевский",
      "userId": "09718989537568551698"
     },
     "user_tz": -180
    },
    "id": "2fa60e26-cf4c-4dec-baca-90c3025d2bed",
    "outputId": "029556b1-99b4-4ec5-c2f4-9c07fabca762"
   },
   "outputs": [
    {
     "data": {
      "text/html": [
       "<div>\n",
       "<style scoped>\n",
       "    .dataframe tbody tr th:only-of-type {\n",
       "        vertical-align: middle;\n",
       "    }\n",
       "\n",
       "    .dataframe tbody tr th {\n",
       "        vertical-align: top;\n",
       "    }\n",
       "\n",
       "    .dataframe thead th {\n",
       "        text-align: right;\n",
       "    }\n",
       "</style>\n",
       "<table border=\"1\" class=\"dataframe\">\n",
       "  <thead>\n",
       "    <tr style=\"text-align: right;\">\n",
       "      <th></th>\n",
       "      <th>RowNumber</th>\n",
       "      <th>CustomerId</th>\n",
       "      <th>Surname</th>\n",
       "      <th>CreditScore</th>\n",
       "      <th>Geography</th>\n",
       "      <th>Gender</th>\n",
       "      <th>Age</th>\n",
       "      <th>Tenure</th>\n",
       "      <th>Balance</th>\n",
       "      <th>NumOfProducts</th>\n",
       "      <th>HasCrCard</th>\n",
       "      <th>IsActiveMember</th>\n",
       "      <th>EstimatedSalary</th>\n",
       "      <th>Exited</th>\n",
       "    </tr>\n",
       "  </thead>\n",
       "  <tbody>\n",
       "    <tr>\n",
       "      <th>0</th>\n",
       "      <td>1</td>\n",
       "      <td>15634602</td>\n",
       "      <td>Hargrave</td>\n",
       "      <td>619</td>\n",
       "      <td>France</td>\n",
       "      <td>Female</td>\n",
       "      <td>42</td>\n",
       "      <td>2</td>\n",
       "      <td>0.00</td>\n",
       "      <td>1</td>\n",
       "      <td>1</td>\n",
       "      <td>1</td>\n",
       "      <td>101348.88</td>\n",
       "      <td>1</td>\n",
       "    </tr>\n",
       "    <tr>\n",
       "      <th>1</th>\n",
       "      <td>2</td>\n",
       "      <td>15647311</td>\n",
       "      <td>Hill</td>\n",
       "      <td>608</td>\n",
       "      <td>Spain</td>\n",
       "      <td>Female</td>\n",
       "      <td>41</td>\n",
       "      <td>1</td>\n",
       "      <td>83807.86</td>\n",
       "      <td>1</td>\n",
       "      <td>0</td>\n",
       "      <td>1</td>\n",
       "      <td>112542.58</td>\n",
       "      <td>0</td>\n",
       "    </tr>\n",
       "    <tr>\n",
       "      <th>2</th>\n",
       "      <td>3</td>\n",
       "      <td>15619304</td>\n",
       "      <td>Onio</td>\n",
       "      <td>502</td>\n",
       "      <td>France</td>\n",
       "      <td>Female</td>\n",
       "      <td>42</td>\n",
       "      <td>8</td>\n",
       "      <td>159660.80</td>\n",
       "      <td>3</td>\n",
       "      <td>1</td>\n",
       "      <td>0</td>\n",
       "      <td>113931.57</td>\n",
       "      <td>1</td>\n",
       "    </tr>\n",
       "    <tr>\n",
       "      <th>3</th>\n",
       "      <td>4</td>\n",
       "      <td>15701354</td>\n",
       "      <td>Boni</td>\n",
       "      <td>699</td>\n",
       "      <td>France</td>\n",
       "      <td>Female</td>\n",
       "      <td>39</td>\n",
       "      <td>1</td>\n",
       "      <td>0.00</td>\n",
       "      <td>2</td>\n",
       "      <td>0</td>\n",
       "      <td>0</td>\n",
       "      <td>93826.63</td>\n",
       "      <td>0</td>\n",
       "    </tr>\n",
       "    <tr>\n",
       "      <th>4</th>\n",
       "      <td>5</td>\n",
       "      <td>15737888</td>\n",
       "      <td>Mitchell</td>\n",
       "      <td>850</td>\n",
       "      <td>Spain</td>\n",
       "      <td>Female</td>\n",
       "      <td>43</td>\n",
       "      <td>2</td>\n",
       "      <td>125510.82</td>\n",
       "      <td>1</td>\n",
       "      <td>1</td>\n",
       "      <td>1</td>\n",
       "      <td>79084.10</td>\n",
       "      <td>0</td>\n",
       "    </tr>\n",
       "  </tbody>\n",
       "</table>\n",
       "</div>"
      ],
      "text/plain": [
       "   RowNumber  CustomerId   Surname  CreditScore Geography  Gender  Age  \\\n",
       "0          1    15634602  Hargrave          619    France  Female   42   \n",
       "1          2    15647311      Hill          608     Spain  Female   41   \n",
       "2          3    15619304      Onio          502    France  Female   42   \n",
       "3          4    15701354      Boni          699    France  Female   39   \n",
       "4          5    15737888  Mitchell          850     Spain  Female   43   \n",
       "\n",
       "   Tenure    Balance  NumOfProducts  HasCrCard  IsActiveMember  \\\n",
       "0       2       0.00              1          1               1   \n",
       "1       1   83807.86              1          0               1   \n",
       "2       8  159660.80              3          1               0   \n",
       "3       1       0.00              2          0               0   \n",
       "4       2  125510.82              1          1               1   \n",
       "\n",
       "   EstimatedSalary  Exited  \n",
       "0        101348.88       1  \n",
       "1        112542.58       0  \n",
       "2        113931.57       1  \n",
       "3         93826.63       0  \n",
       "4         79084.10       0  "
      ]
     },
     "execution_count": 550,
     "metadata": {},
     "output_type": "execute_result"
    }
   ],
   "source": [
    "churn_data = pd.read_csv('data/churn.csv')\n",
    "churn_data.head()"
   ]
  },
  {
   "cell_type": "markdown",
   "id": "d2fa56d2",
   "metadata": {
    "id": "d2fa56d2"
   },
   "source": [
    "## Практика: логистическая регрессия"
   ]
  },
  {
   "cell_type": "markdown",
   "id": "4cRkKq9ZItBe",
   "metadata": {
    "id": "4cRkKq9ZItBe"
   },
   "source": [
    "В первой части вам предстоит выполнить задания 5.0–5.6. Максимальное количество баллов, которое можно получить, — 9:"
   ]
  },
  {
   "cell_type": "markdown",
   "id": "489f4fdd",
   "metadata": {
    "id": "489f4fdd"
   },
   "source": [
    "### Задание 5.0 (не оценивается)\n",
    "\n",
    "Для полноты задачи проведите небольшой разведывательный анализ данных. Постройте графики распределения целевого признака, диаграммы и графики, показывающие взаимосвязь между исходными признаками и целевым признаком, а также другие диаграммы, иллюстрирующие предоставленные данные. \n",
    "\n",
    "**Совет:** воспользуйтесь кодом, который вы писали, выполняя задания в модуле «PYTHON-13. Визуализация данных»."
   ]
  },
  {
   "cell_type": "code",
   "execution_count": 551,
   "id": "44542330",
   "metadata": {
    "id": "44542330"
   },
   "outputs": [
    {
     "data": {
      "text/html": [
       "<div>\n",
       "<style scoped>\n",
       "    .dataframe tbody tr th:only-of-type {\n",
       "        vertical-align: middle;\n",
       "    }\n",
       "\n",
       "    .dataframe tbody tr th {\n",
       "        vertical-align: top;\n",
       "    }\n",
       "\n",
       "    .dataframe thead th {\n",
       "        text-align: right;\n",
       "    }\n",
       "</style>\n",
       "<table border=\"1\" class=\"dataframe\">\n",
       "  <thead>\n",
       "    <tr style=\"text-align: right;\">\n",
       "      <th></th>\n",
       "      <th>Surname</th>\n",
       "      <th>Geography</th>\n",
       "      <th>Gender</th>\n",
       "    </tr>\n",
       "  </thead>\n",
       "  <tbody>\n",
       "    <tr>\n",
       "      <th>count</th>\n",
       "      <td>10000</td>\n",
       "      <td>10000</td>\n",
       "      <td>10000</td>\n",
       "    </tr>\n",
       "    <tr>\n",
       "      <th>unique</th>\n",
       "      <td>2932</td>\n",
       "      <td>3</td>\n",
       "      <td>2</td>\n",
       "    </tr>\n",
       "    <tr>\n",
       "      <th>top</th>\n",
       "      <td>Smith</td>\n",
       "      <td>France</td>\n",
       "      <td>Male</td>\n",
       "    </tr>\n",
       "    <tr>\n",
       "      <th>freq</th>\n",
       "      <td>32</td>\n",
       "      <td>5014</td>\n",
       "      <td>5457</td>\n",
       "    </tr>\n",
       "  </tbody>\n",
       "</table>\n",
       "</div>"
      ],
      "text/plain": [
       "       Surname Geography Gender\n",
       "count    10000     10000  10000\n",
       "unique    2932         3      2\n",
       "top      Smith    France   Male\n",
       "freq        32      5014   5457"
      ]
     },
     "metadata": {},
     "output_type": "display_data"
    },
    {
     "name": "stdout",
     "output_type": "stream",
     "text": [
      "\n",
      "\n",
      "['Surname', 'Geography', 'Gender']\n",
      "['Geography', 'Gender']\n",
      "\n",
      "\n"
     ]
    },
    {
     "data": {
      "image/png": "[encoded data removed]",
      "text/plain": [
       "<Figure size 1000x800 with 4 Axes>"
      ]
     },
     "metadata": {},
     "output_type": "display_data"
    }
   ],
   "source": [
    "# Ваш код здесь\n",
    "\n",
    "#Смотрим основную информацию по классу object\n",
    "display(churn_data.describe(include='object'))\n",
    "\n",
    "print('\\n')\n",
    "\n",
    "#Строим диаграммы анализа категориальных признаков\n",
    "\n",
    "#Исследуем категориальные признаки\n",
    "types = churn_data.dtypes\n",
    "cat_features = list(types[(types == 'object')].index)\n",
    "print(cat_features)\n",
    "#Так как я не хочу использовать в построении графиков 'Surname', удалю его из cat_features\n",
    "cat_features = cat_features[1:]\n",
    "print(cat_features)\n",
    "\n",
    "print('\\n')\n",
    "\n",
    "#Число категориальных признаков\n",
    "n = len(cat_features)\n",
    "#Фигура + n*2 координатных проскостей\n",
    "fig, axes = plt.subplots(n, 2, figsize=(10, 8))\n",
    "#Создаем цикл для всех признаков из списка категориальных признаков\n",
    "for i, feature in enumerate(cat_features):\n",
    "    count_data = (churn_data[feature].value_counts(normalize=True)\n",
    "                  .sort_values(ascending=False)\n",
    "                  .rename('percentage')\n",
    "                  .reset_index())\n",
    "    count_barplot = sns.barplot(data=count_data, x=feature, y='percentage', ax=axes[i][0])\n",
    "    count_barplot.set_xlabel('index')\n",
    "    count_barplot.xaxis.set_tick_params(rotation=60)\n",
    "    #Строим столбчатую диаграмму доли людей ушедших из банка (соеднее по столбцу Exited) в зависимости от категории\n",
    "    mean_barplot = sns.barplot(data=churn_data, x=feature, y='Exited', ax=axes[i][1])\n",
    "    mean_barplot.xaxis.set_tick_params(rotation=60)\n",
    "#Выравнивание графиков\n",
    "plt.tight_layout()"
   ]
  },
  {
   "cell_type": "markdown",
   "id": "8230507b",
   "metadata": {},
   "source": [
    "### Из анализа категориальных признаков видно, что больше всего ушедших клиентов в Германии. Женщины уходят из банка чаще, чем мужчины"
   ]
  },
  {
   "cell_type": "code",
   "execution_count": 582,
   "id": "8fd22017",
   "metadata": {},
   "outputs": [
    {
     "name": "stdout",
     "output_type": "stream",
     "text": [
      "['CreditScore', 'Age', 'Tenure', 'Balance', 'NumOfProducts', 'HasCrCard', 'IsActiveMember', 'EstimatedSalary', 'Exited']\n",
      "['Tenure', 'Balance', 'NumOfProducts', 'HasCrCard', 'IsActiveMember', 'EstimatedSalary', 'Exited']\n"
     ]
    },
    {
     "data": {
      "image/png": "[encoded data removed]",
      "text/plain": [
       "<Figure size 500x2500 with 7 Axes>"
      ]
     },
     "metadata": {},
     "output_type": "display_data"
    }
   ],
   "source": [
    "#Не могу не создать пару ячеек для визуального исследвоания.\n",
    "#Графики начинают наслаиваться друг на друга \n",
    "\n",
    "#Строим диаграммы анализа числовых признаков\n",
    "\n",
    "#Исследуем числовые признаки \n",
    "types = churn_data.dtypes\n",
    "num_features = list(types[(types != 'object')].index)\n",
    "print(num_features)\n",
    "#Так как я не хочу использовать в построении графиков 'CustomerId' и 'RowNumber', удалю их из num_features\n",
    "num_features = num_features[2:]\n",
    "print(num_features)\n",
    "\n",
    "#Число числовых признаков\n",
    "n = len(num_features)\n",
    "#Фигура + n*2 координатных плоскостей\n",
    "fig, axes = plt.subplots(n, 1, figsize=(5,25))\n",
    "#Создаем цикл для всех признаков из списка числовых признаков\n",
    "for i, feature in enumerate(num_features):\n",
    "    #Строим гистограмму распределения признака в разрезе признака оттока\n",
    "    histplot_2 = sns.histplot(data=churn_data, x=feature, hue='Exited', ax=axes[i])\n",
    "    #Добавляем подпись графику\n",
    "    histplot_2.set_title('{} VS Exited'.format(feature));\n",
    "    #Добавляем поворот отметок на оси абсцисс\n",
    "    histplot_2.xaxis.set_tick_params(rotation=45)\n",
    "#Выравнивание графиков\n",
    "plt.tight_layout()"
   ]
  },
  {
   "cell_type": "markdown",
   "id": "14afe503",
   "metadata": {},
   "source": [
    "* Из анализа числовых признаков, можно отметить, что классы лояльных и ушедших клиентов не сбалансированы. \n",
    "* Также наблюдается нормальное распределение признака Balance. \n",
    "* Больший отток клиентов, у которых 1 продукт\n",
    "* У клиентов с активным статусом отток меньше, чем у клиентов без этого статуса"
   ]
  },
  {
   "cell_type": "markdown",
   "id": "8e687f96",
   "metadata": {
    "id": "8e687f96"
   },
   "source": [
    "В модуле по визуализации мы выяснили, что отток в Германии, Франции и Испании имеет различные показатели. Исследователи, которые уже работали с этим датасетом, пришли к выводу, что наилучшее решение при работе с этими данными — строить модели индивидуально для каждой страны. Мы будем прогнозировать отток в немецком филиале банка. Давайте выделим только данные, относящиеся к Германии:"
   ]
  },
  {
   "cell_type": "code",
   "execution_count": 553,
   "id": "4bd5cc7f-5db6-4464-9ccf-f40b9c0c97cb",
   "metadata": {
    "colab": {
     "base_uri": "https://localhost:8080/"
    },
    "executionInfo": {
     "elapsed": 3,
     "status": "ok",
     "timestamp": 1678085431373,
     "user": {
      "displayName": "Андрей Достоевский",
      "userId": "09718989537568551698"
     },
     "user_tz": -180
    },
    "id": "4bd5cc7f-5db6-4464-9ccf-f40b9c0c97cb",
    "outputId": "2adeac9c-d989-4731-cc95-9559e4a0e75f"
   },
   "outputs": [
    {
     "data": {
      "text/plain": [
       "(2509, 14)"
      ]
     },
     "execution_count": 553,
     "metadata": {},
     "output_type": "execute_result"
    }
   ],
   "source": [
    "churn_data = churn_data[churn_data['Geography'] == 'Germany']\n",
    "churn_data.shape"
   ]
  },
  {
   "cell_type": "markdown",
   "id": "d3f952c4",
   "metadata": {},
   "source": [
    "Сразу избавимся от заведомо неинформативных признаков: страна, номер строки, идентификатор пользователя и имя клиента."
   ]
  },
  {
   "cell_type": "code",
   "execution_count": 554,
   "id": "003e0ccf",
   "metadata": {},
   "outputs": [
    {
     "data": {
      "text/html": [
       "<div>\n",
       "<style scoped>\n",
       "    .dataframe tbody tr th:only-of-type {\n",
       "        vertical-align: middle;\n",
       "    }\n",
       "\n",
       "    .dataframe tbody tr th {\n",
       "        vertical-align: top;\n",
       "    }\n",
       "\n",
       "    .dataframe thead th {\n",
       "        text-align: right;\n",
       "    }\n",
       "</style>\n",
       "<table border=\"1\" class=\"dataframe\">\n",
       "  <thead>\n",
       "    <tr style=\"text-align: right;\">\n",
       "      <th></th>\n",
       "      <th>CreditScore</th>\n",
       "      <th>Gender</th>\n",
       "      <th>Age</th>\n",
       "      <th>Tenure</th>\n",
       "      <th>Balance</th>\n",
       "      <th>NumOfProducts</th>\n",
       "      <th>HasCrCard</th>\n",
       "      <th>IsActiveMember</th>\n",
       "      <th>EstimatedSalary</th>\n",
       "      <th>Exited</th>\n",
       "    </tr>\n",
       "  </thead>\n",
       "  <tbody>\n",
       "    <tr>\n",
       "      <th>7</th>\n",
       "      <td>376</td>\n",
       "      <td>Female</td>\n",
       "      <td>29</td>\n",
       "      <td>4</td>\n",
       "      <td>115046.74</td>\n",
       "      <td>4</td>\n",
       "      <td>1</td>\n",
       "      <td>0</td>\n",
       "      <td>119346.88</td>\n",
       "      <td>1</td>\n",
       "    </tr>\n",
       "    <tr>\n",
       "      <th>15</th>\n",
       "      <td>616</td>\n",
       "      <td>Male</td>\n",
       "      <td>45</td>\n",
       "      <td>3</td>\n",
       "      <td>143129.41</td>\n",
       "      <td>2</td>\n",
       "      <td>0</td>\n",
       "      <td>1</td>\n",
       "      <td>64327.26</td>\n",
       "      <td>0</td>\n",
       "    </tr>\n",
       "    <tr>\n",
       "      <th>16</th>\n",
       "      <td>653</td>\n",
       "      <td>Male</td>\n",
       "      <td>58</td>\n",
       "      <td>1</td>\n",
       "      <td>132602.88</td>\n",
       "      <td>1</td>\n",
       "      <td>1</td>\n",
       "      <td>0</td>\n",
       "      <td>5097.67</td>\n",
       "      <td>1</td>\n",
       "    </tr>\n",
       "    <tr>\n",
       "      <th>26</th>\n",
       "      <td>756</td>\n",
       "      <td>Male</td>\n",
       "      <td>36</td>\n",
       "      <td>2</td>\n",
       "      <td>136815.64</td>\n",
       "      <td>1</td>\n",
       "      <td>1</td>\n",
       "      <td>1</td>\n",
       "      <td>170041.95</td>\n",
       "      <td>0</td>\n",
       "    </tr>\n",
       "    <tr>\n",
       "      <th>28</th>\n",
       "      <td>574</td>\n",
       "      <td>Female</td>\n",
       "      <td>43</td>\n",
       "      <td>3</td>\n",
       "      <td>141349.43</td>\n",
       "      <td>1</td>\n",
       "      <td>1</td>\n",
       "      <td>1</td>\n",
       "      <td>100187.43</td>\n",
       "      <td>0</td>\n",
       "    </tr>\n",
       "  </tbody>\n",
       "</table>\n",
       "</div>"
      ],
      "text/plain": [
       "    CreditScore  Gender  Age  Tenure    Balance  NumOfProducts  HasCrCard  \\\n",
       "7           376  Female   29       4  115046.74              4          1   \n",
       "15          616    Male   45       3  143129.41              2          0   \n",
       "16          653    Male   58       1  132602.88              1          1   \n",
       "26          756    Male   36       2  136815.64              1          1   \n",
       "28          574  Female   43       3  141349.43              1          1   \n",
       "\n",
       "    IsActiveMember  EstimatedSalary  Exited  \n",
       "7                0        119346.88       1  \n",
       "15               1         64327.26       0  \n",
       "16               0          5097.67       1  \n",
       "26               1        170041.95       0  \n",
       "28               1        100187.43       0  "
      ]
     },
     "execution_count": 554,
     "metadata": {},
     "output_type": "execute_result"
    }
   ],
   "source": [
    "churn_data = churn_data.drop(['Geography', 'RowNumber', 'CustomerId', 'Surname'], axis=1)\n",
    "churn_data.head()"
   ]
  },
  {
   "cell_type": "markdown",
   "id": "c2ef5b16",
   "metadata": {
    "id": "c2ef5b16"
   },
   "source": [
    "Проверим, что в наших данных нет пропусков:"
   ]
  },
  {
   "cell_type": "code",
   "execution_count": 555,
   "id": "164b1772-00c0-4cb7-9e05-ee9d9f7953d8",
   "metadata": {
    "colab": {
     "base_uri": "https://localhost:8080/"
    },
    "executionInfo": {
     "elapsed": 2,
     "status": "ok",
     "timestamp": 1678085433267,
     "user": {
      "displayName": "Андрей Достоевский",
      "userId": "09718989537568551698"
     },
     "user_tz": -180
    },
    "id": "164b1772-00c0-4cb7-9e05-ee9d9f7953d8",
    "outputId": "f8b2ff23-e81b-4f65-cd13-54655bb04fb0"
   },
   "outputs": [
    {
     "data": {
      "text/plain": [
       "CreditScore        0\n",
       "Gender             0\n",
       "Age                0\n",
       "Tenure             0\n",
       "Balance            0\n",
       "NumOfProducts      0\n",
       "HasCrCard          0\n",
       "IsActiveMember     0\n",
       "EstimatedSalary    0\n",
       "Exited             0\n",
       "dtype: int64"
      ]
     },
     "execution_count": 555,
     "metadata": {},
     "output_type": "execute_result"
    }
   ],
   "source": [
    "churn_data.isnull().sum()"
   ]
  },
  {
   "cell_type": "markdown",
   "id": "06cc2b0f",
   "metadata": {
    "id": "06cc2b0f"
   },
   "source": [
    "Проверим, что в наших данных нет дубликатов:"
   ]
  },
  {
   "cell_type": "code",
   "execution_count": 556,
   "id": "38127c2b",
   "metadata": {
    "colab": {
     "base_uri": "https://localhost:8080/"
    },
    "executionInfo": {
     "elapsed": 2,
     "status": "ok",
     "timestamp": 1678085433787,
     "user": {
      "displayName": "Андрей Достоевский",
      "userId": "09718989537568551698"
     },
     "user_tz": -180
    },
    "id": "38127c2b",
    "outputId": "9b563c30-2343-4aad-c484-feef7b7095df"
   },
   "outputs": [
    {
     "data": {
      "text/plain": [
       "CreditScore          0\n",
       "Gender               0\n",
       "Age                  0\n",
       "Tenure               0\n",
       "Balance            0.0\n",
       "NumOfProducts        0\n",
       "HasCrCard            0\n",
       "IsActiveMember       0\n",
       "EstimatedSalary    0.0\n",
       "Exited               0\n",
       "dtype: object"
      ]
     },
     "execution_count": 556,
     "metadata": {},
     "output_type": "execute_result"
    }
   ],
   "source": [
    "churn_data[churn_data.duplicated()].sum()"
   ]
  },
  {
   "cell_type": "markdown",
   "id": "2cff3b2c",
   "metadata": {
    "id": "2cff3b2c"
   },
   "source": [
    "### Задание 5.1 (1 балл)\n",
    "\n",
    "Давайте сделаем предобработку данных. \n",
    "\n",
    "Для начала расширим датасет с помощью методов Feature Engineering. Создайте следующие признаки:\n",
    "* `BalanceSalaryRatio` — отношение баланса на счетах к заработной плате клиента;\n",
    "* `TenureByAge` — отношение времени пользования услугами банка к возрасту клиента;\n",
    "* `CreditScoreGivenAge` — отношение кредитного рейтинга к возрасту клиента.\n",
    "\n",
    "Затем перекодируйте оставшиеся текстовые категориальные признаки в числовые бинарные столбцы.\n",
    "\n",
    "Выведите основные статистические характеристики полученных признаков."
   ]
  },
  {
   "cell_type": "markdown",
   "id": "f34dcdf2",
   "metadata": {
    "id": "f34dcdf2"
   },
   "source": [
    "**Критерии оценивания:**\n",
    "- Задание выполнено верно, учтены все условия (**1 балл**): \n",
    "    * приведён код для создания указанных в задании признаков;\n",
    "    * приведён код для кодирования категориальных признаков в числовые бинарные столбцы;\n",
    "    * приведён код для расчёта основных статистических характеристик полученных признаков.\n",
    "\n",
    "- Задание выполнено неверно, не учтено одно или несколько условий (**0 баллов**)."
   ]
  },
  {
   "cell_type": "code",
   "execution_count": 557,
   "id": "beb1eb33",
   "metadata": {
    "id": "beb1eb33"
   },
   "outputs": [],
   "source": [
    "# Ваш код здесь"
   ]
  },
  {
   "cell_type": "markdown",
   "id": "9cf0fd33",
   "metadata": {
    "id": "9cf0fd33"
   },
   "source": [
    "Разделим исходный набор данных на матрицу наблюдений `X` (фичи) и столбец ответов `y` (таргет). "
   ]
  },
  {
   "cell_type": "code",
   "execution_count": 558,
   "id": "a282c11f-485c-4148-be08-609ceee1cf8f",
   "metadata": {
    "id": "a282c11f-485c-4148-be08-609ceee1cf8f"
   },
   "outputs": [],
   "source": [
    "X = churn_data.drop(\"Exited\", axis=1)\n",
    "y = churn_data[\"Exited\"]"
   ]
  },
  {
   "cell_type": "markdown",
   "id": "d5c1b75a",
   "metadata": {
    "id": "d5c1b75a"
   },
   "source": [
    "Прежде чем перейти к этапу разделения выборки на тренировочную и тестовую, давайте посмотрим на сбалансированность данных. Для этого воспользуемся методом `value_counts()` и выведем количество наблюдений каждого из классов в долевом соотношении от общего количества наблюдений:"
   ]
  },
  {
   "cell_type": "code",
   "execution_count": 559,
   "id": "8940b979-7d39-4bf1-93b0-e1b41d7ed78b",
   "metadata": {
    "colab": {
     "base_uri": "https://localhost:8080/"
    },
    "executionInfo": {
     "elapsed": 1,
     "status": "ok",
     "timestamp": 1678085438382,
     "user": {
      "displayName": "Андрей Достоевский",
      "userId": "09718989537568551698"
     },
     "user_tz": -180
    },
    "id": "8940b979-7d39-4bf1-93b0-e1b41d7ed78b",
    "outputId": "a5f5b8c3-09d7-421c-e46f-2c024d77da2e"
   },
   "outputs": [
    {
     "data": {
      "text/plain": [
       "Exited\n",
       "0    0.675568\n",
       "1    0.324432\n",
       "Name: proportion, dtype: float64"
      ]
     },
     "execution_count": 559,
     "metadata": {},
     "output_type": "execute_result"
    }
   ],
   "source": [
    "y.value_counts(normalize=True)"
   ]
  },
  {
   "cell_type": "markdown",
   "id": "ef964f7a",
   "metadata": {
    "id": "ef964f7a"
   },
   "source": [
    "Очевидно, что классы не сбалансированы. Ушедших пользователей 32 %, в то время как лояльных — 68 %.\n"
   ]
  },
  {
   "cell_type": "markdown",
   "id": "bfeb6192",
   "metadata": {
    "id": "bfeb6192"
   },
   "source": [
    "**К чему это может привести?**\n",
    "\n",
    "При разделении набора данных на тренировочный и тестовый может возникнуть такая ситуация, что в тренировочную выборку попадут только лояльные клиенты или их большая часть. Тогда модель может не научиться определять вероятность оттока и качество на тестовой выборке будет неудовлетворительным.\n",
    "\n",
    "Или противоположная ситуация: в тестовую выборку попадут только лояльные клиенты. Тогда модель будет показывать отличное качество на тестовой выборке, но в реальных условиях она может оказаться бесполезной.\n",
    "\n",
    "То есть нам нужно сделать так, чтобы в тренировочной и тестовой выборке было одинаковое соотношение лояльных и ушедших клиентов. Такое разбиение выборки называется **стратифицированным**. \n",
    "\n",
    "Функция `train_test_split()` из библиотеки `sklearn` умеет производить такое разбиение. Для этого в ней предусмотрен параметр `stratify`, который нужно выставить в значение признака, который должен иметь одинаковые соотношения в тренировочной и тестовой выборке. У нас этот признак - это целевой признак y. \n",
    "\n",
    "Выполним разбиение, установив значение параметра `random_state` на 0:\n"
   ]
  },
  {
   "cell_type": "code",
   "execution_count": 560,
   "id": "8324900d-fd13-43b4-b025-5578d6e024ef",
   "metadata": {
    "colab": {
     "base_uri": "https://localhost:8080/"
    },
    "executionInfo": {
     "elapsed": 352,
     "status": "ok",
     "timestamp": 1678085440085,
     "user": {
      "displayName": "Андрей Достоевский",
      "userId": "09718989537568551698"
     },
     "user_tz": -180
    },
    "id": "8324900d-fd13-43b4-b025-5578d6e024ef",
    "outputId": "93fa8322-679a-4ec6-a8a2-10ce12d3e675"
   },
   "outputs": [
    {
     "name": "stdout",
     "output_type": "stream",
     "text": [
      "Train shape: (1881, 9)\n",
      "Test shape: (628, 9)\n"
     ]
    }
   ],
   "source": [
    "X_train, X_test, y_train, y_test = model_selection.train_test_split(\n",
    "    X, y, \n",
    "    stratify=y, \n",
    "    random_state=0\n",
    ")\n",
    "print('Train shape: {}'.format(X_train.shape))\n",
    "print('Test shape: {}'.format(X_test.shape))"
   ]
  },
  {
   "cell_type": "markdown",
   "id": "14b621e0",
   "metadata": {
    "id": "14b621e0"
   },
   "source": [
    "Проверим, что число лояльных и ушедших клиентов примерно одинаково в каждой из выборок:"
   ]
  },
  {
   "cell_type": "code",
   "execution_count": 561,
   "id": "1c34715f-9a79-490f-866a-72c596c6a0dd",
   "metadata": {
    "colab": {
     "base_uri": "https://localhost:8080/",
     "height": 191
    },
    "executionInfo": {
     "elapsed": 217,
     "status": "ok",
     "timestamp": 1678085441654,
     "user": {
      "displayName": "Андрей Достоевский",
      "userId": "09718989537568551698"
     },
     "user_tz": -180
    },
    "id": "1c34715f-9a79-490f-866a-72c596c6a0dd",
    "outputId": "dd6e6ced-54aa-4606-9798-cb276f0386b8"
   },
   "outputs": [
    {
     "name": "stdout",
     "output_type": "stream",
     "text": [
      "Train :\n"
     ]
    },
    {
     "data": {
      "text/plain": [
       "Exited\n",
       "0    0.675704\n",
       "1    0.324296\n",
       "Name: proportion, dtype: float64"
      ]
     },
     "metadata": {},
     "output_type": "display_data"
    },
    {
     "name": "stdout",
     "output_type": "stream",
     "text": [
      "\n",
      "\n",
      "Test :\n"
     ]
    },
    {
     "data": {
      "text/plain": [
       "Exited\n",
       "0    0.675159\n",
       "1    0.324841\n",
       "Name: proportion, dtype: float64"
      ]
     },
     "metadata": {},
     "output_type": "display_data"
    }
   ],
   "source": [
    "print('Train :')\n",
    "display(y_train.value_counts(normalize=True))\n",
    "print('\\n')\n",
    "print('Test :', )\n",
    "display(y_test.value_counts(normalize=True))"
   ]
  },
  {
   "cell_type": "markdown",
   "id": "76401ead",
   "metadata": {
    "id": "76401ead"
   },
   "source": [
    "Соотношения одинаковы, а значит, мы можем перейти к следующему шагу."
   ]
  },
  {
   "cell_type": "markdown",
   "id": "0f623386",
   "metadata": {
    "id": "0f623386"
   },
   "source": [
    "### Задание 5.2 (1 балл)\n",
    "\n",
    "Позаботьтесь о масштабировании признаков. Проведите нормализацию/стандартизацию матрицы наблюдений `X` с помощью `MinMaxScaler`/`RobustScaler` или `StandardScaler`. Выберите метод самостоятельно.\n",
    "\n",
    "Обучите один из предложенных скейлеров на тренировочной выборке (вычислите параметры трансформации) и примените трансформацию данных к тренировочной и тестовой выборкам."
   ]
  },
  {
   "cell_type": "markdown",
   "id": "dda27421",
   "metadata": {
    "id": "dda27421"
   },
   "source": [
    "**Критерии оценивания:**\n",
    "- Задание выполнено верно, учтены все условия (**1 балл**): \n",
    "    * приведён код для создания одного из вариантов скейлеров для масштабирования данных;\n",
    "    * приведён код для расчёта параметров трансформации (обучение скейлера) на тренировочной выборке;\n",
    "    * приведён код для трансформации тренировочных и тестовых данных (признаков) в соответствии с вычисленными параметрами.\n",
    "\n",
    "- Задание выполнено неверно, не учтено одно или несколько условий (**0 баллов**)."
   ]
  },
  {
   "cell_type": "code",
   "execution_count": 562,
   "id": "0e1f264e",
   "metadata": {
    "id": "0e1f264e"
   },
   "outputs": [],
   "source": [
    "# Ваш код здесь"
   ]
  },
  {
   "cell_type": "markdown",
   "id": "66527b15",
   "metadata": {
    "id": "66527b15"
   },
   "source": [
    "Теперь переходим к моделированию."
   ]
  },
  {
   "cell_type": "markdown",
   "id": "69df2d66",
   "metadata": {
    "id": "69df2d66"
   },
   "source": [
    "### Задание 5.3 (1 балл)\n",
    "\n",
    "Для начала давайте заранее определим метрику, на которую будем ориентироваться. \n",
    "\n",
    "По условию задачи, наша модель должна своевременно предсказывать отток клиентов. Известно, что для сохранения клиентов банк будет использовать ресурсы колл-центра и клиентам, у которых вероятность оттока наиболее высока, будут сделаны специальные предложения. Ресурсы, выделяемые на сохранение клиентов, ограничены, поэтому нам важно минимизировать количество звонков. Однако в то же время необходимо сохранить как можно больше клиентов.\n",
    "\n",
    "Таким образом, нам бы хотелось минимизировать как ложноположительные и ложноотрицательные срабатывания модели.\n",
    "\n",
    "Какую метрику в данной задаче вы будете пытаться улучшить? Обоснуйте свой выбор. \n"
   ]
  },
  {
   "cell_type": "markdown",
   "id": "d85450e0",
   "metadata": {
    "id": "d85450e0"
   },
   "source": [
    "> Укажите название метрики и обоснования своего выбора здесь"
   ]
  },
  {
   "cell_type": "markdown",
   "id": "9c4e72a3",
   "metadata": {
    "id": "9c4e72a3"
   },
   "source": [
    "**Критерии оценивания:**\n",
    "- Задание выполнено верно, учтены все условия (**1 балл**): \n",
    "    * выбрана верная метрика;\n",
    "    * приведено развернутое обоснование выбора метрики, и приведенные рассуждения являются верными;\n",
    "\n",
    "- Задание выполнено неверно, не учтено одно или несколько условий (**0 баллов**)."
   ]
  },
  {
   "cell_type": "markdown",
   "id": "AOgaRpo53tgp",
   "metadata": {
    "id": "AOgaRpo53tgp"
   },
   "source": [
    "> Ваши рассуждения и ответ — *здесь*."
   ]
  },
  {
   "cell_type": "markdown",
   "id": "34e0666e",
   "metadata": {
    "id": "34e0666e"
   },
   "source": [
    "### Задание 5.4 (2 балла)\n",
    "\n",
    "Обучите модель логистической регрессии (`Logistic Regression`) на тренировочных данных. Позаботьтесь о воспроизводимости результата, установив конкретное значение параметра `random_state` (например, число 42).\n",
    "\n",
    "Сделайте предсказание меток классов для тренировочной и тестовой выборок. \n",
    "\n",
    "Рассчитайте значение целевой метрики на тренировочной и тестовой выборках. \n",
    "\n",
    "Проинтерпретируйте полученные результаты, ответив на следующий вопрос:\n",
    "* Как вы считаете, является ли ваша модель переобученной или недообученной?\n",
    "\n",
    "> **Примечание.** Будем считать, что модель нас не удовлетворяет (считается недообученной), если значение целевой метрики на тестовой выборке меньше 0.5.\n",
    "\n",
    "**Дополнительное задание:**\n",
    "\n",
    "Попробуйте поуправлять следующими параметрами модели:\n",
    "* `penalty` — тип используемой регуляризации ('l1' — $L_1$-регуляризация, 'l2' — $L_2$-регуляризация);\n",
    "* `C` — коэффициент, обратный коэффициенту регуляризации (по умолчанию он равен 1).\n",
    "\n",
    "Понаблюдайте, как ведут себя метрики в зависимости от типа регуляризации и увеличения/уменьшения значения парамера `C`."
   ]
  },
  {
   "cell_type": "markdown",
   "id": "8a1f5868",
   "metadata": {
    "id": "8a1f5868"
   },
   "source": [
    "**Критерии оценивания:**\n",
    "- Задание выполнено верно, учтены все условия (**2 балла**): \n",
    "    * построена модель логистической регрессии, решающая поставленную задачу;\n",
    "    * с помощью полученной модели сформированы предсказания на тренировочной и тестовой выборках;\n",
    "    * приведён расчёт выбранной метрики на тренировочных и тестовых данных (метрика должна быть выбрана корректно);\n",
    "    * приведён небольшой вывод по полученным результатам, в котором содержится ответ на поставленный в задании вопрос.\n",
    "\n",
    "- Задание выполнено верно, но не приведён вывод по полученным результатам или вывод является неверным (**1 балл**).\n",
    "- Задание выполнено неверно, не учтено несколько условий (**0 баллов**)."
   ]
  },
  {
   "cell_type": "code",
   "execution_count": 563,
   "id": "f47fa732",
   "metadata": {
    "id": "f47fa732"
   },
   "outputs": [],
   "source": [
    "# Ваш код здесь"
   ]
  },
  {
   "cell_type": "markdown",
   "id": "9258c527",
   "metadata": {
    "id": "9258c527"
   },
   "source": [
    "> Ваши выводы и рассуждения — *здесь*."
   ]
  },
  {
   "cell_type": "markdown",
   "id": "e6709b8d",
   "metadata": {
    "id": "e6709b8d"
   },
   "source": [
    "### Задание 5.5 (2 балла)\n",
    "\n",
    "Сгенерируйте полиномиальные признаки третьей степени для тренировочной и тестовой выборок. Используйте класс `PolynomialFeatures` из библиотеки `sklearn`. Параметр `include_bias` выставите в значение `False`.\n",
    "\n",
    "> **Примечание.** Обратите внимание, что для генерации полиномов необходимо использовать масштабированные данные.\n",
    "\n",
    "Обучите модель логистической регрессии на полиномиальных признаках (`Logistic Regression`). Позаботьтесь о воспроизводимости результат, установив конкретное значение параметра `random_state` (например, число 42).\n",
    "\n",
    "Предскажите метки классов для тренировочной и тестовой выборок.\n",
    "\n",
    "Рассчитайте значение целевой метрики на тренировочной и тестовой выборках для модели, обученной на полиномиальных признаках.\n",
    "\n",
    "Сравните результат с полученным ранее. Удалось ли вам улучшить качество вашей модели?\n",
    "\n",
    "**Дополнительное задание:**\n",
    "\n",
    "Попробуйте поуправлять следующими параметрами модели:\n",
    "* `penalty` — тип используемой регуляризации ('l1' — $L_1$-регуляризация, 'l2' — $L_2$-регуляризация);\n",
    "* `C` — коэффициент, обратный коэффициенту регуляризации (по умолчанию он равен 1).\n",
    "\n",
    "Понаблюдайте, как ведут себя метрики в зависимости от типа регуляризации и увеличения/уменьшения значения парамера `C`."
   ]
  },
  {
   "cell_type": "markdown",
   "id": "af02d772",
   "metadata": {
    "id": "af02d772"
   },
   "source": [
    "**Критерии оценивания:**\n",
    "- Задание выполнено верно, учтены все условия (**2 балла**): \n",
    "    * сгенерированы полиномиальные признаки третьей степени;\n",
    "    * построена модель логистической регрессии, решающая поставленную задачу на основе сгенерированных признаков;\n",
    "    * с помощью полученной модели сформированы предсказания на тренировочной и тестовой выборках;\n",
    "    * приведён расчёт выбранной метрики на тренировочных и тестовых данных (метрика должна быть выбрана корректно);\n",
    "    * приведён небольшой вывод по полученным результатам, в котором содержится корректный ответ на поставленный в задании вопрос.\n",
    "\n",
    "- Задание выполнено верно, но не приведён вывод по полученным результатам или вывод является неверным (**1 балл**).\n",
    "- Задание выполнено неверно, не учтено несколько условий (**0 баллов**)."
   ]
  },
  {
   "cell_type": "code",
   "execution_count": 564,
   "id": "23315092",
   "metadata": {
    "id": "23315092"
   },
   "outputs": [],
   "source": [
    "# Ваш код здесь"
   ]
  },
  {
   "cell_type": "markdown",
   "id": "4e7d4e3e",
   "metadata": {
    "id": "4e7d4e3e"
   },
   "source": [
    "> Ваши выводы и рассуждения — *здесь*"
   ]
  },
  {
   "cell_type": "markdown",
   "id": "8dc563a4",
   "metadata": {
    "id": "8dc563a4"
   },
   "source": [
    "### Задание 5.6. (2 балла)\n",
    "\n",
    "\n",
    "Попробуйте подобрать значение порога вероятности, при котором наблюдается наибольшее значение целевой метрики на тестовой выборке. В качестве модели используйте логистическую регрессию, обученную на полиномиальных признаках. \n",
    "\n",
    "В качестве порога вероятности используйте значения из следующего диапазона:\n",
    "\n",
    "`thresholds = np.arange(0.1, 1, 0.05)`\n",
    "\n",
    "Напомним алгоритм, как определить оптимальный порог вероятности:\n",
    "* Предсказать вероятности оттока для каждого клиента из тестовой выборки.\n",
    "* В цикле перебрать значения порогов вероятности threshold:\n",
    "    * Сделать предсказание класса по принципу: если вероятность > threshold, то отнести объект к классу 1, в противном случае — к классу 0.\n",
    "    * Рассчитать метрику и занести её в заранее созданный список.\n",
    "\n",
    "Для реализации алгоритма подбора вы можете воспользоваться шаблоном кода, приведённым ниже:\n",
    "\n",
    "```python\n",
    "# Делаем предсказание вероятности оттока для каждого клиента из тестовой выборки\n",
    "y_test_proba_pred = pd.Series(model.predict_proba(X_test_poly)[:, 1])\n",
    "# Инициализируем список, куда будем сохранять метрики.\n",
    "scores = []\n",
    "# Задаём значения порогов вероятности\n",
    "thresholds = np.arange(0.1, 1, 0.05)\n",
    "# В цикле перебираем значения порогов вероятности\n",
    "for threshold in thresholds:\n",
    "    # Делаем предсказание\n",
    "    y_test_pred_poly = y_test_proba_pred.apply(lambda x: 1 if x > threshold else 0)\n",
    "    # Рассчитываем метрику\n",
    "    score = # код для вычисления метрики\n",
    "    # Добавляем результат в список\n",
    "    scores.append(score)\n",
    "```\n",
    "\n",
    "Постройте график зависимости целевой метрики от порога вероятности. На основе построенного графика определите порог вероятности, которому соответствует наибольшее значение целевой метрики на тестовой выборке.\n",
    "\n",
    "Сделайте предсказание классов с подобранным оптимальным порогом вероятности. Рассчитайте значение целевой метрики на тестовой выборке и сравните результат с полученными ранее.\n"
   ]
  },
  {
   "cell_type": "markdown",
   "id": "efc4a3c0",
   "metadata": {
    "id": "efc4a3c0"
   },
   "source": [
    "**Критерии оценивания:**\n",
    "- Задание выполнено верно, учтены все условия (**2 балла**): \n",
    "    * приведён код для построения графика зависимости значения выбранной метрики от порога вероятности;\n",
    "    * найден оптимальный порог вероятности, на котором достигается наибольшее значение выбранной метрики на тестовой выборке;\n",
    "    * на основе найденного порога вероятности построено предсказание модели для тренировочной и тестовой выборок;\n",
    "    * приведён расчёт выбранной метрики на тренировочных и тестовых данных (метрика должна быть выбрана корректно).\n",
    "\n",
    "- Задание выполнено верно, но не приведён вывод по полученным результатам или вывод является неверным (**1 балл**).\n",
    "- Задание выполнено неверно, не учтено несколько условий (**0 баллов**)."
   ]
  },
  {
   "cell_type": "code",
   "execution_count": 565,
   "id": "oYs8-MFYSNxX",
   "metadata": {
    "id": "oYs8-MFYSNxX"
   },
   "outputs": [],
   "source": [
    "# Ваш код здесь"
   ]
  },
  {
   "cell_type": "markdown",
   "id": "ae809d58",
   "metadata": {
    "id": "ae809d58"
   },
   "source": [
    "## Практика: деревья решений и случайный лес"
   ]
  },
  {
   "cell_type": "markdown",
   "id": "32dd8694",
   "metadata": {
    "id": "32dd8694"
   },
   "source": [
    "Мы продолжаем решать задачу прогнозирования оттока клиентов банка.\n",
    "\n",
    "Ранее мы построили модель логистической регрессии, затем добавили в модель полиномиальные признаки и подобрали оптимальный порог вероятности для логистической регрессии.\n",
    "\n",
    "> Теперь попробуем решить задачу с помощью деревьев решений и лесов.\n",
    "\n",
    "\n",
    "> **Примечание №1.** Для выполнения дальнейших заданий необходимо совершить уже знакомые шаги предобработки с данными об оттоке клиентов банка, а именно:\n",
    "* выделить данные, относящиеся к отделениям банка в Германии;\n",
    "* избавиться от заведомо неинформативных признаков;\n",
    "* расширить датасет путём добавления новых признаков;\n",
    "* разделить выборку на тренировочную и тестовую со стратификацией.\n",
    "\n",
    "> **Примечание №2.** Деревья решений — алгоритм, способный уловить нелинейные зависимости. Генерация полиномиальных признаков практически не имеет значения.\n",
    "Также деревья решений не чувствительны к масштабу признаков. Масштабирование исходных данных не играет роли при построении деревьев решения.\n",
    "Поэтому для решения задачи используйте обучающую (`X_train`, `y_train`) и тестовую (`X_test`, `y_test`) выборки без полиномиальных столбцов.\n"
   ]
  },
  {
   "cell_type": "code",
   "execution_count": 566,
   "id": "9fcfcba4",
   "metadata": {
    "colab": {
     "base_uri": "https://localhost:8080/"
    },
    "executionInfo": {
     "elapsed": 222,
     "status": "ok",
     "timestamp": 1678085972604,
     "user": {
      "displayName": "Андрей Достоевский",
      "userId": "09718989537568551698"
     },
     "user_tz": -180
    },
    "id": "9fcfcba4",
    "outputId": "90611fd6-1306-46fe-ea78-cd6f8a5ae2ce"
   },
   "outputs": [
    {
     "name": "stdout",
     "output_type": "stream",
     "text": [
      "Train shape: (1881, 9)\n",
      "Test shape: (628, 9)\n"
     ]
    }
   ],
   "source": [
    "X_train, X_test, y_train, y_test = model_selection.train_test_split(\n",
    "    X, y, \n",
    "    stratify=y, \n",
    "    random_state=0\n",
    ")\n",
    "print('Train shape: {}'.format(X_train.shape))\n",
    "print('Test shape: {}'.format(X_test.shape))"
   ]
  },
  {
   "cell_type": "markdown",
   "id": "48LgpXuJt_nL",
   "metadata": {
    "id": "48LgpXuJt_nL"
   },
   "source": [
    "Импортируем необходимые для выполнения практики модули:"
   ]
  },
  {
   "cell_type": "code",
   "execution_count": 567,
   "id": "4b23febd-6403-4b0a-a024-28f27c240729",
   "metadata": {
    "id": "4b23febd-6403-4b0a-a024-28f27c240729"
   },
   "outputs": [],
   "source": [
    "from sklearn import tree\n",
    "from sklearn import ensemble"
   ]
  },
  {
   "cell_type": "markdown",
   "id": "4r3hncEEfx8T",
   "metadata": {
    "id": "4r3hncEEfx8T"
   },
   "source": [
    "Приступим! Выполните задания 8.1–8.4."
   ]
  },
  {
   "cell_type": "markdown",
   "id": "b57000af",
   "metadata": {
    "id": "b57000af"
   },
   "source": [
    "### Задание 8.1. (2 балла)\n",
    "\n",
    "Обучите на тренировочной выборке дерево решений из библиотеки `sklearn` (`DecisionTreeClassifier`) с неограниченной максимальной глубиной дерева. В качестве критерия информативности используйте энтропию Шеннона, остальные параметры оставьте по умолчанию. \n",
    "\n",
    "Также позаботьтесь о воспроизводимости результатов, установив конкретное  значение `random_state` (например, число 42). \n",
    "\n",
    "Сделайте предсказания для тренировочной и тестовой выборок. Рассчитайте значение целевой метрики на каждой из выборок.\n",
    "\n",
    "Сделайте вывод, ответив на вопрос:\n",
    "* Как вы считаете, является полученная модель переобученной или недообученной? Попробуйте дать обоснование, почему так происходит.\n"
   ]
  },
  {
   "cell_type": "markdown",
   "id": "52fdb449",
   "metadata": {
    "id": "52fdb449"
   },
   "source": [
    "**Критерии оценивания:**\n",
    "- Задание выполнено верно, учтены все условия (**2 балла**): \n",
    "    * построена модель дерева решений с заданными в условии задачи параметрами;\n",
    "    * с помощью полученной модели сформированы предсказания для тренировочной и тестовой выборок;\n",
    "    * приведён расчёт выбранной метрики на тренировочных и тестовых данных (метрика должна быть выбрана корректно);\n",
    "    * приведён небольшой вывод по полученным результатам, в котором содержится корректный ответ на поставленный в задании вопрос, а также обоснование полученного результата.\n",
    "\n",
    "- Задание выполнено верно, но не приведено обоснование полученного результата или обоснование является некорректным (**1 балл**).\n",
    "- Задание выполнено неверно, не учтено несколько условий (**0 баллов**)."
   ]
  },
  {
   "cell_type": "code",
   "execution_count": 568,
   "id": "59a61357",
   "metadata": {
    "id": "59a61357"
   },
   "outputs": [],
   "source": [
    "# Ваш код здесь"
   ]
  },
  {
   "cell_type": "markdown",
   "id": "40d5e039",
   "metadata": {
    "id": "40d5e039"
   },
   "source": [
    "> Ваши выводы и рассуждения — *здесь*"
   ]
  },
  {
   "cell_type": "markdown",
   "id": "ab0187f6",
   "metadata": {
    "id": "ab0187f6"
   },
   "source": [
    "### Задание 8.2. (1 балл)\n",
    "\n",
    "Давайте «подстрижём» наше дерево. \n",
    "\n",
    "Обучите на тренировочной выборке дерево решений из библиотеки `sklearn` (`DecisionTreeClassifier`) с максимальной глубиной 8. В качестве критерия информативности используйте энтропию Шеннона, минимальное число объектов в листе (количество объектов, при которых дерево прекратит делиться и образуется лист) — 10.\n",
    "\n",
    "Также позаботьтесь о воспроизводимости результатов, установив конкретное значение `random_state` (например, число 42).\n",
    "\n",
    "Сделайте предсказания для тренировочной и тестовой выборок. Рассчитайте значение целевой метрики на каждой из выборок.\n",
    "\n",
    "Сравните результат с полученными ранее. Сделайте вывод.\n"
   ]
  },
  {
   "cell_type": "markdown",
   "id": "4216b9ca",
   "metadata": {
    "id": "4216b9ca"
   },
   "source": [
    "**Критерии оценивания:**\n",
    "- Задание выполнено верно, учтены все условия (**1 балла**): \n",
    "    * построена модель дерева решений с заданными в условии задачи параметрами;\n",
    "    * с помощью полученной модели сформированы предсказания для тренировочной и тестовой выборок;\n",
    "    * приведён расчёт выбранной метрики на тренировочных и тестовых данных (метрика должна быть выбрана корректно);\n",
    "    * приведён небольшой вывод по полученным результатам, в котором содержится корректный ответ на поставленный в задании вопрос.\n",
    "\n",
    "- Задание выполнено неверно, не учтено одно или несколько условий (**0 баллов**)."
   ]
  },
  {
   "cell_type": "code",
   "execution_count": 569,
   "id": "ab6e8060",
   "metadata": {
    "id": "ab6e8060"
   },
   "outputs": [],
   "source": [
    "# Ваш код здесь"
   ]
  },
  {
   "cell_type": "markdown",
   "id": "0d9a4222",
   "metadata": {
    "id": "0d9a4222"
   },
   "source": [
    "> Ваши выводы и рассуждения — *здесь*"
   ]
  },
  {
   "cell_type": "markdown",
   "id": "2a37fe23",
   "metadata": {
    "id": "2a37fe23"
   },
   "source": [
    "### Задание 8.3. (1 балл)\n",
    "\n",
    "Давайте воспользуемся случайным лесом. \n",
    "\n",
    "Постройте случайный лес (`RandomForestClassifier`) из 500 деревьев с максимальной глубиной 8. Критерий информативности — энтропия Шеннона, минимальное число объектов в листе (количество объектов, при которых дерево прекратит делиться и образуется лист) — 10.\n",
    "\n",
    "Также позаботьтесь о воспроизводимости результатов, установив конкретное значение значение `random_state` (например, число 42).\n",
    "\n",
    "Сделайте предсказания для тренировочной и тестовой выборок. Рассчитайте значение целевой метрики на каждой из выборок.\n",
    "\n",
    "Сравните качество одного дерева решений с качеством случайного леса на тестовой выборке. Смогли ли вы улучшить метрику?\n"
   ]
  },
  {
   "cell_type": "markdown",
   "id": "0277e1e0",
   "metadata": {
    "id": "0277e1e0"
   },
   "source": [
    "**Критерии оценивания:**\n",
    "- Задание выполнено верно, учтены все условия (**1 балл**): \n",
    "    * построена модель дерева решений с заданными в условии задачи параметрами;\n",
    "    * с помощью полученной модели сформированы предсказания для тренировочной и тестовой выборок;\n",
    "    * приведён расчёт выбранной метрики на тренировочных и тестовых данных (метрика должна быть выбрана корректно);\n",
    "    * приведён небольшой вывод по полученным результатам, в котором содержится корректный ответ на поставленный в задании вопрос.\n",
    "\n",
    "- Задание выполнено неверно, не учтено одно или несколько условий (**0 баллов**)."
   ]
  },
  {
   "cell_type": "code",
   "execution_count": 570,
   "id": "a7a08886",
   "metadata": {
    "id": "a7a08886"
   },
   "outputs": [],
   "source": [
    "# Ваш код здесь"
   ]
  },
  {
   "cell_type": "markdown",
   "id": "80cfd760",
   "metadata": {
    "id": "80cfd760"
   },
   "source": [
    "> Ваши выводы и рассуждения — *здесь*"
   ]
  },
  {
   "cell_type": "markdown",
   "id": "f65b1d5d",
   "metadata": {
    "id": "f65b1d5d"
   },
   "source": [
    "### Задание 8.4. (2 балла)\n",
    "\n",
    "Мы на финишной прямой. \n",
    "\n",
    "\n",
    "Попробуйте подобрать значение порога вероятности, при котором наблюдается наибольшее значение целевой метрики на тестовой выборке. **Используйте ту модель (из рассмотренных ранее), которая показала наилучшее качество на тестовой выборке.**\n",
    "\n",
    "\n",
    "В качестве порога вероятности используйте значения из следующего диапазона:\n",
    "\n",
    "`thresholds = np.arange(0.1, 1, 0.05)`\n",
    "\n",
    "Напомним алгоритм, как определить оптимальный порог вероятности:\n",
    "* Предсказать вероятности оттока для каждого клиента из тестовой выборки.\n",
    "* В цикле перебрать значения порогов вероятности threshold:\n",
    "    * Сделать предсказание класса по принципу: если вероятность > threshold, то отнести объект к классу 1, в противном случае — к классу 0.\n",
    "    * Рассчитать метрику и занести её в заранее созданный список. \n",
    "\n",
    "Для реализации алгоритма подбора вы можете воспользоваться шаблоном кода, приведённым ниже:\n",
    "\n",
    "```python\n",
    "# Делаем предсказание вероятности оттока для каждого клиента из тестовой выборки\n",
    "y_test_proba_pred = pd.Series(model.predict_proba(X_test_poly)[:, 1])\n",
    "# Инициализируем список, куда будем сохранять метрики.\n",
    "scores = []\n",
    "# Задаём значения порогов вероятности\n",
    "thresholds = np.arange(0.1, 1, 0.05)\n",
    "# В цикле перебираем значения порогов вероятности\n",
    "for threshold in thresholds:\n",
    "    # Делаем предсказание\n",
    "    y_test_pred_poly = y_test_proba_pred.apply(lambda x: 1 if x > threshold else 0)\n",
    "    # Рассчитываем метрику\n",
    "    score = # код для вычисления метрики\n",
    "    # Добавляем результат в список\n",
    "    scores.append(score)\n",
    "```\n",
    "\n",
    "Постройте график зависимости целевой метрики от порога вероятности. На основе построенного графика определите порог вероятности, которому соответствует наибольшее значение целевой метрики на тестовой выборке.\n",
    "\n",
    "Сделайте предсказание классов с подобранным оптимальным порогом вероятности. Рассчитайте значение целевой метрики на тестовой выборке и сравните полученный результат с полученными ранее. \n",
    "\n",
    "Напишите небольшой вывод о проделанной работе, указав в нём, какая из рассмотренных нами моделей показала наилучший результат.\n",
    "\n",
    "> **Примечание.** Помните о том, что в реальных задачах (а мы решали задачу на реальных данных) мы практически никогда не сможем получить значения метрик, близкие к 1. Если в задаче прогнозирования оттока ваша метрика превышает хотя бы значения 0.6-0.7, вашу модель уже можно считать хорошей и можно говорить о том, что она успешно справляется с задачей."
   ]
  },
  {
   "cell_type": "code",
   "execution_count": 571,
   "id": "a5578584",
   "metadata": {
    "id": "a5578584"
   },
   "outputs": [],
   "source": [
    "# Ваш код здесь"
   ]
  },
  {
   "cell_type": "markdown",
   "id": "088365d3",
   "metadata": {
    "id": "088365d3"
   },
   "source": [
    "> Ваши выводы и рассуждения — *здесь*"
   ]
  },
  {
   "cell_type": "markdown",
   "id": "lRcIEe0uutOC",
   "metadata": {
    "id": "lRcIEe0uutOC"
   },
   "source": [
    "### Задание 8.5. (1 балл)\n",
    "\n",
    "Наконец, финальная задача.\n",
    "\n",
    "У нашего банка есть некоторый клиент, назовём его Василием. В базе данных банка хранятся следующие данные о Василии:\n",
    "\n",
    "```python\n",
    "{\n",
    "    'CreditScore': [601.0],\n",
    "    'Gender': ['Male'],\n",
    "    'Age': [42.0],\n",
    "    'Tenure': [1.0],\n",
    "    'Balance': [98495.72],\n",
    "    'NumOfProducts': [1.0],\n",
    "    'HasCrCard': [1.0],\n",
    "    'IsActiveMember': [0.0],\n",
    "    'EstimatedSalary': [40014.76]\n",
    "}\n",
    "```\n",
    "\n",
    "С помощью наилучшей модели спрогнозируйте вероятность того, что Василий откажется от услуг банка.\n",
    "\n",
    "> **Примечание.** Учтите, что для предсказания необходимо преобразовать данные к тому формату, на котором обучалась модель, то есть:\n",
    "* добавить признаки дополнительные признаки; \n",
    "* произвести кодирование категориальных признаков;\n",
    "* произвести масштабирование признаков (если ваша модель обучалась на масштабированных данных) с помощью того же скейлера, который вы использовали при обучении модели;\n",
    "* сгенерировать полиномиальные признаки."
   ]
  },
  {
   "cell_type": "markdown",
   "id": "Y2zispyJ1qgQ",
   "metadata": {
    "id": "Y2zispyJ1qgQ"
   },
   "source": [
    "**Критерии оценивания:**\n",
    "- Задание выполнено верно, учтены все условия (**1 балл**): \n",
    "    * сформирован DataFrame на основе предоставленного словаря;\n",
    "    * произведены преобразования данных, необходимые для работы модели;\n",
    "    * предсказана вероятность оттока клиента (вероятность принадлежности к классу 1).\n",
    "\n",
    "- Задание выполнено неверно, не учтено одно или несколько условий (**0 баллов**)."
   ]
  },
  {
   "cell_type": "code",
   "execution_count": 572,
   "id": "8AY25O3t1-CS",
   "metadata": {
    "id": "8AY25O3t1-CS"
   },
   "outputs": [],
   "source": [
    "# Ваш код здесь"
   ]
  }
 ],
 "metadata": {
  "colab": {
   "provenance": []
  },
  "kernelspec": {
   "display_name": "Python 3",
   "language": "python",
   "name": "python3"
  },
  "language_info": {
   "codemirror_mode": {
    "name": "ipython",
    "version": 3
   },
   "file_extension": ".py",
   "mimetype": "text/x-python",
   "name": "python",
   "nbconvert_exporter": "python",
   "pygments_lexer": "ipython3",
   "version": "3.11.9"
  }
 },
 "nbformat": 4,
 "nbformat_minor": 5
}
